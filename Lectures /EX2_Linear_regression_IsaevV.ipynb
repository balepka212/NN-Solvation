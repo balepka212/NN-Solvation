{
  "nbformat": 4,
  "nbformat_minor": 0,
  "metadata": {
    "colab": {
      "name": "EX2_Linear_regression.ipynb",
      "provenance": []
    },
    "language_info": {
      "name": "python"
    },
    "kernelspec": {
      "name": "python3",
      "display_name": "Python 3"
    }
  },
  "cells": [
    {
      "cell_type": "markdown",
      "metadata": {
        "id": "sRPPa9OoBMrP"
      },
      "source": [
        "# Задание 2"
      ]
    },
    {
      "cell_type": "markdown",
      "metadata": {
        "id": "GHMwdsj6BMrT"
      },
      "source": [
        "### Линейная регрессия\n",
        "Линейная регрессия относится к задаче определения «линии наилучшего соответствия» через набор точек данных и стала простым предшественником нелинейных методов, которые используют для обучения нейронных сетей."
      ]
    },
    {
      "cell_type": "markdown",
      "metadata": {
        "id": "0EOu-zbnBMrT"
      },
      "source": [
        "Цель линейной регрессии — поиск линии, которая наилучшим образом соответствует заданным точкам. Напомним, что общее уравнение для прямой есть **f(x) = m⋅x + b**, где **m** — наклон линии, а **b** — его сдвиг по y. Таким образом, решение линейной регрессии определяет значения для m и b, так что f (x) приближается как можно ближе к y.\n",
        "\n",
        "Отобразим на графике случайные точки, расположенные в окрестности y = 3⋅x + 2"
      ]
    },
    {
      "cell_type": "code",
      "metadata": {
        "id": "bfznY953BMrU",
        "outputId": "342c9449-e0a2-4409-f993-c8ec0f1ed01d",
        "colab": {
          "base_uri": "https://localhost:8080/",
          "height": 279
        }
      },
      "source": [
        "import numpy as np\n",
        "import matplotlib.pyplot as plt\n",
        "\n",
        "np.random.seed(0)\n",
        "x = np.random.rand(100, 1)\n",
        "y = 2 + 3 * x + np.random.rand(100, 1)\n",
        "\n",
        "plt.scatter(x,y,s=10)\n",
        "plt.xlabel('x')\n",
        "plt.ylabel('y')\n",
        "plt.show()"
      ],
      "execution_count": 104,
      "outputs": [
        {
          "output_type": "display_data",
          "data": {
            "image/png": "[encoded data removed]",
            "text/plain": [
              "<Figure size 432x288 with 1 Axes>"
            ]
          },
          "metadata": {
            "needs_background": "light"
          }
        }
      ]
    },
    {
      "cell_type": "markdown",
      "metadata": {
        "id": "Hkzm8iUVBMrV"
      },
      "source": [
        "#### Функция потерь\n",
        "Функция потерь — это мера количества ошибок, которые наша линейная регрессия делает на наборе данных. Хотя есть разные функции потерь, все они вычисляют расстояние между предсказанным значением y(х) и его фактическим значением. Одна очень распространенная функция потерь называется средней квадратичной ошибкой (MSE). Чтобы вычислить MSE, мы просто берем все значения ошибок, считаем их квадраты длин и усредняем."
      ]
    },
    {
      "cell_type": "markdown",
      "metadata": {
        "id": "0cTMFJf_BMrV"
      },
      "source": [
        "### Задание 2.1\n",
        "\n",
        "Реализуйте свою реализацию линейной регрессии используя исключительно numpy и стандартный python на датасете, определённом выше"
      ]
    },
    {
      "cell_type": "code",
      "metadata": {
        "id": "vI3hAav7BMrV",
        "outputId": "a6f41e93-6e17-4395-eabb-49b535439cf2",
        "colab": {
          "base_uri": "https://localhost:8080/",
          "height": 347
        }
      },
      "source": [
        "import numpy as np \n",
        "import matplotlib.pyplot as plt\n",
        "from sklearn.metrics import mean_squared_error, r2_score\n",
        "\n",
        "# my_a, my_b = np.polyfit(x.flatten(),y.flatten(),1)\n",
        "\n",
        " \n",
        "\n",
        "def covariance(x, mean_x, y, mean_y):\n",
        "  covar = 0.0\n",
        "  for i in range(len(x)):\n",
        "    x1, y1= x[i], y[i]\n",
        "    covar += (x1 - mean_x) * (y1 - mean_y)\n",
        "  return covar\n",
        " \n",
        "\n",
        "def variance(values, mean):\n",
        "\treturn sum([(x-mean)**2 for x in values])\n",
        " \n",
        "\n",
        "def coefficients(x,y):\n",
        "\tx_mean, y_mean = np.mean(x), np.mean(y)\n",
        "\ta = covariance(x, x_mean, y, y_mean) / variance(x, x_mean)\n",
        "\tb = y_mean - a * x_mean\n",
        "\treturn a, b\n",
        " \n",
        "\n",
        "\n",
        "my_a, my_b = coefficients(x,y)\n",
        "\n",
        "y_predicted = my_a*x+my_b\n",
        "print(f'Estimated coefficients: a = {my_a}, b = {my_b}') # Print coefficients here\n",
        "\n",
        "print('Root mean squared error: ', mean_squared_error(y, y_predicted))\n",
        "print('R2 score: ', r2_score(y, y_predicted))\n",
        "\n",
        "# Отобразим точки и регрессионную прямую\n",
        "plt.scatter(x, y, s=10)\n",
        "plt.plot(x, y_predicted, color='r')\n",
        "plt.xlabel('x')\n",
        "plt.ylabel('y')"
      ],
      "execution_count": 110,
      "outputs": [
        {
          "output_type": "stream",
          "name": "stdout",
          "text": [
            "Estimated coefficients: a = [2.93655106], b = [2.55808002]\n",
            "Root mean squared error:  0.07623324582875012\n",
            "R2 score:  0.9038655568672764\n"
          ]
        },
        {
          "output_type": "execute_result",
          "data": {
            "text/plain": [
              "Text(0, 0.5, 'y')"
            ]
          },
          "metadata": {},
          "execution_count": 110
        },
        {
          "output_type": "display_data",
          "data": {
            "image/png": "[encoded data removed]",
            "text/plain": [
              "<Figure size 432x288 with 1 Axes>"
            ]
          },
          "metadata": {
            "needs_background": "light"
          }
        }
      ]
    },
    {
      "cell_type": "markdown",
      "metadata": {
        "id": "ZsO70ZOFBMrW"
      },
      "source": [
        "### Задание 2.2\n",
        "\n",
        "В предыдущем разделе мы использовали линейную регрессию с участием двух переменных. Почти все проблемы реального мира, с которыми вы столкнетесь, будут иметь более двух переменных. Линейная регрессия с участием нескольких переменных называется **«множественной линейной регрессией» (Multiple Linear Regression)**.\n",
        "\n",
        "Уравнение множественной линейной регрессии имеет вид:\n",
        "\n",
        "*y = b0 + b1 * x1 + b2 * x2 + ... + bn * xn*\n",
        "\n",
        "Отличие между простой и множественной линейной регрессией заключается в том, что вместо линии регрессии в ней используется гиперплоскость.\n",
        "\n",
        "В этом разделе мы будем использовать множественную линейную регрессию для прогнозирования потребления газа (в миллионах галлонов) в 48 штатах США на основе налогов на газ (в центах), дохода на душу населения (в долларах), шоссе с твердым покрытием (в милях) и доли население, имеющее водительские права.\n",
        "\n",
        "\n",
        "#### Задание\n",
        "\n",
        "1. Разделить датасет на тренировочную и тестовую части в соотношении 4 к 1\n",
        "2. Реализовать множественную линейную классификацию с помощью sklearn\n",
        "3. Обучить модель\n",
        "4. Вывести сравнительную таблицу y_test и y_pred\n",
        "5. Выведите парметры качества модели:\n",
        "  - Mean Absolute Error\n",
        "  - Mean Squared Error\n",
        "  - Root Mean Squared Error"
      ]
    },
    {
      "cell_type": "code",
      "metadata": {
        "id": "0Oez7sBIBMrX",
        "outputId": "f6652356-eebd-468b-aa50-9b16a20fc82e",
        "colab": {
          "base_uri": "https://localhost:8080/"
        }
      },
      "source": [
        "!wget http://edunet.kea.su/repo/src/L02_Linear_classifier/datasets/petrol_consumption.csv"
      ],
      "execution_count": 111,
      "outputs": [
        {
          "output_type": "stream",
          "name": "stdout",
          "text": [
            "--2021-10-20 12:06:15--  http://edunet.kea.su/repo/src/L02_Linear_classifier/datasets/petrol_consumption.csv\n",
            "Resolving edunet.kea.su (edunet.kea.su)... 188.44.49.115\n",
            "Connecting to edunet.kea.su (edunet.kea.su)|188.44.49.115|:80... connected.\n",
            "HTTP request sent, awaiting response... 301 Moved Permanently\n",
            "Location: https://edunet.kea.su/repo/src/L02_Linear_classifier/datasets/petrol_consumption.csv [following]\n",
            "--2021-10-20 12:06:16--  https://edunet.kea.su/repo/src/L02_Linear_classifier/datasets/petrol_consumption.csv\n",
            "Connecting to edunet.kea.su (edunet.kea.su)|188.44.49.115|:443... connected.\n",
            "HTTP request sent, awaiting response... 200 OK\n",
            "Length: 1389 (1.4K) [text/csv]\n",
            "Saving to: ‘petrol_consumption.csv.1’\n",
            "\n",
            "petrol_consumption. 100%[===================>]   1.36K  --.-KB/s    in 0s      \n",
            "\n",
            "2021-10-20 12:06:17 (150 MB/s) - ‘petrol_consumption.csv.1’ saved [1389/1389]\n",
            "\n"
          ]
        }
      ]
    },
    {
      "cell_type": "code",
      "metadata": {
        "id": "-x3RoIrSBMrX"
      },
      "source": [
        "import pandas as pd\n",
        "import numpy as np\n",
        "import matplotlib.pyplot as plt"
      ],
      "execution_count": 112,
      "outputs": []
    },
    {
      "cell_type": "code",
      "metadata": {
        "id": "sMy0jjwDBMrX",
        "outputId": "c3fe2204-bdcf-4cc6-b4a4-b048bc99f096",
        "colab": {
          "base_uri": "https://localhost:8080/",
          "height": 221
        }
      },
      "source": [
        "dataset = pd.read_csv('/content/petrol_consumption.csv')\n",
        "print(dataset.shape)\n",
        "dataset.head()"
      ],
      "execution_count": 113,
      "outputs": [
        {
          "output_type": "stream",
          "name": "stdout",
          "text": [
            "(48, 5)\n"
          ]
        },
        {
          "output_type": "execute_result",
          "data": {
            "text/html": [
              "<div>\n",
              "<style scoped>\n",
              "    .dataframe tbody tr th:only-of-type {\n",
              "        vertical-align: middle;\n",
              "    }\n",
              "\n",
              "    .dataframe tbody tr th {\n",
              "        vertical-align: top;\n",
              "    }\n",
              "\n",
              "    .dataframe thead th {\n",
              "        text-align: right;\n",
              "    }\n",
              "</style>\n",
              "<table border=\"1\" class=\"dataframe\">\n",
              "  <thead>\n",
              "    <tr style=\"text-align: right;\">\n",
              "      <th></th>\n",
              "      <th>Petrol_tax</th>\n",
              "      <th>Average_income</th>\n",
              "      <th>Paved_Highways</th>\n",
              "      <th>Population_Driver_licence(%)</th>\n",
              "      <th>Petrol_Consumption</th>\n",
              "    </tr>\n",
              "  </thead>\n",
              "  <tbody>\n",
              "    <tr>\n",
              "      <th>0</th>\n",
              "      <td>9.0</td>\n",
              "      <td>3571</td>\n",
              "      <td>1976</td>\n",
              "      <td>0.525</td>\n",
              "      <td>541</td>\n",
              "    </tr>\n",
              "    <tr>\n",
              "      <th>1</th>\n",
              "      <td>9.0</td>\n",
              "      <td>4092</td>\n",
              "      <td>1250</td>\n",
              "      <td>0.572</td>\n",
              "      <td>524</td>\n",
              "    </tr>\n",
              "    <tr>\n",
              "      <th>2</th>\n",
              "      <td>9.0</td>\n",
              "      <td>3865</td>\n",
              "      <td>1586</td>\n",
              "      <td>0.580</td>\n",
              "      <td>561</td>\n",
              "    </tr>\n",
              "    <tr>\n",
              "      <th>3</th>\n",
              "      <td>7.5</td>\n",
              "      <td>4870</td>\n",
              "      <td>2351</td>\n",
              "      <td>0.529</td>\n",
              "      <td>414</td>\n",
              "    </tr>\n",
              "    <tr>\n",
              "      <th>4</th>\n",
              "      <td>8.0</td>\n",
              "      <td>4399</td>\n",
              "      <td>431</td>\n",
              "      <td>0.544</td>\n",
              "      <td>410</td>\n",
              "    </tr>\n",
              "  </tbody>\n",
              "</table>\n",
              "</div>"
            ],
            "text/plain": [
              "   Petrol_tax  Average_income  ...  Population_Driver_licence(%)  Petrol_Consumption\n",
              "0         9.0            3571  ...                         0.525                 541\n",
              "1         9.0            4092  ...                         0.572                 524\n",
              "2         9.0            3865  ...                         0.580                 561\n",
              "3         7.5            4870  ...                         0.529                 414\n",
              "4         8.0            4399  ...                         0.544                 410\n",
              "\n",
              "[5 rows x 5 columns]"
            ]
          },
          "metadata": {},
          "execution_count": 113
        }
      ]
    },
    {
      "cell_type": "code",
      "metadata": {
        "id": "yhBWYhaqBMrY",
        "outputId": "d624a3a2-3c77-4f6f-be96-e3caf0dd96c8",
        "colab": {
          "base_uri": "https://localhost:8080/",
          "height": 297
        }
      },
      "source": [
        "dataset.describe()"
      ],
      "execution_count": 114,
      "outputs": [
        {
          "output_type": "execute_result",
          "data": {
            "text/html": [
              "<div>\n",
              "<style scoped>\n",
              "    .dataframe tbody tr th:only-of-type {\n",
              "        vertical-align: middle;\n",
              "    }\n",
              "\n",
              "    .dataframe tbody tr th {\n",
              "        vertical-align: top;\n",
              "    }\n",
              "\n",
              "    .dataframe thead th {\n",
              "        text-align: right;\n",
              "    }\n",
              "</style>\n",
              "<table border=\"1\" class=\"dataframe\">\n",
              "  <thead>\n",
              "    <tr style=\"text-align: right;\">\n",
              "      <th></th>\n",
              "      <th>Petrol_tax</th>\n",
              "      <th>Average_income</th>\n",
              "      <th>Paved_Highways</th>\n",
              "      <th>Population_Driver_licence(%)</th>\n",
              "      <th>Petrol_Consumption</th>\n",
              "    </tr>\n",
              "  </thead>\n",
              "  <tbody>\n",
              "    <tr>\n",
              "      <th>count</th>\n",
              "      <td>48.000000</td>\n",
              "      <td>48.000000</td>\n",
              "      <td>48.000000</td>\n",
              "      <td>48.000000</td>\n",
              "      <td>48.000000</td>\n",
              "    </tr>\n",
              "    <tr>\n",
              "      <th>mean</th>\n",
              "      <td>7.668333</td>\n",
              "      <td>4241.833333</td>\n",
              "      <td>5565.416667</td>\n",
              "      <td>0.570333</td>\n",
              "      <td>576.770833</td>\n",
              "    </tr>\n",
              "    <tr>\n",
              "      <th>std</th>\n",
              "      <td>0.950770</td>\n",
              "      <td>573.623768</td>\n",
              "      <td>3491.507166</td>\n",
              "      <td>0.055470</td>\n",
              "      <td>111.885816</td>\n",
              "    </tr>\n",
              "    <tr>\n",
              "      <th>min</th>\n",
              "      <td>5.000000</td>\n",
              "      <td>3063.000000</td>\n",
              "      <td>431.000000</td>\n",
              "      <td>0.451000</td>\n",
              "      <td>344.000000</td>\n",
              "    </tr>\n",
              "    <tr>\n",
              "      <th>25%</th>\n",
              "      <td>7.000000</td>\n",
              "      <td>3739.000000</td>\n",
              "      <td>3110.250000</td>\n",
              "      <td>0.529750</td>\n",
              "      <td>509.500000</td>\n",
              "    </tr>\n",
              "    <tr>\n",
              "      <th>50%</th>\n",
              "      <td>7.500000</td>\n",
              "      <td>4298.000000</td>\n",
              "      <td>4735.500000</td>\n",
              "      <td>0.564500</td>\n",
              "      <td>568.500000</td>\n",
              "    </tr>\n",
              "    <tr>\n",
              "      <th>75%</th>\n",
              "      <td>8.125000</td>\n",
              "      <td>4578.750000</td>\n",
              "      <td>7156.000000</td>\n",
              "      <td>0.595250</td>\n",
              "      <td>632.750000</td>\n",
              "    </tr>\n",
              "    <tr>\n",
              "      <th>max</th>\n",
              "      <td>10.000000</td>\n",
              "      <td>5342.000000</td>\n",
              "      <td>17782.000000</td>\n",
              "      <td>0.724000</td>\n",
              "      <td>968.000000</td>\n",
              "    </tr>\n",
              "  </tbody>\n",
              "</table>\n",
              "</div>"
            ],
            "text/plain": [
              "       Petrol_tax  ...  Petrol_Consumption\n",
              "count   48.000000  ...           48.000000\n",
              "mean     7.668333  ...          576.770833\n",
              "std      0.950770  ...          111.885816\n",
              "min      5.000000  ...          344.000000\n",
              "25%      7.000000  ...          509.500000\n",
              "50%      7.500000  ...          568.500000\n",
              "75%      8.125000  ...          632.750000\n",
              "max     10.000000  ...          968.000000\n",
              "\n",
              "[8 rows x 5 columns]"
            ]
          },
          "metadata": {},
          "execution_count": 114
        }
      ]
    },
    {
      "cell_type": "code",
      "metadata": {
        "id": "M3epF15KBMrY",
        "outputId": "31d24b8a-70f8-47cd-e97c-1d7d7c6bbd91",
        "colab": {
          "base_uri": "https://localhost:8080/"
        }
      },
      "source": [
        "X = dataset[['Petrol_tax', 'Average_income', 'Paved_Highways',\n",
        "       'Population_Driver_licence(%)']]\n",
        "y = dataset['Petrol_Consumption']\n",
        "\n",
        "print(X.size)\n",
        "print(X.shape)\n",
        "print(y.size)\n",
        "print(y.shape)"
      ],
      "execution_count": 115,
      "outputs": [
        {
          "output_type": "stream",
          "name": "stdout",
          "text": [
            "192\n",
            "(48, 4)\n",
            "48\n",
            "(48,)\n"
          ]
        }
      ]
    },
    {
      "cell_type": "code",
      "metadata": {
        "id": "D6vdzlwEBMrY"
      },
      "source": [
        "from sklearn.model_selection import train_test_split\n",
        "x_train, x_test, y_train, y_test = train_test_split(X, y, test_size=0.20, random_state = 42) \n"
      ],
      "execution_count": 116,
      "outputs": []
    },
    {
      "cell_type": "code",
      "metadata": {
        "id": "SG5cUZkJBMrY",
        "outputId": "90e97f3b-a236-4cdd-e843-e3a4080dfebb",
        "colab": {
          "base_uri": "https://localhost:8080/"
        }
      },
      "source": [
        "# Multiple regression here\n",
        "from sklearn.linear_model import LinearRegression\n",
        "my_LR = LinearRegression().fit(x_train, y_train)\n",
        "print(my_LR.score(x_train, y_train))\n",
        "print(f'coef = {my_LR.coef_}')"
      ],
      "execution_count": 117,
      "outputs": [
        {
          "output_type": "stream",
          "name": "stdout",
          "text": [
            "0.7068781342155135\n",
            "coef = [-3.69937459e+01 -5.65355145e-02 -4.38217137e-03  1.34686930e+03]\n"
          ]
        }
      ]
    },
    {
      "cell_type": "code",
      "metadata": {
        "id": "F0FQ4o8zBMrZ"
      },
      "source": [
        "y_pred = my_LR.predict(x_test)"
      ],
      "execution_count": 118,
      "outputs": []
    },
    {
      "cell_type": "code",
      "metadata": {
        "id": "EcezDOQcBMrZ",
        "outputId": "cc116650-3e91-47fe-837e-72d211ff0704",
        "colab": {
          "base_uri": "https://localhost:8080/",
          "height": 410
        }
      },
      "source": [
        "# Print table here\n",
        "print(x_test.shape)\n",
        "# print(x_test)\n",
        "print(y_test.shape)\n",
        "# print(y_test)\n",
        "print(y_pred.shape)\n",
        "# print(y_pred)\n",
        "\n",
        "\n",
        "# predicted_y = pd.DataFrame(y_pred, columns=['predicted Petrol_Consumption'])\n",
        "# y_test_pd = pd.DataFrame(y_test)\n",
        "predicted_data = x_test\n",
        "predicted_data = pd.concat([x_test, y_test], axis=1)\n",
        "\n",
        "predicted_data['predicted Petrol_Consumption'] = y_pred.tolist()\n",
        "\n",
        "# x_test.head(10)\n",
        "# y_test_pd.head(10)\n",
        "predicted_data.head(10)\n",
        "\n",
        "\n",
        "\n",
        "\n"
      ],
      "execution_count": 119,
      "outputs": [
        {
          "output_type": "stream",
          "name": "stdout",
          "text": [
            "(10, 4)\n",
            "(10,)\n",
            "(10,)\n"
          ]
        },
        {
          "output_type": "execute_result",
          "data": {
            "text/html": [
              "<div>\n",
              "<style scoped>\n",
              "    .dataframe tbody tr th:only-of-type {\n",
              "        vertical-align: middle;\n",
              "    }\n",
              "\n",
              "    .dataframe tbody tr th {\n",
              "        vertical-align: top;\n",
              "    }\n",
              "\n",
              "    .dataframe thead th {\n",
              "        text-align: right;\n",
              "    }\n",
              "</style>\n",
              "<table border=\"1\" class=\"dataframe\">\n",
              "  <thead>\n",
              "    <tr style=\"text-align: right;\">\n",
              "      <th></th>\n",
              "      <th>Petrol_tax</th>\n",
              "      <th>Average_income</th>\n",
              "      <th>Paved_Highways</th>\n",
              "      <th>Population_Driver_licence(%)</th>\n",
              "      <th>Petrol_Consumption</th>\n",
              "      <th>predicted Petrol_Consumption</th>\n",
              "    </tr>\n",
              "  </thead>\n",
              "  <tbody>\n",
              "    <tr>\n",
              "      <th>27</th>\n",
              "      <td>7.5</td>\n",
              "      <td>3846</td>\n",
              "      <td>9061</td>\n",
              "      <td>0.579</td>\n",
              "      <td>631</td>\n",
              "      <td>606.692665</td>\n",
              "    </tr>\n",
              "    <tr>\n",
              "      <th>40</th>\n",
              "      <td>7.0</td>\n",
              "      <td>4449</td>\n",
              "      <td>4639</td>\n",
              "      <td>0.626</td>\n",
              "      <td>587</td>\n",
              "      <td>673.779442</td>\n",
              "    </tr>\n",
              "    <tr>\n",
              "      <th>26</th>\n",
              "      <td>8.0</td>\n",
              "      <td>3448</td>\n",
              "      <td>5399</td>\n",
              "      <td>0.548</td>\n",
              "      <td>577</td>\n",
              "      <td>584.991490</td>\n",
              "    </tr>\n",
              "    <tr>\n",
              "      <th>43</th>\n",
              "      <td>7.0</td>\n",
              "      <td>3745</td>\n",
              "      <td>2611</td>\n",
              "      <td>0.508</td>\n",
              "      <td>591</td>\n",
              "      <td>563.536910</td>\n",
              "    </tr>\n",
              "    <tr>\n",
              "      <th>24</th>\n",
              "      <td>8.5</td>\n",
              "      <td>4574</td>\n",
              "      <td>2619</td>\n",
              "      <td>0.551</td>\n",
              "      <td>460</td>\n",
              "      <td>519.058672</td>\n",
              "    </tr>\n",
              "    <tr>\n",
              "      <th>37</th>\n",
              "      <td>7.0</td>\n",
              "      <td>3897</td>\n",
              "      <td>6385</td>\n",
              "      <td>0.586</td>\n",
              "      <td>704</td>\n",
              "      <td>643.461003</td>\n",
              "    </tr>\n",
              "    <tr>\n",
              "      <th>12</th>\n",
              "      <td>7.0</td>\n",
              "      <td>4817</td>\n",
              "      <td>6930</td>\n",
              "      <td>0.574</td>\n",
              "      <td>525</td>\n",
              "      <td>572.897614</td>\n",
              "    </tr>\n",
              "    <tr>\n",
              "      <th>19</th>\n",
              "      <td>8.5</td>\n",
              "      <td>4341</td>\n",
              "      <td>6010</td>\n",
              "      <td>0.677</td>\n",
              "      <td>640</td>\n",
              "      <td>687.077036</td>\n",
              "    </tr>\n",
              "    <tr>\n",
              "      <th>4</th>\n",
              "      <td>8.0</td>\n",
              "      <td>4399</td>\n",
              "      <td>431</td>\n",
              "      <td>0.544</td>\n",
              "      <td>410</td>\n",
              "      <td>547.609366</td>\n",
              "    </tr>\n",
              "    <tr>\n",
              "      <th>25</th>\n",
              "      <td>9.0</td>\n",
              "      <td>3721</td>\n",
              "      <td>4746</td>\n",
              "      <td>0.544</td>\n",
              "      <td>566</td>\n",
              "      <td>530.037630</td>\n",
              "    </tr>\n",
              "  </tbody>\n",
              "</table>\n",
              "</div>"
            ],
            "text/plain": [
              "    Petrol_tax  ...  predicted Petrol_Consumption\n",
              "27         7.5  ...                    606.692665\n",
              "40         7.0  ...                    673.779442\n",
              "26         8.0  ...                    584.991490\n",
              "43         7.0  ...                    563.536910\n",
              "24         8.5  ...                    519.058672\n",
              "37         7.0  ...                    643.461003\n",
              "12         7.0  ...                    572.897614\n",
              "19         8.5  ...                    687.077036\n",
              "4          8.0  ...                    547.609366\n",
              "25         9.0  ...                    530.037630\n",
              "\n",
              "[10 rows x 6 columns]"
            ]
          },
          "metadata": {},
          "execution_count": 119
        }
      ]
    },
    {
      "cell_type": "code",
      "metadata": {
        "id": "6F9GJ2k8BMra",
        "outputId": "0fd12484-02b7-45ea-d720-21bd745cf0e3",
        "colab": {
          "base_uri": "https://localhost:8080/"
        }
      },
      "source": [
        "# Metrics here\n",
        "from sklearn.metrics import mean_absolute_error\n",
        "MAE = mean_absolute_error(y_test, y_pred)\n",
        "MSE = mean_squared_error(y_test, y_pred)\n",
        "R_f = r2_score(y_test, y_pred)\n",
        "print(f'MAE = {MAE}')\n",
        "print(f'MSE = {MSE}')\n",
        "print(f'R = {R_f}')\n"
      ],
      "execution_count": 120,
      "outputs": [
        {
          "output_type": "stream",
          "name": "stdout",
          "text": [
            "MAE = 53.468541282916625\n",
            "MSE = 4083.255871745378\n",
            "R = 0.39136640014288837\n"
          ]
        }
      ]
    },
    {
      "cell_type": "markdown",
      "metadata": {
        "id": "ackHMOtnmNHh"
      },
      "source": [
        "Выводы: поскольку по метрикам видно, что сходится достаточно плохо - вероятно, зависимость сильно нелинейная"
      ]
    }
  ]
}