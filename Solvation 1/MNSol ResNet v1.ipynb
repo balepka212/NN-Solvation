{
 "cells": [
  {
   "cell_type": "code",
   "execution_count": 1,
   "metadata": {
    "collapsed": true,
    "pycharm": {
     "name": "#%%\n"
    }
   },
   "outputs": [],
   "source": [
    "import pandas as pd\n",
    "import numpy as np\n",
    "import torch\n"
   ]
  },
  {
   "cell_type": "code",
   "execution_count": 2,
   "outputs": [],
   "source": [
    "filename = r'/Users/balepka/Yandex.Disk.localized/Study/Lab/Neural Network/MNSol-v2009_energies_v2.tsv'\n",
    "with open(filename) as f:\n",
    "    t=0\n",
    "    data = pd.read_table(f)\n",
    "    df1 = pd.DataFrame(data)"
   ],
   "metadata": {
    "collapsed": false,
    "pycharm": {
     "name": "#%%\n"
    }
   }
  },
  {
   "cell_type": "code",
   "execution_count": 3,
   "outputs": [
    {
     "data": {
      "text/plain": "       No. FileHandle                                         SoluteName  \\\n0        1    0400hyd                                           hydrogen   \n1        2    0400hyd                                           hydrogen   \n2        3    0400hyd                                           hydrogen   \n3        4    0216amm                                            ammonia   \n4        5    0216amm                                            ammonia   \n...    ...        ...                                                ...   \n2918  2919  test1058                          4-amino-4'-nitroazobenzene   \n2919  2920  test1059                      1-amino-4-anilinoanthraquinone   \n2920  2921  test1060                      1,4,5,8-tetraminoanthraquinone   \n2921  2922  test1061                               1-amino-anthraquinone   \n2922  2923  test1063   (2-dimethylamino-5,6-dimethyl-pyrimidin-4-yl) ...   \n\n      Charge  Level1  Level2  Level3     Solvent  DeltaGsolv type  ...    S  \\\n0          0       1       1       0       water        2.33  abs  ...  0.0   \n1          0       1       1       0  hexadecane        1.64  abs  ...  0.0   \n2          0       1       1       0     octanol        1.76  abs  ...  0.0   \n3          0       1       2       0       water       -4.29  abs  ...  0.0   \n4          0       1       2       0  hexadecane       -0.93  abs  ...  0.0   \n...      ...     ...     ...     ...         ...         ...  ...  ...  ...   \n2918       0       4       3       0       water      -11.20  abs  ...  0.0   \n2919       0       4       3       0       water       -7.40  abs  ...  0.0   \n2920       0       4       3       0       water       -8.90  abs  ...  0.0   \n2921       0       4       3       0       water       -8.00  abs  ...  0.0   \n2922       0       4       3       0       water       -9.40  abs  ...  0.0   \n\n       HS   SS    P   OP   SP   Si  OSi   OS  TotalArea  \n0     0.0  0.0  0.0  0.0  0.0  0.0  0.0  0.0     39.747  \n1     0.0  0.0  0.0  0.0  0.0  0.0  0.0  0.0     39.747  \n2     0.0  0.0  0.0  0.0  0.0  0.0  0.0  0.0     39.747  \n3     0.0  0.0  0.0  0.0  0.0  0.0  0.0  0.0     62.789  \n4     0.0  0.0  0.0  0.0  0.0  0.0  0.0  0.0     62.789  \n...   ...  ...  ...  ...  ...  ...  ...  ...        ...  \n2918  0.0  0.0  0.0  0.0  0.0  0.0  0.0  0.0    308.782  \n2919  0.0  0.0  0.0  0.0  0.0  0.0  0.0  0.0    365.448  \n2920  0.0  0.0  0.0  0.0  0.0  0.0  0.0  0.0    296.313  \n2921  0.0  0.0  0.0  0.0  0.0  0.0  0.0  0.0    265.743  \n2922  0.0  0.0  0.0  0.0  0.0  0.0  0.0  0.0    337.235  \n\n[2923 rows x 49 columns]",
      "text/html": "<div>\n<style scoped>\n    .dataframe tbody tr th:only-of-type {\n        vertical-align: middle;\n    }\n\n    .dataframe tbody tr th {\n        vertical-align: top;\n    }\n\n    .dataframe thead th {\n        text-align: right;\n    }\n</style>\n<table border=\"1\" class=\"dataframe\">\n  <thead>\n    <tr style=\"text-align: right;\">\n      <th></th>\n      <th>No.</th>\n      <th>FileHandle</th>\n      <th>SoluteName</th>\n      <th>Charge</th>\n      <th>Level1</th>\n      <th>Level2</th>\n      <th>Level3</th>\n      <th>Solvent</th>\n      <th>DeltaGsolv</th>\n      <th>type</th>\n      <th>...</th>\n      <th>S</th>\n      <th>HS</th>\n      <th>SS</th>\n      <th>P</th>\n      <th>OP</th>\n      <th>SP</th>\n      <th>Si</th>\n      <th>OSi</th>\n      <th>OS</th>\n      <th>TotalArea</th>\n    </tr>\n  </thead>\n  <tbody>\n    <tr>\n      <th>0</th>\n      <td>1</td>\n      <td>0400hyd</td>\n      <td>hydrogen</td>\n      <td>0</td>\n      <td>1</td>\n      <td>1</td>\n      <td>0</td>\n      <td>water</td>\n      <td>2.33</td>\n      <td>abs</td>\n      <td>...</td>\n      <td>0.0</td>\n      <td>0.0</td>\n      <td>0.0</td>\n      <td>0.0</td>\n      <td>0.0</td>\n      <td>0.0</td>\n      <td>0.0</td>\n      <td>0.0</td>\n      <td>0.0</td>\n      <td>39.747</td>\n    </tr>\n    <tr>\n      <th>1</th>\n      <td>2</td>\n      <td>0400hyd</td>\n      <td>hydrogen</td>\n      <td>0</td>\n      <td>1</td>\n      <td>1</td>\n      <td>0</td>\n      <td>hexadecane</td>\n      <td>1.64</td>\n      <td>abs</td>\n      <td>...</td>\n      <td>0.0</td>\n      <td>0.0</td>\n      <td>0.0</td>\n      <td>0.0</td>\n      <td>0.0</td>\n      <td>0.0</td>\n      <td>0.0</td>\n      <td>0.0</td>\n      <td>0.0</td>\n      <td>39.747</td>\n    </tr>\n    <tr>\n      <th>2</th>\n      <td>3</td>\n      <td>0400hyd</td>\n      <td>hydrogen</td>\n      <td>0</td>\n      <td>1</td>\n      <td>1</td>\n      <td>0</td>\n      <td>octanol</td>\n      <td>1.76</td>\n      <td>abs</td>\n      <td>...</td>\n      <td>0.0</td>\n      <td>0.0</td>\n      <td>0.0</td>\n      <td>0.0</td>\n      <td>0.0</td>\n      <td>0.0</td>\n      <td>0.0</td>\n      <td>0.0</td>\n      <td>0.0</td>\n      <td>39.747</td>\n    </tr>\n    <tr>\n      <th>3</th>\n      <td>4</td>\n      <td>0216amm</td>\n      <td>ammonia</td>\n      <td>0</td>\n      <td>1</td>\n      <td>2</td>\n      <td>0</td>\n      <td>water</td>\n      <td>-4.29</td>\n      <td>abs</td>\n      <td>...</td>\n      <td>0.0</td>\n      <td>0.0</td>\n      <td>0.0</td>\n      <td>0.0</td>\n      <td>0.0</td>\n      <td>0.0</td>\n      <td>0.0</td>\n      <td>0.0</td>\n      <td>0.0</td>\n      <td>62.789</td>\n    </tr>\n    <tr>\n      <th>4</th>\n      <td>5</td>\n      <td>0216amm</td>\n      <td>ammonia</td>\n      <td>0</td>\n      <td>1</td>\n      <td>2</td>\n      <td>0</td>\n      <td>hexadecane</td>\n      <td>-0.93</td>\n      <td>abs</td>\n      <td>...</td>\n      <td>0.0</td>\n      <td>0.0</td>\n      <td>0.0</td>\n      <td>0.0</td>\n      <td>0.0</td>\n      <td>0.0</td>\n      <td>0.0</td>\n      <td>0.0</td>\n      <td>0.0</td>\n      <td>62.789</td>\n    </tr>\n    <tr>\n      <th>...</th>\n      <td>...</td>\n      <td>...</td>\n      <td>...</td>\n      <td>...</td>\n      <td>...</td>\n      <td>...</td>\n      <td>...</td>\n      <td>...</td>\n      <td>...</td>\n      <td>...</td>\n      <td>...</td>\n      <td>...</td>\n      <td>...</td>\n      <td>...</td>\n      <td>...</td>\n      <td>...</td>\n      <td>...</td>\n      <td>...</td>\n      <td>...</td>\n      <td>...</td>\n      <td>...</td>\n    </tr>\n    <tr>\n      <th>2918</th>\n      <td>2919</td>\n      <td>test1058</td>\n      <td>4-amino-4'-nitroazobenzene</td>\n      <td>0</td>\n      <td>4</td>\n      <td>3</td>\n      <td>0</td>\n      <td>water</td>\n      <td>-11.20</td>\n      <td>abs</td>\n      <td>...</td>\n      <td>0.0</td>\n      <td>0.0</td>\n      <td>0.0</td>\n      <td>0.0</td>\n      <td>0.0</td>\n      <td>0.0</td>\n      <td>0.0</td>\n      <td>0.0</td>\n      <td>0.0</td>\n      <td>308.782</td>\n    </tr>\n    <tr>\n      <th>2919</th>\n      <td>2920</td>\n      <td>test1059</td>\n      <td>1-amino-4-anilinoanthraquinone</td>\n      <td>0</td>\n      <td>4</td>\n      <td>3</td>\n      <td>0</td>\n      <td>water</td>\n      <td>-7.40</td>\n      <td>abs</td>\n      <td>...</td>\n      <td>0.0</td>\n      <td>0.0</td>\n      <td>0.0</td>\n      <td>0.0</td>\n      <td>0.0</td>\n      <td>0.0</td>\n      <td>0.0</td>\n      <td>0.0</td>\n      <td>0.0</td>\n      <td>365.448</td>\n    </tr>\n    <tr>\n      <th>2920</th>\n      <td>2921</td>\n      <td>test1060</td>\n      <td>1,4,5,8-tetraminoanthraquinone</td>\n      <td>0</td>\n      <td>4</td>\n      <td>3</td>\n      <td>0</td>\n      <td>water</td>\n      <td>-8.90</td>\n      <td>abs</td>\n      <td>...</td>\n      <td>0.0</td>\n      <td>0.0</td>\n      <td>0.0</td>\n      <td>0.0</td>\n      <td>0.0</td>\n      <td>0.0</td>\n      <td>0.0</td>\n      <td>0.0</td>\n      <td>0.0</td>\n      <td>296.313</td>\n    </tr>\n    <tr>\n      <th>2921</th>\n      <td>2922</td>\n      <td>test1061</td>\n      <td>1-amino-anthraquinone</td>\n      <td>0</td>\n      <td>4</td>\n      <td>3</td>\n      <td>0</td>\n      <td>water</td>\n      <td>-8.00</td>\n      <td>abs</td>\n      <td>...</td>\n      <td>0.0</td>\n      <td>0.0</td>\n      <td>0.0</td>\n      <td>0.0</td>\n      <td>0.0</td>\n      <td>0.0</td>\n      <td>0.0</td>\n      <td>0.0</td>\n      <td>0.0</td>\n      <td>265.743</td>\n    </tr>\n    <tr>\n      <th>2922</th>\n      <td>2923</td>\n      <td>test1063</td>\n      <td>(2-dimethylamino-5,6-dimethyl-pyrimidin-4-yl) ...</td>\n      <td>0</td>\n      <td>4</td>\n      <td>3</td>\n      <td>0</td>\n      <td>water</td>\n      <td>-9.40</td>\n      <td>abs</td>\n      <td>...</td>\n      <td>0.0</td>\n      <td>0.0</td>\n      <td>0.0</td>\n      <td>0.0</td>\n      <td>0.0</td>\n      <td>0.0</td>\n      <td>0.0</td>\n      <td>0.0</td>\n      <td>0.0</td>\n      <td>337.235</td>\n    </tr>\n  </tbody>\n</table>\n<p>2923 rows × 49 columns</p>\n</div>"
     },
     "execution_count": 3,
     "metadata": {},
     "output_type": "execute_result"
    }
   ],
   "source": [
    "df1"
   ],
   "metadata": {
    "collapsed": false,
    "pycharm": {
     "name": "#%%\n"
    }
   }
  },
  {
   "cell_type": "code",
   "execution_count": 13,
   "outputs": [],
   "source": [
    "filename2 = r'/Users/balepka/Yandex.Disk.localized/Study/Lab/Neural Network/MNSolDatabase_v2012/Solvent_properties.tsv'\n",
    "with open(filename2) as f:\n",
    "    data = pd.read_table(f, header=1)\n",
    "    solvent_props = pd.DataFrame(data)\n"
   ],
   "metadata": {
    "collapsed": false,
    "pycharm": {
     "name": "#%%\n"
    }
   }
  },
  {
   "cell_type": "code",
   "execution_count": 14,
   "outputs": [
    {
     "data": {
      "text/plain": "                Solvent               Name      nD  alpha  beta  gamma  \\\n0      2-methylpyridine    2methylpyridine  1.4957   0.00  0.58  47.50   \n1  4-methyl-2-pentanone  4methyl2pentanone  1.3962   0.00  0.51  33.83   \n2           acetic acid         aceticacid  1.3720   0.61  0.44  39.01   \n3          acetonitrile       acetonitrile  1.3442   0.07  0.32  41.25   \n4          acetophenone       acetophenone  1.5372   0.00  0.48  56.19   \n\n   epsilon    phi  psi  \n0   9.9533  0.714  0.0  \n1  12.8870  0.000  0.0  \n2   6.2528  0.000  0.0  \n3  35.6880  0.000  0.0  \n4  17.4400  0.667  0.0  ",
      "text/html": "<div>\n<style scoped>\n    .dataframe tbody tr th:only-of-type {\n        vertical-align: middle;\n    }\n\n    .dataframe tbody tr th {\n        vertical-align: top;\n    }\n\n    .dataframe thead th {\n        text-align: right;\n    }\n</style>\n<table border=\"1\" class=\"dataframe\">\n  <thead>\n    <tr style=\"text-align: right;\">\n      <th></th>\n      <th>Solvent</th>\n      <th>Name</th>\n      <th>nD</th>\n      <th>alpha</th>\n      <th>beta</th>\n      <th>gamma</th>\n      <th>epsilon</th>\n      <th>phi</th>\n      <th>psi</th>\n    </tr>\n  </thead>\n  <tbody>\n    <tr>\n      <th>0</th>\n      <td>2-methylpyridine</td>\n      <td>2methylpyridine</td>\n      <td>1.4957</td>\n      <td>0.00</td>\n      <td>0.58</td>\n      <td>47.50</td>\n      <td>9.9533</td>\n      <td>0.714</td>\n      <td>0.0</td>\n    </tr>\n    <tr>\n      <th>1</th>\n      <td>4-methyl-2-pentanone</td>\n      <td>4methyl2pentanone</td>\n      <td>1.3962</td>\n      <td>0.00</td>\n      <td>0.51</td>\n      <td>33.83</td>\n      <td>12.8870</td>\n      <td>0.000</td>\n      <td>0.0</td>\n    </tr>\n    <tr>\n      <th>2</th>\n      <td>acetic acid</td>\n      <td>aceticacid</td>\n      <td>1.3720</td>\n      <td>0.61</td>\n      <td>0.44</td>\n      <td>39.01</td>\n      <td>6.2528</td>\n      <td>0.000</td>\n      <td>0.0</td>\n    </tr>\n    <tr>\n      <th>3</th>\n      <td>acetonitrile</td>\n      <td>acetonitrile</td>\n      <td>1.3442</td>\n      <td>0.07</td>\n      <td>0.32</td>\n      <td>41.25</td>\n      <td>35.6880</td>\n      <td>0.000</td>\n      <td>0.0</td>\n    </tr>\n    <tr>\n      <th>4</th>\n      <td>acetophenone</td>\n      <td>acetophenone</td>\n      <td>1.5372</td>\n      <td>0.00</td>\n      <td>0.48</td>\n      <td>56.19</td>\n      <td>17.4400</td>\n      <td>0.667</td>\n      <td>0.0</td>\n    </tr>\n  </tbody>\n</table>\n</div>"
     },
     "execution_count": 14,
     "metadata": {},
     "output_type": "execute_result"
    }
   ],
   "source": [
    "solvent_props.head()\n"
   ],
   "metadata": {
    "collapsed": false,
    "pycharm": {
     "name": "#%%\n"
    }
   }
  },
  {
   "cell_type": "code",
   "execution_count": 4,
   "outputs": [],
   "source": [
    "df2 = df1.loc[df1['Charge'].isin([0])]"
   ],
   "metadata": {
    "collapsed": false,
    "pycharm": {
     "name": "#%%\n"
    }
   }
  },
  {
   "cell_type": "code",
   "execution_count": 19,
   "outputs": [
    {
     "data": {
      "text/plain": "array([[ 1.372 ,  0.61  ,  0.44  , 39.01  ,  6.2528,  0.    ,  0.    ]])"
     },
     "execution_count": 19,
     "metadata": {},
     "output_type": "execute_result"
    }
   ],
   "source": [
    "row = solvent_props.loc[solvent_props['Name'] == 'aceticacid']\n",
    "values = np.array(row[['nD', 'alpha', 'beta', 'gamma', 'epsilon', 'phi', 'psi']])\n",
    "values"
   ],
   "metadata": {
    "collapsed": false,
    "pycharm": {
     "name": "#%%\n"
    }
   }
  },
  {
   "cell_type": "code",
   "execution_count": 22,
   "outputs": [
    {
     "name": "stdout",
     "output_type": "stream",
     "text": [
      "water -> 345 -> (1, 7)\n",
      "octanol -> 206 -> (1, 7)\n",
      "hexadecane -> 190 -> (1, 7)\n",
      "chloroform -> 105 -> (1, 7)\n",
      "cyclohexane -> 91 -> (1, 7)\n",
      "octanol-water -> 90 -> (0, 7)\n",
      "carbontet -> 78 -> (1, 7)\n",
      "benzene -> 75 -> (1, 7)\n",
      "diethylether -> 67 -> (1, 7)\n",
      "heptane -> 66 -> (1, 7)\n",
      "hexane -> 59 -> (1, 7)\n",
      "toluene -> 51 -> (1, 7)\n",
      "xylene -> 48 -> (1, 7)\n",
      "dichloroethane -> 39 -> (1, 7)\n",
      "decane -> 39 -> (1, 7)\n",
      "octane -> 38 -> (1, 7)\n",
      "chlorobenzene -> 38 -> (1, 7)\n",
      "isooctane -> 32 -> (1, 7)\n",
      "ethylbenzene -> 29 -> (1, 7)\n",
      "bromobenzene -> 27 -> (1, 7)\n",
      "decalin -> 26 -> (1, 7)\n",
      "nonane -> 26 -> (1, 7)\n",
      "pentane -> 26 -> (1, 7)\n",
      "butylacetate -> 22 -> (1, 7)\n",
      "pentanol -> 22 -> (1, 7)\n",
      "diisopropylether -> 22 -> (1, 7)\n",
      "ethylacetate -> 21 -> (1, 7)\n",
      "iodobenzene -> 20 -> (1, 7)\n",
      "butanol -> 20 -> (1, 7)\n",
      "isopropylbenzene -> 19 -> (1, 7)\n",
      "isobutanol -> 17 -> (1, 7)\n",
      "tributylphosphate -> 16 -> (1, 7)\n",
      "perfluorobenzene -> 15 -> (1, 7)\n",
      "nitrobenzene -> 15 -> (1, 7)\n",
      "dibutylether -> 15 -> (1, 7)\n",
      "carbondisulfide -> 15 -> (1, 7)\n",
      "tbutylbenzene -> 14 -> (1, 7)\n",
      "hexanol -> 14 -> (1, 7)\n",
      "undecane -> 13 -> (1, 7)\n",
      "4methyl2pentanone -> 13 -> (1, 7)\n",
      "butanone -> 13 -> (1, 7)\n",
      "bromoform -> 12 -> (1, 7)\n",
      "heptanol -> 12 -> (1, 7)\n",
      "decanol -> 11 -> (1, 7)\n",
      "trimethylbenzene -> 11 -> (1, 7)\n",
      "odichlorobenzene -> 11 -> (1, 7)\n",
      "methylenechloride -> 11 -> (1, 7)\n",
      "diethylether-water -> 11 -> (0, 7)\n",
      "chlorohexane -> 11 -> (1, 7)\n",
      "nonanol -> 10 -> (1, 7)\n",
      "butylbenzene -> 10 -> (1, 7)\n",
      "benzylalcohol -> 10 -> (1, 7)\n",
      "dibromoethane -> 10 -> (1, 7)\n",
      "aniline -> 10 -> (1, 7)\n",
      "tetrachloroethene -> 10 -> (1, 7)\n",
      "cyclohexanone -> 10 -> (1, 7)\n",
      "chloroform-water -> 10 -> (0, 7)\n",
      "acetophenone -> 9 -> (1, 7)\n",
      "hexadecyliodide -> 9 -> (1, 7)\n",
      "secbutanol -> 9 -> (1, 7)\n",
      "tetralin -> 9 -> (1, 7)\n",
      "pentadecane -> 9 -> (1, 7)\n",
      "anisole -> 8 -> (1, 7)\n",
      "heptane-water -> 8 -> (0, 7)\n",
      "ethanol -> 8 -> (1, 7)\n",
      "dodecane -> 8 -> (1, 7)\n",
      "mesitylene -> 7 -> (1, 7)\n",
      "dimethylacetamide -> 7 -> (1, 7)\n",
      "dimethylsulfoxide -> 7 -> (1, 7)\n",
      "nitromethane -> 7 -> (1, 7)\n",
      "ethoxybenzene -> 7 -> (1, 7)\n",
      "triethylamine -> 7 -> (1, 7)\n",
      "propanol -> 7 -> (1, 7)\n",
      "pyridine -> 7 -> (1, 7)\n",
      "isopropanol -> 7 -> (1, 7)\n",
      "tetrahydrofuran -> 7 -> (1, 7)\n",
      "acetonitrile -> 7 -> (1, 7)\n",
      "benzonitrile -> 7 -> (1, 7)\n",
      "nitroethane -> 7 -> (1, 7)\n",
      "dimethylformamide -> 7 -> (1, 7)\n",
      "bromoethane -> 7 -> (1, 7)\n",
      "fluorobenzene -> 7 -> (1, 7)\n",
      "methylformamide -> 7 -> (1, 7)\n",
      "aceticacid -> 7 -> (1, 7)\n",
      "mcresol -> 7 -> (1, 7)\n",
      "tetrahydrothiophenedioxide -> 7 -> (1, 7)\n",
      "isopropyltoluene -> 6 -> (0, 7)\n",
      "fluoroctane -> 6 -> (1, 7)\n",
      "2methylpyridine -> 6 -> (1, 7)\n",
      "phenylether -> 6 -> (1, 7)\n",
      "onitrotoluene -> 6 -> (1, 7)\n",
      "dimethylpyridine -> 6 -> (1, 7)\n",
      "methoxyethanol -> 6 -> (1, 7)\n",
      "cyclohexane-water -> 5 -> (0, 7)\n",
      "secbutylbenzene -> 5 -> (1, 7)\n",
      "bromooctane -> 5 -> (1, 7)\n",
      "benzene-water -> 4 -> (0, 7)\n",
      "ethylacetate-water -> 4 -> (0, 7)\n",
      "dichloroethane-water -> 3 -> (0, 7)\n",
      "carbontet-water -> 2 -> (0, 7)\n",
      "hexane-water -> 1 -> (0, 7)\n",
      "butanol-water -> 1 -> (0, 7)\n",
      "dibutylether-water -> 1 -> (0, 7)\n",
      "chlorobenzene-water -> 1 -> (0, 7)\n",
      "dibromoethane-water -> 1 -> (0, 7)\n",
      "nitrobenzene-water -> 1 -> (0, 7)\n"
     ]
    }
   ],
   "source": [
    "for name, count in df2['Solvent'].value_counts().items():\n",
    "    row = solvent_props.loc[solvent_props['Name'] == name]\n",
    "    values = np.array(row[['nD', 'alpha', 'beta', 'gamma', 'epsilon', 'phi', 'psi']])\n",
    "    print(f'{name} -> {count} -> {values.shape}')"
   ],
   "metadata": {
    "collapsed": false,
    "pycharm": {
     "name": "#%%\n"
    }
   }
  },
  {
   "cell_type": "code",
   "execution_count": 5,
   "outputs": [
    {
     "data": {
      "text/plain": "(2560, 49)"
     },
     "execution_count": 5,
     "metadata": {},
     "output_type": "execute_result"
    }
   ],
   "source": [
    "df2.shape\n"
   ],
   "metadata": {
    "collapsed": false,
    "pycharm": {
     "name": "#%%\n"
    }
   }
  },
  {
   "cell_type": "code",
   "execution_count": 60,
   "outputs": [
    {
     "name": "stdout",
     "output_type": "stream",
     "text": [
      "816\n",
      "(408, 2)\n",
      "408\n",
      "(408,)\n"
     ]
    }
   ],
   "source": [
    "#Only names\n",
    "X = df4[['SoluteName', 'Solvent']]\n",
    "y = df4['DeltaGsolv']\n",
    "\n",
    "print(X.size)\n",
    "print(X.shape)\n",
    "print(y.size)\n",
    "print(y.shape)"
   ],
   "metadata": {
    "collapsed": false,
    "pycharm": {
     "name": "#%%\n"
    }
   }
  },
  {
   "cell_type": "code",
   "execution_count": 49,
   "outputs": [
    {
     "data": {
      "text/plain": "('water',\n 'octanol',\n 'hexadecane',\n 'chloroform',\n 'cyclohexane',\n 'octanol-water',\n 'methanol',\n 'carbontet',\n 'dimethylsulfoxide',\n 'acetonitrile',\n 'benzene',\n 'diethylether',\n 'heptane',\n 'hexane',\n 'toluene',\n 'xylene',\n 'dichloroethane',\n 'decane',\n 'chlorobenzene',\n 'octane',\n 'isooctane',\n 'ethylbenzene',\n 'bromobenzene',\n 'pentane',\n 'nonane',\n 'decalin',\n 'pentanol',\n 'butylacetate',\n 'diisopropylether',\n 'ethylacetate',\n 'butanol',\n 'iodobenzene',\n 'isopropylbenzene',\n 'isobutanol',\n 'tributylphosphate',\n 'carbondisulfide',\n 'dibutylether',\n 'perfluorobenzene',\n 'nitrobenzene',\n 'hexanol',\n 'tbutylbenzene',\n 'butanone',\n 'undecane',\n '4methyl2pentanone',\n 'heptanol',\n 'bromoform',\n 'diethylether-water',\n 'decanol',\n 'odichlorobenzene',\n 'methylenechloride',\n 'chlorohexane',\n 'trimethylbenzene',\n 'tetrachloroethene',\n 'cyclohexanone',\n 'butylbenzene',\n 'chloroform-water',\n 'benzylalcohol',\n 'aniline',\n 'nonanol',\n 'dibromoethane',\n 'hexadecyliodide',\n 'tetralin',\n 'secbutanol',\n 'acetophenone',\n 'pentadecane',\n 'ethanol',\n 'anisole',\n 'dodecane',\n 'heptane-water',\n 'mesitylene',\n 'isopropanol',\n 'tetrahydrothiophenedioxide',\n 'benzonitrile',\n 'mcresol',\n 'tetrahydrofuran',\n 'ethoxybenzene',\n 'triethylamine',\n 'pyridine',\n 'propanol',\n 'dimethylacetamide',\n 'nitromethane',\n 'aceticacid',\n 'methylformamide',\n 'nitroethane',\n 'dimethylformamide',\n 'bromoethane',\n 'fluorobenzene',\n 'methoxyethanol',\n 'phenylether',\n 'fluoroctane',\n 'dimethylpyridine',\n 'onitrotoluene',\n 'isopropyltoluene',\n '2methylpyridine',\n 'cyclohexane-water',\n 'bromooctane',\n 'secbutylbenzene',\n 'ethylacetate-water',\n 'benzene-water',\n 'dichloroethane-water',\n 'carbontet-water',\n 'hexane-water',\n 'butanol-water',\n 'dibutylether-water',\n 'chlorobenzene-water',\n 'dibromoethane-water',\n 'nitrobenzene-water')"
     },
     "execution_count": 49,
     "metadata": {},
     "output_type": "execute_result"
    }
   ],
   "source": [
    "Solvents = zip(*df2['Solvent'].value_counts().items())\n",
    "Solvents = list(Solvents)[0]\n",
    "Solvents"
   ],
   "metadata": {
    "collapsed": false,
    "pycharm": {
     "name": "#%%\n"
    }
   }
  },
  {
   "cell_type": "code",
   "execution_count": 50,
   "outputs": [
    {
     "data": {
      "text/plain": "('water',\n 'octanol',\n 'hexadecane',\n 'chloroform',\n 'cyclohexane',\n 'octanol-water',\n 'methanol',\n 'carbontet',\n 'dimethylsulfoxide',\n 'acetonitrile',\n 'benzene',\n 'diethylether',\n 'heptane',\n 'hexane',\n 'toluene',\n 'xylene',\n 'dichloroethane',\n 'decane',\n 'chlorobenzene',\n 'octane',\n 'isooctane',\n 'ethylbenzene',\n 'bromobenzene',\n 'pentane',\n 'nonane',\n 'decalin',\n 'pentanol',\n 'butylacetate',\n 'diisopropylether',\n 'ethylacetate',\n 'butanol',\n 'iodobenzene',\n 'isopropylbenzene',\n 'isobutanol',\n 'tributylphosphate',\n 'carbondisulfide',\n 'dibutylether',\n 'perfluorobenzene',\n 'nitrobenzene',\n 'hexanol',\n 'tbutylbenzene',\n 'butanone',\n 'undecane',\n '4methyl2pentanone',\n 'heptanol',\n 'bromoform',\n 'diethylether-water',\n 'decanol',\n 'odichlorobenzene',\n 'methylenechloride',\n 'chlorohexane',\n 'trimethylbenzene',\n 'tetrachloroethene',\n 'cyclohexanone',\n 'butylbenzene',\n 'chloroform-water',\n 'benzylalcohol',\n 'aniline',\n 'nonanol',\n 'dibromoethane',\n 'hexadecyliodide',\n 'tetralin',\n 'secbutanol',\n 'acetophenone',\n 'pentadecane',\n 'ethanol',\n 'anisole',\n 'dodecane',\n 'heptane-water',\n 'mesitylene',\n 'isopropanol',\n 'tetrahydrothiophenedioxide',\n 'benzonitrile',\n 'mcresol',\n 'tetrahydrofuran',\n 'ethoxybenzene',\n 'triethylamine',\n 'pyridine',\n 'propanol',\n 'dimethylacetamide',\n 'nitromethane',\n 'aceticacid',\n 'methylformamide',\n 'nitroethane',\n 'dimethylformamide',\n 'bromoethane',\n 'fluorobenzene',\n 'methoxyethanol',\n 'phenylether',\n 'fluoroctane',\n 'dimethylpyridine',\n 'onitrotoluene',\n 'isopropyltoluene',\n '2methylpyridine',\n 'cyclohexane-water',\n 'bromooctane',\n 'secbutylbenzene',\n 'ethylacetate-water',\n 'benzene-water',\n 'dichloroethane-water',\n 'carbontet-water',\n 'hexane-water',\n 'butanol-water',\n 'dibutylether-water',\n 'chlorobenzene-water',\n 'dibromoethane-water',\n 'nitrobenzene-water')"
     },
     "execution_count": 50,
     "metadata": {},
     "output_type": "execute_result"
    }
   ],
   "source": [
    "\n",
    "Solvents"
   ],
   "metadata": {
    "collapsed": false,
    "pycharm": {
     "name": "#%%\n"
    }
   }
  },
  {
   "cell_type": "code",
   "execution_count": 47,
   "outputs": [],
   "source": [
    "\n"
   ],
   "metadata": {
    "collapsed": false,
    "pycharm": {
     "name": "#%%\n"
    }
   }
  },
  {
   "cell_type": "code",
   "execution_count": 48,
   "outputs": [
    {
     "data": {
      "text/plain": "('water',\n 'octanol',\n 'hexadecane',\n 'chloroform',\n 'cyclohexane',\n 'octanol-water',\n 'carbontet',\n 'benzene',\n 'diethylether',\n 'heptane',\n 'hexane',\n 'toluene',\n 'xylene',\n 'dichloroethane',\n 'decane',\n 'octane',\n 'chlorobenzene',\n 'isooctane',\n 'ethylbenzene',\n 'bromobenzene',\n 'decalin',\n 'nonane',\n 'pentane',\n 'butylacetate',\n 'pentanol',\n 'diisopropylether',\n 'ethylacetate',\n 'iodobenzene',\n 'butanol',\n 'isopropylbenzene',\n 'isobutanol',\n 'tributylphosphate',\n 'perfluorobenzene',\n 'nitrobenzene',\n 'dibutylether',\n 'carbondisulfide',\n 'tbutylbenzene',\n 'hexanol',\n 'undecane',\n '4methyl2pentanone',\n 'butanone',\n 'bromoform',\n 'heptanol',\n 'decanol',\n 'trimethylbenzene',\n 'odichlorobenzene',\n 'methylenechloride',\n 'diethylether-water',\n 'chlorohexane',\n 'nonanol',\n 'butylbenzene',\n 'benzylalcohol',\n 'dibromoethane',\n 'aniline',\n 'tetrachloroethene',\n 'cyclohexanone',\n 'chloroform-water',\n 'acetophenone',\n 'hexadecyliodide',\n 'secbutanol',\n 'tetralin',\n 'pentadecane',\n 'anisole',\n 'heptane-water',\n 'ethanol',\n 'dodecane',\n 'mesitylene',\n 'dimethylacetamide',\n 'dimethylsulfoxide',\n 'nitromethane',\n 'ethoxybenzene',\n 'triethylamine',\n 'propanol',\n 'pyridine',\n 'isopropanol',\n 'tetrahydrofuran',\n 'acetonitrile',\n 'benzonitrile',\n 'nitroethane',\n 'dimethylformamide',\n 'bromoethane',\n 'fluorobenzene',\n 'methylformamide',\n 'aceticacid',\n 'mcresol',\n 'tetrahydrothiophenedioxide',\n 'isopropyltoluene',\n 'fluoroctane',\n '2methylpyridine',\n 'phenylether',\n 'onitrotoluene',\n 'dimethylpyridine',\n 'methoxyethanol',\n 'cyclohexane-water',\n 'secbutylbenzene',\n 'bromooctane',\n 'benzene-water',\n 'ethylacetate-water',\n 'dichloroethane-water',\n 'carbontet-water',\n 'hexane-water',\n 'butanol-water',\n 'dibutylether-water',\n 'chlorobenzene-water',\n 'dibromoethane-water',\n 'nitrobenzene-water')"
     },
     "execution_count": 48,
     "metadata": {},
     "output_type": "execute_result"
    }
   ],
   "source": [
    "Solvents"
   ],
   "metadata": {
    "collapsed": false,
    "pycharm": {
     "name": "#%%\n"
    }
   }
  },
  {
   "cell_type": "code",
   "execution_count": 51,
   "outputs": [
    {
     "data": {
      "text/plain": "('ethanol',\n 'toluene',\n '2-butanone',\n 'nitromethane',\n 'n-octane',\n '1,4-dioxane',\n 'phenol',\n 'acetic acid',\n 'methanol',\n 'propanoic acid',\n '1-propanol',\n 'ethyl acetate',\n 'butyl acetate',\n 'butylamine',\n 'aniline',\n 'ethylamine',\n 'methyl acetate',\n '1-butanol',\n '1-hexanol',\n 'propyl acetate',\n '1-pentanol',\n 'p-cresol',\n 'methyl pentanoate',\n '1-heptanol',\n 'propylamine',\n 'methyl propanoate',\n 'o-cresol',\n 'pentyl acetate',\n 'acetone',\n 'p-bromophenol',\n 'butanoic acid',\n '2-hexanone',\n 'water',\n '2-pentanone',\n 'pyridine',\n '2-heptanone',\n 'methyl hexanoate',\n '3,3-dimethylbutanone',\n 'diethylamine',\n 'hydrogen peroxide',\n 'm-cresol',\n '4-methylaniline',\n 'benzene',\n 'hexanoic acid',\n 'trimethylamine',\n 'pentanoic acid',\n 'ethylbenzene',\n 'methylamine',\n 'acetophenone',\n 'chlorobenzene',\n 'ammonia',\n 'benzamide',\n 't-butanol',\n 'bromobenzene',\n 'nitrobenzene',\n '2-methylaniline',\n 'acetonitrile',\n 'fluorobenzene',\n 'dimethylamine',\n 'isopropanol',\n 'naphthalene',\n 'methyl benzoate',\n 'trichloromethane',\n 'formaldehyde',\n 'benzaldehyde',\n '1,2-ethanediol',\n 'benzonitrile',\n 'p-hydroxybenzaldehyde',\n '1,4-dichlorobenzene',\n 'anisole',\n '3-methylaniline',\n 'N-methylaniline',\n '1-nitropropane',\n 'm-xylene',\n 'triethylphosphate',\n 'trimethylphosphate',\n '2-methylpyridine',\n 'diethyl ether',\n '2-methoxyethanol',\n 'n-pentane',\n 'acetamide',\n 'isopropyl methylphosphonofluoridate',\n 'tripropylphosphate',\n '2-methyl-1-nitrobenzene',\n '2,2,2-trifluoroethanol',\n 'dipropylamine',\n 'piperidine',\n 'o-xylene',\n 'hydrogen sulfide',\n '4-methylpyridine',\n 'allyl alcohol',\n 'thiophenol',\n '2,6-dimethylpyridine',\n 'cyclohexane',\n '1-octanol',\n 'hydrazine',\n 'tribromomethane',\n 'acetanilide',\n 'n-hexane',\n '3-pentanone',\n '1-propanethiol',\n 'm-hydroxybenzaldehyde',\n '1,2-dichlorobenzene',\n '3-methylpyridine',\n 'ethyl phenyl ether',\n 'urea',\n 'thioanisole',\n 'trichloroethene',\n 'b-propiolactone',\n 'g-butyrolactone',\n 'dichloromethane',\n 'tetrachloroethene',\n '1,1,1-trichloroethane',\n 'butanal',\n 'nitroethane',\n 'hydrochloric acid',\n 'hydrobromic acid',\n 'n-heptane',\n '2-methylpyrazine',\n 'quinoline',\n 'benzoic acid',\n 'uracil',\n '1-butene',\n 'acetaldehyde',\n 'thiophene',\n '5-methyluracil (thymine)',\n 'p-xylene',\n '5-bromouracil',\n 'tetrahydropyran',\n 'morpholine',\n 'tetrahydrofuran',\n 'dimethyl ether',\n '5-fluorouracil',\n '4-ethylpyridine',\n 'pyrrole',\n '1-nitrobutane',\n '1,1-dimethyl-3-phenylurea',\n 'triethylamine',\n 'N,N-dimethylacetamide',\n '2-ethylpyrazine',\n 'piperazine',\n 'N,N-dimethylformamide',\n '2-nitropropane',\n 'phenylurea',\n 'propanal',\n 'ethanethiol',\n 'difluorodichloromethane',\n 'n-propane',\n 'n-butane',\n 'dichloroacetic acid',\n 'dimethyl sulfoxide',\n '4-nitrophenol',\n '4-nitroaniline',\n 'methylcyclohexane',\n 'dimethyl 4-nitrophenyl thiophosphate',\n 'propene',\n 'diethyl sulfide',\n 'anthracene',\n 'trichloroacetamide',\n '1,1,1,3,3,3-hexafluoropropan-2-ol',\n 'fluorotrichloromethane',\n 'formamide',\n 'cyclopentanone',\n 'E-1,2-dichloroethene',\n '2-octanone',\n 'bromoethane',\n 'isopropyl ether',\n 'hydrogen cyanide',\n 'N-methyl-2-pyrrolidinone',\n 'dibromomethane',\n 'diethyl 4-nitrophenyl thiophosphonate',\n '2,2-dichloroethenyl dimethyl phosphate',\n 'tetramethylsilane',\n '3,4-dimethylbenzoic acid',\n '3-bromopropene',\n '3-nitrophenol',\n \"2,2'-dichlorobiphenyl\",\n 'chloroacetic acid',\n 'Z-1,2-dichloroethene',\n '2-chloropropane',\n '1-chloropropane',\n 'trifluoroacetic acid',\n 'N,N-diethylacetamide',\n '2,4-dinitrophenol',\n 'p-dibromobenzene',\n 'trifluoroacetamide',\n 'bromotoluene',\n '1-bromo-1-chloro-2,2,2-trifluoroethane',\n '1,1,2-trichloro-1,2,2-trifluoroethane',\n '1-bromopentane',\n '1-bromobutane',\n '2-bromopropane',\n '3,5-dibromo-4-hydroxybenzonitrile',\n 'chloroacetamide',\n '2-nitrobenzoic acid',\n 'chloroethane',\n '1-bromopropane',\n 'dimethyl sulfide',\n '9-methyladenine',\n 'dimethyl disulfide',\n '2-chlorobenzoic acid',\n '4-nitrobenzoic acid',\n '1,1,2-trichloroethane',\n 'hydrogen',\n 'pyrrolidine',\n '1-pentyne',\n '4-methyl-g-butyrolactone',\n 'cyclopentanol',\n '2,4-dimethylpyridine',\n '1-hexyne',\n 'cyclopropane',\n 'cyclopentane',\n 'pentylamine',\n '1-decanol',\n 'ethene',\n 's-trans-1,3-butadiene',\n 'propyne',\n '2-methylpropene',\n 'ethyne',\n '1-pentene',\n '3,5-dimethylpyridine',\n '1-hexene',\n '2-methylpropane',\n 'methyl formate',\n 'pentanal',\n 'propionitrile',\n 'butanonitrile',\n 'methyl butanoate',\n '2,2-dimethylpropane',\n 'isoquinoline',\n 'ethane',\n 'methane',\n '4-heptanone',\n 'diethyl disulfide',\n '4-chlorobenzoic acid',\n 'bromomethane',\n '1-butyne',\n 'octanal',\n '3-chlorophenol',\n 'dipropyl sulfide',\n 'bromotrifluoromethane',\n 'methanethiol',\n 'methyl propyl ether',\n '1-bromo-isobutane',\n 'n-butylamine',\n 'benzenesulfonamide',\n '4-amino-3,5,6-trichloropyridine-2-carboxylic acid',\n '2,2,2-trifluorethyl vinyl  ether',\n '1,1,1-trifluoropropan-2-ol',\n 'cyanoacetic acid',\n '1,2-dimethoxyethane',\n 'p-bromotoluene',\n 'bromotrichloromethane',\n '1-bromo-1,2,2,2-tetrafluoroethane',\n 'thioacetamide',\n 'chlorodifluoromethane',\n '1,1-dichloro-2,2-difluoroethyl methyl ether',\n '2,6-dichlorobenzonitrile',\n 'E-2-pentene',\n '3-nitrobenzoic acid',\n '3-chloroaniline',\n '4-methoxyaniline',\n 'tri-n-propylamine',\n 't-butylamine',\n 'n-propylamine',\n 'acetylene',\n '2-butanol',\n 'acrylic acid',\n 'benzyl alcohol',\n 'ethyl hydroperoxide',\n 'methyl hydroperoxide',\n 'cyanamide',\n 'diphenylamine',\n '2-chlorophenol',\n 'hydrofluoric acid',\n '4-chloroaniline',\n '2-hydroxybenzoic acid',\n '2-methylpentane',\n 'ethyl 4-cyanophenyl phenylthiophosphonate',\n 'glycolic acid',\n 'cyclohexanecarboxylic acid',\n '4-methylbenzoic acid',\n '2,3-dichlorobiphenyl',\n '4-hydroxybenzoic acid',\n 'methyl 3-methyl-4-thiomethoxyphenyl thiophosphate',\n '3-methylbenzoic acid',\n '3-hydroxybenzoic acid',\n '2,2,4-trimethylpentane',\n 'diethyl 2,4-dichlorophenyl thiophosphate',\n \"O-ethyl O'-4-bromo-2-chlorophenyl S-propyl phosphorothioate\",\n 'dimethyl 2,4,5-trichlorophenyl thiophosphate',\n 'dimethyl 4-bromo-2,5-dichlorophenyl thiophosphate',\n '2,4-dimethylpentane',\n \"2,2',3'-trichlorobiphenyl\",\n 'hydroperoxyl radical',\n '5-nonanone',\n '3-chloropropene',\n 'tetrafluoromethane',\n 'azetidine',\n 'piperidine  ',\n 'N-ethylaniline',\n 'N,N-dimethylaniline',\n '1-methylthymine',\n '2,5-dimethylpyridine',\n '3,4-dimethylpyridine',\n 'ethylurea',\n 'methylurea',\n 'imidazole',\n 'N-methylformamide',\n '1,1-difluoroethane',\n 'ethyl formate',\n 'methylhydrazine',\n '4-aminopyridine',\n 'dimethyl (RS)-2,2,2-trichloro-1-hydroxyethylphosphonate (trichlorfon)',\n '3-(4-methoxy-6-methyl-1,3,5-triazin-2-ylcarbamoylsulfamoyl)thiophene-2-carboxylic acid (thifensulfuron)',\n 'm-bis(trifluoromethyl) benzene',\n '2,3-dihydro-2,2-dimethyl-7-benzofuranyl methylcarbamate (carbofuran)',\n '1-naphthyl methylcarbamate (carbaryl)',\n '4-formylphenol',\n '3a,4,7,7a-tetrahydro-2-[(trichloromethyl)thio]- 1H-isoindole-1,3(2H)-dione (captan)',\n 'bis(2-chloroethyl) ether',\n 'ethylene glycol mononitrate',\n '1,4,5,8-tetraminoanthraquinone',\n '1-amino-4-anilinoanthraquinone',\n 'N,N-dimethyl-p-methoxybenzamide',\n 'N,N,4-trimethylbenzamide',\n '1,3-diacetyloxypropan-2-yl acetate (glycerol triacetate)',\n '4-methoxybenzoic acid',\n 'nitrous acid',\n '4-t-butylbenzoic acid',\n '4-t-butylphenol',\n '1-amino-anthraquinone',\n 'cyclobutanecarboxylic acid',\n 'n-butanethiol',\n '2-chloro-N-(2,6-diethylphenyl)-N-(methoxymethyl)acetamide (alachlor)',\n 'cyclopropanecarboxylic acid',\n 'methane sulfonamide',\n 'phenylacetic acid',\n 'N2-tert-butyl-N4-ethyl-6-methylthio-1,3,5-triazine-2,4-diamine (terbutryn)',\n 'dimethyl sulfone',\n '3-cyanobenzoic acid',\n 'cyanoacetophenone',\n '4-aminobenzoic acid',\n '3-aminoaniline',\n '1,1-diethoxyethane',\n '1,1-diacetoxyethane',\n '4-methyl-N,N-dimethylaniline',\n 'a,a,a-trifluoro-2,6-dinitro-N,N-dipropyl-p-toluidine (trifluralin)',\n 'isobutyl nitrate',\n '2-butyl nitrate',\n 'allylamine',\n 'O,O-dimethyl S-[(4-oxo-1,2,3-benzotriazin-3(4H)-yl)methyl] dithiophosphate (azinphos methyl)',\n 'azacycloheptane',\n 'N-butyl-N-ethyl-2,6-dinitro-4-(trifluoromethyl)aniline (benefin)',\n 'a-[(4,6-dimethoxypyrimidin-2-ylcarbamoyl)sulfamoyl]-o-toluic acid (bensulfuron)',\n 'butyl nitrate',\n '1,2-dinitroxypropane',\n 'aziridine',\n 'cyclohexanamine',\n 'S-propyl dipropyl(thiocarbamate) (vernolate)',\n 'diallylamine',\n 'di-n-propylamine',\n 'isopropylamine',\n 'nitroglycol',\n '5-Bromo-3-sec-butyl-6-methyl-uracil (bromacil)',\n 'N,N-diethylaniline',\n \"4-amino-4'-nitroazobenzene\",\n 'phenyl formate ',\n '1,2-diethoxyethane',\n '1-aminonaphthalene',\n 'succinimide',\n 'dimethoxymethane',\n '2-methoxyphenol',\n '2-t-butylphenol',\n 'diethyl propanedioate',\n '3-methoxybenzoic acid',\n 'ethylene glycol diacetate',\n '2-fluorophenol',\n 'benzeneacetamide',\n 'O,O-diethyl O-3,5,6-trichloro-2-pyridyl phosphorothioate (chlorpyrifos)',\n 'methyl 2-(4-methoxy-6-methyl-1,3,5-triazin-2-ylcarbamoylsulfamoyl)benzoate (metsulfuron methyl)',\n '4-mesyl-2,6-dinitro-N,N-dipropylaniline (nitralin)',\n 'adenine',\n 'isobutylamine',\n 'carbazole',\n 'di-n-butylamine',\n 'malononitrile',\n 'trichloro(nitro)methane (chloropicrin)',\n '2-fluorobenzoic acid',\n 'nitroxyacetone',\n '2-methyl-2-(methylthio)propanal O-(N-methylcarbamoyl)oxime (aldicarb)',\n 'diisobutylamine',\n 'benzylamine',\n 'n-butanol',\n 'methoxybenzene',\n 'nitric acid',\n 'N-methylcarbamic acid [1-(methylthio)ethylideneamino] ester (methomyl)',\n 'tri-n-butylamine',\n '3-aminopyridine',\n '1,2,4-triazole',\n '2-indanone',\n 'N1,N1-diethyl-2,6-dinitro-4-trifluoromethyl-m-phenylenediamine (dinitramine)',\n '3,6-dichloro-2-methoxybenzoic acid (dicamba)',\n '(RS)-2-sec-butyl-4,6-dinitrophenol (dinoseb)',\n '6,7,8,9,10,10-hexachloro-1,5,5a,6,9,9a-hexahydro-6,9-methano-2,4,3-benzodioxathiepine-3-oxide (endosulfan alpha)',\n '(1R,4S,4aS,5S,6S,7R,8R,8aR)-1,2,3,4,10,10-hexachloro-1,4,4a,5,6,7,8,8a-octahydro-6,7-epoxy-1,4:5,8-dimethanonaphthalene (endrin)',\n \"O,O,O',O'-tetraethyl S,S'-methylene bis(phosphorodithioate) (ethion)\",\n 'diethoxy-[(2-isopropyl-6-methyl-4-pyrimidinyl)oxy]-thioxophosphorane (diazinon)',\n '1,4,5,6,7,8,8-heptachloro-3a,4,7,7a-tetrahydro-4,7-methanoindene (heptachlor)',\n '3,5,5-trimethyl-2-cyclohexen-1-one (isophorone)',\n '1,2,3,4,5,6-hexachlorocyclohexane (lindane)',\n 'S-(RS)-2-chloro-1-phthalimidoethyl O,O-diethyl phosphorodithioate (dialifor)',\n 'benzyl methyl ketone',\n '1,2,3-triazole',\n '2-(dimethoxyphosphinothioylthio) butanedioic acid diethyl ester (malathion)',\n '3-trifluoromethylphenol',\n 'O,O-diethyl-O-4-nitro-phenylthiophosphate (parathion)',\n 'ethyl 2-(4-chloro-6-methoxypyrimidin-2-ylcarbamoylsulfamoyl)benzoate (chlorimuron ethyl)',\n 'N-(3,4-dichlorophenyl)propanamide (propanil)',\n '5-amino-4-chloro-2-phenyl-3-(2H)-pyridazinone (pyrazon)',\n \"6-chloro-N,N'-diethyl-1,3,5-triazine-2,4-diamine (simazine)\",\n 'methyl 2-(4,6-dimethylpyrimidin-2-ylcarbamoylsulfamoyl)benzoate (sulfometuron-methyl)',\n '3-t-butyl-5-chloro-6-methyluracil (terbacil)',\n 'phenylacetylene',\n 'phenylmalononitrile',\n 'pyrazole',\n 'tetrazole',\n '4-fluorobenzoic acid',\n '2-methoxyacetamide',\n '2-naphthol',\n '3-trifluoromethylbenzoic acid',\n '3-aminobenzoic acid',\n '3-chlorobenzoic acid',\n 'cyclopentadiene',\n 'S-4-chlorophenylthiomethyl O,O-diethyl phosphorodithioate (carbophenothion)',\n 'bromoacetic acid',\n '3,4,5-trichlorophenol',\n 'fluoroacetic acid',\n 'S-propyl butyl(ethyl)thiocarbamate (pebulate)',\n 'O,O-diethyl S-ethylthiomethyl phosphorodithioate (phorate)',\n 'N-cyclopropylmethyl-2,6-dinitro-N-propyl-4-trifluoromethylaniline (profluralin)',\n 'methanesulfonic acid',\n 'phosphoric acid [(E)-2-chloro-1-(2,4-dichlorophenyl)vinyl] diethyl ester (chlorfenvinphos)',\n '4-cyanophenol',\n '2,4,6-trimethylbenzoic acid',\n '3-bromoaniline',\n '3-methoxyaniline',\n 'octachloro-4,7-methanohydroindane (chlordane)',\n '4-phenylpyridine',\n '4-cyanopyridine',\n '1-naphthaleneamine',\n '1-methylpiperidine',\n 'N2,N4-diisopropyl-6-methylthio-1,3,5-triazine-2,4-diamine (prometryn)',\n '2-(ethylamino)-4-isopropylamino-6-methyl-thio-s-triazine (ametryn)',\n 'chlorofluoromethane',\n '4-chlorophenol',\n '2-pyrrolidinone',\n 'n-butylurea',\n 'tetramethylurea',\n 'phenylacetamide',\n '3-methylacetanilide',\n '4-methylacetanilide',\n 'Z-N-methylacetamide',\n 'E-N-methylacetamide',\n '2-cyanopyrrole',\n '1,2-ethanediamine',\n '3,aminoaniline',\n '1,1-dimethylhydrazine',\n '2-ethylpyrazine ',\n 'N-phenylpyrrole',\n 'N-methylpyrrole',\n '2,5-dimethylpyrrole',\n 'aniline ',\n \"N,N'-dimethylpiperazine\",\n '3-methylphenylurea',\n 'N-vinyl-2-pyrrolidinone',\n 'benzylalcohol',\n 'N-benzyl-2-pyrrolidinone',\n 'hexafluoroethane',\n '1-fluorooctane',\n '1-fluorohexane',\n 'fluoroethane',\n 'fluoromethane',\n '5-cyanouracil',\n 'p-cyanoacetanilide',\n '4-(hydroxymethyl)pyridine',\n '4-(2-hydroxyethyl)pyridine',\n '4-nitropyridine',\n 'N-methylmorpholine',\n '3-ethyl-2-methoxypyrazine',\n '2-methoxyethanamine',\n '1-ethyl-5-methyluracil',\n '1-methyluracil',\n 'N-ethylcaprolactam',\n '2-piperidinone',\n 'N-methylpiperazine',\n 'butenyne',\n 'perfluorobenzene',\n 'tetralin',\n 'mesitylene',\n 'tbutylbenzene',\n 'butylbenzene',\n 'isopropylbenzene',\n 'chrysene',\n 'm-xylene ',\n 'o-xylene ',\n 'toluene ',\n 'cyclopentene',\n 'cis-1,2-dimethylcyclohexane',\n 'n-hexadecane',\n 'n-undecane',\n 'n-pentadecane',\n 'n-dodecane',\n 'n-decane',\n 'n-nonane',\n 'water dimer',\n 'trimethylbenzene',\n 'isopropanol ',\n 'ethyl peroxide',\n 'isobutanol',\n 'methyl peroxide',\n 'a-hydroxy-b,b-dimethylbutyrolactone',\n 'g-decalactone',\n 'methyl octanoate',\n 'ethyloctadecanoate',\n 'cyclohexanone',\n '4-methyl-2-pentanone',\n 'dibutylether',\n 'anisole ',\n 't-butyl methyl ether',\n 't-butyl methyl ether ',\n '1,2-dimethoxyethane ',\n 'methyl isopropyl ether',\n 'methyl isopropyl ether ',\n 'diethyl ether ',\n '1-nonanol',\n 'secbutanol',\n 'octafluoropropane',\n 'chloromethane',\n '2-nitrophenol',\n 'dimethylpropylsilane',\n 'dimethylphenylphosphine',\n 'dimethyl methylphosphonate',\n 'phosphine',\n 'dimethylsulfoxide',\n '2,6-dichlorothiobenzamide',\n 'bis(2-chloroethyl)sulfide',\n 'N-(tetrahydro-2-oxo-3-thienyl)acetamide',\n '3-methylthiophenylurea',\n '1,2-benzodithiole-3-thione',\n '5-phenyl-1,2-dithiol-3-thione',\n '4-methyl-5-phenyl-1,2-dithiol-3-thione',\n '5-methyl-4-phenyl-1,2-dithiol-3-thione',\n '4-phenyl-1,2-dithiol-3-thione',\n '4,5-dimethyl-1,2-dithiol-3-thione',\n '4-methyl-1,2-dithiol-3-thione',\n '5-methyl-1,2-dithiol-3-thione',\n '1,2-dithiol-3-thione',\n 'dimethyl 5-(4-chloro)bicyclo[3.2.0]heptyl phosphate',\n 'propyltrimethylsilane',\n '5-phenyl-1,2-dithiol-3-one',\n 'butyldimethylsilane',\n 'pyruvic acid',\n 'formic acid',\n '4-methylphenol',\n '4-hydroxyphenol',\n '3-methylphenol',\n '3-hydroxyphenol',\n '2-methylphenol',\n 'diphenyldiethoxysilane',\n 'triethoxyphenylsilane',\n '4-trimethylsilylphenol',\n 'decamethyltetrasiloxane',\n 'octamethyltrisiloxane',\n 'hexamethyldisiloxane',\n 'benzyltrimethylsilane',\n 'phenyltrimethylsilane',\n 'dimethylphenylsilane',\n 'butyltrimethylsilane',\n '1,2-benzodithiol-3-one',\n '5-methyl-4-phenyl-1,2-dithiol-3-one',\n '1,1,1,2-tetrachloroethane',\n '4-bromopyridine',\n '2,6-difluoro acetanilide',\n '3-fluoroacetanilide',\n '4-fluoroacetanilide',\n '4-bromoacetanilide',\n '1-chloro-2,2,2-trifluoroethyl difluoromethyl ether',\n 'chloropentaflouroethane',\n '1-chloro-2,2,2-trifluoroethane',\n '1-bromo-2-chloroethane',\n 'o-chlorotoluene',\n 'chlorotoluene',\n 'chloroethene',\n 'carbontet',\n 'dichloroethane',\n '2-chloropentane',\n '1-chloropentane',\n '2-chlorobutane',\n 'hexachloroethane',\n '3-trifluoromethyl acetanilide',\n 'fluoroacetamide',\n '4-phenyl-1,2-dithiol-3-one',\n 'bromoacetamide',\n '4,5-dimethyl-1,2-dithiol-3-one',\n '5-methyl-1,2-dithiol-3-one',\n '4-methyl-1,2-dithiol-3-one',\n '1,2-dithiol-3-one',\n 'carbondisulfide',\n '5-chlorouracil',\n '5-trifluoromethyluracil',\n '3-trifluoromethylphenylurea',\n '1,1-dimethyl-3-(3-fluoro-phenyl)urea',\n '1,1-dimethyl-3-(4-fluoro-phenyl)urea',\n '1,1-dimethyl-3-(4-bromo-phenyl)urea',\n '4-bromophenylurea',\n '3-bromophenylurea',\n '4-chlorophenylurea',\n '3-chlorophenylyrea',\n '4-fluorophenylurea',\n '3-fluorophenylurea',\n '(2-dimethylamino-5,6-dimethyl-pyrimidin-4-yl) N,N-dimethylcarbamate (pirimor, pirimicarb)')"
     },
     "execution_count": 51,
     "metadata": {},
     "output_type": "execute_result"
    }
   ],
   "source": [
    "Solutes = zip(*df1['SoluteName'].value_counts().items())\n",
    "Solutes = list(Solutes)[0]\n",
    "Solutes"
   ],
   "metadata": {
    "collapsed": false,
    "pycharm": {
     "name": "#%%\n"
    }
   }
  },
  {
   "cell_type": "code",
   "execution_count": 52,
   "outputs": [
    {
     "name": "stdout",
     "output_type": "stream",
     "text": [
      "octanol\n",
      "hexadecane\n",
      "chloroform\n",
      "octanol-water\n",
      "diethylether\n",
      "heptane\n",
      "hexane\n",
      "xylene\n",
      "decane\n",
      "octane\n",
      "isooctane\n",
      "pentane\n",
      "nonane\n",
      "decalin\n",
      "pentanol\n",
      "butylacetate\n",
      "diisopropylether\n",
      "ethylacetate\n",
      "butanol\n",
      "iodobenzene\n",
      "tributylphosphate\n",
      "hexanol\n",
      "butanone\n",
      "undecane\n",
      "4methyl2pentanone\n",
      "heptanol\n",
      "bromoform\n",
      "diethylether-water\n",
      "decanol\n",
      "odichlorobenzene\n",
      "methylenechloride\n",
      "chlorohexane\n",
      "chloroform-water\n",
      "nonanol\n",
      "dibromoethane\n",
      "hexadecyliodide\n",
      "pentadecane\n",
      "dodecane\n",
      "heptane-water\n",
      "tetrahydrothiophenedioxide\n",
      "mcresol\n",
      "ethoxybenzene\n",
      "propanol\n",
      "dimethylacetamide\n",
      "aceticacid\n",
      "methylformamide\n",
      "dimethylformamide\n",
      "methoxyethanol\n",
      "phenylether\n",
      "fluoroctane\n",
      "dimethylpyridine\n",
      "onitrotoluene\n",
      "isopropyltoluene\n",
      "2methylpyridine\n",
      "cyclohexane-water\n",
      "bromooctane\n",
      "secbutylbenzene\n",
      "ethylacetate-water\n",
      "benzene-water\n",
      "dichloroethane-water\n",
      "carbontet-water\n",
      "hexane-water\n",
      "butanol-water\n",
      "dibutylether-water\n",
      "chlorobenzene-water\n",
      "dibromoethane-water\n",
      "nitrobenzene-water\n"
     ]
    }
   ],
   "source": [
    "for Solvent in Solvents:\n",
    "    if Solvent not in Solutes:\n",
    "        print(Solvent)\n"
   ],
   "metadata": {
    "collapsed": false,
    "pycharm": {
     "name": "#%%\n"
    }
   }
  }
 ],
 "metadata": {
  "kernelspec": {
   "display_name": "Python 3",
   "language": "python",
   "name": "python3"
  },
  "language_info": {
   "codemirror_mode": {
    "name": "ipython",
    "version": 2
   },
   "file_extension": ".py",
   "mimetype": "text/x-python",
   "name": "python",
   "nbconvert_exporter": "python",
   "pygments_lexer": "ipython2",
   "version": "2.7.6"
  },
  "pycharm": {
   "stem_cell": {
    "cell_type": "raw",
    "source": [
     "#IMPORT\n"
    ],
    "metadata": {
     "collapsed": false
    }
   }
  }
 },
 "nbformat": 4,
 "nbformat_minor": 0
}