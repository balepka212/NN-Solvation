{
 "cells": [
  {
   "cell_type": "code",
   "execution_count": 14,
   "metadata": {
    "collapsed": true
   },
   "outputs": [],
   "source": [
    "import random\n",
    "\n",
    "runs_folder = 'Macro_Class_KRR5'\n",
    "# lr = 1e-5\n",
    "solvent_vectorizer = 'solvent_macro_props1'\n",
    "solute_vectorizer = 'classification'\n",
    "norm_bools = (True, True, True)\n",
    "kernels =  ('linear', 'polynomial_2', 'polynomial_3', 'rbf',  'laplacian')\n",
    "\n",
    "# epochs = 20\n",
    "\n",
    "comments = f\"\"\"solute: {solvent_vectorizer}\n",
    "                solute: {solute_vectorizer}\n",
    "                norm: {norm_bools}\n",
    "            \"\"\""
   ]
  },
  {
   "cell_type": "code",
   "execution_count": 15,
   "outputs": [],
   "source": [
    "import numpy as np\n",
    "import pandas as pd\n",
    "import sklearn.metrics\n",
    "import sklearn.metrics as met\n",
    "from torch.utils.data import DataLoader\n",
    "from Solvation_1.my_nets.Create_dataset import *\n",
    "from Solvation_1.Vectorizers.vectorizers import *\n",
    "from Solvation_1.my_nets.LinearNet import *\n",
    "from Solvation_1.my_nets.ResNET import  *\n",
    "from Solvation_1.my_nets.net_func import *\n",
    "import pickle\n",
    "from sklearn.kernel_ridge import KernelRidge\n",
    "from sklearn.metrics import make_scorer\n",
    "import matplotlib.pyplot as plt\n",
    "import prettytable as pt\n",
    "from sklearn.model_selection import GridSearchCV"
   ],
   "metadata": {
    "collapsed": false,
    "pycharm": {
     "name": "#%%\n"
    }
   }
  },
  {
   "cell_type": "code",
   "execution_count": 16,
   "outputs": [],
   "source": [
    "for folder in ('Solvation_1/Runs/', 'Solvation_1/Run_results/'):\n",
    "    try:\n",
    "        os.makedirs(project_path(folder+runs_folder))\n",
    "    except OSError as e:\n",
    "        if e.errno != errno.EEXIST:\n",
    "            raise\n",
    "\n",
    "    with open(project_path(folder+runs_folder+'/comments.txt'), 'w') as f:\n",
    "        f.write(comments)"
   ],
   "metadata": {
    "collapsed": false,
    "pycharm": {
     "name": "#%%\n"
    }
   }
  },
  {
   "cell_type": "code",
   "execution_count": 17,
   "outputs": [
    {
     "name": "stdout",
     "output_type": "stream",
     "text": [
      "length check-> Solvent: 2529, Solute: 2529, G_solv: 2529\n",
      "\n",
      "Solvent\n",
      " std: tensor([ 0.0656,  0.2982,  0.2228, 24.6910, 28.1419,  0.3204,  0.2254]) \n",
      " mean: tensor([ 1.4262,  0.1996,  0.2314, 48.5389, 17.9622,  0.1575,  0.0863])\n",
      "Solute\n",
      " std: tensor([0.1118, 0.0344, 0.0628, 0.0864, 0.4906, 0.3262, 0.1882, 0.0687, 0.0841,\n",
      "        0.1028, 0.0742, 0.2303, 0.3639, 0.3158, 0.2066, 0.1968, 0.2964, 0.1217,\n",
      "        0.2748, 0.2168, 0.3017, 0.0444, 0.0886, 0.1433, 0.3441, 0.2498, 0.1618,\n",
      "        0.1675, 0.1547, 0.0658, 0.0970, 0.0562, 0.0444, 0.2591, 0.1433, 0.1118,\n",
      "        0.0596, 0.1921, 0.1322, 0.0990, 0.0687, 0.0715, 0.1995, 0.1263, 0.0949,\n",
      "        0.1263, 0.1433, 0.1083, 0.0344, 0.0886, 0.1009, 0.1863, 0.1379, 0.0344,\n",
      "        0.1232, 0.1547, 0.0742, 0.0841, 0.0487, 0.0444, 0.0687, 0.0397, 0.0344,\n",
      "        0.1547, 0.1047, 0.0817, 0.0487, 0.0658, 0.0344, 0.0344, 1.0000, 1.0000,\n",
      "        1.0000, 1.0000, 1.0000, 1.0000, 1.0000, 1.0000, 1.0000, 1.0000, 1.0000,\n",
      "        1.0000, 0.1083]) \n",
      " mean: tensor([0.0127, 0.0012, 0.0040, 0.0075, 0.5971, 0.1210, 0.0368, 0.0047, 0.0071,\n",
      "        0.0107, 0.0055, 0.0561, 0.1570, 0.1123, 0.0447, 0.0403, 0.0973, 0.0150,\n",
      "        0.0822, 0.0494, 0.1012, 0.0020, 0.0079, 0.0210, 0.1372, 0.0668, 0.0269,\n",
      "        0.0289, 0.0245, 0.0043, 0.0095, 0.0032, 0.0020, 0.0724, 0.0210, 0.0127,\n",
      "        0.0036, 0.0384, 0.0178, 0.0099, 0.0047, 0.0051, 0.0415, 0.0162, 0.0091,\n",
      "        0.0162, 0.0210, 0.0119, 0.0012, 0.0079, 0.0103, 0.0360, 0.0194, 0.0012,\n",
      "        0.0154, 0.0245, 0.0055, 0.0071, 0.0024, 0.0020, 0.0047, 0.0016, 0.0012,\n",
      "        0.0245, 0.0111, 0.0067, 0.0024, 0.0043, 0.0012, 0.0012, 0.0000, 0.0000,\n",
      "        0.0000, 0.0000, 0.0000, 0.0000, 0.0000, 0.0000, 0.0000, 0.0000, 0.0000,\n",
      "        0.0000, 0.0119])\n",
      "G_solv\n",
      " std: tensor([2.8032], dtype=torch.float64) \n",
      " mean: tensor([-5.1549], dtype=torch.float64)\n",
      "\n",
      "train length: 1701\n",
      "val length: 188\n",
      "solute test length: 587\n",
      "solvent test length: 52\n"
     ]
    }
   ],
   "source": [
    "table_v1 = pd.read_table(project_path('Solvation_1/Tables/SS_table_v3.tsv'))\n",
    "dataset = SS_Dataset(table_v1, solvent_vectorizer, solute_vectorizer, normalize=norm_bools)\n",
    "len_data = dataset.__len__()\n",
    "val_data = len_data // 10\n",
    "train_dataset, val_dataset = dataset.train_val_split(0.9)\n",
    "\n",
    "solvent_table = pd.read_table(project_path('Solvation_1/Tables/solvent_test_table_v3.tsv'))\n",
    "solute_table = pd.read_table(project_path('Solvation_1/Tables/solute_test_table_v3.tsv'))\n",
    "solvent_test_dataset = SS_Dataset(solvent_table, solvent_vectorizer, solute_vectorizer,\n",
    "                                  normalize=norm_bools, show_norm_params=False)\n",
    "solute_test_dataset = SS_Dataset(solute_table, solvent_vectorizer, solute_vectorizer,\n",
    "                                 normalize=norm_bools, show_norm_params=False)\n",
    "\n",
    "train_loader = DataLoader(train_dataset, batch_size=64, shuffle=True)\n",
    "\n",
    "val_loader = DataLoader(val_dataset, batch_size=16, shuffle=False)\n",
    "\n",
    "solvent_test_loader = DataLoader(solvent_test_dataset, batch_size=46, shuffle=False)\n",
    "solute_test_loader = DataLoader(solute_test_dataset, batch_size=64, shuffle=False)\n",
    "\n",
    "print(f'train length: {len(train_loader.dataset)}')\n",
    "print(f'val length: {len(val_loader.dataset)}')\n",
    "print(f'solute test length: {len(solute_test_loader.dataset)}')\n",
    "print(f'solvent test length: {len(solvent_test_loader.dataset)}')"
   ],
   "metadata": {
    "collapsed": false,
    "pycharm": {
     "name": "#%%\n"
    }
   }
  },
  {
   "cell_type": "code",
   "execution_count": 54,
   "outputs": [],
   "source": [
    "def find_parameters(arg):\n",
    "    assert arg in ('grid', 'seq'), 'wrong arg'\n",
    "    if arg == 'grid':\n",
    "        return find_parameters_grid\n",
    "    elif arg == 'seq':\n",
    "        return find_parameters_seq\n",
    "\n",
    "\n",
    "def find_parameters_grid(train_dataset, parameters, reg_kwargs, lsn, repeat=1, best_params=None):\n",
    "    param_grid = parameters.copy()\n",
    "    # print(f'pg0: {param_grid}')\n",
    "    if repeat == 0:\n",
    "        for p, v in param_grid.items():\n",
    "            # print(f'v - {v}, lsn - {lsn}, all - {v*(10**(lsn//2))}')\n",
    "            param_grid[p] = np.geomspace(v*(10**(-lsn//2)), v*(10**(lsn//2)), lsn)\n",
    "    else:\n",
    "        for p, v in param_grid.items():\n",
    "            print(f'where: {np.where(v == best_params[p])}')\n",
    "            ind = np.where(v == best_params[p])[0].item()\n",
    "            param_grid[p] = np.geomspace(v[ind-1],v[ind+1], lsn)\n",
    "\n",
    "    found_best = {key: False for key in param_grid}\n",
    "    # print(f'pg1: {param_grid}')\n",
    "    while False in found_best.values():\n",
    "        krr = KernelRidge(**reg_kwargs)\n",
    "        # print(f'pg: {param_grid}')\n",
    "        krr_gs = GridSearchCV(krr, param_grid, scoring='neg_mean_squared_error')\n",
    "        krr_gs.fit(train_dataset.X, train_dataset.y)\n",
    "        for key in parameters:\n",
    "            best = krr_gs.best_estimator_.__getattribute__(key)\n",
    "\n",
    "            if best == min(param_grid[key]):\n",
    "                end = param_grid[key][1]\n",
    "                start = (param_grid[key][0]/param_grid[key][-1])*end\n",
    "                param_grid[key] = np.geomspace(start, end, lsn)\n",
    "                print(f'{key} -> min: {best:.2e} in {[f\"{v:.2e}\" for v in param_grid[key]]}')\n",
    "                found_best[key] = False\n",
    "\n",
    "            elif best == max(param_grid[key]):\n",
    "                start = param_grid[key][-2]\n",
    "                end = (param_grid[key][-1]/param_grid[key][0])*start\n",
    "                param_grid[key] = np.geomspace(start, end, lsn)\n",
    "                print(f'{key} -> max: {best:.2e} in {[f\"{v:.2e}\" for v in param_grid[key]]}')\n",
    "                found_best[key] = False\n",
    "\n",
    "            else:\n",
    "                found_best[key] = True\n",
    "                best_params[key] = best\n",
    "                print(f'{key} -> best: {best_params[key]:.2e} in {[f\"{v:.2e}\" for v in param_grid[key]]}')\n",
    "\n",
    "    return best_params, param_grid\n",
    "\n",
    "\n",
    "def find_parameters_seq(train_dataset, parameters, reg_kwargs, lsn, repeat=1):\n",
    "    best_params = {}\n",
    "    # print(f'p0: {parameters}')\n",
    "    for key, value in parameters.items():\n",
    "        # print(f'PARAM {key}')\n",
    "        param_grid = parameters.copy()\n",
    "        # print(f'pg1: {param_grid}')\n",
    "        for p, v in param_grid.items():\n",
    "            if p in best_params:\n",
    "                v = best_params[p]\n",
    "            param_grid[p] = [v,]\n",
    "        if repeat == 0:\n",
    "            param_grid[key] = np.linspace(value*0.3, value*3.3, lsn)\n",
    "        else:\n",
    "            param_grid[key] = np.linspace(value*(1-1/lsn), value*(1+1/lsn), lsn)\n",
    "\n",
    "        found_best = False\n",
    "        while not found_best:\n",
    "            krr = KernelRidge(**reg_kwargs)\n",
    "            print(f'pg: {param_grid}')\n",
    "            krr_gs = GridSearchCV(krr, param_grid, scoring='neg_mean_squared_error')\n",
    "            krr_gs.fit(train_dataset.X, train_dataset.y)\n",
    "            best = krr_gs.best_estimator_.__getattribute__(key)\n",
    "\n",
    "            if best == min(param_grid[key]):\n",
    "                param_grid[key] = np.append(np.linspace(best/10, best, lsn), best*1.1)\n",
    "                print(f'{key} -> min: {best} in {[f\"{v:.2e}\" for v in param_grid[key]]}')\n",
    "            elif best == max(param_grid[key]):\n",
    "                param_grid[key] = np.append(best*0.9, np.linspace(best, best*10, lsn))\n",
    "                print(f'{key} -> max: {best} in {[f\"{v:.2e}\" for v in param_grid[key]]}')\n",
    "            else:\n",
    "                found_best = True\n",
    "                best_params[key] = best\n",
    "                ind = param_grid[key].tolist().index(best)\n",
    "                param_grid[key] = np.linspace(param_grid[key][ind-1], param_grid[key][ind+1], lsn)\n",
    "                print(f'{key} -> best: {best_params[key]:.2e} in {[f\"{v:.2e}\" for v in param_grid[key]]}')\n",
    "\n",
    "    return best_params, param_grid\n",
    "\n",
    "\n",
    "def parameter_search(fp_arg, train_dataset, kernel='linear', lsn=11, repeats=3):\n",
    "    kernel_map = {'linear':{'parameters':{'alpha': 1,},\n",
    "                            'reg_kwargs':{'kernel': 'linear'}},\n",
    "                  'polynomial_2':{'parameters':{'alpha': 1, 'gamma':0.1},\n",
    "                                  'reg_kwargs':{'degree': 2, 'kernel': 'polynomial'}},\n",
    "                  'polynomial_3':{'parameters':{'alpha': 1, 'gamma':0.1},\n",
    "                                  'reg_kwargs':{'degree': 3, 'kernel': 'polynomial'}},\n",
    "                  'rbf':{'parameters':{'alpha': 1, 'gamma':0.1},\n",
    "                         'reg_kwargs':{'kernel': 'rbf'}},\n",
    "                  'laplacian':{'parameters':{'alpha': 1, 'gamma':0.1},\n",
    "                               'reg_kwargs':{'kernel': 'laplacian'}}}\n",
    "    parameters = kernel_map[kernel]['parameters']\n",
    "    reg_kwargs = kernel_map[kernel]['reg_kwargs']\n",
    "\n",
    "    best_params = {}\n",
    "    for repeat in range(repeats):\n",
    "        best_params, parameters = find_parameters(fp_arg)(train_dataset, parameters, reg_kwargs, lsn, repeat=repeat, best_params=best_params)\n",
    "        print(f'------ repeat {repeat} ------')\n",
    "        for key, value in best_params.items():\n",
    "            print(f'{key}: {value:.2e}')\n",
    "\n",
    "    # final grid check\n",
    "    print('FINAL CHECK')\n",
    "    krr = KernelRidge(**reg_kwargs)\n",
    "    param_grid = {}\n",
    "    for key, value in best_params.items():\n",
    "        param_grid[key] = [0.8*value, 0.9*value, value, 1.1*value, 1.2*value]\n",
    "    krr_gs = GridSearchCV(krr, param_grid, scoring='neg_mean_squared_error')\n",
    "    krr_gs.fit(train_dataset.X, train_dataset.y)\n",
    "    model = krr_gs.best_estimator_\n",
    "    for key, value in param_grid.items():\n",
    "        print(f'{key} - {krr_gs.best_estimator_.__getattribute__(key):.2e} in {[f\"{v:.2e}\" for v in value]}')\n",
    "\n",
    "    return model"
   ],
   "metadata": {
    "collapsed": false,
    "pycharm": {
     "name": "#%%\n"
    }
   }
  },
  {
   "cell_type": "code",
   "execution_count": 23,
   "outputs": [],
   "source": [
    "def get_curve(train_dataset, my_model):\n",
    "    my_dataset = (train_dataset.X.copy(), train_dataset.y.copy())\n",
    "\n",
    "    def get_part(part, dataset):\n",
    "        zipped_dataset = list(zip(*dataset))\n",
    "        random.shuffle(zipped_dataset)\n",
    "        slice = int(len(dataset[0])*part)\n",
    "        short_dataset = zipped_dataset[:slice]\n",
    "        unzipped_dataset = list(zip(*short_dataset))\n",
    "        return unzipped_dataset\n",
    "\n",
    "    data = {'part':  np.linspace(0, 1, 20)[1:],\n",
    "            'train':[], 'val':[], 'solvent':[], 'solute':[]}\n",
    "    for part in data['part']:\n",
    "        model = sklearn.base.clone(my_model, safe=True)\n",
    "        X, y = get_part(part, my_dataset)\n",
    "        model.fit(X, y)\n",
    "        data['train'].append(met.mean_squared_error(y, model.predict(X)))\n",
    "        for name, dataset in {'val':val_dataset, 'solvent': solvent_test_dataset, 'solute': solute_test_dataset}.items():\n",
    "            data[name].append(met.mean_squared_error(dataset.y, model.predict(dataset.X)))\n",
    "\n",
    "    return data\n",
    "\n"
   ],
   "metadata": {
    "collapsed": false,
    "pycharm": {
     "name": "#%%\n"
    }
   }
  },
  {
   "cell_type": "code",
   "execution_count": 24,
   "outputs": [
    {
     "name": "stdout",
     "output_type": "stream",
     "text": [
      "alpha -> best: 5.623413251903491 in [1.00000000e-03 1.77827941e-02 3.16227766e-01 5.62341325e+00\n",
      " 1.00000000e+02]\n",
      "------ repeat 0 ------\n",
      "alpha: 5.623413251903491\n",
      "where: (array([3]),)\n",
      "alpha -> best: 23.71373705661655 in [  0.31622777   1.33352143   5.62341325  23.71373706 100.        ]\n",
      "------ repeat 1 ------\n",
      "alpha: 23.71373705661655\n",
      "where: (array([3]),)\n",
      "alpha -> best: 23.71373705661655 in [  5.62341325  11.54781985  23.71373706  48.69675252 100.        ]\n",
      "------ repeat 2 ------\n",
      "alpha: 23.71373705661655\n",
      "where: (array([2]),)\n",
      "alpha -> best: 23.71373705661655 in [11.54781985 16.548171   23.71373706 33.98208329 48.69675252]\n",
      "------ repeat 3 ------\n",
      "alpha: 23.71373705661655\n",
      "where: (array([2]),)\n",
      "alpha -> best: 28.387359647587548 in [16.548171   19.80956779 23.71373706 28.38735965 33.98208329]\n",
      "------ repeat 4 ------\n",
      "alpha: 28.387359647587548\n",
      "FINAL CHECK\n",
      "alpha - 28.387359647587548 in [22.70988771807004, 25.548623682828794, 28.387359647587548, 31.226095612346306, 34.06483157710505]\n",
      "alpha -> min: 0.001 in [1.77827941e-07 3.16227766e-06 5.62341325e-05 1.00000000e-03\n",
      " 1.77827941e-02]\n",
      "gamma -> best: 0.0017782794100389228 in [1.00000000e-04 1.77827941e-03 3.16227766e-02 5.62341325e-01\n",
      " 1.00000000e+01]\n",
      "alpha -> best: 3.162277660168379e-06 in [1.77827941e-07 3.16227766e-06 5.62341325e-05 1.00000000e-03\n",
      " 1.77827941e-02]\n",
      "gamma -> min: 0.0001 in [1.77827941e-08 3.16227766e-07 5.62341325e-06 1.00000000e-04\n",
      " 1.77827941e-03]\n",
      "alpha -> best: 3.162277660168379e-06 in [1.77827941e-07 3.16227766e-06 5.62341325e-05 1.00000000e-03\n",
      " 1.77827941e-02]\n",
      "gamma -> best: 0.0001 in [1.77827941e-08 3.16227766e-07 5.62341325e-06 1.00000000e-04\n",
      " 1.77827941e-03]\n",
      "------ repeat 0 ------\n",
      "gamma: 0.0001\n",
      "alpha: 3.162277660168379e-06\n",
      "where: (array([1]),)\n",
      "where: (array([3]),)\n",
      "alpha -> best: 1.333521432163324e-05 in [1.77827941e-07 7.49894209e-07 3.16227766e-06 1.33352143e-05\n",
      " 5.62341325e-05]\n",
      "gamma -> best: 0.0001 in [5.62341325e-06 2.37137371e-05 1.00000000e-04 4.21696503e-04\n",
      " 1.77827941e-03]\n",
      "------ repeat 1 ------\n",
      "gamma: 0.0001\n",
      "alpha: 1.333521432163324e-05\n",
      "where: (array([3]),)\n",
      "where: (array([2]),)\n",
      "alpha -> best: 2.7384196342643615e-05 in [3.16227766e-06 6.49381632e-06 1.33352143e-05 2.73841963e-05\n",
      " 5.62341325e-05]\n",
      "gamma -> best: 0.0002053525026457146 in [2.37137371e-05 4.86967525e-05 1.00000000e-04 2.05352503e-04\n",
      " 4.21696503e-04]\n",
      "------ repeat 2 ------\n",
      "gamma: 0.0002053525026457146\n",
      "alpha: 2.7384196342643615e-05\n",
      "where: (array([3]),)\n",
      "where: (array([3]),)\n",
      "alpha -> best: 3.924189758484536e-05 in [1.33352143e-05 1.91095297e-05 2.73841963e-05 3.92418976e-05\n",
      " 5.62341325e-05]\n",
      "gamma -> best: 0.0002053525026457146 in [0.0001     0.0001433  0.00020535 0.00029427 0.0004217 ]\n",
      "------ repeat 3 ------\n",
      "gamma: 0.0002053525026457146\n",
      "alpha: 3.924189758484536e-05\n",
      "where: (array([3]),)\n",
      "where: (array([2]),)\n",
      "alpha -> max: 5.623413251903491e-05 in [4.69758882e-05 5.62341325e-05 6.73170382e-05 8.05842188e-05\n",
      " 9.64661620e-05]\n",
      "gamma -> best: 0.00024582440689201976 in [0.0001433  0.00017154 0.00020535 0.00024582 0.00029427]\n",
      "alpha -> best: 8.058421877614818e-05 in [4.69758882e-05 5.62341325e-05 6.73170382e-05 8.05842188e-05\n",
      " 9.64661620e-05]\n",
      "gamma -> max: 0.00029427271762092817 in [0.00024582 0.00029427 0.00035227 0.0004217  0.00050481]\n",
      "alpha -> best: 8.058421877614818e-05 in [4.69758882e-05 5.62341325e-05 6.73170382e-05 8.05842188e-05\n",
      " 9.64661620e-05]\n",
      "gamma -> best: 0.00029427271762092817 in [0.00024582 0.00029427 0.00035227 0.0004217  0.00050481]\n",
      "------ repeat 4 ------\n",
      "gamma: 0.00029427271762092817\n",
      "alpha: 8.058421877614818e-05\n",
      "FINAL CHECK\n",
      "gamma - 0.00032369998938302103 in [0.00023541817409674254, 0.00026484544585883536, 0.00029427271762092817, 0.00032369998938302103, 0.0003531272611451138]\n",
      "alpha - 9.670106253137782e-05 in [6.446737502091855e-05, 7.252579689853337e-05, 8.058421877614818e-05, 8.864264065376301e-05, 9.670106253137782e-05]\n",
      "alpha -> best: 0.01778279410038923 in [1.00000000e-03 1.77827941e-02 3.16227766e-01 5.62341325e+00\n",
      " 1.00000000e+02]\n",
      "gamma -> best: 0.0017782794100389228 in [1.00000000e-04 1.77827941e-03 3.16227766e-02 5.62341325e-01\n",
      " 1.00000000e+01]\n",
      "------ repeat 0 ------\n",
      "alpha: 0.01778279410038923\n",
      "gamma: 0.0017782794100389228\n",
      "where: (array([1]),)\n",
      "where: (array([1]),)\n",
      "alpha -> min: 0.001 in [1.33352143e-05 5.62341325e-05 2.37137371e-04 1.00000000e-03\n",
      " 4.21696503e-03]\n",
      "gamma -> best: 0.00042169650342858224 in [0.0001     0.0004217  0.00177828 0.00749894 0.03162278]\n",
      "alpha -> min: 1.3335214321633242e-05 in [1.77827941e-07 7.49894209e-07 3.16227766e-06 1.33352143e-05\n",
      " 5.62341325e-05]\n",
      "gamma -> min: 0.0001 in [1.33352143e-06 5.62341325e-06 2.37137371e-05 1.00000000e-04\n",
      " 4.21696503e-04]\n",
      "alpha -> best: 7.498942093324558e-07 in [1.77827941e-07 7.49894209e-07 3.16227766e-06 1.33352143e-05\n",
      " 5.62341325e-05]\n",
      "gamma -> best: 2.3713737056616554e-05 in [1.33352143e-06 5.62341325e-06 2.37137371e-05 1.00000000e-04\n",
      " 4.21696503e-04]\n",
      "------ repeat 1 ------\n",
      "alpha: 7.498942093324558e-07\n",
      "gamma: 2.3713737056616554e-05\n",
      "where: (array([1]),)\n",
      "where: (array([2]),)\n",
      "alpha -> best: 3.651741272548377e-07 in [1.77827941e-07 3.65174127e-07 7.49894209e-07 1.53992653e-06\n",
      " 3.16227766e-06]\n",
      "gamma -> best: 1.1547819846894581e-05 in [5.62341325e-06 1.15478198e-05 2.37137371e-05 4.86967525e-05\n",
      " 1.00000000e-04]\n",
      "------ repeat 2 ------\n",
      "alpha: 3.651741272548377e-07\n",
      "gamma: 1.1547819846894581e-05\n",
      "where: (array([1]),)\n",
      "where: (array([1]),)\n",
      "alpha -> min: 1.7782794100389227e-07 in [6.04296390e-08 8.65964323e-08 1.24093776e-07 1.77827941e-07\n",
      " 2.54829675e-07]\n",
      "gamma -> best: 8.058421877614817e-06 in [5.62341325e-06 8.05842188e-06 1.15478198e-05 1.65481710e-05\n",
      " 2.37137371e-05]\n",
      "alpha -> best: 8.659643233600653e-08 in [6.04296390e-08 8.65964323e-08 1.24093776e-07 1.77827941e-07\n",
      " 2.54829675e-07]\n",
      "gamma -> min: 5.623413251903491e-06 in [1.91095297e-06 2.73841963e-06 3.92418976e-06 5.62341325e-06\n",
      " 8.05842188e-06]\n",
      "alpha -> best: 8.659643233600653e-08 in [6.04296390e-08 8.65964323e-08 1.24093776e-07 1.77827941e-07\n",
      " 2.54829675e-07]\n",
      "gamma -> best: 5.623413251903491e-06 in [1.91095297e-06 2.73841963e-06 3.92418976e-06 5.62341325e-06\n",
      " 8.05842188e-06]\n",
      "------ repeat 3 ------\n",
      "alpha: 8.659643233600653e-08\n",
      "gamma: 5.623413251903491e-06\n",
      "where: (array([1]),)\n",
      "where: (array([3]),)\n",
      "alpha -> min: 6.042963902381328e-08 in [3.52269465e-08 4.21696503e-08 5.04806572e-08 6.04296390e-08\n",
      " 7.23394163e-08]\n",
      "gamma -> best: 4.697588816706492e-06 in [3.92418976e-06 4.69758882e-06 5.62341325e-06 6.73170382e-06\n",
      " 8.05842188e-06]\n",
      "alpha -> best: 4.2169650342858225e-08 in [3.52269465e-08 4.21696503e-08 5.04806572e-08 6.04296390e-08\n",
      " 7.23394163e-08]\n",
      "gamma -> min: 3.924189758484536e-06 in [2.28757320e-06 2.73841963e-06 3.27812115e-06 3.92418976e-06\n",
      " 4.69758882e-06]\n",
      "alpha -> best: 4.2169650342858225e-08 in [3.52269465e-08 4.21696503e-08 5.04806572e-08 6.04296390e-08\n",
      " 7.23394163e-08]\n",
      "gamma -> best: 3.924189758484536e-06 in [2.28757320e-06 2.73841963e-06 3.27812115e-06 3.92418976e-06\n",
      " 4.69758882e-06]\n",
      "------ repeat 4 ------\n",
      "alpha: 4.2169650342858225e-08\n",
      "gamma: 3.924189758484536e-06\n",
      "FINAL CHECK\n",
      "alpha - 4.2169650342858225e-08 in [3.373572027428658e-08, 3.7952685308572407e-08, 4.2169650342858225e-08, 4.638661537714405e-08, 5.060358041142987e-08]\n",
      "gamma - 3.924189758484536e-06 in [3.1393518067876287e-06, 3.5317707826360823e-06, 3.924189758484536e-06, 4.31660873433299e-06, 4.709027710181443e-06]\n",
      "alpha -> best: 0.01778279410038923 in [1.00000000e-03 1.77827941e-02 3.16227766e-01 5.62341325e+00\n",
      " 1.00000000e+02]\n",
      "gamma -> best: 0.0017782794100389228 in [1.00000000e-04 1.77827941e-03 3.16227766e-02 5.62341325e-01\n",
      " 1.00000000e+01]\n",
      "------ repeat 0 ------\n",
      "alpha: 0.01778279410038923\n",
      "gamma: 0.0017782794100389228\n",
      "where: (array([1]),)\n",
      "where: (array([1]),)\n",
      "alpha -> best: 0.004216965034285823 in [0.001      0.00421697 0.01778279 0.07498942 0.31622777]\n",
      "gamma -> best: 0.0017782794100389228 in [0.0001     0.0004217  0.00177828 0.00749894 0.03162278]\n",
      "------ repeat 1 ------\n",
      "alpha: 0.004216965034285823\n",
      "gamma: 0.0017782794100389228\n",
      "where: (array([1]),)\n",
      "where: (array([2]),)\n",
      "alpha -> min: 0.001 in [0.00011548 0.00023714 0.00048697 0.001      0.00205353]\n",
      "gamma -> best: 0.0008659643233600654 in [0.0004217  0.00086596 0.00177828 0.00365174 0.00749894]\n",
      "alpha -> best: 0.00023713737056616554 in [0.00011548 0.00023714 0.00048697 0.001      0.00205353]\n",
      "gamma -> min: 0.00042169650342858224 in [4.86967525e-05 1.00000000e-04 2.05352503e-04 4.21696503e-04\n",
      " 8.65964323e-04]\n",
      "alpha -> best: 0.00023713737056616554 in [0.00011548 0.00023714 0.00048697 0.001      0.00205353]\n",
      "gamma -> best: 0.00042169650342858224 in [4.86967525e-05 1.00000000e-04 2.05352503e-04 4.21696503e-04\n",
      " 8.65964323e-04]\n",
      "------ repeat 2 ------\n",
      "alpha: 0.00023713737056616554\n",
      "gamma: 0.00042169650342858224\n",
      "where: (array([1]),)\n",
      "where: (array([3]),)\n",
      "alpha -> best: 0.00016548170999431815 in [0.00011548 0.00016548 0.00023714 0.00033982 0.00048697]\n",
      "gamma -> best: 0.00029427271762092817 in [0.00020535 0.00029427 0.0004217  0.0006043  0.00086596]\n",
      "------ repeat 3 ------\n",
      "alpha: 0.00016548170999431815\n",
      "gamma: 0.00029427271762092817\n",
      "where: (array([1]),)\n",
      "where: (array([1]),)\n",
      "alpha -> min: 0.00011547819846894581 in [6.73170382e-05 8.05842188e-05 9.64661620e-05 1.15478198e-04\n",
      " 1.38237223e-04]\n",
      "gamma -> best: 0.00024582440689201976 in [0.00020535 0.00024582 0.00029427 0.00035227 0.0004217 ]\n",
      "alpha -> best: 8.058421877614818e-05 in [6.73170382e-05 8.05842188e-05 9.64661620e-05 1.15478198e-04\n",
      " 1.38237223e-04]\n",
      "gamma -> min: 0.0002053525026457146 in [0.00011971 0.0001433  0.00017154 0.00020535 0.00024582]\n",
      "alpha -> best: 8.058421877614818e-05 in [6.73170382e-05 8.05842188e-05 9.64661620e-05 1.15478198e-04\n",
      " 1.38237223e-04]\n",
      "gamma -> best: 0.0002053525026457146 in [0.00011971 0.0001433  0.00017154 0.00020535 0.00024582]\n",
      "------ repeat 4 ------\n",
      "alpha: 8.058421877614818e-05\n",
      "gamma: 0.0002053525026457146\n",
      "FINAL CHECK\n",
      "alpha - 6.446737502091855e-05 in [6.446737502091855e-05, 7.252579689853337e-05, 8.058421877614818e-05, 8.864264065376301e-05, 9.670106253137782e-05]\n",
      "gamma - 0.00018481725238114315 in [0.0001642820021165717, 0.00018481725238114315, 0.0002053525026457146, 0.0002258877529102861, 0.0002464230031748575]\n",
      "alpha -> min: 0.001 in [1.77827941e-07 3.16227766e-06 5.62341325e-05 1.00000000e-03\n",
      " 1.77827941e-02]\n",
      "gamma -> best: 0.0017782794100389228 in [1.00000000e-04 1.77827941e-03 3.16227766e-02 5.62341325e-01\n",
      " 1.00000000e+01]\n",
      "alpha -> best: 0.001 in [1.77827941e-07 3.16227766e-06 5.62341325e-05 1.00000000e-03\n",
      " 1.77827941e-02]\n",
      "gamma -> best: 0.0017782794100389228 in [1.00000000e-04 1.77827941e-03 3.16227766e-02 5.62341325e-01\n",
      " 1.00000000e+01]\n",
      "------ repeat 0 ------\n",
      "gamma: 0.0017782794100389228\n",
      "alpha: 0.001\n",
      "where: (array([3]),)\n",
      "where: (array([1]),)\n",
      "alpha -> max: 0.01778279410038923 in [0.00421697 0.01778279 0.07498942 0.31622777 1.33352143]\n",
      "gamma -> best: 0.007498942093324558 in [0.0001     0.0004217  0.00177828 0.00749894 0.03162278]\n",
      "alpha -> best: 0.01778279410038923 in [0.00421697 0.01778279 0.07498942 0.31622777 1.33352143]\n",
      "gamma -> best: 0.007498942093324558 in [0.0001     0.0004217  0.00177828 0.00749894 0.03162278]\n",
      "------ repeat 1 ------\n",
      "gamma: 0.007498942093324558\n",
      "alpha: 0.01778279410038923\n",
      "where: (array([1]),)\n",
      "where: (array([3]),)\n",
      "alpha -> best: 0.01778279410038923 in [0.00421697 0.00865964 0.01778279 0.03651741 0.07498942]\n",
      "gamma -> best: 0.007498942093324558 in [0.00177828 0.00365174 0.00749894 0.01539927 0.03162278]\n",
      "------ repeat 2 ------\n",
      "gamma: 0.007498942093324558\n",
      "alpha: 0.01778279410038923\n",
      "where: (array([2]),)\n",
      "where: (array([2]),)\n",
      "alpha -> best: 0.012409377607517195 in [0.00865964 0.01240938 0.01778279 0.02548297 0.03651741]\n",
      "gamma -> best: 0.007498942093324558 in [0.00365174 0.00523299 0.00749894 0.01074608 0.01539927]\n",
      "------ repeat 3 ------\n",
      "gamma: 0.007498942093324558\n",
      "alpha: 0.012409377607517195\n",
      "where: (array([1]),)\n",
      "where: (array([2]),)\n",
      "alpha -> best: 0.012409377607517195 in [0.00865964 0.01036633 0.01240938 0.01485508 0.01778279]\n",
      "gamma -> best: 0.007498942093324558 in [0.00523299 0.00626434 0.00749894 0.00897687 0.01074608]\n",
      "------ repeat 4 ------\n",
      "gamma: 0.007498942093324558\n",
      "alpha: 0.012409377607517195\n",
      "FINAL CHECK\n",
      "gamma - 0.006749047883992102 in [0.005999153674659647, 0.006749047883992102, 0.007498942093324558, 0.008248836302657015, 0.00899873051198947]\n",
      "alpha - 0.011168439846765476 in [0.009927502086013756, 0.011168439846765476, 0.012409377607517195, 0.013650315368268917, 0.014891253129020635]\n"
     ]
    }
   ],
   "source": [
    "best_models = {}\n",
    "training_curves = {}\n",
    "for kernel in kernels:\n",
    "    print(f'### KERNEL {kernel} ###')\n",
    "    best_models[kernel] = parameter_search('grid' ,train_dataset, kernel=kernel, lsn=5, repeats=5)\n",
    "    training_curves[kernel] = get_curve(train_dataset, best_models[kernel])"
   ],
   "metadata": {
    "collapsed": false,
    "pycharm": {
     "name": "#%%\n"
    }
   }
  },
  {
   "cell_type": "code",
   "execution_count": 29,
   "outputs": [
    {
     "data": {
      "text/plain": "38"
     },
     "execution_count": 29,
     "metadata": {},
     "output_type": "execute_result"
    }
   ],
   "source": [
    "len(training_curves['linear']['train'])"
   ],
   "metadata": {
    "collapsed": false,
    "pycharm": {
     "name": "#%%\n"
    }
   }
  },
  {
   "cell_type": "code",
   "execution_count": 49,
   "outputs": [],
   "source": [
    "all_curves = {'train':{}, 'val':{}, 'solvent':{}, 'solute':{}}\n",
    "for kernel, data in training_curves.items():\n",
    "    for key in all_curves:\n",
    "        all_curves[key][kernel] = data[key]"
   ],
   "metadata": {
    "collapsed": false,
    "pycharm": {
     "name": "#%%\n"
    }
   }
  },
  {
   "cell_type": "code",
   "execution_count": 42,
   "outputs": [],
   "source": [
    "training_curves_copy = training_curves.copy()"
   ],
   "metadata": {
    "collapsed": false,
    "pycharm": {
     "name": "#%%\n"
    }
   }
  },
  {
   "cell_type": "code",
   "execution_count": 48,
   "outputs": [],
   "source": [
    "for kernel, data in training_curves.items():\n",
    "    t = training_curves[kernel]['train']\n",
    "    v = training_curves[kernel]['val']\n",
    "    new_t, new_v = [], []\n",
    "    for i, x in enumerate(t+v):\n",
    "        if i%2:\n",
    "            new_t.append(x)\n",
    "        else:\n",
    "            new_v.append(x)\n",
    "    training_curves[kernel]['train'] = new_t\n",
    "    training_curves[kernel]['val'] = new_v"
   ],
   "metadata": {
    "collapsed": false,
    "pycharm": {
     "name": "#%%\n"
    }
   }
  },
  {
   "cell_type": "code",
   "execution_count": 44,
   "outputs": [
    {
     "data": {
      "text/plain": "19"
     },
     "execution_count": 44,
     "metadata": {},
     "output_type": "execute_result"
    }
   ],
   "source": [
    "len(training_curves['linear']['train'])"
   ],
   "metadata": {
    "collapsed": false,
    "pycharm": {
     "name": "#%%\n"
    }
   }
  },
  {
   "cell_type": "code",
   "execution_count": 56,
   "outputs": [
    {
     "data": {
      "text/plain": "<Figure size 432x288 with 4 Axes>",
      "image/png": "[encoded data removed]"
     },
     "metadata": {
      "needs_background": "light"
     },
     "output_type": "display_data"
    }
   ],
   "source": [
    "for dataset_name, sbp in {'train':221, 'val':222, 'solvent': 223, 'solute': 224}.items():\n",
    "    plt.style='scientific'\n",
    "    plt.subplot(sbp)\n",
    "    plt.title(dataset_name)\n",
    "    for kernel, data in all_curves[dataset_name].items():\n",
    "        plt.plot(np.linspace(0, 1, 20)[1:], data)\n",
    "plt.tight_layout()\n",
    "plt.savefig(project_path(f'Solvation_1/Run_results/{runs_folder}/training_curve.png'))"
   ],
   "metadata": {
    "collapsed": false,
    "pycharm": {
     "name": "#%%\n"
    }
   }
  },
  {
   "cell_type": "code",
   "execution_count": 55,
   "outputs": [
    {
     "name": "stdout",
     "output_type": "stream",
     "text": [
      "### KERNEL linear ###\n",
      "alpha -> best: 5.62e+00 in ['1.00e-03', '1.78e-02', '3.16e-01', '5.62e+00', '1.00e+02']\n",
      "------ repeat 0 ------\n",
      "alpha: 5.62e+00\n",
      "where: (array([3]),)\n",
      "alpha -> best: 2.37e+01 in ['3.16e-01', '1.33e+00', '5.62e+00', '2.37e+01', '1.00e+02']\n",
      "------ repeat 1 ------\n",
      "alpha: 2.37e+01\n",
      "where: (array([3]),)\n",
      "alpha -> best: 2.37e+01 in ['5.62e+00', '1.15e+01', '2.37e+01', '4.87e+01', '1.00e+02']\n",
      "------ repeat 2 ------\n",
      "alpha: 2.37e+01\n",
      "where: (array([2]),)\n"
     ]
    },
    {
     "ename": "KeyboardInterrupt",
     "evalue": "",
     "output_type": "error",
     "traceback": [
      "\u001B[0;31m---------------------------------------------------------------------------\u001B[0m",
      "\u001B[0;31mKeyboardInterrupt\u001B[0m                         Traceback (most recent call last)",
      "\u001B[0;32m/var/folders/16/nd0f005x4vvdmqt98d96xfv00000gn/T/ipykernel_7142/1848658244.py\u001B[0m in \u001B[0;36m<module>\u001B[0;34m\u001B[0m\n\u001B[1;32m      3\u001B[0m \u001B[0;32mfor\u001B[0m \u001B[0mkernel\u001B[0m \u001B[0;32min\u001B[0m \u001B[0mkernels\u001B[0m\u001B[0;34m:\u001B[0m\u001B[0;34m\u001B[0m\u001B[0;34m\u001B[0m\u001B[0m\n\u001B[1;32m      4\u001B[0m     \u001B[0mprint\u001B[0m\u001B[0;34m(\u001B[0m\u001B[0;34mf'### KERNEL {kernel} ###'\u001B[0m\u001B[0;34m)\u001B[0m\u001B[0;34m\u001B[0m\u001B[0;34m\u001B[0m\u001B[0m\n\u001B[0;32m----> 5\u001B[0;31m     \u001B[0mbest_models1\u001B[0m\u001B[0;34m[\u001B[0m\u001B[0mkernel\u001B[0m\u001B[0;34m]\u001B[0m \u001B[0;34m=\u001B[0m \u001B[0mparameter_search\u001B[0m\u001B[0;34m(\u001B[0m\u001B[0;34m'grid'\u001B[0m \u001B[0;34m,\u001B[0m\u001B[0mtrain_dataset\u001B[0m\u001B[0;34m,\u001B[0m \u001B[0mkernel\u001B[0m\u001B[0;34m=\u001B[0m\u001B[0mkernel\u001B[0m\u001B[0;34m,\u001B[0m \u001B[0mlsn\u001B[0m\u001B[0;34m=\u001B[0m\u001B[0;36m5\u001B[0m\u001B[0;34m,\u001B[0m \u001B[0mrepeats\u001B[0m\u001B[0;34m=\u001B[0m\u001B[0;36m5\u001B[0m\u001B[0;34m)\u001B[0m\u001B[0;34m\u001B[0m\u001B[0;34m\u001B[0m\u001B[0m\n\u001B[0m\u001B[1;32m      6\u001B[0m     \u001B[0mtraining_curves1\u001B[0m\u001B[0;34m[\u001B[0m\u001B[0mkernel\u001B[0m\u001B[0;34m]\u001B[0m \u001B[0;34m=\u001B[0m \u001B[0mget_curve\u001B[0m\u001B[0;34m(\u001B[0m\u001B[0mtrain_dataset\u001B[0m\u001B[0;34m,\u001B[0m \u001B[0mbest_models1\u001B[0m\u001B[0;34m[\u001B[0m\u001B[0mkernel\u001B[0m\u001B[0;34m]\u001B[0m\u001B[0;34m)\u001B[0m\u001B[0;34m\u001B[0m\u001B[0;34m\u001B[0m\u001B[0m\n",
      "\u001B[0;32m/var/folders/16/nd0f005x4vvdmqt98d96xfv00000gn/T/ipykernel_7142/614446669.py\u001B[0m in \u001B[0;36mparameter_search\u001B[0;34m(fp_arg, train_dataset, kernel, lsn, repeats)\u001B[0m\n\u001B[1;32m    108\u001B[0m     \u001B[0mbest_params\u001B[0m \u001B[0;34m=\u001B[0m \u001B[0;34m{\u001B[0m\u001B[0;34m}\u001B[0m\u001B[0;34m\u001B[0m\u001B[0;34m\u001B[0m\u001B[0m\n\u001B[1;32m    109\u001B[0m     \u001B[0;32mfor\u001B[0m \u001B[0mrepeat\u001B[0m \u001B[0;32min\u001B[0m \u001B[0mrange\u001B[0m\u001B[0;34m(\u001B[0m\u001B[0mrepeats\u001B[0m\u001B[0;34m)\u001B[0m\u001B[0;34m:\u001B[0m\u001B[0;34m\u001B[0m\u001B[0;34m\u001B[0m\u001B[0m\n\u001B[0;32m--> 110\u001B[0;31m         \u001B[0mbest_params\u001B[0m\u001B[0;34m,\u001B[0m \u001B[0mparameters\u001B[0m \u001B[0;34m=\u001B[0m \u001B[0mfind_parameters\u001B[0m\u001B[0;34m(\u001B[0m\u001B[0mfp_arg\u001B[0m\u001B[0;34m)\u001B[0m\u001B[0;34m(\u001B[0m\u001B[0mtrain_dataset\u001B[0m\u001B[0;34m,\u001B[0m \u001B[0mparameters\u001B[0m\u001B[0;34m,\u001B[0m \u001B[0mreg_kwargs\u001B[0m\u001B[0;34m,\u001B[0m \u001B[0mlsn\u001B[0m\u001B[0;34m,\u001B[0m \u001B[0mrepeat\u001B[0m\u001B[0;34m=\u001B[0m\u001B[0mrepeat\u001B[0m\u001B[0;34m,\u001B[0m \u001B[0mbest_params\u001B[0m\u001B[0;34m=\u001B[0m\u001B[0mbest_params\u001B[0m\u001B[0;34m)\u001B[0m\u001B[0;34m\u001B[0m\u001B[0;34m\u001B[0m\u001B[0m\n\u001B[0m\u001B[1;32m    111\u001B[0m         \u001B[0mprint\u001B[0m\u001B[0;34m(\u001B[0m\u001B[0;34mf'------ repeat {repeat} ------'\u001B[0m\u001B[0;34m)\u001B[0m\u001B[0;34m\u001B[0m\u001B[0;34m\u001B[0m\u001B[0m\n\u001B[1;32m    112\u001B[0m         \u001B[0;32mfor\u001B[0m \u001B[0mkey\u001B[0m\u001B[0;34m,\u001B[0m \u001B[0mvalue\u001B[0m \u001B[0;32min\u001B[0m \u001B[0mbest_params\u001B[0m\u001B[0;34m.\u001B[0m\u001B[0mitems\u001B[0m\u001B[0;34m(\u001B[0m\u001B[0;34m)\u001B[0m\u001B[0;34m:\u001B[0m\u001B[0;34m\u001B[0m\u001B[0;34m\u001B[0m\u001B[0m\n",
      "\u001B[0;32m/var/folders/16/nd0f005x4vvdmqt98d96xfv00000gn/T/ipykernel_7142/614446669.py\u001B[0m in \u001B[0;36mfind_parameters_grid\u001B[0;34m(train_dataset, parameters, reg_kwargs, lsn, repeat, best_params)\u001B[0m\n\u001B[1;32m     26\u001B[0m         \u001B[0;31m# print(f'pg: {param_grid}')\u001B[0m\u001B[0;34m\u001B[0m\u001B[0;34m\u001B[0m\u001B[0;34m\u001B[0m\u001B[0m\n\u001B[1;32m     27\u001B[0m         \u001B[0mkrr_gs\u001B[0m \u001B[0;34m=\u001B[0m \u001B[0mGridSearchCV\u001B[0m\u001B[0;34m(\u001B[0m\u001B[0mkrr\u001B[0m\u001B[0;34m,\u001B[0m \u001B[0mparam_grid\u001B[0m\u001B[0;34m,\u001B[0m \u001B[0mscoring\u001B[0m\u001B[0;34m=\u001B[0m\u001B[0;34m'neg_mean_squared_error'\u001B[0m\u001B[0;34m)\u001B[0m\u001B[0;34m\u001B[0m\u001B[0;34m\u001B[0m\u001B[0m\n\u001B[0;32m---> 28\u001B[0;31m         \u001B[0mkrr_gs\u001B[0m\u001B[0;34m.\u001B[0m\u001B[0mfit\u001B[0m\u001B[0;34m(\u001B[0m\u001B[0mtrain_dataset\u001B[0m\u001B[0;34m.\u001B[0m\u001B[0mX\u001B[0m\u001B[0;34m,\u001B[0m \u001B[0mtrain_dataset\u001B[0m\u001B[0;34m.\u001B[0m\u001B[0my\u001B[0m\u001B[0;34m)\u001B[0m\u001B[0;34m\u001B[0m\u001B[0;34m\u001B[0m\u001B[0m\n\u001B[0m\u001B[1;32m     29\u001B[0m         \u001B[0;32mfor\u001B[0m \u001B[0mkey\u001B[0m \u001B[0;32min\u001B[0m \u001B[0mparameters\u001B[0m\u001B[0;34m:\u001B[0m\u001B[0;34m\u001B[0m\u001B[0;34m\u001B[0m\u001B[0m\n\u001B[1;32m     30\u001B[0m             \u001B[0mbest\u001B[0m \u001B[0;34m=\u001B[0m \u001B[0mkrr_gs\u001B[0m\u001B[0;34m.\u001B[0m\u001B[0mbest_estimator_\u001B[0m\u001B[0;34m.\u001B[0m\u001B[0m__getattribute__\u001B[0m\u001B[0;34m(\u001B[0m\u001B[0mkey\u001B[0m\u001B[0;34m)\u001B[0m\u001B[0;34m\u001B[0m\u001B[0;34m\u001B[0m\u001B[0m\n",
      "\u001B[0;32m~/PycharmProjects/msuAI/venv/lib/python3.8/site-packages/sklearn/model_selection/_search.py\u001B[0m in \u001B[0;36mfit\u001B[0;34m(self, X, y, groups, **fit_params)\u001B[0m\n\u001B[1;32m    873\u001B[0m                 \u001B[0;32mreturn\u001B[0m \u001B[0mresults\u001B[0m\u001B[0;34m\u001B[0m\u001B[0;34m\u001B[0m\u001B[0m\n\u001B[1;32m    874\u001B[0m \u001B[0;34m\u001B[0m\u001B[0m\n\u001B[0;32m--> 875\u001B[0;31m             \u001B[0mself\u001B[0m\u001B[0;34m.\u001B[0m\u001B[0m_run_search\u001B[0m\u001B[0;34m(\u001B[0m\u001B[0mevaluate_candidates\u001B[0m\u001B[0;34m)\u001B[0m\u001B[0;34m\u001B[0m\u001B[0;34m\u001B[0m\u001B[0m\n\u001B[0m\u001B[1;32m    876\u001B[0m \u001B[0;34m\u001B[0m\u001B[0m\n\u001B[1;32m    877\u001B[0m             \u001B[0;31m# multimetric is determined here because in the case of a callable\u001B[0m\u001B[0;34m\u001B[0m\u001B[0;34m\u001B[0m\u001B[0;34m\u001B[0m\u001B[0m\n",
      "\u001B[0;32m~/PycharmProjects/msuAI/venv/lib/python3.8/site-packages/sklearn/model_selection/_search.py\u001B[0m in \u001B[0;36m_run_search\u001B[0;34m(self, evaluate_candidates)\u001B[0m\n\u001B[1;32m   1373\u001B[0m     \u001B[0;32mdef\u001B[0m \u001B[0m_run_search\u001B[0m\u001B[0;34m(\u001B[0m\u001B[0mself\u001B[0m\u001B[0;34m,\u001B[0m \u001B[0mevaluate_candidates\u001B[0m\u001B[0;34m)\u001B[0m\u001B[0;34m:\u001B[0m\u001B[0;34m\u001B[0m\u001B[0;34m\u001B[0m\u001B[0m\n\u001B[1;32m   1374\u001B[0m         \u001B[0;34m\"\"\"Search all candidates in param_grid\"\"\"\u001B[0m\u001B[0;34m\u001B[0m\u001B[0;34m\u001B[0m\u001B[0m\n\u001B[0;32m-> 1375\u001B[0;31m         \u001B[0mevaluate_candidates\u001B[0m\u001B[0;34m(\u001B[0m\u001B[0mParameterGrid\u001B[0m\u001B[0;34m(\u001B[0m\u001B[0mself\u001B[0m\u001B[0;34m.\u001B[0m\u001B[0mparam_grid\u001B[0m\u001B[0;34m)\u001B[0m\u001B[0;34m)\u001B[0m\u001B[0;34m\u001B[0m\u001B[0;34m\u001B[0m\u001B[0m\n\u001B[0m\u001B[1;32m   1376\u001B[0m \u001B[0;34m\u001B[0m\u001B[0m\n\u001B[1;32m   1377\u001B[0m \u001B[0;34m\u001B[0m\u001B[0m\n",
      "\u001B[0;32m~/PycharmProjects/msuAI/venv/lib/python3.8/site-packages/sklearn/model_selection/_search.py\u001B[0m in \u001B[0;36mevaluate_candidates\u001B[0;34m(candidate_params, cv, more_results)\u001B[0m\n\u001B[1;32m    820\u001B[0m                     )\n\u001B[1;32m    821\u001B[0m \u001B[0;34m\u001B[0m\u001B[0m\n\u001B[0;32m--> 822\u001B[0;31m                 out = parallel(\n\u001B[0m\u001B[1;32m    823\u001B[0m                     delayed(_fit_and_score)(\n\u001B[1;32m    824\u001B[0m                         \u001B[0mclone\u001B[0m\u001B[0;34m(\u001B[0m\u001B[0mbase_estimator\u001B[0m\u001B[0;34m)\u001B[0m\u001B[0;34m,\u001B[0m\u001B[0;34m\u001B[0m\u001B[0;34m\u001B[0m\u001B[0m\n",
      "\u001B[0;32m~/PycharmProjects/msuAI/venv/lib/python3.8/site-packages/joblib/parallel.py\u001B[0m in \u001B[0;36m__call__\u001B[0;34m(self, iterable)\u001B[0m\n\u001B[1;32m   1044\u001B[0m                 \u001B[0mself\u001B[0m\u001B[0;34m.\u001B[0m\u001B[0m_iterating\u001B[0m \u001B[0;34m=\u001B[0m \u001B[0mself\u001B[0m\u001B[0;34m.\u001B[0m\u001B[0m_original_iterator\u001B[0m \u001B[0;32mis\u001B[0m \u001B[0;32mnot\u001B[0m \u001B[0;32mNone\u001B[0m\u001B[0;34m\u001B[0m\u001B[0;34m\u001B[0m\u001B[0m\n\u001B[1;32m   1045\u001B[0m \u001B[0;34m\u001B[0m\u001B[0m\n\u001B[0;32m-> 1046\u001B[0;31m             \u001B[0;32mwhile\u001B[0m \u001B[0mself\u001B[0m\u001B[0;34m.\u001B[0m\u001B[0mdispatch_one_batch\u001B[0m\u001B[0;34m(\u001B[0m\u001B[0miterator\u001B[0m\u001B[0;34m)\u001B[0m\u001B[0;34m:\u001B[0m\u001B[0;34m\u001B[0m\u001B[0;34m\u001B[0m\u001B[0m\n\u001B[0m\u001B[1;32m   1047\u001B[0m                 \u001B[0;32mpass\u001B[0m\u001B[0;34m\u001B[0m\u001B[0;34m\u001B[0m\u001B[0m\n\u001B[1;32m   1048\u001B[0m \u001B[0;34m\u001B[0m\u001B[0m\n",
      "\u001B[0;32m~/PycharmProjects/msuAI/venv/lib/python3.8/site-packages/joblib/parallel.py\u001B[0m in \u001B[0;36mdispatch_one_batch\u001B[0;34m(self, iterator)\u001B[0m\n\u001B[1;32m    859\u001B[0m                 \u001B[0;32mreturn\u001B[0m \u001B[0;32mFalse\u001B[0m\u001B[0;34m\u001B[0m\u001B[0;34m\u001B[0m\u001B[0m\n\u001B[1;32m    860\u001B[0m             \u001B[0;32melse\u001B[0m\u001B[0;34m:\u001B[0m\u001B[0;34m\u001B[0m\u001B[0;34m\u001B[0m\u001B[0m\n\u001B[0;32m--> 861\u001B[0;31m                 \u001B[0mself\u001B[0m\u001B[0;34m.\u001B[0m\u001B[0m_dispatch\u001B[0m\u001B[0;34m(\u001B[0m\u001B[0mtasks\u001B[0m\u001B[0;34m)\u001B[0m\u001B[0;34m\u001B[0m\u001B[0;34m\u001B[0m\u001B[0m\n\u001B[0m\u001B[1;32m    862\u001B[0m                 \u001B[0;32mreturn\u001B[0m \u001B[0;32mTrue\u001B[0m\u001B[0;34m\u001B[0m\u001B[0;34m\u001B[0m\u001B[0m\n\u001B[1;32m    863\u001B[0m \u001B[0;34m\u001B[0m\u001B[0m\n",
      "\u001B[0;32m~/PycharmProjects/msuAI/venv/lib/python3.8/site-packages/joblib/parallel.py\u001B[0m in \u001B[0;36m_dispatch\u001B[0;34m(self, batch)\u001B[0m\n\u001B[1;32m    777\u001B[0m         \u001B[0;32mwith\u001B[0m \u001B[0mself\u001B[0m\u001B[0;34m.\u001B[0m\u001B[0m_lock\u001B[0m\u001B[0;34m:\u001B[0m\u001B[0;34m\u001B[0m\u001B[0;34m\u001B[0m\u001B[0m\n\u001B[1;32m    778\u001B[0m             \u001B[0mjob_idx\u001B[0m \u001B[0;34m=\u001B[0m \u001B[0mlen\u001B[0m\u001B[0;34m(\u001B[0m\u001B[0mself\u001B[0m\u001B[0;34m.\u001B[0m\u001B[0m_jobs\u001B[0m\u001B[0;34m)\u001B[0m\u001B[0;34m\u001B[0m\u001B[0;34m\u001B[0m\u001B[0m\n\u001B[0;32m--> 779\u001B[0;31m             \u001B[0mjob\u001B[0m \u001B[0;34m=\u001B[0m \u001B[0mself\u001B[0m\u001B[0;34m.\u001B[0m\u001B[0m_backend\u001B[0m\u001B[0;34m.\u001B[0m\u001B[0mapply_async\u001B[0m\u001B[0;34m(\u001B[0m\u001B[0mbatch\u001B[0m\u001B[0;34m,\u001B[0m \u001B[0mcallback\u001B[0m\u001B[0;34m=\u001B[0m\u001B[0mcb\u001B[0m\u001B[0;34m)\u001B[0m\u001B[0;34m\u001B[0m\u001B[0;34m\u001B[0m\u001B[0m\n\u001B[0m\u001B[1;32m    780\u001B[0m             \u001B[0;31m# A job can complete so quickly than its callback is\u001B[0m\u001B[0;34m\u001B[0m\u001B[0;34m\u001B[0m\u001B[0;34m\u001B[0m\u001B[0m\n\u001B[1;32m    781\u001B[0m             \u001B[0;31m# called before we get here, causing self._jobs to\u001B[0m\u001B[0;34m\u001B[0m\u001B[0;34m\u001B[0m\u001B[0;34m\u001B[0m\u001B[0m\n",
      "\u001B[0;32m~/PycharmProjects/msuAI/venv/lib/python3.8/site-packages/joblib/_parallel_backends.py\u001B[0m in \u001B[0;36mapply_async\u001B[0;34m(self, func, callback)\u001B[0m\n\u001B[1;32m    206\u001B[0m     \u001B[0;32mdef\u001B[0m \u001B[0mapply_async\u001B[0m\u001B[0;34m(\u001B[0m\u001B[0mself\u001B[0m\u001B[0;34m,\u001B[0m \u001B[0mfunc\u001B[0m\u001B[0;34m,\u001B[0m \u001B[0mcallback\u001B[0m\u001B[0;34m=\u001B[0m\u001B[0;32mNone\u001B[0m\u001B[0;34m)\u001B[0m\u001B[0;34m:\u001B[0m\u001B[0;34m\u001B[0m\u001B[0;34m\u001B[0m\u001B[0m\n\u001B[1;32m    207\u001B[0m         \u001B[0;34m\"\"\"Schedule a func to be run\"\"\"\u001B[0m\u001B[0;34m\u001B[0m\u001B[0;34m\u001B[0m\u001B[0m\n\u001B[0;32m--> 208\u001B[0;31m         \u001B[0mresult\u001B[0m \u001B[0;34m=\u001B[0m \u001B[0mImmediateResult\u001B[0m\u001B[0;34m(\u001B[0m\u001B[0mfunc\u001B[0m\u001B[0;34m)\u001B[0m\u001B[0;34m\u001B[0m\u001B[0;34m\u001B[0m\u001B[0m\n\u001B[0m\u001B[1;32m    209\u001B[0m         \u001B[0;32mif\u001B[0m \u001B[0mcallback\u001B[0m\u001B[0;34m:\u001B[0m\u001B[0;34m\u001B[0m\u001B[0;34m\u001B[0m\u001B[0m\n\u001B[1;32m    210\u001B[0m             \u001B[0mcallback\u001B[0m\u001B[0;34m(\u001B[0m\u001B[0mresult\u001B[0m\u001B[0;34m)\u001B[0m\u001B[0;34m\u001B[0m\u001B[0;34m\u001B[0m\u001B[0m\n",
      "\u001B[0;32m~/PycharmProjects/msuAI/venv/lib/python3.8/site-packages/joblib/_parallel_backends.py\u001B[0m in \u001B[0;36m__init__\u001B[0;34m(self, batch)\u001B[0m\n\u001B[1;32m    570\u001B[0m         \u001B[0;31m# Don't delay the application, to avoid keeping the input\u001B[0m\u001B[0;34m\u001B[0m\u001B[0;34m\u001B[0m\u001B[0;34m\u001B[0m\u001B[0m\n\u001B[1;32m    571\u001B[0m         \u001B[0;31m# arguments in memory\u001B[0m\u001B[0;34m\u001B[0m\u001B[0;34m\u001B[0m\u001B[0;34m\u001B[0m\u001B[0m\n\u001B[0;32m--> 572\u001B[0;31m         \u001B[0mself\u001B[0m\u001B[0;34m.\u001B[0m\u001B[0mresults\u001B[0m \u001B[0;34m=\u001B[0m \u001B[0mbatch\u001B[0m\u001B[0;34m(\u001B[0m\u001B[0;34m)\u001B[0m\u001B[0;34m\u001B[0m\u001B[0;34m\u001B[0m\u001B[0m\n\u001B[0m\u001B[1;32m    573\u001B[0m \u001B[0;34m\u001B[0m\u001B[0m\n\u001B[1;32m    574\u001B[0m     \u001B[0;32mdef\u001B[0m \u001B[0mget\u001B[0m\u001B[0;34m(\u001B[0m\u001B[0mself\u001B[0m\u001B[0;34m)\u001B[0m\u001B[0;34m:\u001B[0m\u001B[0;34m\u001B[0m\u001B[0;34m\u001B[0m\u001B[0m\n",
      "\u001B[0;32m~/PycharmProjects/msuAI/venv/lib/python3.8/site-packages/joblib/parallel.py\u001B[0m in \u001B[0;36m__call__\u001B[0;34m(self)\u001B[0m\n\u001B[1;32m    260\u001B[0m         \u001B[0;31m# change the default number of processes to -1\u001B[0m\u001B[0;34m\u001B[0m\u001B[0;34m\u001B[0m\u001B[0;34m\u001B[0m\u001B[0m\n\u001B[1;32m    261\u001B[0m         \u001B[0;32mwith\u001B[0m \u001B[0mparallel_backend\u001B[0m\u001B[0;34m(\u001B[0m\u001B[0mself\u001B[0m\u001B[0;34m.\u001B[0m\u001B[0m_backend\u001B[0m\u001B[0;34m,\u001B[0m \u001B[0mn_jobs\u001B[0m\u001B[0;34m=\u001B[0m\u001B[0mself\u001B[0m\u001B[0;34m.\u001B[0m\u001B[0m_n_jobs\u001B[0m\u001B[0;34m)\u001B[0m\u001B[0;34m:\u001B[0m\u001B[0;34m\u001B[0m\u001B[0;34m\u001B[0m\u001B[0m\n\u001B[0;32m--> 262\u001B[0;31m             return [func(*args, **kwargs)\n\u001B[0m\u001B[1;32m    263\u001B[0m                     for func, args, kwargs in self.items]\n\u001B[1;32m    264\u001B[0m \u001B[0;34m\u001B[0m\u001B[0m\n",
      "\u001B[0;32m~/PycharmProjects/msuAI/venv/lib/python3.8/site-packages/joblib/parallel.py\u001B[0m in \u001B[0;36m<listcomp>\u001B[0;34m(.0)\u001B[0m\n\u001B[1;32m    260\u001B[0m         \u001B[0;31m# change the default number of processes to -1\u001B[0m\u001B[0;34m\u001B[0m\u001B[0;34m\u001B[0m\u001B[0;34m\u001B[0m\u001B[0m\n\u001B[1;32m    261\u001B[0m         \u001B[0;32mwith\u001B[0m \u001B[0mparallel_backend\u001B[0m\u001B[0;34m(\u001B[0m\u001B[0mself\u001B[0m\u001B[0;34m.\u001B[0m\u001B[0m_backend\u001B[0m\u001B[0;34m,\u001B[0m \u001B[0mn_jobs\u001B[0m\u001B[0;34m=\u001B[0m\u001B[0mself\u001B[0m\u001B[0;34m.\u001B[0m\u001B[0m_n_jobs\u001B[0m\u001B[0;34m)\u001B[0m\u001B[0;34m:\u001B[0m\u001B[0;34m\u001B[0m\u001B[0;34m\u001B[0m\u001B[0m\n\u001B[0;32m--> 262\u001B[0;31m             return [func(*args, **kwargs)\n\u001B[0m\u001B[1;32m    263\u001B[0m                     for func, args, kwargs in self.items]\n\u001B[1;32m    264\u001B[0m \u001B[0;34m\u001B[0m\u001B[0m\n",
      "\u001B[0;32m~/PycharmProjects/msuAI/venv/lib/python3.8/site-packages/sklearn/utils/fixes.py\u001B[0m in \u001B[0;36m__call__\u001B[0;34m(self, *args, **kwargs)\u001B[0m\n\u001B[1;32m    115\u001B[0m     \u001B[0;32mdef\u001B[0m \u001B[0m__call__\u001B[0m\u001B[0;34m(\u001B[0m\u001B[0mself\u001B[0m\u001B[0;34m,\u001B[0m \u001B[0;34m*\u001B[0m\u001B[0margs\u001B[0m\u001B[0;34m,\u001B[0m \u001B[0;34m**\u001B[0m\u001B[0mkwargs\u001B[0m\u001B[0;34m)\u001B[0m\u001B[0;34m:\u001B[0m\u001B[0;34m\u001B[0m\u001B[0;34m\u001B[0m\u001B[0m\n\u001B[1;32m    116\u001B[0m         \u001B[0;32mwith\u001B[0m \u001B[0mconfig_context\u001B[0m\u001B[0;34m(\u001B[0m\u001B[0;34m**\u001B[0m\u001B[0mself\u001B[0m\u001B[0;34m.\u001B[0m\u001B[0mconfig\u001B[0m\u001B[0;34m)\u001B[0m\u001B[0;34m:\u001B[0m\u001B[0;34m\u001B[0m\u001B[0;34m\u001B[0m\u001B[0m\n\u001B[0;32m--> 117\u001B[0;31m             \u001B[0;32mreturn\u001B[0m \u001B[0mself\u001B[0m\u001B[0;34m.\u001B[0m\u001B[0mfunction\u001B[0m\u001B[0;34m(\u001B[0m\u001B[0;34m*\u001B[0m\u001B[0margs\u001B[0m\u001B[0;34m,\u001B[0m \u001B[0;34m**\u001B[0m\u001B[0mkwargs\u001B[0m\u001B[0;34m)\u001B[0m\u001B[0;34m\u001B[0m\u001B[0;34m\u001B[0m\u001B[0m\n\u001B[0m\u001B[1;32m    118\u001B[0m \u001B[0;34m\u001B[0m\u001B[0m\n\u001B[1;32m    119\u001B[0m \u001B[0;34m\u001B[0m\u001B[0m\n",
      "\u001B[0;32m~/PycharmProjects/msuAI/venv/lib/python3.8/site-packages/sklearn/model_selection/_validation.py\u001B[0m in \u001B[0;36m_fit_and_score\u001B[0;34m(estimator, X, y, scorer, train, test, verbose, parameters, fit_params, return_train_score, return_parameters, return_n_test_samples, return_times, return_estimator, split_progress, candidate_progress, error_score)\u001B[0m\n\u001B[1;32m    684\u001B[0m             \u001B[0mestimator\u001B[0m\u001B[0;34m.\u001B[0m\u001B[0mfit\u001B[0m\u001B[0;34m(\u001B[0m\u001B[0mX_train\u001B[0m\u001B[0;34m,\u001B[0m \u001B[0;34m**\u001B[0m\u001B[0mfit_params\u001B[0m\u001B[0;34m)\u001B[0m\u001B[0;34m\u001B[0m\u001B[0;34m\u001B[0m\u001B[0m\n\u001B[1;32m    685\u001B[0m         \u001B[0;32melse\u001B[0m\u001B[0;34m:\u001B[0m\u001B[0;34m\u001B[0m\u001B[0;34m\u001B[0m\u001B[0m\n\u001B[0;32m--> 686\u001B[0;31m             \u001B[0mestimator\u001B[0m\u001B[0;34m.\u001B[0m\u001B[0mfit\u001B[0m\u001B[0;34m(\u001B[0m\u001B[0mX_train\u001B[0m\u001B[0;34m,\u001B[0m \u001B[0my_train\u001B[0m\u001B[0;34m,\u001B[0m \u001B[0;34m**\u001B[0m\u001B[0mfit_params\u001B[0m\u001B[0;34m)\u001B[0m\u001B[0;34m\u001B[0m\u001B[0;34m\u001B[0m\u001B[0m\n\u001B[0m\u001B[1;32m    687\u001B[0m \u001B[0;34m\u001B[0m\u001B[0m\n\u001B[1;32m    688\u001B[0m     \u001B[0;32mexcept\u001B[0m \u001B[0mException\u001B[0m\u001B[0;34m:\u001B[0m\u001B[0;34m\u001B[0m\u001B[0;34m\u001B[0m\u001B[0m\n",
      "\u001B[0;32m~/PycharmProjects/msuAI/venv/lib/python3.8/site-packages/sklearn/kernel_ridge.py\u001B[0m in \u001B[0;36mfit\u001B[0;34m(self, X, y, sample_weight)\u001B[0m\n\u001B[1;32m    193\u001B[0m \u001B[0;34m\u001B[0m\u001B[0m\n\u001B[1;32m    194\u001B[0m         \u001B[0mcopy\u001B[0m \u001B[0;34m=\u001B[0m \u001B[0mself\u001B[0m\u001B[0;34m.\u001B[0m\u001B[0mkernel\u001B[0m \u001B[0;34m==\u001B[0m \u001B[0;34m\"precomputed\"\u001B[0m\u001B[0;34m\u001B[0m\u001B[0;34m\u001B[0m\u001B[0m\n\u001B[0;32m--> 195\u001B[0;31m         \u001B[0mself\u001B[0m\u001B[0;34m.\u001B[0m\u001B[0mdual_coef_\u001B[0m \u001B[0;34m=\u001B[0m \u001B[0m_solve_cholesky_kernel\u001B[0m\u001B[0;34m(\u001B[0m\u001B[0mK\u001B[0m\u001B[0;34m,\u001B[0m \u001B[0my\u001B[0m\u001B[0;34m,\u001B[0m \u001B[0malpha\u001B[0m\u001B[0;34m,\u001B[0m \u001B[0msample_weight\u001B[0m\u001B[0;34m,\u001B[0m \u001B[0mcopy\u001B[0m\u001B[0;34m)\u001B[0m\u001B[0;34m\u001B[0m\u001B[0;34m\u001B[0m\u001B[0m\n\u001B[0m\u001B[1;32m    196\u001B[0m         \u001B[0;32mif\u001B[0m \u001B[0mravel\u001B[0m\u001B[0;34m:\u001B[0m\u001B[0;34m\u001B[0m\u001B[0;34m\u001B[0m\u001B[0m\n\u001B[1;32m    197\u001B[0m             \u001B[0mself\u001B[0m\u001B[0;34m.\u001B[0m\u001B[0mdual_coef_\u001B[0m \u001B[0;34m=\u001B[0m \u001B[0mself\u001B[0m\u001B[0;34m.\u001B[0m\u001B[0mdual_coef_\u001B[0m\u001B[0;34m.\u001B[0m\u001B[0mravel\u001B[0m\u001B[0;34m(\u001B[0m\u001B[0;34m)\u001B[0m\u001B[0;34m\u001B[0m\u001B[0;34m\u001B[0m\u001B[0m\n",
      "\u001B[0;32m~/PycharmProjects/msuAI/venv/lib/python3.8/site-packages/sklearn/linear_model/_ridge.py\u001B[0m in \u001B[0;36m_solve_cholesky_kernel\u001B[0;34m(K, y, alpha, sample_weight, copy)\u001B[0m\n\u001B[1;32m    247\u001B[0m             \u001B[0;31m#       use the fall-back solution below in case a LinAlgError\u001B[0m\u001B[0;34m\u001B[0m\u001B[0;34m\u001B[0m\u001B[0;34m\u001B[0m\u001B[0m\n\u001B[1;32m    248\u001B[0m             \u001B[0;31m#       is raised\u001B[0m\u001B[0;34m\u001B[0m\u001B[0;34m\u001B[0m\u001B[0;34m\u001B[0m\u001B[0m\n\u001B[0;32m--> 249\u001B[0;31m             \u001B[0mdual_coef\u001B[0m \u001B[0;34m=\u001B[0m \u001B[0mlinalg\u001B[0m\u001B[0;34m.\u001B[0m\u001B[0msolve\u001B[0m\u001B[0;34m(\u001B[0m\u001B[0mK\u001B[0m\u001B[0;34m,\u001B[0m \u001B[0my\u001B[0m\u001B[0;34m,\u001B[0m \u001B[0msym_pos\u001B[0m\u001B[0;34m=\u001B[0m\u001B[0;32mTrue\u001B[0m\u001B[0;34m,\u001B[0m \u001B[0moverwrite_a\u001B[0m\u001B[0;34m=\u001B[0m\u001B[0;32mFalse\u001B[0m\u001B[0;34m)\u001B[0m\u001B[0;34m\u001B[0m\u001B[0;34m\u001B[0m\u001B[0m\n\u001B[0m\u001B[1;32m    250\u001B[0m         \u001B[0;32mexcept\u001B[0m \u001B[0mnp\u001B[0m\u001B[0;34m.\u001B[0m\u001B[0mlinalg\u001B[0m\u001B[0;34m.\u001B[0m\u001B[0mLinAlgError\u001B[0m\u001B[0;34m:\u001B[0m\u001B[0;34m\u001B[0m\u001B[0;34m\u001B[0m\u001B[0m\n\u001B[1;32m    251\u001B[0m             warnings.warn(\n",
      "\u001B[0;32m~/PycharmProjects/msuAI/venv/lib/python3.8/site-packages/scipy/linalg/_basic.py\u001B[0m in \u001B[0;36msolve\u001B[0;34m(a, b, sym_pos, lower, overwrite_a, overwrite_b, debug, check_finite, assume_a, transposed)\u001B[0m\n\u001B[1;32m    248\u001B[0m         pocon, posv = get_lapack_funcs(('pocon', 'posv'),\n\u001B[1;32m    249\u001B[0m                                        (a1, b1))\n\u001B[0;32m--> 250\u001B[0;31m         lu, x, info = posv(a1, b1, lower=lower,\n\u001B[0m\u001B[1;32m    251\u001B[0m                            \u001B[0moverwrite_a\u001B[0m\u001B[0;34m=\u001B[0m\u001B[0moverwrite_a\u001B[0m\u001B[0;34m,\u001B[0m\u001B[0;34m\u001B[0m\u001B[0;34m\u001B[0m\u001B[0m\n\u001B[1;32m    252\u001B[0m                            overwrite_b=overwrite_b)\n",
      "\u001B[0;31mKeyboardInterrupt\u001B[0m: "
     ]
    }
   ],
   "source": [
    "best_models1 = {}\n",
    "training_curves1 = {}\n",
    "for kernel in kernels:\n",
    "    print(f'### KERNEL {kernel} ###')\n",
    "    best_models1[kernel] = parameter_search('grid' ,train_dataset, kernel=kernel, lsn=5, repeats=5)\n",
    "    training_curves1[kernel] = get_curve(train_dataset, best_models1[kernel])"
   ],
   "metadata": {
    "collapsed": false,
    "pycharm": {
     "name": "#%%\n"
    }
   }
  },
  {
   "cell_type": "code",
   "execution_count": null,
   "outputs": [],
   "source": [],
   "metadata": {
    "collapsed": false,
    "pycharm": {
     "name": "#%%\n"
    }
   }
  },
  {
   "cell_type": "code",
   "execution_count": 51,
   "outputs": [],
   "source": [
    "with open(project_path(f'Solvation_1/Runs/{runs_folder}/best_models.pkl'), 'wb') as f:\n",
    "    pkl.dump(best_models, f)"
   ],
   "metadata": {
    "collapsed": false,
    "pycharm": {
     "name": "#%%\n"
    }
   }
  },
  {
   "cell_type": "code",
   "execution_count": 52,
   "outputs": [],
   "source": [
    "with open(project_path(f'Solvation_1/Run_results/{runs_folder}/best_models.pkl'), 'wb') as f:\n",
    "    pkl.dump(best_models, f)"
   ],
   "metadata": {
    "collapsed": false,
    "pycharm": {
     "name": "#%%\n"
    }
   }
  },
  {
   "cell_type": "code",
   "execution_count": null,
   "outputs": [],
   "source": [],
   "metadata": {
    "collapsed": false,
    "pycharm": {
     "name": "#%%\n"
    }
   }
  }
 ],
 "metadata": {
  "kernelspec": {
   "display_name": "Python 3",
   "language": "python",
   "name": "python3"
  },
  "language_info": {
   "codemirror_mode": {
    "name": "ipython",
    "version": 2
   },
   "file_extension": ".py",
   "mimetype": "text/x-python",
   "name": "python",
   "nbconvert_exporter": "python",
   "pygments_lexer": "ipython2",
   "version": "2.7.6"
  }
 },
 "nbformat": 4,
 "nbformat_minor": 0
}