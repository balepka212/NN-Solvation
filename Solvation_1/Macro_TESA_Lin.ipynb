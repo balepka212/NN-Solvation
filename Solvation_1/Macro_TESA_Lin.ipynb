{
 "cells": [
  {
   "cell_type": "markdown",
   "source": [
    "## Imports and useful funcs"
   ],
   "metadata": {
    "collapsed": false
   }
  },
  {
   "cell_type": "code",
   "execution_count": 1,
   "outputs": [],
   "source": [
    "runs_folder = 'Macro_TESA_Lin5'\n",
    "\n"
   ],
   "metadata": {
    "collapsed": false,
    "pycharm": {
     "name": "#%%\n"
    }
   }
  },
  {
   "cell_type": "code",
   "execution_count": 2,
   "outputs": [],
   "source": [
    "from torch.utils.data import DataLoader\n",
    "from Solvation_1.my_nets.Create_dataset import *\n",
    "from Solvation_1.Vectorizers.vectorizers import *\n",
    "from Solvation_1.my_nets.LinearNet import *\n",
    "from Solvation_1.my_nets.net_func import *"
   ],
   "metadata": {
    "collapsed": false,
    "pycharm": {
     "name": "#%%\n"
    }
   }
  },
  {
   "cell_type": "markdown",
   "source": [
    "## Create dataset"
   ],
   "metadata": {
    "collapsed": false
   }
  },
  {
   "cell_type": "code",
   "execution_count": 3,
   "metadata": {
    "collapsed": true
   },
   "outputs": [],
   "source": [
    "table_v1 = pd.read_csv(project_path('Solvation_1/Tables/table_SS_v1.csv'))\n",
    "dataset = SS_Dataset(table_v1, 'solvent_macro_props1', 'solute_TESA')\n",
    "len_data = dataset.__len__()\n",
    "val_data = len_data // 10\n",
    "train_dataset, val_dataset = torch.utils.data.random_split(dataset, [len_data - val_data, val_data])\n",
    "\n",
    "solvent_table = pd.read_table(project_path('Solvation_1/Tables/solvent_test_table_v1.tsv'))\n",
    "solute_table = pd.read_table(project_path('Solvation_1/Tables/solute_test_table_v1.tsv'))\n",
    "solvent_test_dataset = SS_Dataset(solvent_table, 'solvent_macro_props1', 'solute_TESA')\n",
    "solute_test_dataset = SS_Dataset(solute_table, 'solvent_macro_props1', 'solute_TESA')\n",
    "\n",
    "train_loader = DataLoader(train_dataset, batch_size=64, shuffle=True)\n",
    "\n",
    "val_loader = DataLoader(val_dataset, batch_size=16, shuffle=False)\n",
    "\n",
    "solvent_test_loader = DataLoader(solvent_test_dataset, batch_size=46, shuffle=False)\n",
    "solute_test_loader = DataLoader(solute_test_dataset, batch_size=64, shuffle=False)"
   ]
  },
  {
   "cell_type": "markdown",
   "source": [
    "## Train Network"
   ],
   "metadata": {
    "collapsed": false
   }
  },
  {
   "cell_type": "code",
   "execution_count": 4,
   "outputs": [
    {
     "data": {
      "text/plain": "torch.Size([1, 16])"
     },
     "execution_count": 4,
     "metadata": {},
     "output_type": "execute_result"
    }
   ],
   "source": [
    "x, y = next(iter(dataset))\n",
    "x.shape"
   ],
   "metadata": {
    "collapsed": false,
    "pycharm": {
     "name": "#%%\n"
    }
   }
  },
  {
   "cell_type": "code",
   "execution_count": 5,
   "outputs": [
    {
     "name": "stderr",
     "output_type": "stream",
     "text": [
      "100%|██████████| 25/25 [00:00<00:00, 27.58it/s]\n"
     ]
    },
    {
     "name": "stdout",
     "output_type": "stream",
     "text": [
      "/Users/balepka/PycharmProjects/msuAI/Solvation_1/../Solvation_1/Runs/Macro_TESA_Lin5/ep_0.pt\n",
      "Validation loss decreased (10000000000000000.000000 --> 2.694940).  Saving model ...\n",
      "/Users/balepka/PycharmProjects/msuAI/Solvation_1/../Solvation_1/Runs/Macro_TESA_Lin5/ep_0.pt\n",
      "epoch 0 -> 2.6949400901794434\n"
     ]
    },
    {
     "name": "stderr",
     "output_type": "stream",
     "text": [
      "100%|██████████| 25/25 [00:00<00:00, 30.99it/s]\n",
      "100%|██████████| 25/25 [00:00<00:00, 31.03it/s]\n",
      "100%|██████████| 25/25 [00:00<00:00, 31.02it/s]\n",
      "100%|██████████| 25/25 [00:01<00:00, 21.19it/s]\n",
      "100%|██████████| 25/25 [00:00<00:00, 26.35it/s]\n"
     ]
    },
    {
     "name": "stdout",
     "output_type": "stream",
     "text": [
      "/Users/balepka/PycharmProjects/msuAI/Solvation_1/../Solvation_1/Runs/Macro_TESA_Lin5/ep_5.pt\n",
      "Validation loss decreased (2.694940 --> 1.460458).  Saving model ...\n",
      "/Users/balepka/PycharmProjects/msuAI/Solvation_1/../Solvation_1/Runs/Macro_TESA_Lin5/ep_5.pt\n",
      "epoch 5 -> 1.460457682609558\n"
     ]
    },
    {
     "name": "stderr",
     "output_type": "stream",
     "text": [
      "100%|██████████| 25/25 [00:00<00:00, 30.52it/s]\n",
      "100%|██████████| 25/25 [00:00<00:00, 25.14it/s]\n",
      "100%|██████████| 25/25 [00:00<00:00, 32.07it/s]\n",
      "100%|██████████| 25/25 [00:00<00:00, 31.06it/s]\n",
      "100%|██████████| 25/25 [00:00<00:00, 25.29it/s]\n"
     ]
    },
    {
     "name": "stdout",
     "output_type": "stream",
     "text": [
      "/Users/balepka/PycharmProjects/msuAI/Solvation_1/../Solvation_1/Runs/Macro_TESA_Lin5/ep_10.pt\n",
      "Validation loss decreased (1.460458 --> 0.943209).  Saving model ...\n",
      "/Users/balepka/PycharmProjects/msuAI/Solvation_1/../Solvation_1/Runs/Macro_TESA_Lin5/ep_10.pt\n",
      "epoch 10 -> 0.9432094097137451\n"
     ]
    },
    {
     "name": "stderr",
     "output_type": "stream",
     "text": [
      "100%|██████████| 25/25 [00:00<00:00, 31.60it/s]\n"
     ]
    }
   ],
   "source": [
    "in_feat = next(iter(dataset))[0].shape[-1]\n",
    "verbose = False\n",
    "model = LinearNet3(in_features = in_feat)\n",
    "loss_function = nn.MSELoss(reduction='sum')\n",
    "optimizer = torch.optim.Adam(model.parameters())\n",
    "model.train()\n",
    "\n",
    "MSE = train(model,train_loader, val_loader, solvent_test_loader, solute_test_loader, loss_function, optimizer, epochs=12, ckp_path=runs_folder)"
   ],
   "metadata": {
    "collapsed": false,
    "pycharm": {
     "name": "#%%\n"
    }
   }
  },
  {
   "cell_type": "code",
   "execution_count": 6,
   "outputs": [
    {
     "data": {
      "text/plain": "1571"
     },
     "execution_count": 6,
     "metadata": {},
     "output_type": "execute_result"
    }
   ],
   "source": [
    "len(train_loader.dataset)"
   ],
   "metadata": {
    "collapsed": false,
    "pycharm": {
     "name": "#%%\n"
    }
   }
  },
  {
   "cell_type": "code",
   "execution_count": null,
   "outputs": [],
   "source": [],
   "metadata": {
    "collapsed": false,
    "pycharm": {
     "name": "#%%\n"
    }
   }
  }
 ],
 "metadata": {
  "kernelspec": {
   "display_name": "Python 3",
   "language": "python",
   "name": "python3"
  },
  "language_info": {
   "codemirror_mode": {
    "name": "ipython",
    "version": 2
   },
   "file_extension": ".py",
   "mimetype": "text/x-python",
   "name": "python",
   "nbconvert_exporter": "python",
   "pygments_lexer": "ipython2",
   "version": "2.7.6"
  }
 },
 "nbformat": 4,
 "nbformat_minor": 0
}