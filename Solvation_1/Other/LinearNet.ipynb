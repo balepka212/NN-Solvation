{
 "cells": [
  {
   "cell_type": "markdown",
   "source": [
    " # DESCRIPTION\n",
    "\n",
    "As solvent input - its nD, alpha, beta, gamma, epsilon, phi, psi\n",
    "As solute input - its classes - levels 1, 2, 3\n",
    "Linear network:\n",
    "    Linear(10, 512)\n",
    "    ReLU\n",
    "    Linear(512, 128)\n",
    "    ReLU\n",
    "    Linear(128, 10)\n",
    "    ReLU\n",
    "    Linear(10, 1)"
   ],
   "metadata": {
    "collapsed": false
   }
  },
  {
   "cell_type": "markdown",
   "source": [
    "# Importing"
   ],
   "metadata": {
    "collapsed": false
   }
  },
  {
   "cell_type": "code",
   "execution_count": 1,
   "outputs": [],
   "source": [
    "LinearNet.ipynbimport pandas as pd\n",
    "import numpy as np\n",
    "import torch\n",
    "import torch.nn as nn\n",
    "import torch.nn.functional as F"
   ],
   "metadata": {
    "collapsed": false,
    "pycharm": {
     "name": "#%%\n"
    }
   }
  },
  {
   "cell_type": "markdown",
   "source": [
    "# Deleting charges species"
   ],
   "metadata": {
    "collapsed": false
   }
  },
  {
   "cell_type": "code",
   "execution_count": 2,
   "outputs": [],
   "source": [
    "filename = r'/Users/balepka/Yandex.Disk.localized/Study/Lab/Neural Network/MNSol-v2009_energies_v2.tsv'\n",
    "with open(filename) as f:\n",
    "    t=0\n",
    "    data = pd.read_table(f)\n",
    "    df1 = pd.DataFrame(data)\n",
    "\n",
    "df2 = df1.loc[df1['Charge'].isin([0])]"
   ],
   "metadata": {
    "collapsed": false,
    "pycharm": {
     "name": "#%%\n"
    }
   }
  },
  {
   "cell_type": "code",
   "execution_count": 3,
   "outputs": [
    {
     "data": {
      "text/plain": "   No. FileHandle SoluteName  Charge  Level1  Level2  Level3     Solvent  \\\n0    1    0400hyd   hydrogen       0       1       1       0       water   \n1    2    0400hyd   hydrogen       0       1       1       0  hexadecane   \n2    3    0400hyd   hydrogen       0       1       1       0     octanol   \n3    4    0216amm    ammonia       0       1       2       0       water   \n4    5    0216amm    ammonia       0       1       2       0  hexadecane   \n5    6    0216amm    ammonia       0       1       2       0     benzene   \n\n   DeltaGsolv type  ...    S   HS   SS    P   OP   SP   Si  OSi   OS  \\\n0        2.33  abs  ...  0.0  0.0  0.0  0.0  0.0  0.0  0.0  0.0  0.0   \n1        1.64  abs  ...  0.0  0.0  0.0  0.0  0.0  0.0  0.0  0.0  0.0   \n2        1.76  abs  ...  0.0  0.0  0.0  0.0  0.0  0.0  0.0  0.0  0.0   \n3       -4.29  abs  ...  0.0  0.0  0.0  0.0  0.0  0.0  0.0  0.0  0.0   \n4       -0.93  abs  ...  0.0  0.0  0.0  0.0  0.0  0.0  0.0  0.0  0.0   \n5       -1.12  abs  ...  0.0  0.0  0.0  0.0  0.0  0.0  0.0  0.0  0.0   \n\n   TotalArea  \n0     39.747  \n1     39.747  \n2     39.747  \n3     62.789  \n4     62.789  \n5     62.789  \n\n[6 rows x 49 columns]",
      "text/html": "<div>\n<style scoped>\n    .dataframe tbody tr th:only-of-type {\n        vertical-align: middle;\n    }\n\n    .dataframe tbody tr th {\n        vertical-align: top;\n    }\n\n    .dataframe thead th {\n        text-align: right;\n    }\n</style>\n<table border=\"1\" class=\"dataframe\">\n  <thead>\n    <tr style=\"text-align: right;\">\n      <th></th>\n      <th>No.</th>\n      <th>FileHandle</th>\n      <th>SoluteName</th>\n      <th>Charge</th>\n      <th>Level1</th>\n      <th>Level2</th>\n      <th>Level3</th>\n      <th>Solvent</th>\n      <th>DeltaGsolv</th>\n      <th>type</th>\n      <th>...</th>\n      <th>S</th>\n      <th>HS</th>\n      <th>SS</th>\n      <th>P</th>\n      <th>OP</th>\n      <th>SP</th>\n      <th>Si</th>\n      <th>OSi</th>\n      <th>OS</th>\n      <th>TotalArea</th>\n    </tr>\n  </thead>\n  <tbody>\n    <tr>\n      <th>0</th>\n      <td>1</td>\n      <td>0400hyd</td>\n      <td>hydrogen</td>\n      <td>0</td>\n      <td>1</td>\n      <td>1</td>\n      <td>0</td>\n      <td>water</td>\n      <td>2.33</td>\n      <td>abs</td>\n      <td>...</td>\n      <td>0.0</td>\n      <td>0.0</td>\n      <td>0.0</td>\n      <td>0.0</td>\n      <td>0.0</td>\n      <td>0.0</td>\n      <td>0.0</td>\n      <td>0.0</td>\n      <td>0.0</td>\n      <td>39.747</td>\n    </tr>\n    <tr>\n      <th>1</th>\n      <td>2</td>\n      <td>0400hyd</td>\n      <td>hydrogen</td>\n      <td>0</td>\n      <td>1</td>\n      <td>1</td>\n      <td>0</td>\n      <td>hexadecane</td>\n      <td>1.64</td>\n      <td>abs</td>\n      <td>...</td>\n      <td>0.0</td>\n      <td>0.0</td>\n      <td>0.0</td>\n      <td>0.0</td>\n      <td>0.0</td>\n      <td>0.0</td>\n      <td>0.0</td>\n      <td>0.0</td>\n      <td>0.0</td>\n      <td>39.747</td>\n    </tr>\n    <tr>\n      <th>2</th>\n      <td>3</td>\n      <td>0400hyd</td>\n      <td>hydrogen</td>\n      <td>0</td>\n      <td>1</td>\n      <td>1</td>\n      <td>0</td>\n      <td>octanol</td>\n      <td>1.76</td>\n      <td>abs</td>\n      <td>...</td>\n      <td>0.0</td>\n      <td>0.0</td>\n      <td>0.0</td>\n      <td>0.0</td>\n      <td>0.0</td>\n      <td>0.0</td>\n      <td>0.0</td>\n      <td>0.0</td>\n      <td>0.0</td>\n      <td>39.747</td>\n    </tr>\n    <tr>\n      <th>3</th>\n      <td>4</td>\n      <td>0216amm</td>\n      <td>ammonia</td>\n      <td>0</td>\n      <td>1</td>\n      <td>2</td>\n      <td>0</td>\n      <td>water</td>\n      <td>-4.29</td>\n      <td>abs</td>\n      <td>...</td>\n      <td>0.0</td>\n      <td>0.0</td>\n      <td>0.0</td>\n      <td>0.0</td>\n      <td>0.0</td>\n      <td>0.0</td>\n      <td>0.0</td>\n      <td>0.0</td>\n      <td>0.0</td>\n      <td>62.789</td>\n    </tr>\n    <tr>\n      <th>4</th>\n      <td>5</td>\n      <td>0216amm</td>\n      <td>ammonia</td>\n      <td>0</td>\n      <td>1</td>\n      <td>2</td>\n      <td>0</td>\n      <td>hexadecane</td>\n      <td>-0.93</td>\n      <td>abs</td>\n      <td>...</td>\n      <td>0.0</td>\n      <td>0.0</td>\n      <td>0.0</td>\n      <td>0.0</td>\n      <td>0.0</td>\n      <td>0.0</td>\n      <td>0.0</td>\n      <td>0.0</td>\n      <td>0.0</td>\n      <td>62.789</td>\n    </tr>\n    <tr>\n      <th>5</th>\n      <td>6</td>\n      <td>0216amm</td>\n      <td>ammonia</td>\n      <td>0</td>\n      <td>1</td>\n      <td>2</td>\n      <td>0</td>\n      <td>benzene</td>\n      <td>-1.12</td>\n      <td>abs</td>\n      <td>...</td>\n      <td>0.0</td>\n      <td>0.0</td>\n      <td>0.0</td>\n      <td>0.0</td>\n      <td>0.0</td>\n      <td>0.0</td>\n      <td>0.0</td>\n      <td>0.0</td>\n      <td>0.0</td>\n      <td>62.789</td>\n    </tr>\n  </tbody>\n</table>\n<p>6 rows × 49 columns</p>\n</div>"
     },
     "execution_count": 3,
     "metadata": {},
     "output_type": "execute_result"
    }
   ],
   "source": [
    "df2.head(6)"
   ],
   "metadata": {
    "collapsed": false,
    "pycharm": {
     "name": "#%%\n"
    }
   }
  },
  {
   "cell_type": "markdown",
   "source": [
    "# Deleting solvent mixtures"
   ],
   "metadata": {
    "collapsed": false
   }
  },
  {
   "cell_type": "code",
   "execution_count": 4,
   "outputs": [],
   "source": [
    "filename2 = r'/Users/balepka/Yandex.Disk.localized/Study/Lab/Neural Network/MNSolDatabase_v2012/Solvent_properties.tsv'\n",
    "with open(filename2) as f:\n",
    "    data = pd.read_table(f, header=1)\n",
    "    solvent_props = pd.DataFrame(data)"
   ],
   "metadata": {
    "collapsed": false,
    "pycharm": {
     "name": "#%%\n"
    }
   }
  },
  {
   "cell_type": "code",
   "execution_count": 5,
   "outputs": [
    {
     "name": "stdout",
     "output_type": "stream",
     "text": [
      "octanol-water\n",
      "diethylether-water\n",
      "chloroform-water\n",
      "heptane-water\n",
      "isopropyltoluene\n",
      "cyclohexane-water\n",
      "benzene-water\n",
      "ethylacetate-water\n",
      "dichloroethane-water\n",
      "carbontet-water\n",
      "hexane-water\n",
      "butanol-water\n",
      "dibutylether-water\n",
      "chlorobenzene-water\n",
      "dibromoethane-water\n",
      "nitrobenzene-water\n"
     ]
    }
   ],
   "source": [
    "names = []\n",
    "for name, count in df2['Solvent'].value_counts().items():\n",
    "    row = solvent_props.loc[solvent_props['Name'] == name]\n",
    "    values = np.array(row[['nD', 'alpha', 'beta', 'gamma', 'epsilon', 'phi', 'psi']])\n",
    "    # print(f'{name} -> {count} -> {values.shape[0]}')\n",
    "    if values.shape[0] == 0:\n",
    "        print(name)\n",
    "        names.append(name)\n",
    "df3 = df2.loc[~df2['Solvent'].isin(names)]\n",
    "\n"
   ],
   "metadata": {
    "collapsed": false,
    "pycharm": {
     "name": "#%%\n"
    }
   }
  },
  {
   "cell_type": "markdown",
   "source": [
    "CREATING X and y"
   ],
   "metadata": {
    "collapsed": false
   }
  },
  {
   "cell_type": "code",
   "execution_count": 6,
   "outputs": [],
   "source": [
    "X1 = torch.from_numpy(df3.iloc[:, 4:7].values).float()\n",
    "X2 = df3['Solvent'].values\n",
    "X3 = pd.DataFrame()\n",
    "for s in X2:\n",
    "    # print(s)\n",
    "    # print(solvent_props.loc[solvent_props['Name'] == s])\n",
    "    X3 = X3.append(solvent_props.loc[solvent_props['Name'] == s])\n",
    "X4 = torch.from_numpy(X3.iloc[:, 2:9].values).float()\n",
    "X = torch.hstack((X1, X4))\n",
    "y = torch.from_numpy(df3['DeltaGsolv'].values).float()"
   ],
   "metadata": {
    "collapsed": false,
    "pycharm": {
     "name": "#%%\n"
    }
   }
  },
  {
   "cell_type": "code",
   "execution_count": 7,
   "outputs": [
    {
     "data": {
      "text/plain": "torch.Size([2411, 10])"
     },
     "execution_count": 7,
     "metadata": {},
     "output_type": "execute_result"
    }
   ],
   "source": [
    "X.shape"
   ],
   "metadata": {
    "collapsed": false,
    "pycharm": {
     "name": "#%%\n"
    }
   }
  },
  {
   "cell_type": "markdown",
   "source": [
    "# Define linear FC network"
   ],
   "metadata": {
    "collapsed": false
   }
  },
  {
   "cell_type": "code",
   "execution_count": 8,
   "outputs": [],
   "source": [
    "class FCNet(nn.Module):\n",
    "    def __init__(self, x_len = 10):\n",
    "        self.x_len = x_len\n",
    "        super().__init__()\n",
    "        self.fc1 = nn.Linear(self.x_len, 512)\n",
    "        self.fc2 = nn.Linear(512, 128)\n",
    "        self.fc3 = nn.Linear(128, 10)\n",
    "        self.fc4 = nn.Linear(10, 1)\n",
    "\n",
    "    def forward(self, x):  # Forward will be Called from  parent __call__ method\n",
    "        x = x.view(-1, self.x_len)\n",
    "        x = self.fc1(x)\n",
    "        x = F.relu(x)\n",
    "        x = self.fc2(x)\n",
    "        x = F.relu(x)\n",
    "        x = self.fc3(x)\n",
    "        x = F.relu(x)\n",
    "        x = self.fc4(x)\n",
    "        return x"
   ],
   "metadata": {
    "collapsed": false,
    "pycharm": {
     "name": "#%%\n"
    }
   }
  },
  {
   "cell_type": "code",
   "execution_count": 9,
   "outputs": [],
   "source": [
    "np.random.seed(42)\n",
    "ids = np.random.permutation(X.shape[0])\n",
    "val_start = int(X.shape[0] * 0.8)\n",
    "test_start = int(X.shape[0] * 0.9)\n",
    "\n",
    "train_ids = ids[:val_start]\n",
    "val_ids = ids[val_start:test_start]\n",
    "test_ids = ids[test_start:]\n",
    "\n",
    "\n",
    "X_train, X_val, X_test, y_train, y_val, y_test = X[train_ids], X[val_ids], X[test_ids], y[train_ids], y[val_ids], y[test_ids]"
   ],
   "metadata": {
    "collapsed": false,
    "pycharm": {
     "name": "#%%\n"
    }
   }
  },
  {
   "cell_type": "code",
   "execution_count": 10,
   "outputs": [],
   "source": [
    "mean = X_train.mean(axis=0)\n",
    "std = X_train.std(axis=0)\n",
    "X_train = (X_train - mean) / std\n",
    "X_val = (X_val - mean) / std\n",
    "X_test = (X_test - mean) / std"
   ],
   "metadata": {
    "collapsed": false,
    "pycharm": {
     "name": "#%%\n"
    }
   }
  },
  {
   "cell_type": "code",
   "execution_count": 19,
   "outputs": [
    {
     "name": "stdout",
     "output_type": "stream",
     "text": [
      "FCNet(\n",
      "  (fc1): Linear(in_features=10, out_features=512, bias=True)\n",
      "  (fc2): Linear(in_features=512, out_features=128, bias=True)\n",
      "  (fc3): Linear(in_features=128, out_features=10, bias=True)\n",
      "  (fc4): Linear(in_features=10, out_features=1, bias=True)\n",
      ")\n"
     ]
    }
   ],
   "source": [
    "device = torch.device('cuda' if torch.cuda.is_available() else 'cpu')\n",
    "model = FCNet().to(device)\n",
    "print(model)\n",
    "criterion = nn.MSELoss()\n",
    "optimizer = torch.optim.Adam(model.parameters())"
   ],
   "metadata": {
    "collapsed": false,
    "pycharm": {
     "name": "#%%\n"
    }
   }
  },
  {
   "cell_type": "code",
   "execution_count": null,
   "outputs": [],
   "source": [],
   "metadata": {
    "collapsed": false,
    "pycharm": {
     "name": "#%%\n"
    }
   }
  },
  {
   "cell_type": "code",
   "execution_count": 21,
   "outputs": [
    {
     "data": {
      "text/plain": "torch.Tensor"
     },
     "execution_count": 21,
     "metadata": {},
     "output_type": "execute_result"
    }
   ],
   "source": [
    "type(X_train)"
   ],
   "metadata": {
    "collapsed": false,
    "pycharm": {
     "name": "#%%\n"
    }
   }
  },
  {
   "cell_type": "code",
   "execution_count": 20,
   "outputs": [
    {
     "name": "stderr",
     "output_type": "stream",
     "text": [
      "100%|██████████| 1/1 [00:00<00:00, 101.12it/s]"
     ]
    },
    {
     "name": "stdout",
     "output_type": "stream",
     "text": [
      "torch.Size([1928, 10])\n",
      "tensor([[0.2722],\n",
      "        [0.2691],\n",
      "        [0.2685],\n",
      "        ...,\n",
      "        [0.2513],\n",
      "        [0.2665],\n",
      "        [0.2913]], grad_fn=<AddmmBackward0>)\n"
     ]
    },
    {
     "name": "stderr",
     "output_type": "stream",
     "text": [
      "\n"
     ]
    }
   ],
   "source": [
    "from tqdm import tqdm\n",
    "train_loss = []\n",
    "val_loss = []\n",
    "for epoch in tqdm(range(1)):\n",
    "    optimizer.zero_grad()\n",
    "    print(X_train.shape)\n",
    "    y_pred = model(X_train.to(device))\n",
    "    print(y_pred)\n",
    "    loss = criterion(y_pred.squeeze(), y_train.to(device))\n",
    "    loss.backward()\n",
    "    train_loss.append(loss.item())\n",
    "    optimizer.step()\n",
    "\n",
    "    with torch.no_grad():\n",
    "        y_pred = model(X_val.to(device))\n",
    "        loss = criterion(y_pred.squeeze(), y_val.to(device))\n",
    "        val_loss.append(loss.item())"
   ],
   "metadata": {
    "collapsed": false,
    "pycharm": {
     "name": "#%%\n"
    }
   }
  },
  {
   "cell_type": "code",
   "execution_count": 13,
   "outputs": [
    {
     "data": {
      "text/plain": "<Figure size 432x288 with 1 Axes>",
      "image/png": "[encoded data removed]"
     },
     "metadata": {
      "needs_background": "light"
     },
     "output_type": "display_data"
    }
   ],
   "source": [
    "import matplotlib.pyplot as plt\n",
    "\n",
    "plt.plot(train_loss, label=\"train\")\n",
    "plt.plot(val_loss, label=\"val\")\n",
    "plt.legend()\n",
    "plt.show()"
   ],
   "metadata": {
    "collapsed": false,
    "pycharm": {
     "name": "#%%\n"
    }
   }
  },
  {
   "cell_type": "code",
   "execution_count": 14,
   "outputs": [
    {
     "name": "stdout",
     "output_type": "stream",
     "text": [
      "tensor(3.3504)\n"
     ]
    }
   ],
   "source": [
    "with torch.no_grad():\n",
    "  y_pred = model(X_test.to(device))\n",
    "  test_loss = criterion(y_pred.squeeze(), y_test.to(device))\n",
    "  print(test_loss)"
   ],
   "metadata": {
    "collapsed": false,
    "pycharm": {
     "name": "#%%\n"
    }
   }
  },
  {
   "cell_type": "markdown",
   "source": [
    "# Review the results"
   ],
   "metadata": {
    "collapsed": false
   }
  },
  {
   "cell_type": "code",
   "execution_count": 15,
   "outputs": [],
   "source": [
    "df4 = df3.reset_index()"
   ],
   "metadata": {
    "collapsed": false,
    "pycharm": {
     "name": "#%%\n"
    }
   }
  },
  {
   "cell_type": "code",
   "execution_count": 16,
   "outputs": [],
   "source": [
    "test_df = pd.DataFrame()\n",
    "row = {'index': test_ids,\n",
    "       'Solvent': df4.iloc[test_ids]['Solvent'].values,\n",
    "       'Solute': df4.iloc[test_ids]['SoluteName'].values,\n",
    "       'dG': y_test,\n",
    "       'pred dG': y_pred[:, 0],\n",
    "       'delta': abs(y_test - y_pred[:, 0])}\n",
    "# print(row)\n",
    "test_results = pd.DataFrame.from_dict(row)"
   ],
   "metadata": {
    "collapsed": false,
    "pycharm": {
     "name": "#%%\n"
    }
   }
  },
  {
   "cell_type": "code",
   "execution_count": 16,
   "outputs": [],
   "source": [],
   "metadata": {
    "collapsed": false,
    "pycharm": {
     "name": "#%%\n"
    }
   }
  }
 ],
 "metadata": {
  "kernelspec": {
   "display_name": "Python 3",
   "language": "python",
   "name": "python3"
  },
  "language_info": {
   "codemirror_mode": {
    "name": "ipython",
    "version": 2
   },
   "file_extension": ".py",
   "mimetype": "text/x-python",
   "name": "python",
   "nbconvert_exporter": "python",
   "pygments_lexer": "ipython2",
   "version": "2.7.6"
  }
 },
 "nbformat": 4,
 "nbformat_minor": 0
}