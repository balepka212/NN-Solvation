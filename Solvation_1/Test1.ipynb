{
 "cells": [
  {
   "cell_type": "code",
   "execution_count": 1,
   "metadata": {
    "collapsed": true
   },
   "outputs": [],
   "source": [
    "import pandas as pd\n",
    "from pyarrow import feather"
   ]
  },
  {
   "cell_type": "code",
   "execution_count": 2,
   "outputs": [
    {
     "data": {
      "text/plain": "       No. FileHandle                                         SoluteName  \\\n0        1    0400hyd                                           hydrogen   \n1        2    0400hyd                                           hydrogen   \n2        3    0400hyd                                           hydrogen   \n3        4    0216amm                                            ammonia   \n4        5    0216amm                                            ammonia   \n...    ...        ...                                                ...   \n2405  2919  test1058                          4-amino-4'-nitroazobenzene   \n2406  2920  test1059                      1-amino-4-anilinoanthraquinone   \n2407  2921  test1060                      1,4,5,8-tetraminoanthraquinone   \n2408  2922  test1061                               1-amino-anthraquinone   \n2409  2923  test1063   (2-dimethylamino-5,6-dimethyl-pyrimidin-4-yl) ...   \n\n      Charge  Level1  Level2  Level3     Solvent  DeltaGsolv type  ...    S  \\\n0          0       1       1       0       water        2.33  abs  ...  0.0   \n1          0       1       1       0  hexadecane        1.64  abs  ...  0.0   \n2          0       1       1       0     octanol        1.76  abs  ...  0.0   \n3          0       1       2       0       water       -4.29  abs  ...  0.0   \n4          0       1       2       0  hexadecane       -0.93  abs  ...  0.0   \n...      ...     ...     ...     ...         ...         ...  ...  ...  ...   \n2405       0       4       3       0       water      -11.20  abs  ...  0.0   \n2406       0       4       3       0       water       -7.40  abs  ...  0.0   \n2407       0       4       3       0       water       -8.90  abs  ...  0.0   \n2408       0       4       3       0       water       -8.00  abs  ...  0.0   \n2409       0       4       3       0       water       -9.40  abs  ...  0.0   \n\n       HS   SS    P   OP   SP   Si  OSi   OS  TotalArea  \n0     0.0  0.0  0.0  0.0  0.0  0.0  0.0  0.0     39.747  \n1     0.0  0.0  0.0  0.0  0.0  0.0  0.0  0.0     39.747  \n2     0.0  0.0  0.0  0.0  0.0  0.0  0.0  0.0     39.747  \n3     0.0  0.0  0.0  0.0  0.0  0.0  0.0  0.0     62.789  \n4     0.0  0.0  0.0  0.0  0.0  0.0  0.0  0.0     62.789  \n...   ...  ...  ...  ...  ...  ...  ...  ...        ...  \n2405  0.0  0.0  0.0  0.0  0.0  0.0  0.0  0.0    308.782  \n2406  0.0  0.0  0.0  0.0  0.0  0.0  0.0  0.0    365.448  \n2407  0.0  0.0  0.0  0.0  0.0  0.0  0.0  0.0    296.313  \n2408  0.0  0.0  0.0  0.0  0.0  0.0  0.0  0.0    265.743  \n2409  0.0  0.0  0.0  0.0  0.0  0.0  0.0  0.0    337.235  \n\n[2410 rows x 49 columns]",
      "text/html": "<div>\n<style scoped>\n    .dataframe tbody tr th:only-of-type {\n        vertical-align: middle;\n    }\n\n    .dataframe tbody tr th {\n        vertical-align: top;\n    }\n\n    .dataframe thead th {\n        text-align: right;\n    }\n</style>\n<table border=\"1\" class=\"dataframe\">\n  <thead>\n    <tr style=\"text-align: right;\">\n      <th></th>\n      <th>No.</th>\n      <th>FileHandle</th>\n      <th>SoluteName</th>\n      <th>Charge</th>\n      <th>Level1</th>\n      <th>Level2</th>\n      <th>Level3</th>\n      <th>Solvent</th>\n      <th>DeltaGsolv</th>\n      <th>type</th>\n      <th>...</th>\n      <th>S</th>\n      <th>HS</th>\n      <th>SS</th>\n      <th>P</th>\n      <th>OP</th>\n      <th>SP</th>\n      <th>Si</th>\n      <th>OSi</th>\n      <th>OS</th>\n      <th>TotalArea</th>\n    </tr>\n  </thead>\n  <tbody>\n    <tr>\n      <th>0</th>\n      <td>1</td>\n      <td>0400hyd</td>\n      <td>hydrogen</td>\n      <td>0</td>\n      <td>1</td>\n      <td>1</td>\n      <td>0</td>\n      <td>water</td>\n      <td>2.33</td>\n      <td>abs</td>\n      <td>...</td>\n      <td>0.0</td>\n      <td>0.0</td>\n      <td>0.0</td>\n      <td>0.0</td>\n      <td>0.0</td>\n      <td>0.0</td>\n      <td>0.0</td>\n      <td>0.0</td>\n      <td>0.0</td>\n      <td>39.747</td>\n    </tr>\n    <tr>\n      <th>1</th>\n      <td>2</td>\n      <td>0400hyd</td>\n      <td>hydrogen</td>\n      <td>0</td>\n      <td>1</td>\n      <td>1</td>\n      <td>0</td>\n      <td>hexadecane</td>\n      <td>1.64</td>\n      <td>abs</td>\n      <td>...</td>\n      <td>0.0</td>\n      <td>0.0</td>\n      <td>0.0</td>\n      <td>0.0</td>\n      <td>0.0</td>\n      <td>0.0</td>\n      <td>0.0</td>\n      <td>0.0</td>\n      <td>0.0</td>\n      <td>39.747</td>\n    </tr>\n    <tr>\n      <th>2</th>\n      <td>3</td>\n      <td>0400hyd</td>\n      <td>hydrogen</td>\n      <td>0</td>\n      <td>1</td>\n      <td>1</td>\n      <td>0</td>\n      <td>octanol</td>\n      <td>1.76</td>\n      <td>abs</td>\n      <td>...</td>\n      <td>0.0</td>\n      <td>0.0</td>\n      <td>0.0</td>\n      <td>0.0</td>\n      <td>0.0</td>\n      <td>0.0</td>\n      <td>0.0</td>\n      <td>0.0</td>\n      <td>0.0</td>\n      <td>39.747</td>\n    </tr>\n    <tr>\n      <th>3</th>\n      <td>4</td>\n      <td>0216amm</td>\n      <td>ammonia</td>\n      <td>0</td>\n      <td>1</td>\n      <td>2</td>\n      <td>0</td>\n      <td>water</td>\n      <td>-4.29</td>\n      <td>abs</td>\n      <td>...</td>\n      <td>0.0</td>\n      <td>0.0</td>\n      <td>0.0</td>\n      <td>0.0</td>\n      <td>0.0</td>\n      <td>0.0</td>\n      <td>0.0</td>\n      <td>0.0</td>\n      <td>0.0</td>\n      <td>62.789</td>\n    </tr>\n    <tr>\n      <th>4</th>\n      <td>5</td>\n      <td>0216amm</td>\n      <td>ammonia</td>\n      <td>0</td>\n      <td>1</td>\n      <td>2</td>\n      <td>0</td>\n      <td>hexadecane</td>\n      <td>-0.93</td>\n      <td>abs</td>\n      <td>...</td>\n      <td>0.0</td>\n      <td>0.0</td>\n      <td>0.0</td>\n      <td>0.0</td>\n      <td>0.0</td>\n      <td>0.0</td>\n      <td>0.0</td>\n      <td>0.0</td>\n      <td>0.0</td>\n      <td>62.789</td>\n    </tr>\n    <tr>\n      <th>...</th>\n      <td>...</td>\n      <td>...</td>\n      <td>...</td>\n      <td>...</td>\n      <td>...</td>\n      <td>...</td>\n      <td>...</td>\n      <td>...</td>\n      <td>...</td>\n      <td>...</td>\n      <td>...</td>\n      <td>...</td>\n      <td>...</td>\n      <td>...</td>\n      <td>...</td>\n      <td>...</td>\n      <td>...</td>\n      <td>...</td>\n      <td>...</td>\n      <td>...</td>\n      <td>...</td>\n    </tr>\n    <tr>\n      <th>2405</th>\n      <td>2919</td>\n      <td>test1058</td>\n      <td>4-amino-4'-nitroazobenzene</td>\n      <td>0</td>\n      <td>4</td>\n      <td>3</td>\n      <td>0</td>\n      <td>water</td>\n      <td>-11.20</td>\n      <td>abs</td>\n      <td>...</td>\n      <td>0.0</td>\n      <td>0.0</td>\n      <td>0.0</td>\n      <td>0.0</td>\n      <td>0.0</td>\n      <td>0.0</td>\n      <td>0.0</td>\n      <td>0.0</td>\n      <td>0.0</td>\n      <td>308.782</td>\n    </tr>\n    <tr>\n      <th>2406</th>\n      <td>2920</td>\n      <td>test1059</td>\n      <td>1-amino-4-anilinoanthraquinone</td>\n      <td>0</td>\n      <td>4</td>\n      <td>3</td>\n      <td>0</td>\n      <td>water</td>\n      <td>-7.40</td>\n      <td>abs</td>\n      <td>...</td>\n      <td>0.0</td>\n      <td>0.0</td>\n      <td>0.0</td>\n      <td>0.0</td>\n      <td>0.0</td>\n      <td>0.0</td>\n      <td>0.0</td>\n      <td>0.0</td>\n      <td>0.0</td>\n      <td>365.448</td>\n    </tr>\n    <tr>\n      <th>2407</th>\n      <td>2921</td>\n      <td>test1060</td>\n      <td>1,4,5,8-tetraminoanthraquinone</td>\n      <td>0</td>\n      <td>4</td>\n      <td>3</td>\n      <td>0</td>\n      <td>water</td>\n      <td>-8.90</td>\n      <td>abs</td>\n      <td>...</td>\n      <td>0.0</td>\n      <td>0.0</td>\n      <td>0.0</td>\n      <td>0.0</td>\n      <td>0.0</td>\n      <td>0.0</td>\n      <td>0.0</td>\n      <td>0.0</td>\n      <td>0.0</td>\n      <td>296.313</td>\n    </tr>\n    <tr>\n      <th>2408</th>\n      <td>2922</td>\n      <td>test1061</td>\n      <td>1-amino-anthraquinone</td>\n      <td>0</td>\n      <td>4</td>\n      <td>3</td>\n      <td>0</td>\n      <td>water</td>\n      <td>-8.00</td>\n      <td>abs</td>\n      <td>...</td>\n      <td>0.0</td>\n      <td>0.0</td>\n      <td>0.0</td>\n      <td>0.0</td>\n      <td>0.0</td>\n      <td>0.0</td>\n      <td>0.0</td>\n      <td>0.0</td>\n      <td>0.0</td>\n      <td>265.743</td>\n    </tr>\n    <tr>\n      <th>2409</th>\n      <td>2923</td>\n      <td>test1063</td>\n      <td>(2-dimethylamino-5,6-dimethyl-pyrimidin-4-yl) ...</td>\n      <td>0</td>\n      <td>4</td>\n      <td>3</td>\n      <td>0</td>\n      <td>water</td>\n      <td>-9.40</td>\n      <td>abs</td>\n      <td>...</td>\n      <td>0.0</td>\n      <td>0.0</td>\n      <td>0.0</td>\n      <td>0.0</td>\n      <td>0.0</td>\n      <td>0.0</td>\n      <td>0.0</td>\n      <td>0.0</td>\n      <td>0.0</td>\n      <td>337.235</td>\n    </tr>\n  </tbody>\n</table>\n<p>2410 rows × 49 columns</p>\n</div>"
     },
     "execution_count": 2,
     "metadata": {},
     "output_type": "execute_result"
    }
   ],
   "source": [
    "feather.read_feather('Tables/df3_f')"
   ],
   "metadata": {
    "collapsed": false,
    "pycharm": {
     "name": "#%%\n"
    }
   }
  },
  {
   "cell_type": "code",
   "execution_count": null,
   "outputs": [],
   "source": [],
   "metadata": {
    "collapsed": false,
    "pycharm": {
     "name": "#%%\n"
    }
   }
  }
 ],
 "metadata": {
  "kernelspec": {
   "display_name": "Python 3",
   "language": "python",
   "name": "python3"
  },
  "language_info": {
   "codemirror_mode": {
    "name": "ipython",
    "version": 2
   },
   "file_extension": ".py",
   "mimetype": "text/x-python",
   "name": "python",
   "nbconvert_exporter": "python",
   "pygments_lexer": "ipython2",
   "version": "2.7.6"
  }
 },
 "nbformat": 4,
 "nbformat_minor": 0
}