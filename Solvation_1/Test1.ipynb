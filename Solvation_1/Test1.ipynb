{
 "cells": [
  {
   "cell_type": "code",
   "execution_count": null,
   "outputs": [],
   "source": [],
   "metadata": {
    "collapsed": false,
    "pycharm": {
     "name": "#%%\n"
    }
   }
  },
  {
   "cell_type": "code",
   "execution_count": null,
   "outputs": [],
   "source": [],
   "metadata": {
    "collapsed": false,
    "pycharm": {
     "name": "#%%\n"
    }
   }
  },
  {
   "cell_type": "code",
   "execution_count": 1,
   "outputs": [],
   "source": [
    "import pickle\n",
    "\n",
    "import numpy as np\n",
    "import pandas as pd"
   ],
   "metadata": {
    "collapsed": false,
    "pycharm": {
     "name": "#%%\n"
    }
   }
  },
  {
   "cell_type": "code",
   "execution_count": 2,
   "outputs": [],
   "source": [
    "entire = pd.read_table('Tables/Entire_table.tsv')"
   ],
   "metadata": {
    "collapsed": false,
    "pycharm": {
     "name": "#%%\n"
    }
   }
  },
  {
   "cell_type": "code",
   "execution_count": 3,
   "outputs": [
    {
     "data": {
      "text/plain": "                                            Unnamed: 0  water  octanol  \\\n0                                              ethanol  -5.01    -4.36   \n1                                              toluene    NaN    -4.55   \n2                                           2-butanone  -3.64    -3.78   \n3                                             n-octane   2.89    -4.18   \n4                                         nitromethane  -3.95    -3.51   \n..                                                 ...    ...      ...   \n395                             methyl isopropyl ether    NaN    -4.64   \n396                            methyl isopropyl ether   -2.01      NaN   \n397                                     diethyl ether   -1.76      NaN   \n398                                          1-nonanol    NaN      NaN   \n399  (2-dimethylamino-5,6-dimethyl-pyrimidin-4-yl) ...  -9.40      NaN   \n\n     hexadecane  chloroform  cyclohexane  carbontet  benzene  diethylether  \\\n0         -2.03       -3.94        -2.42      -2.96    -3.42         -4.41   \n1         -4.54       -5.48        -4.90      -5.12    -5.32         -5.23   \n2         -3.12       -5.43        -3.48      -4.09    -4.46         -4.09   \n3         -5.02       -5.25        -5.63      -5.39    -5.35         -5.62   \n4         -2.58       -4.68        -2.86      -3.52    -4.50         -4.19   \n..          ...         ...          ...        ...      ...           ...   \n395         NaN         NaN          NaN        NaN      NaN           NaN   \n396         NaN         NaN          NaN        NaN      NaN           NaN   \n397         NaN         NaN          NaN        NaN      NaN           NaN   \n398         NaN         NaN          NaN        NaN      NaN           NaN   \n399         NaN         NaN          NaN        NaN      NaN           NaN   \n\n     heptane  ...  aceticacid  tetrahydrofuran  fluoroctane  dimethylpyridine  \\\n0      -2.15  ...       -5.25            -4.56          NaN             -4.87   \n1      -4.78  ...       -4.53            -5.50          NaN             -5.03   \n2      -3.36  ...       -4.80            -4.54          NaN             -4.34   \n3        NaN  ...       -3.93            -5.39          NaN             -4.88   \n4        NaN  ...       -4.88            -5.09          NaN               NaN   \n..       ...  ...         ...              ...          ...               ...   \n395      NaN  ...         NaN              NaN          NaN               NaN   \n396      NaN  ...         NaN              NaN          NaN               NaN   \n397      NaN  ...         NaN              NaN          NaN               NaN   \n398      NaN  ...         NaN              NaN          NaN               NaN   \n399      NaN  ...         NaN              NaN          NaN               NaN   \n\n     onitrotoluene  phenylether  2methylpyridine  methoxyethanol  \\\n0              NaN        -3.22            -5.01           -4.71   \n1              NaN        -4.86            -5.06           -4.49   \n2              NaN        -4.08            -4.52           -4.28   \n3              NaN        -4.38            -4.73           -3.71   \n4              NaN        -4.19              NaN           -5.06   \n..             ...          ...              ...             ...   \n395            NaN          NaN              NaN             NaN   \n396            NaN          NaN              NaN             NaN   \n397            NaN          NaN              NaN             NaN   \n398            NaN          NaN              NaN             NaN   \n399            NaN          NaN              NaN             NaN   \n\n     secbutylbenzene  bromooctane  \n0                NaN          NaN  \n1                NaN          NaN  \n2                NaN          NaN  \n3                NaN          NaN  \n4                NaN          NaN  \n..               ...          ...  \n395              NaN          NaN  \n396              NaN          NaN  \n397              NaN          NaN  \n398              NaN          NaN  \n399              NaN          NaN  \n\n[400 rows x 91 columns]",
      "text/html": "<div>\n<style scoped>\n    .dataframe tbody tr th:only-of-type {\n        vertical-align: middle;\n    }\n\n    .dataframe tbody tr th {\n        vertical-align: top;\n    }\n\n    .dataframe thead th {\n        text-align: right;\n    }\n</style>\n<table border=\"1\" class=\"dataframe\">\n  <thead>\n    <tr style=\"text-align: right;\">\n      <th></th>\n      <th>Unnamed: 0</th>\n      <th>water</th>\n      <th>octanol</th>\n      <th>hexadecane</th>\n      <th>chloroform</th>\n      <th>cyclohexane</th>\n      <th>carbontet</th>\n      <th>benzene</th>\n      <th>diethylether</th>\n      <th>heptane</th>\n      <th>...</th>\n      <th>aceticacid</th>\n      <th>tetrahydrofuran</th>\n      <th>fluoroctane</th>\n      <th>dimethylpyridine</th>\n      <th>onitrotoluene</th>\n      <th>phenylether</th>\n      <th>2methylpyridine</th>\n      <th>methoxyethanol</th>\n      <th>secbutylbenzene</th>\n      <th>bromooctane</th>\n    </tr>\n  </thead>\n  <tbody>\n    <tr>\n      <th>0</th>\n      <td>ethanol</td>\n      <td>-5.01</td>\n      <td>-4.36</td>\n      <td>-2.03</td>\n      <td>-3.94</td>\n      <td>-2.42</td>\n      <td>-2.96</td>\n      <td>-3.42</td>\n      <td>-4.41</td>\n      <td>-2.15</td>\n      <td>...</td>\n      <td>-5.25</td>\n      <td>-4.56</td>\n      <td>NaN</td>\n      <td>-4.87</td>\n      <td>NaN</td>\n      <td>-3.22</td>\n      <td>-5.01</td>\n      <td>-4.71</td>\n      <td>NaN</td>\n      <td>NaN</td>\n    </tr>\n    <tr>\n      <th>1</th>\n      <td>toluene</td>\n      <td>NaN</td>\n      <td>-4.55</td>\n      <td>-4.54</td>\n      <td>-5.48</td>\n      <td>-4.90</td>\n      <td>-5.12</td>\n      <td>-5.32</td>\n      <td>-5.23</td>\n      <td>-4.78</td>\n      <td>...</td>\n      <td>-4.53</td>\n      <td>-5.50</td>\n      <td>NaN</td>\n      <td>-5.03</td>\n      <td>NaN</td>\n      <td>-4.86</td>\n      <td>-5.06</td>\n      <td>-4.49</td>\n      <td>NaN</td>\n      <td>NaN</td>\n    </tr>\n    <tr>\n      <th>2</th>\n      <td>2-butanone</td>\n      <td>-3.64</td>\n      <td>-3.78</td>\n      <td>-3.12</td>\n      <td>-5.43</td>\n      <td>-3.48</td>\n      <td>-4.09</td>\n      <td>-4.46</td>\n      <td>-4.09</td>\n      <td>-3.36</td>\n      <td>...</td>\n      <td>-4.80</td>\n      <td>-4.54</td>\n      <td>NaN</td>\n      <td>-4.34</td>\n      <td>NaN</td>\n      <td>-4.08</td>\n      <td>-4.52</td>\n      <td>-4.28</td>\n      <td>NaN</td>\n      <td>NaN</td>\n    </tr>\n    <tr>\n      <th>3</th>\n      <td>n-octane</td>\n      <td>2.89</td>\n      <td>-4.18</td>\n      <td>-5.02</td>\n      <td>-5.25</td>\n      <td>-5.63</td>\n      <td>-5.39</td>\n      <td>-5.35</td>\n      <td>-5.62</td>\n      <td>NaN</td>\n      <td>...</td>\n      <td>-3.93</td>\n      <td>-5.39</td>\n      <td>NaN</td>\n      <td>-4.88</td>\n      <td>NaN</td>\n      <td>-4.38</td>\n      <td>-4.73</td>\n      <td>-3.71</td>\n      <td>NaN</td>\n      <td>NaN</td>\n    </tr>\n    <tr>\n      <th>4</th>\n      <td>nitromethane</td>\n      <td>-3.95</td>\n      <td>-3.51</td>\n      <td>-2.58</td>\n      <td>-4.68</td>\n      <td>-2.86</td>\n      <td>-3.52</td>\n      <td>-4.50</td>\n      <td>-4.19</td>\n      <td>NaN</td>\n      <td>...</td>\n      <td>-4.88</td>\n      <td>-5.09</td>\n      <td>NaN</td>\n      <td>NaN</td>\n      <td>NaN</td>\n      <td>-4.19</td>\n      <td>NaN</td>\n      <td>-5.06</td>\n      <td>NaN</td>\n      <td>NaN</td>\n    </tr>\n    <tr>\n      <th>...</th>\n      <td>...</td>\n      <td>...</td>\n      <td>...</td>\n      <td>...</td>\n      <td>...</td>\n      <td>...</td>\n      <td>...</td>\n      <td>...</td>\n      <td>...</td>\n      <td>...</td>\n      <td>...</td>\n      <td>...</td>\n      <td>...</td>\n      <td>...</td>\n      <td>...</td>\n      <td>...</td>\n      <td>...</td>\n      <td>...</td>\n      <td>...</td>\n      <td>...</td>\n      <td>...</td>\n    </tr>\n    <tr>\n      <th>395</th>\n      <td>methyl isopropyl ether</td>\n      <td>NaN</td>\n      <td>-4.64</td>\n      <td>NaN</td>\n      <td>NaN</td>\n      <td>NaN</td>\n      <td>NaN</td>\n      <td>NaN</td>\n      <td>NaN</td>\n      <td>NaN</td>\n      <td>...</td>\n      <td>NaN</td>\n      <td>NaN</td>\n      <td>NaN</td>\n      <td>NaN</td>\n      <td>NaN</td>\n      <td>NaN</td>\n      <td>NaN</td>\n      <td>NaN</td>\n      <td>NaN</td>\n      <td>NaN</td>\n    </tr>\n    <tr>\n      <th>396</th>\n      <td>methyl isopropyl ether</td>\n      <td>-2.01</td>\n      <td>NaN</td>\n      <td>NaN</td>\n      <td>NaN</td>\n      <td>NaN</td>\n      <td>NaN</td>\n      <td>NaN</td>\n      <td>NaN</td>\n      <td>NaN</td>\n      <td>...</td>\n      <td>NaN</td>\n      <td>NaN</td>\n      <td>NaN</td>\n      <td>NaN</td>\n      <td>NaN</td>\n      <td>NaN</td>\n      <td>NaN</td>\n      <td>NaN</td>\n      <td>NaN</td>\n      <td>NaN</td>\n    </tr>\n    <tr>\n      <th>397</th>\n      <td>diethyl ether</td>\n      <td>-1.76</td>\n      <td>NaN</td>\n      <td>NaN</td>\n      <td>NaN</td>\n      <td>NaN</td>\n      <td>NaN</td>\n      <td>NaN</td>\n      <td>NaN</td>\n      <td>NaN</td>\n      <td>...</td>\n      <td>NaN</td>\n      <td>NaN</td>\n      <td>NaN</td>\n      <td>NaN</td>\n      <td>NaN</td>\n      <td>NaN</td>\n      <td>NaN</td>\n      <td>NaN</td>\n      <td>NaN</td>\n      <td>NaN</td>\n    </tr>\n    <tr>\n      <th>398</th>\n      <td>1-nonanol</td>\n      <td>NaN</td>\n      <td>NaN</td>\n      <td>NaN</td>\n      <td>NaN</td>\n      <td>NaN</td>\n      <td>NaN</td>\n      <td>NaN</td>\n      <td>NaN</td>\n      <td>NaN</td>\n      <td>...</td>\n      <td>NaN</td>\n      <td>NaN</td>\n      <td>NaN</td>\n      <td>NaN</td>\n      <td>NaN</td>\n      <td>NaN</td>\n      <td>NaN</td>\n      <td>NaN</td>\n      <td>NaN</td>\n      <td>NaN</td>\n    </tr>\n    <tr>\n      <th>399</th>\n      <td>(2-dimethylamino-5,6-dimethyl-pyrimidin-4-yl) ...</td>\n      <td>-9.40</td>\n      <td>NaN</td>\n      <td>NaN</td>\n      <td>NaN</td>\n      <td>NaN</td>\n      <td>NaN</td>\n      <td>NaN</td>\n      <td>NaN</td>\n      <td>NaN</td>\n      <td>...</td>\n      <td>NaN</td>\n      <td>NaN</td>\n      <td>NaN</td>\n      <td>NaN</td>\n      <td>NaN</td>\n      <td>NaN</td>\n      <td>NaN</td>\n      <td>NaN</td>\n      <td>NaN</td>\n      <td>NaN</td>\n    </tr>\n  </tbody>\n</table>\n<p>400 rows × 91 columns</p>\n</div>"
     },
     "execution_count": 3,
     "metadata": {},
     "output_type": "execute_result"
    }
   ],
   "source": [
    "entire"
   ],
   "metadata": {
    "collapsed": false,
    "pycharm": {
     "name": "#%%\n"
    }
   }
  },
  {
   "cell_type": "code",
   "execution_count": 4,
   "outputs": [],
   "source": [
    "entire = entire.set_index('Unnamed: 0')"
   ],
   "metadata": {
    "collapsed": false,
    "pycharm": {
     "name": "#%%\n"
    }
   }
  },
  {
   "cell_type": "code",
   "execution_count": 5,
   "outputs": [
    {
     "data": {
      "text/plain": "'Unnamed: 0'"
     },
     "execution_count": 5,
     "metadata": {},
     "output_type": "execute_result"
    }
   ],
   "source": [
    "entire.index.name"
   ],
   "metadata": {
    "collapsed": false,
    "pycharm": {
     "name": "#%%\n"
    }
   }
  },
  {
   "cell_type": "code",
   "execution_count": null,
   "outputs": [],
   "source": [
    "sample_dict = ()\n",
    "for solvent in entire.columns.tolist():\n",
    "    for solute in entire.index.tolist():\n",
    "        print(f'{entire[solvent][solute]}')"
   ],
   "metadata": {
    "collapsed": false,
    "pycharm": {
     "name": "#%%\n"
    }
   }
  },
  {
   "cell_type": "code",
   "execution_count": 7,
   "outputs": [],
   "source": [
    "from my_nets.Create_dataset import *\n",
    "table_sample = entire[['water']].loc[['ethanol']]\n",
    "sample_ds = SS_Dataset(table_sample, 'solvent_macro_props1', 'solute_TESA')"
   ],
   "metadata": {
    "collapsed": false,
    "pycharm": {
     "name": "#%%\n"
    }
   }
  },
  {
   "cell_type": "code",
   "execution_count": null,
   "outputs": [],
   "source": [],
   "metadata": {
    "collapsed": false,
    "pycharm": {
     "name": "#%%\n"
    }
   }
  },
  {
   "cell_type": "code",
   "execution_count": 10,
   "outputs": [],
   "source": [
    "from torch.utils.data import DataLoader\n",
    "sample_loader = DataLoader(sample_ds)"
   ],
   "metadata": {
    "collapsed": false,
    "pycharm": {
     "name": "#%%\n"
    }
   }
  },
  {
   "cell_type": "code",
   "execution_count": 11,
   "outputs": [
    {
     "name": "stdout",
     "output_type": "stream",
     "text": [
      "tensor([[[  1.3328,   0.8200,   0.3500, 103.6200,  78.3600,   0.0000,   0.0000,\n",
      "           77.8510,  14.6630,  42.9450,   9.0070,   0.0000,  18.3550,   9.7300,\n",
      "            0.0000,   0.0000]]])\n",
      "tensor([-5.0100])\n"
     ]
    }
   ],
   "source": [
    "for data, G in sample_loader:\n",
    "    print(data)\n",
    "    print(G)"
   ],
   "metadata": {
    "collapsed": false,
    "pycharm": {
     "name": "#%%\n"
    }
   }
  },
  {
   "cell_type": "code",
   "execution_count": 20,
   "outputs": [
    {
     "ename": "SyntaxError",
     "evalue": "invalid syntax (1977828965.py, line 1)",
     "output_type": "error",
     "traceback": [
      "\u001B[0;36m  File \u001B[0;32m\"/var/folders/16/nd0f005x4vvdmqt98d96xfv00000gn/T/ipykernel_32797/1977828965.py\"\u001B[0;36m, line \u001B[0;32m1\u001B[0m\n\u001B[0;31m    entire.loc('water', :)\u001B[0m\n\u001B[0m                        ^\u001B[0m\n\u001B[0;31mSyntaxError\u001B[0m\u001B[0;31m:\u001B[0m invalid syntax\n"
     ]
    }
   ],
   "source": [
    "entire.loc('water', :)"
   ],
   "metadata": {
    "collapsed": false,
    "pycharm": {
     "name": "#%%\n"
    }
   }
  },
  {
   "cell_type": "code",
   "execution_count": 37,
   "outputs": [
    {
     "data": {
      "text/plain": "pandas.core.frame.DataFrame"
     },
     "execution_count": 37,
     "metadata": {},
     "output_type": "execute_result"
    }
   ],
   "source": [
    "type(entire)"
   ],
   "metadata": {
    "collapsed": false,
    "pycharm": {
     "name": "#%%\n"
    }
   }
  },
  {
   "cell_type": "code",
   "execution_count": 42,
   "outputs": [],
   "source": [
    "df1 = entire[['water']]"
   ],
   "metadata": {
    "collapsed": false,
    "pycharm": {
     "name": "#%%\n"
    }
   }
  },
  {
   "cell_type": "code",
   "execution_count": 70,
   "outputs": [
    {
     "data": {
      "text/plain": "            water\nUnnamed: 0       \nethanol     -5.01",
      "text/html": "<div>\n<style scoped>\n    .dataframe tbody tr th:only-of-type {\n        vertical-align: middle;\n    }\n\n    .dataframe tbody tr th {\n        vertical-align: top;\n    }\n\n    .dataframe thead th {\n        text-align: right;\n    }\n</style>\n<table border=\"1\" class=\"dataframe\">\n  <thead>\n    <tr style=\"text-align: right;\">\n      <th></th>\n      <th>water</th>\n    </tr>\n    <tr>\n      <th>Unnamed: 0</th>\n      <th></th>\n    </tr>\n  </thead>\n  <tbody>\n    <tr>\n      <th>ethanol</th>\n      <td>-5.01</td>\n    </tr>\n  </tbody>\n</table>\n</div>"
     },
     "execution_count": 70,
     "metadata": {},
     "output_type": "execute_result"
    }
   ],
   "source": [
    "entire[['water']].loc[['ethanol']]\n"
   ],
   "metadata": {
    "collapsed": false,
    "pycharm": {
     "name": "#%%\n"
    }
   }
  },
  {
   "cell_type": "code",
   "execution_count": null,
   "outputs": [],
   "source": [],
   "metadata": {
    "collapsed": false,
    "pycharm": {
     "name": "#%%\n"
    }
   }
  },
  {
   "cell_type": "code",
   "execution_count": null,
   "outputs": [],
   "source": [],
   "metadata": {
    "collapsed": false,
    "pycharm": {
     "name": "#%%\n"
    }
   }
  },
  {
   "cell_type": "code",
   "execution_count": 12,
   "outputs": [],
   "source": [
    "solvent = 'water'\n",
    "solute = 'ethanol'"
   ],
   "metadata": {
    "collapsed": false,
    "pycharm": {
     "name": "#%%\n"
    }
   }
  },
  {
   "cell_type": "code",
   "execution_count": 34,
   "outputs": [
    {
     "data": {
      "image/png": "[encoded data removed]",
      "text/plain": "<IPython.core.display.Image object>"
     },
     "execution_count": 34,
     "metadata": {},
     "output_type": "execute_result"
    }
   ],
   "source": [
    "    from rdkit import Chem\n",
    "    solvent_smiles = get_smiles(solvent)\n",
    "    solute_smiles = get_smiles(solute)\n",
    "    solvent_mol = Chem.MolFromSmiles(solvent_smiles)\n",
    "    solute_mol = Chem.MolFromSmiles(solute_smiles)\n",
    "    Chem.Draw.MolsToGridImage((solvent_mol,solute_mol))\n",
    "    # solvent_mol\n",
    "    # solute_mol"
   ],
   "metadata": {
    "collapsed": false,
    "pycharm": {
     "name": "#%%\n"
    }
   }
  },
  {
   "cell_type": "code",
   "execution_count": 38,
   "outputs": [],
   "source": [
    "x = Chem.Draw.MolsToGridImage((solvent_mol,solute_mol))\n"
   ],
   "metadata": {
    "collapsed": false,
    "pycharm": {
     "name": "#%%\n"
    }
   }
  },
  {
   "cell_type": "code",
   "execution_count": 41,
   "outputs": [
    {
     "data": {
      "image/png": "[encoded data removed]",
      "text/plain": "<IPython.core.display.Image object>"
     },
     "metadata": {},
     "output_type": "display_data"
    }
   ],
   "source": [
    "display(x)"
   ],
   "metadata": {
    "collapsed": false,
    "pycharm": {
     "name": "#%%\n"
    }
   }
  },
  {
   "cell_type": "code",
   "execution_count": 2,
   "outputs": [
    {
     "data": {
      "text/plain": "0"
     },
     "execution_count": 2,
     "metadata": {},
     "output_type": "execute_result"
    }
   ],
   "source": [
    "15%5"
   ],
   "metadata": {
    "collapsed": false,
    "pycharm": {
     "name": "#%%\n"
    }
   }
  },
  {
   "cell_type": "code",
   "execution_count": 5,
   "outputs": [
    {
     "data": {
      "text/plain": "1e+16"
     },
     "execution_count": 5,
     "metadata": {},
     "output_type": "execute_result"
    }
   ],
   "source": [
    "1e+16"
   ],
   "metadata": {
    "collapsed": false,
    "pycharm": {
     "name": "#%%\n"
    }
   }
  },
  {
   "cell_type": "code",
   "execution_count": 10,
   "outputs": [],
   "source": [
    "from my_nets.net_func import *\n",
    "from my_nets.LinearNet import LinearNet3\n",
    "from Solvation_1.config import *\n",
    "ckp_path = project_path('Solvation_1/Runs/Macro_TESA_Lin1_60.pt')\n",
    "\n",
    "model = LinearNet3(in_features = 16)\n",
    "loss_function = nn.MSELoss(reduction='sum')\n",
    "optimizer = torch.optim.Adam(model.parameters())\n",
    "model, optimizer, start_epoch, val_loss_min = load_ckp(ckp_path, model, optimizer)"
   ],
   "metadata": {
    "collapsed": false,
    "pycharm": {
     "name": "#%%\n"
    }
   }
  },
  {
   "cell_type": "code",
   "execution_count": 19,
   "outputs": [
    {
     "data": {
      "text/plain": "OrderedDict([('linear_relu_stack.0.weight',\n              tensor([[ 0.1270,  0.0895, -0.0068,  ..., -0.1914, -0.0793,  0.2717],\n                      [-0.1311,  0.0301,  0.2168,  ..., -0.2162, -0.0725, -0.0080],\n                      [-0.1098, -0.1503, -0.3257,  ..., -0.2003,  0.2508, -0.0311],\n                      ...,\n                      [-0.1462, -0.0085, -0.1034,  ...,  0.1087,  0.1157,  0.0218],\n                      [-0.0252, -0.1709, -0.0092,  ..., -0.0782,  0.2429, -0.2045],\n                      [ 0.0582,  0.0820,  0.3946,  ...,  0.2554,  0.1419, -0.1981]])),\n             ('linear_relu_stack.0.bias',\n              tensor([-1.9671e-01,  3.2156e-02,  1.2015e-01,  1.5963e-01,  3.4515e-01,\n                       2.0934e-01,  7.4711e-02,  3.1928e-01,  2.2085e-01, -1.5931e-01,\n                       5.9220e-02, -9.9872e-02, -3.0587e-02, -1.9686e-01,  2.4153e-01,\n                       2.2689e-01,  2.6045e-01, -1.6337e-01, -1.5742e-01, -1.8365e-01,\n                      -1.9476e-01, -1.3373e-01, -6.0909e-02,  1.6683e-01,  3.2490e-02,\n                      -1.5473e-01,  2.5356e-02, -1.8545e-01, -1.3121e-01,  2.7866e-02,\n                       2.1350e-01, -1.9016e-01, -1.9767e-01,  1.7767e-02,  8.4271e-02,\n                      -8.7480e-03, -3.5948e-02,  4.4932e-02, -5.1188e-02,  1.7381e-01,\n                      -4.3844e-02,  7.0796e-02,  1.5536e-01, -2.0401e-01, -5.0860e-02,\n                      -2.5192e-01, -1.4305e-03,  6.6765e-02, -1.3123e-01,  3.8052e-01,\n                       1.2064e-01,  3.0253e-03, -1.3245e-01,  2.0191e-01,  5.9556e-02,\n                      -7.2327e-02,  2.8088e-01, -1.4765e-01,  1.8884e-01,  1.6965e-02,\n                      -2.5279e-01,  9.3233e-02, -1.6750e-01, -1.0128e-01, -8.9226e-02,\n                       6.5133e-02,  1.4543e-01, -1.0550e-01, -9.8757e-02,  5.8474e-02,\n                       9.3684e-02, -2.6024e-01,  1.4612e-02, -1.4396e-03,  5.0977e-02,\n                      -7.1898e-02,  7.5914e-02, -2.5427e-01,  1.5232e-01, -2.3553e-01,\n                       9.5521e-02, -9.9942e-03,  2.6891e-01,  1.4955e-01,  2.4000e-01,\n                       1.3012e-01, -1.5039e-01, -3.3457e-01,  2.4857e-01,  9.0131e-02,\n                      -1.6437e-01,  1.0117e-01,  2.0652e-01,  6.5024e-02,  7.7299e-02,\n                      -1.7630e-01, -4.9888e-02, -3.4610e-02,  2.0800e-01,  1.5699e-01,\n                       1.5799e-01, -2.2014e-01, -1.4890e-01,  4.9789e-02, -6.3042e-02,\n                      -6.3602e-02,  1.0362e-01, -1.7953e-01, -1.5362e-01, -1.5946e-01,\n                      -7.9772e-02,  1.2039e-01,  6.2201e-02,  2.1482e-01,  1.7659e-01,\n                       2.6891e-01, -2.0104e-02,  6.0222e-02, -1.9293e-01,  2.2984e-01,\n                      -1.0357e-01, -1.1108e-01, -3.4589e-04, -3.9860e-02,  1.8463e-01,\n                      -2.2420e-01,  5.5493e-02,  7.7268e-02,  1.2267e-01,  1.8437e-03,\n                       5.0184e-03,  1.2797e-01,  1.0609e-01,  1.6304e-01,  1.2723e-01,\n                       6.1081e-03,  4.4241e-02,  1.2258e-01,  7.0402e-02, -1.7683e-01,\n                       1.7235e-01,  1.8466e-02, -2.6770e-02,  4.1942e-02, -1.1970e-01,\n                      -1.4552e-01,  8.3481e-02, -8.0658e-02, -8.3903e-02,  5.3032e-02,\n                       6.9646e-02,  3.3419e-02, -2.3612e-01, -1.3094e-01, -1.2764e-01,\n                      -5.9015e-02, -1.0043e-01, -1.9889e-01,  2.4434e-01,  1.3002e-01,\n                      -9.5676e-02,  2.6042e-01, -1.3958e-01,  6.1511e-02, -1.8437e-01,\n                      -1.1068e-01,  6.7849e-02,  1.0224e-01,  1.2621e-01,  6.5612e-02,\n                      -1.8304e-01,  2.7130e-02,  1.8305e-01,  2.1300e-01, -1.3828e-01,\n                       2.5130e-01, -1.9470e-01,  1.7504e-01,  1.5582e-01,  1.6827e-01,\n                       2.2635e-02,  4.2232e-02, -2.1173e-02,  2.3902e-01, -2.1967e-01,\n                       2.1923e-01, -1.8245e-01,  2.6157e-01,  9.1245e-02, -3.2698e-01,\n                       7.5058e-02,  2.2821e-01, -2.3969e-02,  1.6483e-01,  1.5179e-01,\n                      -7.0703e-02, -1.1255e-01, -1.5289e-01,  3.5723e-01,  2.5496e-01,\n                      -2.0161e-01, -2.1689e-01,  2.6990e-01, -1.2084e-01,  7.8619e-02,\n                       2.1799e-01, -2.4272e-01, -2.5575e-02,  1.4276e-01, -2.2049e-01,\n                       1.9827e-02,  3.0939e-01,  6.9089e-02,  1.2582e-01, -3.3600e-01,\n                      -5.5866e-02, -2.7437e-01, -3.5244e-02,  2.2000e-01,  2.1870e-01,\n                       1.3231e-02, -5.7470e-02, -2.3003e-02,  2.1056e-01,  1.0488e-01,\n                      -1.5845e-01, -8.8999e-02, -6.2175e-02, -7.5656e-02,  1.5418e-01,\n                       2.2063e-01,  4.7171e-02,  1.4202e-01,  1.7102e-01,  3.2047e-02,\n                       2.4854e-01,  5.9971e-02, -2.0677e-01,  1.2936e-01, -6.1513e-02,\n                       2.5460e-01, -1.1966e-01, -2.3116e-01,  1.8465e-01,  8.5526e-03,\n                      -1.3375e-01,  1.4025e-01, -3.2195e-02, -6.3431e-02, -1.7155e-01,\n                       1.2937e-01,  9.3574e-02,  2.0809e-01, -4.7058e-02, -2.5120e-02,\n                       9.1200e-02,  9.0744e-02, -8.4267e-02, -1.6506e-01, -5.3945e-03,\n                      -2.2531e-04,  1.0668e-01,  1.1723e-01, -2.4757e-01,  1.8897e-01,\n                       1.1112e-01,  4.5707e-02, -1.2822e-01, -9.9990e-02,  3.2491e-01,\n                      -2.1265e-01, -6.8003e-02,  9.3629e-02, -1.6905e-01,  1.0747e-01,\n                      -1.6102e-01, -1.4672e-01, -1.8812e-01,  1.8131e-02, -2.3167e-01,\n                       1.7147e-02, -2.4966e-01,  1.0480e-01,  2.0266e-01,  1.1981e-01,\n                       1.7526e-01,  1.0623e-01,  1.3535e-01, -1.5689e-01,  6.0159e-02,\n                       7.3850e-02,  2.3340e-01, -2.1462e-03, -5.1645e-02, -1.7640e-01,\n                      -1.8441e-01,  8.0636e-02, -2.2645e-01, -8.3044e-02, -2.4754e-01,\n                      -2.0180e-01, -1.2129e-01, -1.9765e-01, -2.4442e-02, -2.9016e-01,\n                      -1.6944e-01, -1.4212e-01, -1.6875e-01, -1.4624e-01,  5.7688e-02,\n                       5.9092e-02,  1.0879e-01,  1.6614e-01, -2.7626e-01,  1.7645e-01,\n                       6.8688e-02, -2.4700e-01, -9.3409e-02,  1.3847e-01, -8.5523e-02,\n                      -2.8918e-01,  1.5505e-01,  6.8325e-02, -1.2491e-01,  2.4049e-01,\n                      -1.1883e-01,  1.2702e-01,  5.3999e-02, -4.7969e-02,  1.5792e-01,\n                       1.9574e-01,  1.1427e-01,  2.0235e-01, -7.6608e-02,  8.1395e-02,\n                       1.2423e-01, -4.8974e-02,  1.8731e-01, -2.6869e-01,  4.8560e-02,\n                      -1.5264e-01, -1.5149e-01,  1.8391e-03,  1.5194e-01,  4.1560e-02,\n                       1.3768e-01, -5.3505e-02,  2.0506e-01, -1.3939e-01,  1.0350e-01,\n                      -1.3915e-01,  7.6626e-02, -1.6317e-01, -1.3700e-01, -7.7670e-02,\n                      -1.0063e-01, -2.8089e-01,  8.3453e-02,  1.0488e-01,  1.3738e-01,\n                       2.5469e-01, -2.2874e-01, -2.3843e-01,  1.3907e-01, -2.9192e-01,\n                      -7.4291e-02, -2.0669e-01,  7.5300e-02,  1.6450e-01,  3.3163e-03,\n                       5.9228e-02, -1.6395e-01, -1.2667e-01, -1.9506e-01,  2.3021e-01,\n                       1.4800e-01, -1.3799e-01, -4.3080e-03, -2.4878e-01, -8.1120e-02,\n                      -8.1351e-02,  1.0016e-01, -2.3605e-01,  1.4448e-02, -8.8457e-02,\n                       1.5851e-01,  2.2427e-01,  1.6222e-01, -2.3353e-01,  1.4813e-01,\n                       1.3359e-01, -2.1832e-01, -2.1619e-01,  4.1696e-02, -1.1086e-01,\n                      -2.2638e-01,  3.3775e-02, -4.3093e-04, -1.7419e-01,  1.0212e-02,\n                       6.7070e-02,  1.0254e-01,  2.4149e-01,  1.3355e-01,  2.2500e-01,\n                       4.0976e-02,  2.7783e-01, -9.6145e-02,  2.0972e-01,  7.9253e-02,\n                       2.7824e-01,  1.4552e-01, -1.4310e-01, -1.4698e-01,  2.0069e-01,\n                      -3.1726e-01, -4.9705e-02,  6.8675e-02,  5.4956e-02, -7.7754e-02,\n                       3.2535e-02, -2.7181e-01,  1.9451e-01,  1.5139e-01, -2.4538e-01,\n                       1.2228e-01, -1.6454e-01,  5.0020e-02,  1.1349e-01, -1.4076e-01,\n                      -2.4638e-02,  1.6655e-01,  9.9173e-02,  6.2436e-02, -1.6615e-01,\n                      -4.6541e-02,  8.8830e-02,  2.9974e-02,  2.2139e-01, -8.2323e-02,\n                       2.4824e-01,  1.0415e-02, -7.9500e-02, -2.5070e-01,  1.4135e-01,\n                      -9.6361e-02, -1.2595e-01,  1.4438e-01,  2.1142e-01,  8.3543e-02,\n                       1.7261e-01,  1.6840e-01, -1.4675e-01, -1.4923e-01,  6.1046e-04,\n                      -1.7988e-01,  1.9467e-01,  2.1900e-01,  1.2365e-01,  2.0605e-01,\n                      -2.3352e-01,  2.1465e-01, -1.8069e-01, -2.7110e-01,  1.0831e-01,\n                      -2.4069e-01, -4.6891e-02, -6.9649e-02,  3.2932e-02, -1.1984e-01,\n                      -4.4900e-02, -1.1869e-01,  2.0171e-01, -2.1132e-01, -6.3728e-02,\n                       3.8483e-02, -2.3147e-01, -1.0744e-01,  2.0873e-01,  1.5947e-01,\n                       9.0657e-02,  1.9436e-01, -3.2550e-01, -1.4345e-01,  2.4093e-01,\n                       1.9665e-01, -2.3235e-01, -1.2180e-01, -8.2223e-02, -1.0809e-01,\n                       4.1834e-02,  1.5283e-01, -1.0567e-02,  1.4454e-01, -1.8558e-01,\n                       7.3612e-02, -9.7645e-02, -1.8704e-01, -6.6077e-03,  1.0555e-01,\n                      -1.1672e-01,  6.5691e-02, -1.5728e-01,  1.9067e-01, -7.5931e-02,\n                      -4.5977e-02,  2.2074e-02, -4.2255e-02, -9.3566e-02,  1.6708e-01,\n                       2.8555e-02,  1.4584e-01])),\n             ('linear_relu_stack.2.weight',\n              tensor([[ 0.0164, -0.0388, -0.0327,  ...,  0.0299, -0.0037, -0.0157],\n                      [ 0.0417, -0.0192,  0.0250,  ...,  0.0298, -0.0337, -0.0064],\n                      [-0.0553,  0.0299,  0.0323,  ..., -0.0409, -0.0163,  0.0141],\n                      ...,\n                      [ 0.0035, -0.0409, -0.0052,  ...,  0.0270,  0.0087, -0.0392],\n                      [-0.0399, -0.0104,  0.0253,  ...,  0.0337,  0.0235, -0.0106],\n                      [ 0.0240,  0.0147, -0.0434,  ...,  0.0241,  0.0393,  0.0016]])),\n             ('linear_relu_stack.2.bias',\n              tensor([ 0.0549, -0.0299,  0.0653, -0.0319,  0.0112,  0.0361,  0.0248, -0.0163,\n                      -0.0387,  0.0080,  0.0028,  0.0438, -0.0179,  0.0655,  0.0371,  0.0235,\n                      -0.0090,  0.0132,  0.0692,  0.0239, -0.0111,  0.0866,  0.0258, -0.0506,\n                       0.0446,  0.0262,  0.0274,  0.0082,  0.0114, -0.0354, -0.0437, -0.0425,\n                       0.0072,  0.0350,  0.0202,  0.0030, -0.0213,  0.0221, -0.0233,  0.0271,\n                      -0.0349, -0.0051, -0.0461,  0.0270,  0.0447, -0.0200, -0.0331, -0.0365,\n                      -0.0218,  0.0016, -0.0131, -0.0299,  0.0117,  0.0201, -0.0127, -0.0018,\n                       0.0143,  0.0274,  0.0059,  0.0142, -0.0384,  0.0712,  0.0441, -0.0136,\n                      -0.0190, -0.0139, -0.0168,  0.0071,  0.0729,  0.0516,  0.0075,  0.0268,\n                       0.0051,  0.0366, -0.0298, -0.1415, -0.0423,  0.0854, -0.0449, -0.0181,\n                      -0.0476, -0.0318,  0.0052,  0.0197, -0.0086,  0.0077, -0.0082,  0.0331,\n                       0.0243,  0.0902,  0.0246, -0.0352,  0.0240, -0.0110, -0.0282,  0.0249,\n                       0.0164, -0.0041,  0.0190,  0.0006,  0.0380,  0.0024, -0.0971, -0.0402,\n                      -0.0054, -0.0445, -0.0156, -0.0341,  0.0153,  0.0634,  0.0145,  0.0340,\n                       0.0258, -0.0717, -0.0175, -0.0161, -0.0462, -0.0101,  0.0252,  0.0237,\n                       0.0158,  0.0133,  0.0256,  0.0117, -0.0078, -0.0339, -0.0200,  0.0732])),\n             ('linear_relu_stack.4.weight',\n              tensor([[ 0.0015,  0.0762,  0.0201,  ..., -0.0571,  0.0331, -0.0278],\n                      [-0.0785,  0.0154,  0.0414,  ..., -0.0063, -0.0384, -0.0645],\n                      [-0.0153,  0.0884, -0.0428,  ..., -0.0313,  0.0722,  0.0017],\n                      ...,\n                      [-0.0571, -0.0529,  0.0077,  ...,  0.0797,  0.0568, -0.0876],\n                      [-0.0168, -0.0331, -0.0677,  ...,  0.0791, -0.0695, -0.0500],\n                      [-0.0290, -0.0328, -0.0273,  ...,  0.0721,  0.0583, -0.0735]])),\n             ('linear_relu_stack.4.bias',\n              tensor([-0.1008,  0.0432, -0.0913, -0.0540, -0.0351, -0.0125,  0.1142, -0.0504,\n                      -0.0726,  0.0721])),\n             ('linear_relu_stack.6.weight',\n              tensor([[ 0.0891,  0.1527,  0.0409,  0.0199, -0.0068,  0.0763, -0.2505,  0.2197,\n                       -0.0313, -0.0458]])),\n             ('linear_relu_stack.6.bias', tensor([0.1788]))])"
     },
     "execution_count": 19,
     "metadata": {},
     "output_type": "execute_result"
    }
   ],
   "source": [
    "model.state_dict()"
   ],
   "metadata": {
    "collapsed": false,
    "pycharm": {
     "name": "#%%\n"
    }
   }
  },
  {
   "cell_type": "code",
   "execution_count": 20,
   "outputs": [],
   "source": [
    "ckp_path = project_path('Solvation_1/Runs/Macro_TESA_Lin1_85.pt')\n",
    "\n",
    "model, optimizer, start_epoch, val_loss_min = load_ckp(ckp_path, model, optimizer)"
   ],
   "metadata": {
    "collapsed": false,
    "pycharm": {
     "name": "#%%\n"
    }
   }
  },
  {
   "cell_type": "code",
   "execution_count": 22,
   "outputs": [
    {
     "data": {
      "text/plain": "0.44217586517333984"
     },
     "execution_count": 22,
     "metadata": {},
     "output_type": "execute_result"
    }
   ],
   "source": [
    "val_loss_min"
   ],
   "metadata": {
    "collapsed": false,
    "pycharm": {
     "name": "#%%\n"
    }
   }
  },
  {
   "cell_type": "code",
   "execution_count": 5,
   "outputs": [],
   "source": [
    "import pandas as pd\n",
    "norm_table = pd.read_table('../Solvation_1/Tables/MNSol_alldata.txt')"
   ],
   "metadata": {
    "collapsed": false,
    "pycharm": {
     "name": "#%%\n"
    }
   }
  },
  {
   "cell_type": "code",
   "execution_count": 6,
   "outputs": [
    {
     "data": {
      "text/plain": "       No. FileHandle         SoluteName    Formula Subset  Charge  Level1  \\\n0        1    0008noc           n-octane      H18C8    [g]       0       2   \n1        2    0036tol            toluene       H8C7    [g]       0       2   \n2        3    0045eth            ethanol     H6C2O1    [g]       0       2   \n3        4    0062dio        1,4-dioxane     H8C4O2    [g]       0       2   \n4        5    0076but         2-butanone     H8C4O1    [g]       0       2   \n...    ...        ...                ...        ...    ...     ...     ...   \n3032  3033       i099          benzamide   H8C7N1O1    [i]       1      13   \n3033  3034       i106    dimethylsulfide     H7C2S1    [i]       1      13   \n3034  3035       i112  dimethylsulfoxide   H7C2O1S1    [i]       1      13   \n3035  3036       i125    3-chloroaniline  H7C6N1CL1    [i]       1      13   \n3036  3037       i126    4-chloroaniline  H7C6N1CL1    [i]       1      13   \n\n      Level2  Level3          Solvent  ...  OSi    P   HP   OP       S  \\\n0          1       1  2methylpyridine  ...  0.0  0.0  0.0  0.0   0.000   \n1          1       6  2methylpyridine  ...  0.0  0.0  0.0  0.0   0.000   \n2          2       1  2methylpyridine  ...  0.0  0.0  0.0  0.0   0.000   \n3          3       0  2methylpyridine  ...  0.0  0.0  0.0  0.0   0.000   \n4          4       2  2methylpyridine  ...  0.0  0.0  0.0  0.0   0.000   \n...      ...     ...              ...  ...  ...  ...  ...  ...     ...   \n3032       4       0            water  ...  0.0  0.0  0.0  0.0   0.000   \n3033       5       0            water  ...  0.0  0.0  0.0  0.0  20.476   \n3034       5       0            water  ...  0.0  0.0  0.0  0.0  17.024   \n3035       6       0            water  ...  0.0  0.0  0.0  0.0   0.000   \n3036       6       0            water  ...  0.0  0.0  0.0  0.0   0.000   \n\n          HS     OS   SP   SS  TotalArea  \n0      0.000  0.000  0.0  0.0    243.846  \n1      0.000  0.000  0.0  0.0    166.450  \n2      0.000  0.000  0.0  0.0    110.185  \n3      0.000  0.000  0.0  0.0    146.316  \n4      0.000  0.000  0.0  0.0    148.104  \n...      ...    ...  ...  ...        ...  \n3032   0.000  0.000  0.0  0.0    184.905  \n3033  11.664  0.000  0.0  0.0    127.327  \n3034   7.606  7.913  0.0  0.0    137.588  \n3035   0.000  0.000  0.0  0.0    182.699  \n3036   0.000  0.000  0.0  0.0    182.737  \n\n[3037 rows x 58 columns]",
      "text/html": "<div>\n<style scoped>\n    .dataframe tbody tr th:only-of-type {\n        vertical-align: middle;\n    }\n\n    .dataframe tbody tr th {\n        vertical-align: top;\n    }\n\n    .dataframe thead th {\n        text-align: right;\n    }\n</style>\n<table border=\"1\" class=\"dataframe\">\n  <thead>\n    <tr style=\"text-align: right;\">\n      <th></th>\n      <th>No.</th>\n      <th>FileHandle</th>\n      <th>SoluteName</th>\n      <th>Formula</th>\n      <th>Subset</th>\n      <th>Charge</th>\n      <th>Level1</th>\n      <th>Level2</th>\n      <th>Level3</th>\n      <th>Solvent</th>\n      <th>...</th>\n      <th>OSi</th>\n      <th>P</th>\n      <th>HP</th>\n      <th>OP</th>\n      <th>S</th>\n      <th>HS</th>\n      <th>OS</th>\n      <th>SP</th>\n      <th>SS</th>\n      <th>TotalArea</th>\n    </tr>\n  </thead>\n  <tbody>\n    <tr>\n      <th>0</th>\n      <td>1</td>\n      <td>0008noc</td>\n      <td>n-octane</td>\n      <td>H18C8</td>\n      <td>[g]</td>\n      <td>0</td>\n      <td>2</td>\n      <td>1</td>\n      <td>1</td>\n      <td>2methylpyridine</td>\n      <td>...</td>\n      <td>0.0</td>\n      <td>0.0</td>\n      <td>0.0</td>\n      <td>0.0</td>\n      <td>0.000</td>\n      <td>0.000</td>\n      <td>0.000</td>\n      <td>0.0</td>\n      <td>0.0</td>\n      <td>243.846</td>\n    </tr>\n    <tr>\n      <th>1</th>\n      <td>2</td>\n      <td>0036tol</td>\n      <td>toluene</td>\n      <td>H8C7</td>\n      <td>[g]</td>\n      <td>0</td>\n      <td>2</td>\n      <td>1</td>\n      <td>6</td>\n      <td>2methylpyridine</td>\n      <td>...</td>\n      <td>0.0</td>\n      <td>0.0</td>\n      <td>0.0</td>\n      <td>0.0</td>\n      <td>0.000</td>\n      <td>0.000</td>\n      <td>0.000</td>\n      <td>0.0</td>\n      <td>0.0</td>\n      <td>166.450</td>\n    </tr>\n    <tr>\n      <th>2</th>\n      <td>3</td>\n      <td>0045eth</td>\n      <td>ethanol</td>\n      <td>H6C2O1</td>\n      <td>[g]</td>\n      <td>0</td>\n      <td>2</td>\n      <td>2</td>\n      <td>1</td>\n      <td>2methylpyridine</td>\n      <td>...</td>\n      <td>0.0</td>\n      <td>0.0</td>\n      <td>0.0</td>\n      <td>0.0</td>\n      <td>0.000</td>\n      <td>0.000</td>\n      <td>0.000</td>\n      <td>0.0</td>\n      <td>0.0</td>\n      <td>110.185</td>\n    </tr>\n    <tr>\n      <th>3</th>\n      <td>4</td>\n      <td>0062dio</td>\n      <td>1,4-dioxane</td>\n      <td>H8C4O2</td>\n      <td>[g]</td>\n      <td>0</td>\n      <td>2</td>\n      <td>3</td>\n      <td>0</td>\n      <td>2methylpyridine</td>\n      <td>...</td>\n      <td>0.0</td>\n      <td>0.0</td>\n      <td>0.0</td>\n      <td>0.0</td>\n      <td>0.000</td>\n      <td>0.000</td>\n      <td>0.000</td>\n      <td>0.0</td>\n      <td>0.0</td>\n      <td>146.316</td>\n    </tr>\n    <tr>\n      <th>4</th>\n      <td>5</td>\n      <td>0076but</td>\n      <td>2-butanone</td>\n      <td>H8C4O1</td>\n      <td>[g]</td>\n      <td>0</td>\n      <td>2</td>\n      <td>4</td>\n      <td>2</td>\n      <td>2methylpyridine</td>\n      <td>...</td>\n      <td>0.0</td>\n      <td>0.0</td>\n      <td>0.0</td>\n      <td>0.0</td>\n      <td>0.000</td>\n      <td>0.000</td>\n      <td>0.000</td>\n      <td>0.0</td>\n      <td>0.0</td>\n      <td>148.104</td>\n    </tr>\n    <tr>\n      <th>...</th>\n      <td>...</td>\n      <td>...</td>\n      <td>...</td>\n      <td>...</td>\n      <td>...</td>\n      <td>...</td>\n      <td>...</td>\n      <td>...</td>\n      <td>...</td>\n      <td>...</td>\n      <td>...</td>\n      <td>...</td>\n      <td>...</td>\n      <td>...</td>\n      <td>...</td>\n      <td>...</td>\n      <td>...</td>\n      <td>...</td>\n      <td>...</td>\n      <td>...</td>\n      <td>...</td>\n    </tr>\n    <tr>\n      <th>3032</th>\n      <td>3033</td>\n      <td>i099</td>\n      <td>benzamide</td>\n      <td>H8C7N1O1</td>\n      <td>[i]</td>\n      <td>1</td>\n      <td>13</td>\n      <td>4</td>\n      <td>0</td>\n      <td>water</td>\n      <td>...</td>\n      <td>0.0</td>\n      <td>0.0</td>\n      <td>0.0</td>\n      <td>0.0</td>\n      <td>0.000</td>\n      <td>0.000</td>\n      <td>0.000</td>\n      <td>0.0</td>\n      <td>0.0</td>\n      <td>184.905</td>\n    </tr>\n    <tr>\n      <th>3033</th>\n      <td>3034</td>\n      <td>i106</td>\n      <td>dimethylsulfide</td>\n      <td>H7C2S1</td>\n      <td>[i]</td>\n      <td>1</td>\n      <td>13</td>\n      <td>5</td>\n      <td>0</td>\n      <td>water</td>\n      <td>...</td>\n      <td>0.0</td>\n      <td>0.0</td>\n      <td>0.0</td>\n      <td>0.0</td>\n      <td>20.476</td>\n      <td>11.664</td>\n      <td>0.000</td>\n      <td>0.0</td>\n      <td>0.0</td>\n      <td>127.327</td>\n    </tr>\n    <tr>\n      <th>3034</th>\n      <td>3035</td>\n      <td>i112</td>\n      <td>dimethylsulfoxide</td>\n      <td>H7C2O1S1</td>\n      <td>[i]</td>\n      <td>1</td>\n      <td>13</td>\n      <td>5</td>\n      <td>0</td>\n      <td>water</td>\n      <td>...</td>\n      <td>0.0</td>\n      <td>0.0</td>\n      <td>0.0</td>\n      <td>0.0</td>\n      <td>17.024</td>\n      <td>7.606</td>\n      <td>7.913</td>\n      <td>0.0</td>\n      <td>0.0</td>\n      <td>137.588</td>\n    </tr>\n    <tr>\n      <th>3035</th>\n      <td>3036</td>\n      <td>i125</td>\n      <td>3-chloroaniline</td>\n      <td>H7C6N1CL1</td>\n      <td>[i]</td>\n      <td>1</td>\n      <td>13</td>\n      <td>6</td>\n      <td>0</td>\n      <td>water</td>\n      <td>...</td>\n      <td>0.0</td>\n      <td>0.0</td>\n      <td>0.0</td>\n      <td>0.0</td>\n      <td>0.000</td>\n      <td>0.000</td>\n      <td>0.000</td>\n      <td>0.0</td>\n      <td>0.0</td>\n      <td>182.699</td>\n    </tr>\n    <tr>\n      <th>3036</th>\n      <td>3037</td>\n      <td>i126</td>\n      <td>4-chloroaniline</td>\n      <td>H7C6N1CL1</td>\n      <td>[i]</td>\n      <td>1</td>\n      <td>13</td>\n      <td>6</td>\n      <td>0</td>\n      <td>water</td>\n      <td>...</td>\n      <td>0.0</td>\n      <td>0.0</td>\n      <td>0.0</td>\n      <td>0.0</td>\n      <td>0.000</td>\n      <td>0.000</td>\n      <td>0.000</td>\n      <td>0.0</td>\n      <td>0.0</td>\n      <td>182.737</td>\n    </tr>\n  </tbody>\n</table>\n<p>3037 rows × 58 columns</p>\n</div>"
     },
     "execution_count": 6,
     "metadata": {},
     "output_type": "execute_result"
    }
   ],
   "source": [
    "norm_table"
   ],
   "metadata": {
    "collapsed": false,
    "pycharm": {
     "name": "#%%\n"
    }
   }
  },
  {
   "cell_type": "code",
   "execution_count": 9,
   "outputs": [],
   "source": [
    "import torch\n",
    "testa = torch.tensor(((1,2,3),(4,5,6),(7,8,9)))"
   ],
   "metadata": {
    "collapsed": false,
    "pycharm": {
     "name": "#%%\n"
    }
   }
  },
  {
   "cell_type": "code",
   "execution_count": 18,
   "outputs": [
    {
     "data": {
      "text/plain": "tensor([[1., 2., 3.],\n        [4., 5., 6.],\n        [7., 8., 9.]])"
     },
     "execution_count": 18,
     "metadata": {},
     "output_type": "execute_result"
    }
   ],
   "source": [
    "testa = testa.float()\n",
    "testa"
   ],
   "metadata": {
    "collapsed": false,
    "pycharm": {
     "name": "#%%\n"
    }
   }
  },
  {
   "cell_type": "code",
   "execution_count": 17,
   "outputs": [
    {
     "data": {
      "text/plain": "(tensor([1., 1., 1.]), tensor([2., 5., 8.]))"
     },
     "execution_count": 17,
     "metadata": {},
     "output_type": "execute_result"
    }
   ],
   "source": [
    "torch.std_mean(testa, dim = 1)"
   ],
   "metadata": {
    "collapsed": false,
    "pycharm": {
     "name": "#%%\n"
    }
   }
  },
  {
   "cell_type": "code",
   "execution_count": 24,
   "outputs": [
    {
     "data": {
      "text/plain": "True"
     },
     "execution_count": 24,
     "metadata": {},
     "output_type": "execute_result"
    }
   ],
   "source": [
    "True in (False, True, True)"
   ],
   "metadata": {
    "collapsed": false,
    "pycharm": {
     "name": "#%%\n"
    }
   }
  },
  {
   "cell_type": "code",
   "execution_count": 27,
   "outputs": [
    {
     "data": {
      "text/plain": "Index(['Unnamed: 0', 'water', 'octanol', 'hexadecane', 'chloroform',\n       'cyclohexane', 'carbontet', 'benzene', 'diethylether', 'heptane',\n       'hexane', 'toluene', 'xylene', 'decane', 'dichloroethane', 'octane',\n       'chlorobenzene', 'isooctane', 'ethylbenzene', 'bromobenzene', 'pentane',\n       'decalin', 'nonane', 'pentanol', 'diisopropylether', 'butylacetate',\n       'ethylacetate', 'butanol', 'iodobenzene', 'isopropylbenzene',\n       'isobutanol', 'tributylphosphate', 'perfluorobenzene',\n       'carbondisulfide', 'dibutylether', 'nitrobenzene', 'hexanol',\n       'tbutylbenzene', 'undecane', 'butanone', '4methyl2pentanone',\n       'bromoform', 'heptanol', 'trimethylbenzene', 'odichlorobenzene',\n       'chlorohexane', 'methylenechloride', 'decanol', 'butylbenzene',\n       'benzylalcohol', 'tetrachloroethene', 'nonanol', 'aniline',\n       'dibromoethane', 'cyclohexanone', 'acetophenone', 'tetralin',\n       'secbutanol', 'hexadecyliodide', 'pentadecane', 'anisole', 'ethanol',\n       'dodecane', 'mesitylene', 'pyridine', 'dimethylsulfoxide',\n       'nitromethane', 'ethoxybenzene', 'isopropanol', 'triethylamine',\n       'propanol', 'tetrahydrothiophenedioxide', 'acetonitrile',\n       'benzonitrile', 'nitroethane', 'mcresol', 'dimethylformamide',\n       'dimethylacetamide', 'bromoethane', 'fluorobenzene', 'methylformamide',\n       'aceticacid', 'tetrahydrofuran', 'fluoroctane', 'dimethylpyridine',\n       'onitrotoluene', 'phenylether', '2methylpyridine', 'methoxyethanol',\n       'secbutylbenzene', 'bromooctane'],\n      dtype='object')"
     },
     "execution_count": 27,
     "metadata": {},
     "output_type": "execute_result"
    }
   ],
   "source": [
    "pd.read_table('../Solvation_1/Tables/Entire_table.tsv').columns\n"
   ],
   "metadata": {
    "collapsed": false,
    "pycharm": {
     "name": "#%%\n"
    }
   }
  },
  {
   "cell_type": "code",
   "execution_count": 12,
   "outputs": [
    {
     "data": {
      "image/png": "[encoded data removed]",
      "text/plain": "<IPython.core.display.Image object>"
     },
     "metadata": {},
     "output_type": "display_data"
    },
    {
     "name": "stdout",
     "output_type": "stream",
     "text": [
      "water\n"
     ]
    },
    {
     "data": {
      "image/png": "[encoded data removed]",
      "text/plain": "<IPython.core.display.Image object>"
     },
     "metadata": {},
     "output_type": "display_data"
    },
    {
     "name": "stdout",
     "output_type": "stream",
     "text": [
      "dichloroethane\n"
     ]
    },
    {
     "data": {
      "image/png": "[encoded data removed]",
      "text/plain": "<IPython.core.display.Image object>"
     },
     "metadata": {},
     "output_type": "display_data"
    },
    {
     "name": "stdout",
     "output_type": "stream",
     "text": [
      "trimethylbenzene\n"
     ]
    },
    {
     "data": {
      "image/png": "[encoded data removed]",
      "text/plain": "<IPython.core.display.Image object>"
     },
     "metadata": {},
     "output_type": "display_data"
    },
    {
     "name": "stdout",
     "output_type": "stream",
     "text": [
      "dimethylpyridine\n"
     ]
    },
    {
     "data": {
      "image/png": "[encoded data removed]",
      "text/plain": "<IPython.core.display.Image object>"
     },
     "metadata": {},
     "output_type": "display_data"
    },
    {
     "name": "stdout",
     "output_type": "stream",
     "text": [
      "2methylpyridine\n"
     ]
    },
    {
     "data": {
      "image/png": "[encoded data removed]",
      "text/plain": "<IPython.core.display.Image object>"
     },
     "metadata": {},
     "output_type": "display_data"
    },
    {
     "name": "stdout",
     "output_type": "stream",
     "text": [
      "methoxyethanol\n"
     ]
    },
    {
     "name": "stderr",
     "output_type": "stream",
     "text": [
      "RDKit WARNING: [12:07:28] WARNING: not removing hydrogen atom without neighbors\n",
      "RDKit ERROR: [12:07:28] SMILES Parse Error: syntax error while parsing: Did\n",
      "[12:07:28] WARNING: not removing hydrogen atom without neighbors\n",
      "RDKit ERROR: [12:07:28] SMILES Parse Error: Failed parsing SMILES 'Did' for input: 'Did'\n",
      "[12:07:28] SMILES Parse Error: syntax error while parsing: Did\n",
      "[12:07:28] SMILES Parse Error: Failed parsing SMILES 'Did' for input: 'Did'\n"
     ]
    }
   ],
   "source": [
    "import pickle\n",
    "from config import *\n",
    "from rdkit import Chem\n",
    "\n",
    "interesting = ('water', 'trimethylbenzene', 'methoxyethanol', 'dichloroethane', '2methylpyridine', 'dimethylpyridine')\n",
    "with open(project_path('Solvation_1/Tables/get_SMILES.pkl'), 'rb') as f:\n",
    "    smiles_dict = pickle.load(f)\n",
    "# smiles_dict\n",
    "for compound, smiles in smiles_dict.items():\n",
    "    mol = Chem.MolFromSmiles(smiles)\n",
    "    if compound in interesting:\n",
    "        display(Chem.Draw.MolsToGridImage((mol,)))\n",
    "        print(compound)"
   ],
   "metadata": {
    "collapsed": false,
    "pycharm": {
     "name": "#%%\n"
    }
   }
  },
  {
   "cell_type": "code",
   "execution_count": 7,
   "outputs": [
    {
     "name": "stdout",
     "output_type": "stream",
     "text": [
      "CCCCCCCCO\n",
      "\n",
      "O\n",
      "\n"
     ]
    },
    {
     "data": {
      "text/plain": "{'water': 'O',\n 'octanol': 'CCCCCCCCO',\n 'hexadecane': 'CCCCCCCCCCCCCCCC',\n 'chloroform': 'ClC(Cl)Cl',\n 'cyclohexane': 'C1CCCCC1',\n 'carbontet': 'C(Cl)(Cl)(Cl)Cl',\n 'benzene': 'c1ccccc1',\n 'diethylether': 'CCOCC',\n 'heptane': 'CCCCCCC',\n 'hexane': 'CCCCCC',\n 'toluene': 'Cc1ccccc1',\n 'xylene': 'Cc1ccccc1C',\n 'decane': 'CCCCCCCCCC',\n 'dichloroethane': 'CC(Cl)Cl',\n 'octane': 'CCCCCCCC',\n 'chlorobenzene': 'Clc1ccccc1',\n 'isooctane': 'CCCCCC(C)C',\n 'ethylbenzene': 'CCc1ccccc1',\n 'bromobenzene': 'Brc1ccccc1',\n 'pentane': 'CCCCC',\n 'decalin': 'C1CCC2CCCCC2C1',\n 'nonane': 'CCCCCCCCC',\n 'pentanol': 'CCCCCO',\n 'diisopropylether': 'CC(C)OC(C)C',\n 'butylacetate': 'CCCCOC(C)=O',\n 'ethylacetate': 'CCOC(C)=O',\n 'butanol': 'CCCCO',\n 'iodobenzene': 'Ic1ccccc1',\n 'isopropylbenzene': 'CC(C)c1ccccc1',\n 'isobutanol': 'CC(C)CO',\n 'tributylphosphate': 'CCCCO[P](=O)(OCCCC)OCCCC',\n 'perfluorobenzene': 'Fc1c(F)c(F)c(F)c(F)c1F',\n 'carbondisulfide': 'S=C=S',\n 'dibutylether': 'CCCCOCCCC',\n 'nitrobenzene': '[O-][N+](=O)c1ccccc1',\n 'hexanol': 'CCCCCCO',\n 'tbutylbenzene': 'CC(C)(C)C1=CC=CC=C1',\n 'undecane': 'CCCCCCCCCCC',\n 'butanone': 'CCC(C)=O',\n '4methyl2pentanone': 'CC(C)CC(C)=O',\n 'bromoform': 'BrC(Br)Br',\n 'heptanol': 'CCCCCCCO',\n 'trimethylbenzene': 'Cc1cccc(C)c1C',\n 'odichlorobenzene': 'C1=CC=C(C(=C1)Cl)Cl',\n 'chlorohexane': 'CCCCCCCl',\n 'methylenechloride': 'ClCCl',\n 'decanol': 'CCCCCCCCCCO',\n 'butylbenzene': 'CCCCc1ccccc1',\n 'benzylalcohol': 'OCc1ccccc1',\n 'tetrachloroethene': 'ClC(Cl)=C(Cl)Cl',\n 'nonanol': 'CCCCCCCCCO',\n 'aniline': 'Nc1ccccc1',\n 'dibromoethane': 'CC(Br)Br',\n 'cyclohexanone': 'O=C1CCCCC1',\n 'acetophenone': 'CC(=O)c1ccccc1',\n 'tetralin': 'C1CCc2ccccc2C1',\n 'secbutanol': 'CCC(C)O',\n 'hexadecyliodide': 'CCCCCCCCCCCCCCCCI',\n 'pentadecane': 'CCCCCCCCCCCCCCC',\n 'anisole': 'COc1ccccc1',\n 'ethanol': 'CCO',\n 'dodecane': 'CCCCCCCCCCCC',\n 'mesitylene': 'Cc1cc(C)cc(C)c1',\n 'pyridine': 'c1ccncc1',\n 'dimethylsulfoxide': 'C[S](C)=O',\n 'nitromethane': 'C[N+]([O-])=O',\n 'ethoxybenzene': 'CCOc1ccccc1',\n 'isopropanol': 'CC(C)O',\n 'triethylamine': 'CCN(CC)CC',\n 'propanol': 'CCCO',\n 'tetrahydrothiophenedioxide': 'O=[S]1(=O)CCCC1',\n 'acetonitrile': 'CC#N',\n 'benzonitrile': 'N#Cc1ccccc1',\n 'nitroethane': 'CC[N+]([O-])=O',\n 'mcresol': 'CC1=CC(=CC=C1)O',\n 'dimethylformamide': 'CN(C)C=O',\n 'dimethylacetamide': 'CN(C)C(C)=O',\n 'bromoethane': 'CCBr',\n 'fluorobenzene': 'Fc1ccccc1',\n 'methylformamide': 'CNC=O',\n 'aceticacid': 'CC(O)=O',\n 'tetrahydrofuran': 'C1CCOC1',\n 'fluoroctane': 'CCCCCCCCF',\n 'dimethylpyridine': 'Cc1c(C)cccn1',\n 'onitrotoluene': 'CC1=CC=CC=C1[N+](=O)[O-]',\n 'phenylether': 'O(c1ccccc1)c2ccccc2',\n '2methylpyridine': 'Cc1ccccn1',\n 'methoxyethanol': 'OCCOC',\n 'secbutylbenzene': 'CCC(C)c1ccccc1',\n 'bromooctane': 'CCCCCCCCBr',\n '2-butanone': 'CCC(C)=O',\n 'n-octane': 'CCCCCCCC',\n '1,4-dioxane': 'C1COCCO1',\n 'phenol': 'Oc1ccccc1',\n 'acetic acid': 'CC(O)=O',\n 'ethyl acetate': 'CCOC(C)=O',\n 'butyl acetate': 'CCCCOC(C)=O',\n 'propanoic acid': 'CCC(O)=O',\n 'methyl acetate': 'COC(C)=O',\n '1-hexanol': 'CCCCCCO',\n '1-propanol': 'CCCO',\n '1-butanol': 'CCCCO',\n '1-pentanol': 'CCCCCO',\n 'butylamine': 'CCCCN',\n 'propyl acetate': 'CCCOC(C)=O',\n 'methanol': 'CO',\n '1-heptanol': 'CCCCCCCO',\n 'ethylamine': 'CCN',\n 'propylamine': 'CCCN',\n 'methyl pentanoate': 'CCCCC(=O)OC',\n 'methyl propanoate': 'CCC(=O)OC',\n 'p-cresol': 'Cc1ccc(O)cc1',\n 'pentyl acetate': 'CCCCCOC(C)=O',\n 'o-cresol': 'Cc1ccccc1O',\n 'p-bromophenol': 'Oc1ccc(Br)cc1',\n '2-hexanone': 'CCCCC(C)=O',\n '2-pentanone': 'CCCC(C)=O',\n '2-heptanone': 'CCCCCC(C)=O',\n 'butanoic acid': 'CCCC(O)=O',\n '3,3-dimethylbutanone': 'CC(=O)C(C)(C)C',\n 'acetone': 'CC(C)=O',\n 'methyl hexanoate': 'CCCCCC(=O)OC',\n 'm-cresol': 'Cc1cccc(O)c1',\n 'diethylamine': 'CCNCC',\n 'hydrogen peroxide': 'OO',\n 'pentanoic acid': 'CCCCC(O)=O',\n 'hexanoic acid': 'CCCCCC(O)=O',\n '4-methylaniline': 'Cc1ccc(N)cc1',\n 'trimethylamine': 'CN(C)C',\n 'methylamine': 'CN',\n 'naphthalene': 'c1ccc2ccccc2c1',\n 'benzamide': 'NC(=O)c1ccccc1',\n 'benzaldehyde': 'O=Cc1ccccc1',\n 'formaldehyde': 'C=O',\n 'ammonia': 'N',\n 'methyl benzoate': 'COC(=O)c1ccccc1',\n 'dimethylamine': 'CNC',\n 'p-hydroxybenzaldehyde': 'Oc1ccc(C=O)cc1',\n '2-methylaniline': 'Cc1ccccc1N',\n '1,4-dichlorobenzene': 'Clc1ccc(Cl)cc1',\n '1-nitropropane': 'CCC[N+]([O-])=O',\n 'm-xylene': 'Cc1cccc(C)c1',\n 'trimethylphosphate': 'CO[P](=O)(OC)OC',\n 'triethylphosphate': 'CCO[P](=O)(OCC)OCC',\n 'trichloromethane': 'ClC(Cl)Cl',\n 't-butanol': 'CC(C)(C)O',\n '2-methyl-1-nitrobenzene': 'Cc1ccccc1[N+]([O-])=O',\n 'n-pentane': 'CCCCC',\n '1,2-ethanediol': 'OCCO',\n '2-methylpyridine': 'Cc1ccccn1',\n 'tripropylphosphate': 'CCCO[P](=O)(OCCC)OCCC',\n 'o-xylene': 'Cc1ccccc1C',\n 'dipropylamine': 'CCCNCCC',\n 'N-methylaniline': 'CNc1ccccc1',\n '3-methylaniline': 'Cc1cccc(N)c1',\n 'n-hexane': 'CCCCCC',\n 'tribromomethane': 'BrC(Br)Br',\n '1-octanol': 'CCCCCCCCO',\n 'ethyl phenyl ether': 'CCOc1ccccc1',\n 'piperidine': 'C1CCNCC1',\n 'm-hydroxybenzaldehyde': 'Oc1cccc(C=O)c1',\n '2-methoxyethanol': 'COCCO',\n '1,2-dichlorobenzene': 'Clc1ccccc1Cl',\n 'thioanisole': 'CSc1ccccc1',\n 'trichloroethene': 'ClC=C(Cl)Cl',\n '4-methylpyridine': 'Cc1ccncc1',\n '2,6-dimethylpyridine': 'Cc1cccc(C)n1',\n 'n-heptane': 'CCCCCCC',\n 'urea': 'NC(N)=O',\n 'diethyl ether': 'CCOCC',\n '1-butene': 'CCC=C',\n '2-methylpyrazine': 'Cc1cnccn1',\n 'hydrazine': 'NN',\n '1-propanethiol': 'CCCS',\n 'thiophenol': 'Sc1ccccc1',\n 'g-butyrolactone': 'C1CC(=O)OC1',\n 'allyl alcohol': 'OCC=C',\n 'p-xylene': 'Cc1ccc(C)cc1',\n 'dichloromethane': 'ClCCl',\n 'acetamide': 'CC(N)=O',\n '3-methylpyridine': 'Cc1cccnc1',\n 'thiophene': 's1cccc1',\n 'butanal': 'CCCC=O',\n '2,2,2-trifluoroethanol': 'OCC(F)(F)F',\n '1,1,1-trichloroethane': 'CC(Cl)(Cl)Cl',\n 'tetrahydropyran': 'C1CCOCC1',\n 'isopropyl ether': 'CC(C)OC(C)C',\n 'n-butane': 'CCCC',\n '3-pentanone': 'CCC(=O)CC',\n 'E-1,2-dichloroethene': 'Cl\\\\C=C\\\\Cl',\n 'diethyl sulfide': 'CCSCC',\n 'dimethyl 4-nitrophenyl thiophosphate': 'CO[P](=S)(OC)Oc1ccc(cc1)[N+]([O-])=O',\n 'propanal': 'CCC=O',\n 'difluorodichloromethane': 'FC(F)(Cl)Cl',\n 'fluorotrichloromethane': 'FC(Cl)(Cl)Cl',\n 'anthracene': 'c1ccc2cc3ccccc3cc2c1',\n 'hydrogen sulfide': 'S',\n 'N,N-dimethylformamide': 'CN(C)C=O',\n 'acetaldehyde': 'CC=O',\n 'n-propane': 'CCC',\n '2-octanone': 'CCCCCCC(C)=O',\n '2-ethylpyrazine': 'CCc1cnccn1',\n 'cyclopentanone': 'O=C1CCCC1',\n 'N,N-dimethylacetamide': 'CN(C)C(C)=O',\n 'methylcyclohexane': 'CC1CCCCC1',\n '1-nitrobutane': 'CCCC[N+]([O-])=O',\n 'propene': 'CC=C',\n '1,1-dimethyl-3-phenylurea': 'CN(C)C(=O)Nc1ccccc1',\n '9-methyladenine': 'Cn1cnc2c(N)ncnc12',\n 'quinoline': 'c1ccc2ncccc2c1',\n 'N-methyl-2-pyrrolidinone': 'CN1CCCC1=O',\n '2-chloropropane': 'CC(C)Cl',\n 'pyrrole': '[nH]1cccc1',\n 'dibromomethane': 'BrCBr',\n 'chloroethane': 'CCCl',\n 'formamide': 'NC=O',\n 'pentylamine': 'CCCCCN',\n '1-chloropropane': 'CCCCl',\n '4-ethylpyridine': 'CCc1ccncc1',\n '3,5-dimethylpyridine': 'Cc1cncc(C)c1',\n '1,1,2-trichloroethane': 'ClCC(Cl)Cl',\n 'morpholine': 'C1COCCN1',\n 'Z-1,2-dichloroethene': 'Cl\\\\C=C/Cl',\n 'propionitrile': 'CCC#N',\n \"2,2'-dichlorobiphenyl\": 'Clc1ccccc1c2ccccc2Cl',\n 'butanonitrile': 'CCCC#N',\n '2-nitropropane': 'CC(C)[N+]([O-])=O',\n 'hydrogen': '[H]',\n 'piperazine': 'C1CNCCN1',\n '1-bromopropane': 'CCCBr',\n '2,2-dimethylpropane': 'CC(C)(C)C',\n 'diethyl 4-nitrophenyl thiophosphonate': 'CCOP(=O)(OC1=CC=C(C=C1)[N+](=O)[O-])SCC',\n 'cyclopropane': 'C1CC1',\n 'dimethyl ether': 'COC',\n 'cyclopentane': 'C1CCCC1',\n '3,5-dibromo-4-hydroxybenzonitrile': 'Oc1c(Br)cc(cc1Br)C#N',\n '1-decanol': 'CCCCCCCCCCO',\n 'cyclopentanol': 'OC1CCCC1',\n 'ethanethiol': 'CCS',\n '1-hexene': 'CCCCC=C',\n 'ethene': 'C=C',\n 's-trans-1,3-butadiene': 'C=CC=C',\n 'dimethyl disulfide': 'CSSC',\n '2-methylpropene': 'CC(C)=C',\n '1-pentene': 'CCCC=C',\n '1-hexyne': 'CCCCC#C',\n '1-pentyne': 'CCCC#C',\n 'propyne': 'CC#C',\n '2-methylpropane': 'CC(C)C',\n '1,1,2-trichloro-1,2,2-trifluoroethane': 'FC(F)(Cl)C(F)(Cl)Cl',\n 'p-dibromobenzene': 'Brc1ccc(Br)cc1',\n 'pentanal': 'CCCCC=O',\n 'tetramethylsilane': 'C[Si](C)(C)C',\n '2-bromopropane': 'CC(C)Br',\n '1-bromobutane': 'CCCCBr',\n 'methane': 'C',\n 'ethane': 'CC',\n '1-bromopentane': 'CCCCCBr',\n '3-bromopropene': 'BrCC=C',\n 'methyl butanoate': 'CCCC(=O)OC',\n 'ethyne': 'C#C',\n 'methyl formate': 'COC=O',\n 'bromotoluene': 'Cc1ccccc1Br',\n '2,2-dichloroethenyl dimethyl phosphate': 'CO[P](=O)(OC)OC=C(Cl)Cl',\n '1-bromo-1-chloro-2,2,2-trifluoroethane': 'FC(F)(F)C(Cl)Br',\n 'dimethyl 4-bromo-2,5-dichlorophenyl thiophosphate': 'CO[P](=S)(OC)Oc1cc(Cl)c(Br)cc1Cl',\n 'dimethyl 2,4,5-trichlorophenyl thiophosphate': 'CO[P](=S)(OC)Oc1cc(Cl)c(Cl)cc1Cl',\n \"O-ethyl O'-4-bromo-2-chlorophenyl S-propyl phosphorothioate\": 'CCCS[P](=O)(OCC)Oc1ccc(Br)cc1Cl',\n 'diethyl 2,4-dichlorophenyl thiophosphate': 'CCO[P](=S)(OCC)Oc1ccc(Cl)cc1Cl',\n 'methyl 3-methyl-4-thiomethoxyphenyl thiophosphate': 'COP(=S)(OC)Oc1ccc(SC)c(C)c1',\n 'ethyl 4-cyanophenyl phenylthiophosphonate': 'CCO[P](=S)(Oc1ccc(cc1)C#N)c2ccccc2',\n '4-amino-3,5,6-trichloropyridine-2-carboxylic acid': 'Nc1c(Cl)c(Cl)nc(C(O)=O)c1Cl',\n 'diethyl disulfide': 'CCSSCC',\n '3-chloropropene': 'ClCC=C',\n 'bromomethane': 'CBr',\n \"2,2',3'-trichlorobiphenyl\": 'Clc1cccc(c1Cl)c2ccccc2Cl',\n '2,3-dichlorobiphenyl': 'Clc1cccc(c2ccccc2)c1Cl',\n '1-bromo-isobutane': 'CC(C)CBr',\n 'p-bromotoluene': 'Cc1ccc(Br)cc1',\n 'bromotrifluoromethane': 'FC(F)(F)Br',\n 'chlorodifluoromethane': 'FC(F)Cl',\n '1,1-difluoroethane': 'CC(F)F',\n '1-bromo-1,2,2,2-tetrafluoroethane': 'FC(Br)C(F)(F)F',\n 'bromotrichloromethane': 'ClC(Cl)(Cl)Br',\n '1,1-dichloro-2,2-difluoroethyl methyl ether': 'COC(Cl)(Cl)C(F)F',\n '1,1,1-trifluoropropan-2-ol': 'CC(O)C(F)(F)F',\n '1,1,1,3,3,3-hexafluoropropan-2-ol': 'OC(C(F)(F)F)C(F)(F)F',\n '2,2,2-trifluorethyl vinyl  ether': 'C=COCC(F)(F)F',\n '2,6-dichlorobenzonitrile': 'Clc1cccc(Cl)c1C#N',\n 'dimethyl sulfide': 'CSC',\n 'dipropyl sulfide': 'CCCSCCC',\n 'tetrafluoromethane': 'FC(F)(F)F',\n 'N-methylformamide': 'CNC=O',\n '2,2,4-trimethylpentane': 'CC(C)CC(C)(C)C',\n '1-butyne': 'CCC#C',\n '2,4-dimethylpyridine': 'Cc1ccnc(C)c1',\n 'methylhydrazine': 'CNN',\n '5-nonanone': 'CCCCC(=O)CCCC',\n 'methyl propyl ether': 'CCCOC',\n '1,2-dimethoxyethane': 'COCCOC',\n '2,5-dimethylpyridine': 'Cc1ccc(C)nc1',\n '1-methylthymine': 'CN1C=C(C)C(=O)NC1=O',\n '3,4-dimethylpyridine': 'Cc1ccncc1C',\n '2-methylpentane': 'CCCC(C)C',\n '4-heptanone': 'CCCC(=O)CCC',\n 'octanal': 'CCCCCCCC=O',\n 'ethyl formate': 'CCOC=O',\n '2,4-dimethylpentane': 'CC(C)CC(C)C',\n 'E-2-pentene': 'CC/C=C/C',\n 'a-[(4,6-dimethoxypyrimidin-2-ylcarbamoyl)sulfamoyl]-o-toluic acid (bensulfuron)': 'COC1=CC(=NC(=N1)NC(=O)NS(=O)(=O)CC2=CC=CC=C2C(=O)O)OC',\n 'butyl nitrate': 'CCCCO[N+]([O-])=O',\n 'nitroglycol': '[O-][N+](=O)OCCO[N+]([O-])=O',\n '1,2-dinitroxypropane': 'CC(CO[N+]([O-])=O)O[N+]([O-])=O',\n 'isobutyl nitrate': 'CC(C)CO[N+]([O-])=O',\n '2-butyl nitrate': 'CCC(C)O[N+]([O-])=O',\n '5-Bromo-3-sec-butyl-6-methyl-uracil (bromacil)': 'CCC(C)N1C(=O)C(=C(NC1=O)C)Br',\n 'ethylene glycol mononitrate': 'OCCO.O[N+]([O-])=O',\n '2-chloro-N-(2,6-diethylphenyl)-N-(methoxymethyl)acetamide (alachlor)': 'CCC1=C(C(=CC=C1)CC)N(COC)C(=O)CCl',\n '2-methyl-2-(methylthio)propanal O-(N-methylcarbamoyl)oxime (aldicarb)': 'CC(C)(/C=N/OC(=O)NC)SC',\n 'O,O-dimethyl S-[(4-oxo-1,2,3-benzotriazin-3(4H)-yl)methyl] dithiophosphate (azinphos methyl)': 'COP(=S)(OC)SCN1C(=O)C2=CC=CC=C2N=N1',\n 'N-butyl-N-ethyl-2,6-dinitro-4-(trifluoromethyl)aniline (benefin)': 'CCCCN(CC)C1=C(C=C(C=C1[N+](=O)[O-])C(F)(F)F)[N+](=O)[O-]',\n '2-(ethylamino)-4-isopropylamino-6-methyl-thio-s-triazine (ametryn)': 'CCNC1=NC(=NC(=N1)SC)NC(C)C',\n 'phenyl formate ': 'O=COc1ccccc1',\n 'imidazole': '[nH]1ccnc1',\n '1,3-diacetyloxypropan-2-yl acetate (glycerol triacetate)': 'CC(=O)OCC(COC(=O)C)OC(=O)C',\n 'n-hexadecane': 'CCCCCCCCCCCCCCCC',\n 'n-undecane': 'CCCCCCCCCCC',\n 'dimethyl 5-(4-chloro)bicyclo[3.2.0]heptyl phosphate': 'COP(=O)(OC)OC12CCC1CCC2Cl',\n 'n-pentadecane': 'CCCCCCCCCCCCCCC',\n 'n-dodecane': 'CCCCCCCCCCCC',\n 'n-decane': 'CCCCCCCCCC',\n 'n-nonane': 'CCCCCCCCC',\n 'water dimer': 'Did not work',\n 'm-bis(trifluoromethyl) benzene': 'FC(F)(F)c1cccc(c1)C(F)(F)F',\n '1,2-diethoxyethane': 'CCOCCOCC',\n 'N,N-dimethyl-p-methoxybenzamide': 'COc1ccc(cc1)C(=O)N(C)C',\n 'N,N,4-trimethylbenzamide': 'CN(C)C(=O)c1ccc(C)cc1',\n 'bis(2-chloroethyl) ether': 'ClCCOCCCl',\n '1,1-diacetoxyethane': 'CC(OC(C)=O)OC(C)=O',\n '1,1-diethoxyethane': 'CCOC(C)OCC',\n 'diethyl propanedioate': 'CCOC(=O)CC(=O)OCC',\n 'dimethoxymethane': 'COCOC',\n 'ethylene glycol diacetate': 'CC(O)=O.CC(O)=O.OCCO',\n '3a,4,7,7a-tetrahydro-2-[(trichloromethyl)thio]- 1H-isoindole-1,3(2H)-dione (captan)': 'C1C=CCC2C1C(=O)N(C2=O)SC(Cl)(Cl)Cl',\n 'fluoroethane': 'CCF',\n '1-naphthyl methylcarbamate (carbaryl)': 'CNC(=O)OC1=CC=CC2=CC=CC=C21',\n '3-t-butyl-5-chloro-6-methyluracil (terbacil)': 'CC1=C(C(=O)N(C(=O)N1)C(C)(C)C)Cl',\n 'S-propyl butyl(ethyl)thiocarbamate (pebulate)': 'CCCCN(CC)C(=O)SCCC',\n 'O,O-diethyl S-ethylthiomethyl phosphorodithioate (phorate)': 'CCOP(=S)(OCC)SCSCC',\n 'N-cyclopropylmethyl-2,6-dinitro-N-propyl-4-trifluoromethylaniline (profluralin)': 'CCCN(CC1CC1)C2=C(C=C(C=C2[N+](=O)[O-])C(F)(F)F)[N+](=O)[O-]',\n 'N2,N4-diisopropyl-6-methylthio-1,3,5-triazine-2,4-diamine (prometryn)': 'CC(C)NC1=NC(=NC(=N1)SC)NC(C)C',\n 'N-(3,4-dichlorophenyl)propanamide (propanil)': 'CCC(=O)NC1=CC(=C(C=C1)Cl)Cl',\n '5-amino-4-chloro-2-phenyl-3-(2H)-pyridazinone (pyrazon)': 'C1=CC=C(C=C1)N2C(=O)C(=C(C=N2)N)Cl',\n \"6-chloro-N,N'-diethyl-1,3,5-triazine-2,4-diamine (simazine)\": 'CCNC1=NC(=NC(=N1)Cl)NCC',\n 'methyl 2-(4,6-dimethylpyrimidin-2-ylcarbamoylsulfamoyl)benzoate (sulfometuron-methyl)': 'CC1=CC(=NC(=N1)NC(=O)NS(=O)(=O)C2=CC=CC=C2C(=O)OC)C',\n 'N2-tert-butyl-N4-ethyl-6-methylthio-1,3,5-triazine-2,4-diamine (terbutryn)': 'CCNC1=NC(=NC(=N1)SC)NC(C)(C)C',\n 'nitroxyacetone': 'CC(=O)CO[N+]([O-])=O',\n '3-(4-methoxy-6-methyl-1,3,5-triazin-2-ylcarbamoylsulfamoyl)thiophene-2-carboxylic acid (thifensulfuron)': 'CC1=NC(=NC(=N1)OC)NC(=O)NS(=O)(=O)C2=C(SC=C2)C(=O)O',\n 'dimethyl (RS)-2,2,2-trichloro-1-hydroxyethylphosphonate (trichlorfon)': 'COP(=O)(C(C(Cl)(Cl)Cl)O)OC',\n 'a,a,a-trifluoro-2,6-dinitro-N,N-dipropyl-p-toluidine (trifluralin)': 'CCCN(CCC)C1=C(C=C(C=C1[N+](=O)[O-])C(F)(F)F)[N+](=O)[O-]',\n 'S-propyl dipropyl(thiocarbamate) (vernolate)': 'CCCN(CCC)C(=O)SCCC',\n \"4-amino-4'-nitroazobenzene\": 'Nc1ccc(cc1)N=Nc2ccc(cc2)[N+]([O-])=O',\n '1-amino-4-anilinoanthraquinone': 'Nc1ccc(Nc2ccccc2)c3C(=O)c4ccccc4C(=O)c13',\n '1,4,5,8-tetraminoanthraquinone': 'Nc1ccc(N)c2C(=O)c3c(N)ccc(N)c3C(=O)c12',\n '1-amino-anthraquinone': 'Nc1cccc2C(=O)c3ccccc3C(=O)c12',\n 'O,O-diethyl-O-4-nitro-phenylthiophosphate (parathion)': 'CCOP(=S)(OCC)OC1=CC=C(C=C1)[N+](=O)[O-]',\n '4-mesyl-2,6-dinitro-N,N-dipropylaniline (nitralin)': 'CCCN(CCC)C1=C(C=C(C=C1[N+](=O)[O-])S(=O)(=O)C)[N+](=O)[O-]',\n '2,3-dihydro-2,2-dimethyl-7-benzofuranyl methylcarbamate (carbofuran)': 'CC1(CC2=C(O1)C(=CC=C2)OC(=O)NC)C',\n 'N1,N1-diethyl-2,6-dinitro-4-trifluoromethyl-m-phenylenediamine (dinitramine)': 'CCN(CC)C1=C(C=C(C(=C1[N+](=O)[O-])N)C(F)(F)F)[N+](=O)[O-]',\n 'octachloro-4,7-methanohydroindane (chlordane)': 'C1C2C(C(C1Cl)Cl)C3(C(=C(C2(C3(Cl)Cl)Cl)Cl)Cl)Cl',\n 'phosphoric acid [(E)-2-chloro-1-(2,4-dichlorophenyl)vinyl] diethyl ester (chlorfenvinphos)': 'CCOP(=O)(OCC)O/C(=C/Cl)/C1=C(C=C(C=C1)Cl)Cl',\n 'ethyl 2-(4-chloro-6-methoxypyrimidin-2-ylcarbamoylsulfamoyl)benzoate (chlorimuron ethyl)': 'CCOC(=O)C1=CC=CC=C1S(=O)(=O)NC(=O)NC2=NC(=CC(=N2)Cl)OC',\n 'trichloro(nitro)methane (chloropicrin)': '[O-][N+](=O)C(Cl)(Cl)Cl.[O-][N+](=O)C(Cl)(Cl)Cl',\n 'O,O-diethyl O-3,5,6-trichloro-2-pyridyl phosphorothioate (chlorpyrifos)': 'CCOP(=S)(OCC)OC1=NC(=C(C=C1Cl)Cl)Cl',\n 'S-(RS)-2-chloro-1-phthalimidoethyl O,O-diethyl phosphorodithioate (dialifor)': 'CCOP(=S)(OCC)SC(CCl)N1C(=O)C2=CC=CC=C2C1=O',\n 'diethoxy-[(2-isopropyl-6-methyl-4-pyrimidinyl)oxy]-thioxophosphorane (diazinon)': 'CCO[P](=S)(OCC)Oc1cc(C)nc(n1)C(C)C.CCO[P](=S)(OCC)Oc2cc(C)nc(n2)C(C)C',\n '3,6-dichloro-2-methoxybenzoic acid (dicamba)': 'COC1=C(C=CC(=C1C(=O)O)Cl)Cl',\n '(RS)-2-sec-butyl-4,6-dinitrophenol (dinoseb)': 'CCC(C)C1=C(C(=CC(=C1)[N+](=O)[O-])[N+](=O)[O-])O',\n 'methyl 2-(4-methoxy-6-methyl-1,3,5-triazin-2-ylcarbamoylsulfamoyl)benzoate (metsulfuron methyl)': 'CC1=NC(=NC(=N1)OC)NC(=O)NS(=O)(=O)C2=CC=CC=C2C(=O)OC',\n '6,7,8,9,10,10-hexachloro-1,5,5a,6,9,9a-hexahydro-6,9-methano-2,4,3-benzodioxathiepine-3-oxide (endosulfan alpha)': 'C1C2C(COS(=O)O1)C3(C(=C(C2(C3(Cl)Cl)Cl)Cl)Cl)Cl',\n '(1R,4S,4aS,5S,6S,7R,8R,8aR)-1,2,3,4,10,10-hexachloro-1,4,4a,5,6,7,8,8a-octahydro-6,7-epoxy-1,4:5,8-dimethanonaphthalene (endrin)': 'C1C2C3C(C1C4C2O4)C5(C(=C(C3(C5(Cl)Cl)Cl)Cl)Cl)Cl',\n \"O,O,O',O'-tetraethyl S,S'-methylene bis(phosphorodithioate) (ethion)\": 'CCOP(=S)(OCC)SCSP(=S)(OCC)OCC',\n '1,4,5,6,7,8,8-heptachloro-3a,4,7,7a-tetrahydro-4,7-methanoindene (heptachlor)': 'C1=CC(C2C1C3(C(=C(C2(C3(Cl)Cl)Cl)Cl)Cl)Cl)Cl',\n '3,5,5-trimethyl-2-cyclohexen-1-one (isophorone)': 'CC1=CC(=O)CC(C)(C)C1.CC2=CC(=O)CC(C)(C)C2',\n '1,2,3,4,5,6-hexachlorocyclohexane (lindane)': 'C1(C(C(C(C(C1Cl)Cl)Cl)Cl)Cl)Cl',\n '2-(dimethoxyphosphinothioylthio) butanedioic acid diethyl ester (malathion)': 'CCOC(=O)CC(C(=O)OCC)SP(=S)(OC)OC',\n 'N-methylcarbamic acid [1-(methylthio)ethylideneamino] ester (methomyl)': 'C/C(=N\\\\OC(=O)NC)/SC',\n 'S-4-chlorophenylthiomethyl O,O-diethyl phosphorodithioate (carbophenothion)': 'CCOP(=S)(OCC)SCSC1=CC=C(C=C1)Cl',\n 'dimethyl methylphosphonate': 'CO[P](C)(=O)OC',\n 'cis-1,2-dimethylcyclohexane': 'C[C@@H]1CCCC[C@@H]1C',\n 'chloroethene': 'ClC=C',\n '3,aminoaniline': 'C1=CC(=CC(=C1)N)N',\n '1,1-dimethylhydrazine': 'CN(C)N',\n 'N,N-dimethylaniline': 'CN(C)c1ccccc1',\n 'chlorotoluene': 'Cc1ccccc1Cl',\n 'o-chlorotoluene': 'Cc1ccccc1Cl',\n 'N-ethylaniline': 'CCNc1ccccc1',\n 'aniline ': 'Nc1ccccc1',\n 'piperidine  ': 'C1CCNCC1',\n \"N,N'-dimethylpiperazine\": 'CN1CCN(C)CC1',\n 'N-methylpiperazine': 'CN1CCNCC1',\n 'pyrrolidine': 'C1CCNC1',\n 'azetidine': 'C1CNC1',\n 'butenyne': 'C=CC#C',\n '2-chloropentane': 'CCCC(C)Cl',\n '3-ethyl-2-methoxypyrazine': 'CCc1nccnc1OC',\n '1-fluorooctane': 'CCCCCCCCF',\n 'fluoromethane': 'CF',\n 'hexafluoroethane': 'FC(F)(F)C(F)(F)F',\n 'octafluoropropane': 'FC(F)(F)C(F)(F)C(F)(F)F',\n 'N-methylmorpholine': 'CN1CCOCC1',\n 'chloromethane': 'CCl',\n '2-methoxyethanamine': 'COCCN',\n '1-chloropentane': 'CCCCCCl',\n '2-pyrrolidinone': 'O=C1CCCN1',\n 'Z-N-methylacetamide': 'CC(=O)NC',\n 'E-N-methylacetamide': 'CC(=O)NC',\n '1,2-ethanediamine': 'NCCN',\n '1,1,1,2-tetrachloroethane': 'ClCC(Cl)(Cl)Cl',\n 'hexachloroethane': 'ClC(Cl)(Cl)C(Cl)(Cl)Cl',\n '2-chlorobutane': 'CCC(C)Cl',\n 'ethyl peroxide': 'CCOOCC',\n 'methyl peroxide': 'COOC',\n 'methyl octanoate': 'CCCCCCCC(=O)OC',\n 'm-xylene ': 'Cc1cccc(C)c1',\n 'chrysene': 'c1ccc2c(c1)ccc3c4ccccc4ccc23',\n 'o-xylene ': 'Cc1ccccc1C',\n 'isopropanol ': 'CC(C)O',\n 'toluene ': 'Cc1ccccc1',\n 'bis(2-chloroethyl)sulfide': 'ClCCSCCCl',\n '2,6-dichlorothiobenzamide': 'NC(=S)c1c(Cl)cccc1Cl',\n '1-fluorohexane': 'CCCCCCF',\n 'phosphine': 'P',\n 'cyclopentene': 'C1CC=CC1',\n 'methanethiol': 'CS',\n 'ethyloctadecanoate': 'CCCCCCCCCCCCCCCCCC(=O)OCC',\n 't-butyl methyl ether': 'COC(C)(C)C',\n '4-methyl-2-pentanone': 'CC(C)CC(C)=O',\n 'chlorofluoromethane': 'FCCl',\n '1-bromo-2-chloroethane': 'ClCCBr',\n '1-chloro-2,2,2-trifluoroethane': 'FC(F)(F)CCl',\n 'anisole ': 'COc1ccccc1',\n 't-butyl methyl ether ': 'COC(C)(C)C',\n 'chloropentaflouroethane': 'C(C(F)(F)Cl)(F)(F)F',\n '1-chloro-2,2,2-trifluoroethyl difluoromethyl ether': 'FC(F)OC(Cl)C(F)(F)F',\n 'methyl isopropyl ether': 'COC(C)C',\n 'methyl isopropyl ether ': 'COC(C)C',\n 'diethyl ether ': 'CCOCC',\n '1-nonanol': 'CCCCCCCCCO',\n '(2-dimethylamino-5,6-dimethyl-pyrimidin-4-yl) N,N-dimethylcarbamate (pirimor, pirimicarb)': 'CC1=C(N=C(N=C1OC(=O)N(C)C)N(C)C)C'}"
     },
     "execution_count": 7,
     "metadata": {},
     "output_type": "execute_result"
    }
   ],
   "source": [
    "import pickle as pkl\n",
    "from Solvation_1.Preprocess.Create_smiles_pkl import create_smiles_dict\n",
    "get_SMILES = create_smiles_dict()\n",
    "get_SMILES"
   ],
   "metadata": {
    "collapsed": false,
    "pycharm": {
     "name": "#%%\n"
    }
   }
  },
  {
   "cell_type": "code",
   "execution_count": null,
   "outputs": [],
   "source": [
    "\n",
    "with open((project_path('Solvation_1/Tables/get_SMILES.pkl')), 'wb') as g:\n",
    "    pkl.dump(get_SMILES, g)"
   ],
   "metadata": {
    "collapsed": false,
    "pycharm": {
     "name": "#%%\n"
    }
   }
  },
  {
   "cell_type": "code",
   "execution_count": 11,
   "outputs": [
    {
     "data": {
      "text/plain": "<rdkit.Chem.rdchem.Mol at 0x12aa46490>",
      "image/png": "[encoded data removed]"
     },
     "execution_count": 11,
     "metadata": {},
     "output_type": "execute_result"
    }
   ],
   "source": [
    "Chem.MolFromSmiles('Cc1cc(C)ccn1')"
   ],
   "metadata": {
    "collapsed": false,
    "pycharm": {
     "name": "#%%\n"
    }
   }
  },
  {
   "cell_type": "code",
   "execution_count": 44,
   "outputs": [
    {
     "name": "stdout",
     "output_type": "stream",
     "text": [
      "0 ethanol CCO\n",
      "\n",
      "1 toluene Cc1ccccc1\n",
      "\n",
      "2 2-butanone CCC(C)=O\n",
      "\n",
      "3 n-octane CCCCCCCC\n",
      "\n",
      "4 nitromethane C[N+]([O-])=O\n",
      "\n",
      "5 1,4-dioxane C1COCCO1\n",
      "\n",
      "6 phenol Oc1ccccc1\n",
      "\n",
      "7 acetic acid CC(O)=O\n",
      "\n",
      "8 ethyl acetate CCOC(C)=O\n",
      "\n",
      "9 butyl acetate CCCCOC(C)=O\n",
      "\n",
      "10 propanoic acid CCC(O)=O\n",
      "\n",
      "11 methyl acetate COC(C)=O\n",
      "\n",
      "12 1-hexanol CCCCCCO\n",
      "\n",
      "13 1-propanol CCCO\n",
      "\n",
      "14 1-butanol CCCCO\n",
      "\n",
      "15 1-pentanol CCCCCO\n",
      "\n",
      "16 butylamine CCCCN\n",
      "\n",
      "17 propyl acetate CCCOC(C)=O\n",
      "\n",
      "18 methanol CO\n",
      "\n",
      "19 1-heptanol CCCCCCCO\n",
      "\n",
      "20 ethylamine CCN\n",
      "\n",
      "21 propylamine CCCN\n",
      "\n",
      "22 methyl pentanoate CCCCC(=O)OC\n",
      "\n",
      "23 methyl propanoate CCC(=O)OC\n",
      "\n",
      "24 p-cresol Cc1ccc(O)cc1\n",
      "\n",
      "25 pentyl acetate CCCCCOC(C)=O\n",
      "\n",
      "26 o-cresol Cc1ccccc1O\n",
      "\n",
      "27 p-bromophenol Oc1ccc(Br)cc1\n",
      "\n",
      "28 aniline Nc1ccccc1\n",
      "\n",
      "29 2-hexanone CCCCC(C)=O\n",
      "\n",
      "30 2-pentanone CCCC(C)=O\n",
      "\n",
      "31 2-heptanone CCCCCC(C)=O\n",
      "\n",
      "32 butanoic acid CCCC(O)=O\n",
      "\n",
      "33 3,3-dimethylbutanone CC(=O)C(C)(C)C\n",
      "\n",
      "34 acetone CC(C)=O\n",
      "\n",
      "35 methyl hexanoate CCCCCC(=O)OC\n",
      "\n",
      "36 benzene c1ccccc1\n",
      "\n",
      "37 pyridine c1ccncc1\n",
      "\n",
      "38 m-cresol Cc1cccc(O)c1\n",
      "\n",
      "39 water O\n",
      "\n",
      "40 diethylamine CCNCC\n",
      "\n",
      "41 hydrogen peroxide OO\n",
      "\n",
      "42 pentanoic acid CCCCC(O)=O\n",
      "\n",
      "43 hexanoic acid CCCCCC(O)=O\n",
      "\n",
      "44 4-methylaniline Cc1ccc(N)cc1\n",
      "\n",
      "45 ethylbenzene CCc1ccccc1\n",
      "\n",
      "46 trimethylamine CN(C)C\n",
      "\n",
      "47 chlorobenzene Clc1ccccc1\n",
      "\n",
      "48 acetophenone CC(=O)c1ccccc1\n",
      "\n",
      "49 methylamine CN\n",
      "\n",
      "50 nitrobenzene [O-][N+](=O)c1ccccc1\n",
      "\n",
      "51 bromobenzene Brc1ccccc1\n",
      "\n",
      "52 naphthalene c1ccc2ccccc2c1\n",
      "\n",
      "53 fluorobenzene Fc1ccccc1\n",
      "\n",
      "54 benzamide NC(=O)c1ccccc1\n",
      "\n",
      "55 benzaldehyde O=Cc1ccccc1\n",
      "\n",
      "56 benzonitrile N#Cc1ccccc1\n",
      "\n",
      "57 formaldehyde C=O\n",
      "\n",
      "58 ammonia N\n",
      "\n",
      "59 methyl benzoate COC(=O)c1ccccc1\n",
      "\n",
      "60 dimethylamine CNC\n",
      "\n",
      "61 p-hydroxybenzaldehyde Oc1ccc(C=O)cc1\n",
      "\n",
      "62 2-methylaniline Cc1ccccc1N\n",
      "\n",
      "63 1,4-dichlorobenzene Clc1ccc(Cl)cc1\n",
      "\n",
      "64 1-nitropropane CCC[N+]([O-])=O\n",
      "\n",
      "65 m-xylene Cc1cccc(C)c1\n",
      "\n",
      "66 trimethylphosphate CO[P](=O)(OC)OC\n",
      "\n",
      "67 triethylphosphate CCO[P](=O)(OCC)OCC\n",
      "\n",
      "68 trichloromethane ClC(Cl)Cl\n",
      "\n",
      "69 anisole COc1ccccc1\n",
      "\n",
      "70 t-butanol CC(C)(C)O\n",
      "\n",
      "71 2-methyl-1-nitrobenzene Cc1ccccc1[N+]([O-])=O\n",
      "\n",
      "72 n-pentane CCCCC\n",
      "\n",
      "73 isopropanol CC(C)O\n",
      "\n",
      "74 acetonitrile CC#N\n",
      "\n",
      "75 1,2-ethanediol OCCO\n",
      "\n",
      "76 2-methylpyridine Cc1ccccn1\n",
      "\n",
      "77 tripropylphosphate CCCO[P](=O)(OCCC)OCCC\n",
      "\n",
      "78 o-xylene Cc1ccccc1C\n",
      "\n",
      "79 dipropylamine CCCNCCC\n",
      "\n",
      "80 N-methylaniline CNc1ccccc1\n",
      "\n",
      "81 3-methylaniline Cc1cccc(N)c1\n",
      "\n",
      "82 n-hexane CCCCCC\n",
      "\n",
      "83 tribromomethane BrC(Br)Br\n",
      "\n",
      "84 cyclohexane C1CCCCC1\n",
      "\n",
      "85 1-octanol CCCCCCCCO\n",
      "\n",
      "86 ethyl phenyl ether CCOc1ccccc1\n",
      "\n",
      "87 piperidine C1CCNCC1\n",
      "\n",
      "88 m-hydroxybenzaldehyde Oc1cccc(C=O)c1\n",
      "\n",
      "89 2-methoxyethanol COCCO\n",
      "\n",
      "90 1,2-dichlorobenzene Clc1ccccc1Cl\n",
      "\n",
      "91 thioanisole CSc1ccccc1\n",
      "\n",
      "92 trichloroethene ClC=C(Cl)Cl\n",
      "\n",
      "93 4-methylpyridine Cc1ccncc1\n",
      "\n",
      "94 2,6-dimethylpyridine Cc1cccc(C)n1\n",
      "\n",
      "95 n-heptane CCCCCCC\n",
      "\n",
      "96 urea NC(N)=O\n",
      "\n",
      "97 nitroethane CC[N+]([O-])=O\n",
      "\n",
      "98 diethyl ether CCOCC\n",
      "\n",
      "99 1-butene CCC=C\n",
      "\n",
      "100 2-methylpyrazine Cc1cnccn1\n",
      "\n",
      "101 hydrazine NN\n",
      "\n",
      "102 1-propanethiol CCCS\n",
      "\n",
      "103 thiophenol Sc1ccccc1\n",
      "\n",
      "104 g-butyrolactone C1CC(=O)OC1\n",
      "\n",
      "105 allyl alcohol OCC=C\n",
      "\n",
      "106 p-xylene Cc1ccc(C)cc1\n",
      "\n",
      "107 dichloromethane ClCCl\n",
      "\n",
      "108 acetamide CC(N)=O\n",
      "\n",
      "109 3-methylpyridine Cc1cccnc1\n",
      "\n",
      "110 thiophene s1cccc1\n",
      "\n",
      "111 tetrachloroethene ClC(Cl)=C(Cl)Cl\n",
      "\n",
      "112 butanal CCCC=O\n",
      "\n",
      "113 2,2,2-trifluoroethanol OCC(F)(F)F\n",
      "\n",
      "114 1,1,1-trichloroethane CC(Cl)(Cl)Cl\n",
      "\n",
      "115 tetrahydropyran C1CCOCC1\n",
      "\n",
      "116 isopropyl ether CC(C)OC(C)C\n",
      "\n",
      "117 tetrahydrofuran C1CCOC1\n",
      "\n",
      "118 n-butane CCCC\n",
      "\n",
      "119 3-pentanone CCC(=O)CC\n",
      "\n",
      "120 E-1,2-dichloroethene Cl\\C=C\\Cl\n",
      "\n",
      "121 diethyl sulfide CCSCC\n",
      "\n",
      "122 dimethyl 4-nitrophenyl thiophosphate CO[P](=S)(OC)Oc1ccc(cc1)[N+]([O-])=O\n",
      "\n",
      "123 propanal CCC=O\n",
      "\n",
      "124 difluorodichloromethane FC(F)(Cl)Cl\n",
      "\n",
      "125 fluorotrichloromethane FC(Cl)(Cl)Cl\n",
      "\n",
      "126 anthracene c1ccc2cc3ccccc3cc2c1\n",
      "\n",
      "127 hydrogen sulfide S\n",
      "\n",
      "128 bromoethane CCBr\n",
      "\n",
      "129 N,N-dimethylformamide CN(C)C=O\n",
      "\n",
      "130 acetaldehyde CC=O\n",
      "\n",
      "131 n-propane CCC\n",
      "\n",
      "132 2-octanone CCCCCCC(C)=O\n",
      "\n",
      "133 2-ethylpyrazine CCc1cnccn1\n",
      "\n",
      "134 cyclopentanone O=C1CCCC1\n",
      "\n",
      "135 N,N-dimethylacetamide CN(C)C(C)=O\n",
      "\n",
      "136 methylcyclohexane CC1CCCCC1\n",
      "\n",
      "137 1-nitrobutane CCCC[N+]([O-])=O\n",
      "\n",
      "138 propene CC=C\n",
      "\n",
      "139 1,1-dimethyl-3-phenylurea CN(C)C(=O)Nc1ccccc1\n",
      "\n",
      "140 9-methyladenine Cn1cnc2c(N)ncnc12\n",
      "\n",
      "141 quinoline c1ccc2ncccc2c1\n",
      "\n",
      "142 N-methyl-2-pyrrolidinone CN1CCCC1=O\n",
      "\n",
      "143 2-chloropropane CC(C)Cl\n",
      "\n",
      "144 pyrrole [nH]1cccc1\n",
      "\n",
      "145 dibromomethane BrCBr\n",
      "\n",
      "146 chloroethane CCCl\n",
      "\n",
      "147 formamide NC=O\n",
      "\n",
      "148 pentylamine CCCCCN\n",
      "\n",
      "149 1-chloropropane CCCCl\n",
      "\n",
      "150 4-ethylpyridine CCc1ccncc1\n",
      "\n",
      "151 3,5-dimethylpyridine Cc1cncc(C)c1\n",
      "\n",
      "152 1,1,2-trichloroethane ClCC(Cl)Cl\n",
      "\n",
      "153 morpholine C1COCCN1\n",
      "\n",
      "154 Z-1,2-dichloroethene Cl\\C=C/Cl\n",
      "\n",
      "155 propionitrile CCC#N\n",
      "\n",
      "156 2,2'-dichlorobiphenyl Clc1ccccc1c2ccccc2Cl\n",
      "\n",
      "157 butanonitrile CCCC#N\n",
      "\n",
      "158 2-nitropropane CC(C)[N+]([O-])=O\n",
      "\n",
      "159 hydrogen [H]\n",
      "\n",
      "160 piperazine C1CNCCN1\n",
      "\n",
      "161 1-bromopropane CCCBr\n",
      "\n",
      "162 2,2-dimethylpropane CC(C)(C)C\n",
      "\n",
      "163 diethyl 4-nitrophenyl thiophosphonate CCOP(=O)(OC1=CC=C(C=C1)[N+](=O)[O-])SCC\n",
      "\n",
      "164 cyclopropane C1CC1\n",
      "\n",
      "165 dimethyl ether COC\n",
      "\n",
      "166 cyclopentane C1CCCC1\n",
      "\n",
      "167 3,5-dibromo-4-hydroxybenzonitrile Oc1c(Br)cc(cc1Br)C#N\n",
      "\n",
      "168 1-decanol CCCCCCCCCCO\n",
      "\n",
      "169 cyclopentanol OC1CCCC1\n",
      "\n",
      "170 ethanethiol CCS\n",
      "\n",
      "171 1-hexene CCCCC=C\n",
      "\n",
      "172 ethene C=C\n",
      "\n",
      "173 s-trans-1,3-butadiene C=CC=C\n",
      "\n",
      "174 dimethyl disulfide CSSC\n",
      "\n",
      "175 2-methylpropene CC(C)=C\n",
      "\n",
      "176 1-pentene CCCC=C\n",
      "\n",
      "177 1-hexyne CCCCC#C\n",
      "\n",
      "178 1-pentyne CCCC#C\n",
      "\n",
      "179 propyne CC#C\n",
      "\n",
      "180 2-methylpropane CC(C)C\n",
      "\n",
      "181 1,1,2-trichloro-1,2,2-trifluoroethane FC(F)(Cl)C(F)(Cl)Cl\n",
      "\n",
      "182 p-dibromobenzene Brc1ccc(Br)cc1\n",
      "\n",
      "183 pentanal CCCCC=O\n",
      "\n",
      "184 tetramethylsilane C[Si](C)(C)C\n",
      "\n",
      "185 2-bromopropane CC(C)Br\n",
      "\n",
      "186 1-bromobutane CCCCBr\n",
      "\n",
      "187 methane C\n",
      "\n",
      "188 ethane CC\n",
      "\n",
      "189 1-bromopentane CCCCCBr\n",
      "\n",
      "190 3-bromopropene BrCC=C\n",
      "\n",
      "191 methyl butanoate CCCC(=O)OC\n",
      "\n",
      "192 ethyne C#C\n",
      "\n",
      "193 methyl formate COC=O\n",
      "\n",
      "194 bromotoluene Cc1ccccc1Br\n",
      "\n",
      "195 2,2-dichloroethenyl dimethyl phosphate CO[P](=O)(OC)OC=C(Cl)Cl\n",
      "\n",
      "196 1-bromo-1-chloro-2,2,2-trifluoroethane FC(F)(F)C(Cl)Br\n",
      "\n",
      "197 dimethyl 4-bromo-2,5-dichlorophenyl thiophosphate CO[P](=S)(OC)Oc1cc(Cl)c(Br)cc1Cl\n",
      "\n",
      "198 dimethyl 2,4,5-trichlorophenyl thiophosphate CO[P](=S)(OC)Oc1cc(Cl)c(Cl)cc1Cl\n",
      "\n",
      "199 O-ethyl O'-4-bromo-2-chlorophenyl S-propyl phosphorothioate CCCS[P](=O)(OCC)Oc1ccc(Br)cc1Cl\n",
      "\n",
      "200 diethyl 2,4-dichlorophenyl thiophosphate CCO[P](=S)(OCC)Oc1ccc(Cl)cc1Cl\n",
      "\n",
      "201 methyl 3-methyl-4-thiomethoxyphenyl thiophosphate COP(=S)(OC)Oc1ccc(SC)c(C)c1\n",
      "\n",
      "202 ethyl 4-cyanophenyl phenylthiophosphonate CCO[P](=S)(Oc1ccc(cc1)C#N)c2ccccc2\n",
      "\n",
      "203 4-amino-3,5,6-trichloropyridine-2-carboxylic acid Nc1c(Cl)c(Cl)nc(C(O)=O)c1Cl\n",
      "\n",
      "204 diethyl disulfide CCSSCC\n",
      "\n",
      "205 3-chloropropene ClCC=C\n",
      "\n",
      "206 bromomethane CBr\n",
      "\n",
      "207 2,2',3'-trichlorobiphenyl Clc1cccc(c1Cl)c2ccccc2Cl\n",
      "\n",
      "208 2,3-dichlorobiphenyl Clc1cccc(c2ccccc2)c1Cl\n",
      "\n",
      "209 1-bromo-isobutane CC(C)CBr\n",
      "\n",
      "210 p-bromotoluene Cc1ccc(Br)cc1\n",
      "\n",
      "211 bromotrifluoromethane FC(F)(F)Br\n",
      "\n",
      "212 chlorodifluoromethane FC(F)Cl\n",
      "\n",
      "213 1,1-difluoroethane CC(F)F\n",
      "\n",
      "214 1-bromo-1,2,2,2-tetrafluoroethane FC(Br)C(F)(F)F\n",
      "\n",
      "215 bromotrichloromethane ClC(Cl)(Cl)Br\n",
      "\n",
      "216 1,1-dichloro-2,2-difluoroethyl methyl ether COC(Cl)(Cl)C(F)F\n",
      "\n",
      "217 1,1,1-trifluoropropan-2-ol CC(O)C(F)(F)F\n",
      "\n",
      "218 1,1,1,3,3,3-hexafluoropropan-2-ol OC(C(F)(F)F)C(F)(F)F\n",
      "\n",
      "219 2,2,2-trifluorethyl vinyl  ether C=COCC(F)(F)F \n",
      "\n",
      "220 2,6-dichlorobenzonitrile Clc1cccc(Cl)c1C#N\n",
      "\n",
      "221 dimethyl sulfide CSC\n",
      "\n",
      "222 dipropyl sulfide CCCSCCC\n",
      "\n",
      "223 tetrafluoromethane FC(F)(F)F\n",
      "\n",
      "224 N-methylformamide CNC=O\n",
      "\n",
      "225 2,2,4-trimethylpentane CC(C)CC(C)(C)C\n",
      "\n",
      "226 1-butyne CCC#C\n",
      "\n",
      "227 2,4-dimethylpyridine Cc1ccnc(C)c1\n",
      "\n",
      "228 methylhydrazine CNN\n",
      "\n",
      "229 5-nonanone CCCCC(=O)CCCC\n",
      "\n",
      "230 methyl propyl ether CCCOC\n",
      "\n",
      "231 1,2-dimethoxyethane COCCOC\n",
      "\n",
      "232 2,5-dimethylpyridine Cc1ccc(C)nc1\n",
      "\n",
      "233 1-methylthymine CN1C=C(C)C(=O)NC1=O\n",
      "\n",
      "234 3,4-dimethylpyridine Cc1ccncc1C\n",
      "\n",
      "235 2-methylpentane CCCC(C)C\n",
      "\n",
      "236 4-heptanone CCCC(=O)CCC\n",
      "\n",
      "237 octanal CCCCCCCC=O\n",
      "\n",
      "238 ethyl formate CCOC=O\n",
      "\n",
      "239 2,4-dimethylpentane CC(C)CC(C)C\n",
      "\n",
      "240 E-2-pentene CC/C=C/C\n",
      "\n",
      "241 a-[(4,6-dimethoxypyrimidin-2-ylcarbamoyl)sulfamoyl]-o-toluic acid (bensulfuron) COC1=CC(=NC(=N1)NC(=O)NS(=O)(=O)CC2=CC=CC=C2C(=O)O)OC\n",
      "\n",
      "242 butyl nitrate CCCCO[N+]([O-])=O\n",
      "\n",
      "243 nitroglycol [O-][N+](=O)OCCO[N+]([O-])=O\n",
      "\n",
      "244 1,2-dinitroxypropane CC(CO[N+]([O-])=O)O[N+]([O-])=O\n",
      "\n",
      "245 isobutyl nitrate CC(C)CO[N+]([O-])=O\n",
      "\n",
      "246 2-butyl nitrate CCC(C)O[N+]([O-])=O\n",
      "\n",
      "247 5-Bromo-3-sec-butyl-6-methyl-uracil (bromacil) CCC(C)N1C(=O)C(=C(NC1=O)C)Br\n",
      "\n",
      "248 ethylene glycol mononitrate OCCO.O[N+]([O-])=O\n",
      "\n",
      "249 2-chloro-N-(2,6-diethylphenyl)-N-(methoxymethyl)acetamide (alachlor) CCC1=C(C(=CC=C1)CC)N(COC)C(=O)CCl\n",
      "\n",
      "250 2-methyl-2-(methylthio)propanal O-(N-methylcarbamoyl)oxime (aldicarb) CC(C)(/C=N/OC(=O)NC)SC\n",
      "\n",
      "251 O,O-dimethyl S-[(4-oxo-1,2,3-benzotriazin-3(4H)-yl)methyl] dithiophosphate (azinphos methyl) COP(=S)(OC)SCN1C(=O)C2=CC=CC=C2N=N1\n",
      "\n",
      "252 N-butyl-N-ethyl-2,6-dinitro-4-(trifluoromethyl)aniline (benefin) CCCCN(CC)C1=C(C=C(C=C1[N+](=O)[O-])C(F)(F)F)[N+](=O)[O-]\n",
      "\n",
      "253 2-(ethylamino)-4-isopropylamino-6-methyl-thio-s-triazine (ametryn) CCNC1=NC(=NC(=N1)SC)NC(C)C\n",
      "\n",
      "254 phenyl formate  O=COc1ccccc1\n",
      "\n",
      "255 imidazole [nH]1ccnc1\n",
      "\n",
      "256 1,3-diacetyloxypropan-2-yl acetate (glycerol triacetate) CC(=O)OCC(COC(=O)C)OC(=O)C\n",
      "\n",
      "257 n-hexadecane CCCCCCCCCCCCCCCC\n",
      "\n",
      "258 n-undecane CCCCCCCCCCC\n",
      "\n",
      "259 dimethyl 5-(4-chloro)bicyclo[3.2.0]heptyl phosphate COP(=O)(OC)OC12CCC1CCC2Cl\n",
      "\n",
      "260 n-pentadecane CCCCCCCCCCCCCCC\n",
      "\n",
      "261 n-dodecane CCCCCCCCCCCC\n",
      "\n",
      "262 n-decane CCCCCCCCCC\n",
      "\n",
      "263 n-nonane CCCCCCCCC\n",
      "\n",
      "264 water dimer Did not work\n",
      "\n",
      "265 m-bis(trifluoromethyl) benzene FC(F)(F)c1cccc(c1)C(F)(F)F\n",
      "\n",
      "266 1,2-diethoxyethane CCOCCOCC\n",
      "\n",
      "267 N,N-dimethyl-p-methoxybenzamide COc1ccc(cc1)C(=O)N(C)C\n",
      "\n",
      "268 N,N,4-trimethylbenzamide CN(C)C(=O)c1ccc(C)cc1\n",
      "\n",
      "269 bis(2-chloroethyl) ether ClCCOCCCl\n",
      "\n",
      "270 1,1-diacetoxyethane CC(OC(C)=O)OC(C)=O\n",
      "\n",
      "271 1,1-diethoxyethane CCOC(C)OCC\n",
      "\n",
      "272 diethyl propanedioate CCOC(=O)CC(=O)OCC\n",
      "\n",
      "273 dimethoxymethane COCOC\n",
      "\n",
      "274 ethylene glycol diacetate CC(O)=O.CC(O)=O.OCCO\n",
      "\n",
      "275 3a,4,7,7a-tetrahydro-2-[(trichloromethyl)thio]- 1H-isoindole-1,3(2H)-dione (captan) C1C=CCC2C1C(=O)N(C2=O)SC(Cl)(Cl)Cl\n",
      "\n",
      "276 fluoroethane CCF\n",
      "\n",
      "277 1-naphthyl methylcarbamate (carbaryl) CNC(=O)OC1=CC=CC2=CC=CC=C21\n",
      "\n",
      "278 3-t-butyl-5-chloro-6-methyluracil (terbacil) CC1=C(C(=O)N(C(=O)N1)C(C)(C)C)Cl\n",
      "\n",
      "279 S-propyl butyl(ethyl)thiocarbamate (pebulate) CCCCN(CC)C(=O)SCCC\n",
      "\n",
      "280 O,O-diethyl S-ethylthiomethyl phosphorodithioate (phorate) CCOP(=S)(OCC)SCSCC\n",
      "\n",
      "281 N-cyclopropylmethyl-2,6-dinitro-N-propyl-4-trifluoromethylaniline (profluralin) CCCN(CC1CC1)C2=C(C=C(C=C2[N+](=O)[O-])C(F)(F)F)[N+](=O)[O-]\n",
      "\n",
      "282 N2,N4-diisopropyl-6-methylthio-1,3,5-triazine-2,4-diamine (prometryn) CC(C)NC1=NC(=NC(=N1)SC)NC(C)C\n",
      "\n",
      "283 N-(3,4-dichlorophenyl)propanamide (propanil) CCC(=O)NC1=CC(=C(C=C1)Cl)Cl\n",
      "\n",
      "284 5-amino-4-chloro-2-phenyl-3-(2H)-pyridazinone (pyrazon) C1=CC=C(C=C1)N2C(=O)C(=C(C=N2)N)Cl\n",
      "\n",
      "285 6-chloro-N,N'-diethyl-1,3,5-triazine-2,4-diamine (simazine) CCNC1=NC(=NC(=N1)Cl)NCC\n",
      "\n",
      "286 methyl 2-(4,6-dimethylpyrimidin-2-ylcarbamoylsulfamoyl)benzoate (sulfometuron-methyl) CC1=CC(=NC(=N1)NC(=O)NS(=O)(=O)C2=CC=CC=C2C(=O)OC)C\n",
      "\n",
      "287 N2-tert-butyl-N4-ethyl-6-methylthio-1,3,5-triazine-2,4-diamine (terbutryn) CCNC1=NC(=NC(=N1)SC)NC(C)(C)C\n",
      "\n",
      "288 nitroxyacetone CC(=O)CO[N+]([O-])=O\n",
      "\n",
      "289 3-(4-methoxy-6-methyl-1,3,5-triazin-2-ylcarbamoylsulfamoyl)thiophene-2-carboxylic acid (thifensulfuron) CC1=NC(=NC(=N1)OC)NC(=O)NS(=O)(=O)C2=C(SC=C2)C(=O)O\n",
      "\n",
      "290 dimethyl (RS)-2,2,2-trichloro-1-hydroxyethylphosphonate (trichlorfon) COP(=O)(C(C(Cl)(Cl)Cl)O)OC\n",
      "\n",
      "291 a,a,a-trifluoro-2,6-dinitro-N,N-dipropyl-p-toluidine (trifluralin) CCCN(CCC)C1=C(C=C(C=C1[N+](=O)[O-])C(F)(F)F)[N+](=O)[O-]\n",
      "\n",
      "292 S-propyl dipropyl(thiocarbamate) (vernolate) CCCN(CCC)C(=O)SCCC\n",
      "\n",
      "293 4-amino-4'-nitroazobenzene Nc1ccc(cc1)N=Nc2ccc(cc2)[N+]([O-])=O\n",
      "\n",
      "294 1-amino-4-anilinoanthraquinone Nc1ccc(Nc2ccccc2)c3C(=O)c4ccccc4C(=O)c13\n",
      "\n",
      "295 1,4,5,8-tetraminoanthraquinone Nc1ccc(N)c2C(=O)c3c(N)ccc(N)c3C(=O)c12\n",
      "\n",
      "296 1-amino-anthraquinone Nc1cccc2C(=O)c3ccccc3C(=O)c12\n",
      "\n",
      "297 O,O-diethyl-O-4-nitro-phenylthiophosphate (parathion) CCOP(=S)(OCC)OC1=CC=C(C=C1)[N+](=O)[O-]\n",
      "\n",
      "298 4-mesyl-2,6-dinitro-N,N-dipropylaniline (nitralin) CCCN(CCC)C1=C(C=C(C=C1[N+](=O)[O-])S(=O)(=O)C)[N+](=O)[O-]\n",
      "\n",
      "299 2,3-dihydro-2,2-dimethyl-7-benzofuranyl methylcarbamate (carbofuran) CC1(CC2=C(O1)C(=CC=C2)OC(=O)NC)C\n",
      "\n",
      "300 N1,N1-diethyl-2,6-dinitro-4-trifluoromethyl-m-phenylenediamine (dinitramine) CCN(CC)C1=C(C=C(C(=C1[N+](=O)[O-])N)C(F)(F)F)[N+](=O)[O-]\n",
      "\n",
      "301 octachloro-4,7-methanohydroindane (chlordane) C1C2C(C(C1Cl)Cl)C3(C(=C(C2(C3(Cl)Cl)Cl)Cl)Cl)Cl\n",
      "\n",
      "302 phosphoric acid [(E)-2-chloro-1-(2,4-dichlorophenyl)vinyl] diethyl ester (chlorfenvinphos) CCOP(=O)(OCC)O/C(=C/Cl)/C1=C(C=C(C=C1)Cl)Cl\n",
      "\n",
      "303 ethyl 2-(4-chloro-6-methoxypyrimidin-2-ylcarbamoylsulfamoyl)benzoate (chlorimuron ethyl) CCOC(=O)C1=CC=CC=C1S(=O)(=O)NC(=O)NC2=NC(=CC(=N2)Cl)OC\n",
      "\n",
      "304 trichloro(nitro)methane (chloropicrin) [O-][N+](=O)C(Cl)(Cl)Cl.[O-][N+](=O)C(Cl)(Cl)Cl\n",
      "\n",
      "305 O,O-diethyl O-3,5,6-trichloro-2-pyridyl phosphorothioate (chlorpyrifos) CCOP(=S)(OCC)OC1=NC(=C(C=C1Cl)Cl)Cl\n",
      "\n",
      "306 S-(RS)-2-chloro-1-phthalimidoethyl O,O-diethyl phosphorodithioate (dialifor) CCOP(=S)(OCC)SC(CCl)N1C(=O)C2=CC=CC=C2C1=O\n",
      "\n",
      "307 diethoxy-[(2-isopropyl-6-methyl-4-pyrimidinyl)oxy]-thioxophosphorane (diazinon) CCO[P](=S)(OCC)Oc1cc(C)nc(n1)C(C)C.CCO[P](=S)(OCC)Oc2cc(C)nc(n2)C(C)C\n",
      "\n",
      "308 3,6-dichloro-2-methoxybenzoic acid (dicamba) COC1=C(C=CC(=C1C(=O)O)Cl)Cl\n",
      "\n",
      "309 (RS)-2-sec-butyl-4,6-dinitrophenol (dinoseb) CCC(C)C1=C(C(=CC(=C1)[N+](=O)[O-])[N+](=O)[O-])O\n",
      "\n",
      "310 methyl 2-(4-methoxy-6-methyl-1,3,5-triazin-2-ylcarbamoylsulfamoyl)benzoate (metsulfuron methyl) CC1=NC(=NC(=N1)OC)NC(=O)NS(=O)(=O)C2=CC=CC=C2C(=O)OC\n",
      "\n",
      "311 6,7,8,9,10,10-hexachloro-1,5,5a,6,9,9a-hexahydro-6,9-methano-2,4,3-benzodioxathiepine-3-oxide (endosulfan alpha) C1C2C(COS(=O)O1)C3(C(=C(C2(C3(Cl)Cl)Cl)Cl)Cl)Cl\n",
      "\n",
      "312 (1R,4S,4aS,5S,6S,7R,8R,8aR)-1,2,3,4,10,10-hexachloro-1,4,4a,5,6,7,8,8a-octahydro-6,7-epoxy-1,4:5,8-dimethanonaphthalene (endrin) C1C2C3C(C1C4C2O4)C5(C(=C(C3(C5(Cl)Cl)Cl)Cl)Cl)Cl\n",
      "\n",
      "313 O,O,O',O'-tetraethyl S,S'-methylene bis(phosphorodithioate) (ethion) CCOP(=S)(OCC)SCSP(=S)(OCC)OCC\n",
      "\n",
      "314 1,4,5,6,7,8,8-heptachloro-3a,4,7,7a-tetrahydro-4,7-methanoindene (heptachlor) C1=CC(C2C1C3(C(=C(C2(C3(Cl)Cl)Cl)Cl)Cl)Cl)Cl\n",
      "\n",
      "315 3,5,5-trimethyl-2-cyclohexen-1-one (isophorone) CC1=CC(=O)CC(C)(C)C1.CC2=CC(=O)CC(C)(C)C2\n",
      "\n",
      "316 1,2,3,4,5,6-hexachlorocyclohexane (lindane) C1(C(C(C(C(C1Cl)Cl)Cl)Cl)Cl)Cl\n",
      "\n",
      "317 2-(dimethoxyphosphinothioylthio) butanedioic acid diethyl ester (malathion) CCOC(=O)CC(C(=O)OCC)SP(=S)(OC)OC\n",
      "\n",
      "318 N-methylcarbamic acid [1-(methylthio)ethylideneamino] ester (methomyl) C/C(=N\\OC(=O)NC)/SC\n",
      "\n",
      "319 S-4-chlorophenylthiomethyl O,O-diethyl phosphorodithioate (carbophenothion) CCOP(=S)(OCC)SCSC1=CC=C(C=C1)Cl\n",
      "\n",
      "320 dimethylsulfoxide C[S](C)=O\n",
      "\n",
      "321 dimethyl methylphosphonate CO[P](C)(=O)OC\n",
      "\n",
      "322 cis-1,2-dimethylcyclohexane C[C@@H]1CCCC[C@@H]1C\n",
      "\n",
      "323 chloroethene ClC=C\n",
      "\n",
      "324 3,aminoaniline C1=CC(=CC(=C1)N)N\n",
      "\n",
      "325 1,1-dimethylhydrazine CN(C)N\n",
      "\n",
      "326 2-ethylpyrazine CCc1cnccn1\n",
      "\n",
      "327 N,N-dimethylaniline CN(C)c1ccccc1\n",
      "\n",
      "328 chlorotoluene Cc1ccccc1Cl\n",
      "\n",
      "329 o-chlorotoluene Cc1ccccc1Cl\n",
      "\n",
      "330 N-ethylaniline CCNc1ccccc1\n",
      "\n",
      "331 aniline  Nc1ccccc1\n",
      "\n",
      "332 triethylamine CCN(CC)CC\n",
      "\n",
      "333 piperidine   C1CCNCC1\n",
      "\n",
      "334 N,N'-dimethylpiperazine CN1CCN(C)CC1\n",
      "\n",
      "335 N-methylpiperazine CN1CCNCC1\n",
      "\n",
      "336 pyrrolidine C1CCNC1\n",
      "\n",
      "337 azetidine C1CNC1\n",
      "\n",
      "338 benzylalcohol OCc1ccccc1\n",
      "\n",
      "339 butenyne C=CC#C\n",
      "\n",
      "340 carbontet C(Cl)(Cl)(Cl)Cl\n",
      "\n",
      "341 dichloroethane CC(Cl)Cl\n",
      "\n",
      "342 2-chloropentane CCCC(C)Cl\n",
      "\n",
      "343 3-ethyl-2-methoxypyrazine CCc1nccnc1OC\n",
      "\n",
      "344 1-fluorooctane CCCCCCCCF\n",
      "\n",
      "345 fluoromethane CF\n",
      "\n",
      "346 hexafluoroethane FC(F)(F)C(F)(F)F\n",
      "\n",
      "347 octafluoropropane FC(F)(F)C(F)(F)C(F)(F)F\n",
      "\n",
      "348 N-methylmorpholine CN1CCOCC1\n",
      "\n",
      "349 perfluorobenzene Fc1c(F)c(F)c(F)c(F)c1F\n",
      "\n",
      "350 chloromethane CCl\n",
      "\n",
      "351 2-methoxyethanamine COCCN\n",
      "\n",
      "352 1-chloropentane CCCCCCl\n",
      "\n",
      "353 2-pyrrolidinone O=C1CCCN1\n",
      "\n",
      "354 Z-N-methylacetamide CC(=O)NC\n",
      "\n",
      "355 E-N-methylacetamide CC(=O)NC\n",
      "\n",
      "356 1,2-ethanediamine NCCN\n",
      "\n",
      "357 1,1,1,2-tetrachloroethane ClCC(Cl)(Cl)Cl\n",
      "\n",
      "358 hexachloroethane ClC(Cl)(Cl)C(Cl)(Cl)Cl\n",
      "\n",
      "359 2-chlorobutane CCC(C)Cl\n",
      "\n",
      "360 ethyl peroxide CCOOCC\n",
      "\n",
      "361 methyl peroxide COOC\n",
      "\n",
      "362 methyl octanoate CCCCCCCC(=O)OC\n",
      "\n",
      "363 m-xylene  Cc1cccc(C)c1\n",
      "\n",
      "364 tetralin C1CCc2ccccc2C1\n",
      "\n",
      "365 trimethylbenzene Cc1cccc(C)c1C\n",
      "\n",
      "366 mesitylene Cc1cc(C)cc(C)c1\n",
      "\n",
      "367 tbutylbenzene CC(C)(C)C1=CC=CC=C1\n",
      "\n",
      "368 butylbenzene CCCCc1ccccc1\n",
      "\n",
      "369 isopropylbenzene CC(C)c1ccccc1\n",
      "\n",
      "370 chrysene c1ccc2c(c1)ccc3c4ccccc4ccc23\n",
      "\n",
      "371 o-xylene  Cc1ccccc1C\n",
      "\n",
      "372 isopropanol  CC(C)O\n",
      "\n",
      "373 toluene  Cc1ccccc1\n",
      "\n",
      "374 carbondisulfide S=C=S\n",
      "\n",
      "375 bis(2-chloroethyl)sulfide ClCCSCCCl\n",
      "\n",
      "376 2,6-dichlorothiobenzamide NC(=S)c1c(Cl)cccc1Cl\n",
      "\n",
      "377 1-fluorohexane CCCCCCF\n",
      "\n",
      "378 phosphine P\n",
      "\n",
      "379 cyclopentene C1CC=CC1\n",
      "\n",
      "380 methanethiol CS\n",
      "\n",
      "381 isobutanol CC(C)CO\n",
      "\n",
      "382 ethyloctadecanoate CCCCCCCCCCCCCCCCCC(=O)OCC\n",
      "\n",
      "383 t-butyl methyl ether COC(C)(C)C\n",
      "\n",
      "384 cyclohexanone O=C1CCCCC1\n",
      "\n",
      "385 4-methyl-2-pentanone CC(C)CC(C)=O\n",
      "\n",
      "386 chlorofluoromethane FCCl\n",
      "\n",
      "387 1-bromo-2-chloroethane ClCCBr\n",
      "\n",
      "388 dibutylether CCCCOCCCC\n",
      "\n",
      "389 1-chloro-2,2,2-trifluoroethane FC(F)(F)CCl\n",
      "\n",
      "390 anisole  COc1ccccc1\n",
      "\n",
      "391 t-butyl methyl ether  COC(C)(C)C\n",
      "\n",
      "392 secbutanol CCC(C)O\n",
      "\n",
      "393 chloropentaflouroethane C(C(F)(F)Cl)(F)(F)F\n",
      "\n",
      "394 1,2-dimethoxyethane COCCOC\n",
      "\n",
      "395 1-chloro-2,2,2-trifluoroethyl difluoromethyl ether FC(F)OC(Cl)C(F)(F)F\n",
      "\n",
      "396 methyl isopropyl ether COC(C)C\n",
      "\n",
      "397 methyl isopropyl ether  COC(C)C\n",
      "\n",
      "398 diethyl ether  CCOCC\n",
      "\n",
      "399 1-nonanol CCCCCCCCCO\n",
      "\n",
      "400 (2-dimethylamino-5,6-dimethyl-pyrimidin-4-yl) N,N-dimethylcarbamate (pirimor, pirimicarb) CC1=C(N=C(N=C1OC(=O)N(C)C)N(C)C)C\n"
     ]
    }
   ],
   "source": [
    "smiles_dict = {}\n",
    "with open(project_path('Solvation_1/Tables/SMILES_solutes_all.txt')) as f:\n",
    "    for line in f:\n",
    "        i, compound, smiles = line.split('\\t')\n",
    "        smiles = smiles.strip()\n",
    "        print(i, compound, smiles)\n",
    "        smiles_dict[compound] = smiles"
   ],
   "metadata": {
    "collapsed": false,
    "pycharm": {
     "name": "#%%\n"
    }
   }
  },
  {
   "cell_type": "code",
   "execution_count": 13,
   "outputs": [],
   "source": [
    "import periodictable as pt"
   ],
   "metadata": {
    "collapsed": false,
    "pycharm": {
     "name": "#%%\n"
    }
   }
  },
  {
   "cell_type": "code",
   "execution_count": 23,
   "outputs": [
    {
     "data": {
      "text/plain": "{0: n,\n 1: H,\n 2: He,\n 3: Li,\n 4: Be,\n 5: B,\n 6: C,\n 7: N,\n 8: O,\n 9: F,\n 10: Ne,\n 11: Na,\n 12: Mg,\n 13: Al,\n 14: Si,\n 15: P,\n 16: S,\n 17: Cl,\n 18: Ar,\n 19: K,\n 20: Ca,\n 21: Sc,\n 22: Ti,\n 23: V,\n 24: Cr,\n 25: Mn,\n 26: Fe,\n 27: Co,\n 28: Ni,\n 29: Cu,\n 30: Zn,\n 31: Ga,\n 32: Ge,\n 33: As,\n 34: Se,\n 35: Br,\n 36: Kr,\n 37: Rb,\n 38: Sr,\n 39: Y,\n 40: Zr,\n 41: Nb,\n 42: Mo,\n 43: Tc,\n 44: Ru,\n 45: Rh,\n 46: Pd,\n 47: Ag,\n 48: Cd,\n 49: In,\n 50: Sn,\n 51: Sb,\n 52: Te,\n 53: I,\n 54: Xe,\n 55: Cs,\n 56: Ba,\n 57: La,\n 58: Ce,\n 59: Pr,\n 60: Nd,\n 61: Pm,\n 62: Sm,\n 63: Eu,\n 64: Gd,\n 65: Tb,\n 66: Dy,\n 67: Ho,\n 68: Er,\n 69: Tm,\n 70: Yb,\n 71: Lu,\n 72: Hf,\n 73: Ta,\n 74: W,\n 75: Re,\n 76: Os,\n 77: Ir,\n 78: Pt,\n 79: Au,\n 80: Hg,\n 81: Tl,\n 82: Pb,\n 83: Bi,\n 84: Po,\n 85: At,\n 86: Rn,\n 87: Fr,\n 88: Ra,\n 89: Ac,\n 90: Th,\n 91: Pa,\n 92: U,\n 93: Np,\n 94: Pu,\n 95: Am,\n 96: Cm,\n 97: Bk,\n 98: Cf,\n 99: Es,\n 100: Fm,\n 101: Md,\n 102: No,\n 103: Lr,\n 104: Rf,\n 105: Db,\n 106: Sg,\n 107: Bh,\n 108: Hs,\n 109: Mt,\n 110: Ds,\n 111: Rg,\n 112: Cn,\n 113: Nh,\n 114: Fl,\n 115: Mc,\n 116: Lv,\n 117: Ts,\n 118: Og}"
     },
     "execution_count": 23,
     "metadata": {},
     "output_type": "execute_result"
    }
   ],
   "source": [
    "pt.elements.__dict__['_element']"
   ],
   "metadata": {
    "collapsed": false,
    "pycharm": {
     "name": "#%%\n"
    }
   }
  },
  {
   "cell_type": "code",
   "execution_count": 29,
   "outputs": [],
   "source": [
    "def test1(a):\n",
    "    global gb1\n",
    "    a += 1\n",
    "    gb1 = 17\n",
    "    return a"
   ],
   "metadata": {
    "collapsed": false,
    "pycharm": {
     "name": "#%%\n"
    }
   }
  },
  {
   "cell_type": "code",
   "execution_count": 25,
   "outputs": [],
   "source": [
    "r = test1(4)"
   ],
   "metadata": {
    "collapsed": false,
    "pycharm": {
     "name": "#%%\n"
    }
   }
  },
  {
   "cell_type": "code",
   "execution_count": 26,
   "outputs": [
    {
     "data": {
      "text/plain": "5"
     },
     "execution_count": 26,
     "metadata": {},
     "output_type": "execute_result"
    }
   ],
   "source": [
    "r"
   ],
   "metadata": {
    "collapsed": false,
    "pycharm": {
     "name": "#%%\n"
    }
   }
  },
  {
   "cell_type": "code",
   "execution_count": 31,
   "outputs": [
    {
     "ename": "NameError",
     "evalue": "name 'gb1' is not defined",
     "output_type": "error",
     "traceback": [
      "\u001B[0;31m---------------------------------------------------------------------------\u001B[0m",
      "\u001B[0;31mNameError\u001B[0m                                 Traceback (most recent call last)",
      "\u001B[0;32m/var/folders/16/nd0f005x4vvdmqt98d96xfv00000gn/T/ipykernel_10577/40124049.py\u001B[0m in \u001B[0;36m<module>\u001B[0;34m\u001B[0m\n\u001B[0;32m----> 1\u001B[0;31m \u001B[0mgb1\u001B[0m\u001B[0;34m\u001B[0m\u001B[0;34m\u001B[0m\u001B[0m\n\u001B[0m",
      "\u001B[0;31mNameError\u001B[0m: name 'gb1' is not defined"
     ]
    }
   ],
   "source": [
    "gb1"
   ],
   "metadata": {
    "collapsed": false,
    "pycharm": {
     "name": "#%%\n"
    }
   }
  },
  {
   "cell_type": "code",
   "execution_count": 32,
   "outputs": [],
   "source": [
    "def test2(a):\n",
    "    a = test1(a)\n",
    "    c = a-2\n",
    "    return a, c"
   ],
   "metadata": {
    "collapsed": false,
    "pycharm": {
     "name": "#%%\n"
    }
   }
  },
  {
   "cell_type": "code",
   "execution_count": 34,
   "outputs": [
    {
     "data": {
      "text/plain": "(5, 4)"
     },
     "execution_count": 34,
     "metadata": {},
     "output_type": "execute_result"
    }
   ],
   "source": [
    "test2(4)"
   ],
   "metadata": {
    "collapsed": false,
    "pycharm": {
     "name": "#%%\n"
    }
   }
  },
  {
   "cell_type": "code",
   "execution_count": 35,
   "outputs": [
    {
     "data": {
      "text/plain": "17"
     },
     "execution_count": 35,
     "metadata": {},
     "output_type": "execute_result"
    }
   ],
   "source": [
    "gb1"
   ],
   "metadata": {
    "collapsed": false,
    "pycharm": {
     "name": "#%%\n"
    }
   }
  },
  {
   "cell_type": "code",
   "execution_count": 38,
   "outputs": [],
   "source": [
    "df3 = feather.read_feather(project_path('Solvation_1/Tables/df3_3'))"
   ],
   "metadata": {
    "collapsed": false,
    "pycharm": {
     "name": "#%%\n"
    }
   }
  },
  {
   "cell_type": "code",
   "execution_count": 44,
   "outputs": [
    {
     "data": {
      "text/plain": "        phi**2  psi**2  beta**2        H       C       HC      CC  CC2       N\n0     0.509796     0.0   0.3364  207.769  36.077  139.807  33.185  0.0   0.000\n1     0.509796     0.0   0.3364   98.561  67.889   66.586  87.814  0.0   0.000\n2     0.509796     0.0   0.3364   77.419  14.671   42.861   9.102  0.0   0.000\n3     0.509796     0.0   0.3364   97.289  20.715   65.452  12.801  0.0   0.000\n4     0.509796     0.0   0.3364   96.603  29.050   65.096  24.549  0.0   0.000\n...        ...     ...      ...      ...     ...      ...     ...  ...     ...\n2524  0.562500     0.0   0.0256   29.683   0.000    0.000   0.000  0.0   0.000\n2525  0.562500     0.0   0.0256  133.657  20.973   81.093  20.363  0.0   7.324\n2526  0.562500     0.0   0.0256   67.139  10.981   26.288   0.000  0.0  12.243\n2527  0.562500     0.0   0.0256   36.939  11.231   24.965   0.000  0.0   4.146\n2528  0.562500     0.0   0.0256  109.535  62.375   56.555  80.397  0.0  11.032\n\n[2529 rows x 9 columns]",
      "text/html": "<div>\n<style scoped>\n    .dataframe tbody tr th:only-of-type {\n        vertical-align: middle;\n    }\n\n    .dataframe tbody tr th {\n        vertical-align: top;\n    }\n\n    .dataframe thead th {\n        text-align: right;\n    }\n</style>\n<table border=\"1\" class=\"dataframe\">\n  <thead>\n    <tr style=\"text-align: right;\">\n      <th></th>\n      <th>phi**2</th>\n      <th>psi**2</th>\n      <th>beta**2</th>\n      <th>H</th>\n      <th>C</th>\n      <th>HC</th>\n      <th>CC</th>\n      <th>CC2</th>\n      <th>N</th>\n    </tr>\n  </thead>\n  <tbody>\n    <tr>\n      <th>0</th>\n      <td>0.509796</td>\n      <td>0.0</td>\n      <td>0.3364</td>\n      <td>207.769</td>\n      <td>36.077</td>\n      <td>139.807</td>\n      <td>33.185</td>\n      <td>0.0</td>\n      <td>0.000</td>\n    </tr>\n    <tr>\n      <th>1</th>\n      <td>0.509796</td>\n      <td>0.0</td>\n      <td>0.3364</td>\n      <td>98.561</td>\n      <td>67.889</td>\n      <td>66.586</td>\n      <td>87.814</td>\n      <td>0.0</td>\n      <td>0.000</td>\n    </tr>\n    <tr>\n      <th>2</th>\n      <td>0.509796</td>\n      <td>0.0</td>\n      <td>0.3364</td>\n      <td>77.419</td>\n      <td>14.671</td>\n      <td>42.861</td>\n      <td>9.102</td>\n      <td>0.0</td>\n      <td>0.000</td>\n    </tr>\n    <tr>\n      <th>3</th>\n      <td>0.509796</td>\n      <td>0.0</td>\n      <td>0.3364</td>\n      <td>97.289</td>\n      <td>20.715</td>\n      <td>65.452</td>\n      <td>12.801</td>\n      <td>0.0</td>\n      <td>0.000</td>\n    </tr>\n    <tr>\n      <th>4</th>\n      <td>0.509796</td>\n      <td>0.0</td>\n      <td>0.3364</td>\n      <td>96.603</td>\n      <td>29.050</td>\n      <td>65.096</td>\n      <td>24.549</td>\n      <td>0.0</td>\n      <td>0.000</td>\n    </tr>\n    <tr>\n      <th>...</th>\n      <td>...</td>\n      <td>...</td>\n      <td>...</td>\n      <td>...</td>\n      <td>...</td>\n      <td>...</td>\n      <td>...</td>\n      <td>...</td>\n      <td>...</td>\n    </tr>\n    <tr>\n      <th>2524</th>\n      <td>0.562500</td>\n      <td>0.0</td>\n      <td>0.0256</td>\n      <td>29.683</td>\n      <td>0.000</td>\n      <td>0.000</td>\n      <td>0.000</td>\n      <td>0.0</td>\n      <td>0.000</td>\n    </tr>\n    <tr>\n      <th>2525</th>\n      <td>0.562500</td>\n      <td>0.0</td>\n      <td>0.0256</td>\n      <td>133.657</td>\n      <td>20.973</td>\n      <td>81.093</td>\n      <td>20.363</td>\n      <td>0.0</td>\n      <td>7.324</td>\n    </tr>\n    <tr>\n      <th>2526</th>\n      <td>0.562500</td>\n      <td>0.0</td>\n      <td>0.0256</td>\n      <td>67.139</td>\n      <td>10.981</td>\n      <td>26.288</td>\n      <td>0.000</td>\n      <td>0.0</td>\n      <td>12.243</td>\n    </tr>\n    <tr>\n      <th>2527</th>\n      <td>0.562500</td>\n      <td>0.0</td>\n      <td>0.0256</td>\n      <td>36.939</td>\n      <td>11.231</td>\n      <td>24.965</td>\n      <td>0.000</td>\n      <td>0.0</td>\n      <td>4.146</td>\n    </tr>\n    <tr>\n      <th>2528</th>\n      <td>0.562500</td>\n      <td>0.0</td>\n      <td>0.0256</td>\n      <td>109.535</td>\n      <td>62.375</td>\n      <td>56.555</td>\n      <td>80.397</td>\n      <td>0.0</td>\n      <td>11.032</td>\n    </tr>\n  </tbody>\n</table>\n<p>2529 rows × 9 columns</p>\n</div>"
     },
     "execution_count": 44,
     "metadata": {},
     "output_type": "execute_result"
    }
   ],
   "source": [
    "df3[df3.columns[17:26]]"
   ],
   "metadata": {
    "collapsed": false,
    "pycharm": {
     "name": "#%%\n"
    }
   }
  },
  {
   "cell_type": "code",
   "execution_count": 46,
   "outputs": [],
   "source": [
    "x = []\n",
    "x.append((1, 11, 'a'))\n",
    "x.append((2, 12, 'b'))\n",
    "x.append((3, 13, 'c'))"
   ],
   "metadata": {
    "collapsed": false,
    "pycharm": {
     "name": "#%%\n"
    }
   }
  },
  {
   "cell_type": "code",
   "execution_count": 47,
   "outputs": [
    {
     "data": {
      "text/plain": "[(1, 11, 'a'), (2, 12, 'b'), (3, 13, 'c')]"
     },
     "execution_count": 47,
     "metadata": {},
     "output_type": "execute_result"
    }
   ],
   "source": [
    "x"
   ],
   "metadata": {
    "collapsed": false,
    "pycharm": {
     "name": "#%%\n"
    }
   }
  },
  {
   "cell_type": "code",
   "execution_count": 58,
   "outputs": [],
   "source": [
    "data = list(zip(*x))"
   ],
   "metadata": {
    "collapsed": false,
    "pycharm": {
     "name": "#%%\n"
    }
   }
  },
  {
   "cell_type": "code",
   "execution_count": 80,
   "outputs": [],
   "source": [
    "def return_losses(file_path):\n",
    "    \"\"\"TODO description\n",
    "        plots loss dynamics upon epochs:\n",
    "        train, val, solvent test and solute test MSEs\"\"\"\n",
    "    losses_dict = {}\n",
    "    losses = []\n",
    "    with open(file_path, 'r') as f:\n",
    "        for line in f:\n",
    "            losses.append(line.split('\\t'))\n",
    "    data = list(zip(*losses[1:]))\n",
    "    for i, column in enumerate(losses[0]):\n",
    "        print(column)\n",
    "        losses_dict[column.strip()] = list(float(x) for x in data[i])\n",
    "    return losses_dict"
   ],
   "metadata": {
    "collapsed": false,
    "pycharm": {
     "name": "#%%\n"
    }
   }
  },
  {
   "cell_type": "code",
   "execution_count": 81,
   "outputs": [
    {
     "name": "stdout",
     "output_type": "stream",
     "text": [
      "epoch\n",
      "train\n",
      "val\n",
      "solvent\n",
      "solute\n",
      "\n"
     ]
    }
   ],
   "source": [
    "my_l = return_losses(project_path('Solvation_1/Runs/Macro_TESA_Lin6/run_log.tsv'))"
   ],
   "metadata": {
    "collapsed": false,
    "pycharm": {
     "name": "#%%\n"
    }
   }
  },
  {
   "cell_type": "code",
   "execution_count": 79,
   "outputs": [
    {
     "data": {
      "text/plain": "{'epoch': [0.0, 1.0, 2.0, 3.0, 4.0, 5.0, 6.0, 7.0, 8.0, 9.0, 10.0, 11.0],\n 'train': [0.4283639236732765,\n  0.3085838645293669,\n  0.2601132590514222,\n  0.21593805525598633,\n  0.18960026668703325,\n  0.16307779706834977,\n  0.14324210966985973,\n  0.12425025556453322,\n  0.10359321041432358,\n  0.10253395479192179,\n  0.09159417393486476,\n  0.08425234921324751],\n 'val': [0.4801035523414612,\n  0.4105912744998932,\n  0.31820979714393616,\n  0.24606335163116455,\n  0.21682214736938477,\n  0.18721817433834076,\n  0.1362099051475525,\n  0.11685473471879959,\n  0.11385397613048553,\n  0.10687536746263504,\n  0.11348046362400055,\n  0.09176183491945267],\n 'solvent': [36.00725555419922,\n  39.774818420410156,\n  44.47566223144531,\n  68.16029357910156,\n  190.08126831054688,\n  198.03079223632812,\n  357.4715576171875,\n  285.9463195800781,\n  731.336181640625,\n  598.6519165039062,\n  680.8409423828125,\n  1396.430419921875],\n 'solute\\n': [162.9267120361328,\n  187.2437286376953,\n  250.9168701171875,\n  276.69683837890625,\n  919.6231079101562,\n  238.14083862304688,\n  273.90484619140625,\n  255.19883728027344,\n  480.5130920410156,\n  407.74932861328125,\n  474.5919494628906,\n  990.9235229492188]}"
     },
     "execution_count": 79,
     "metadata": {},
     "output_type": "execute_result"
    }
   ],
   "source": [
    "my_l"
   ],
   "metadata": {
    "collapsed": false,
    "pycharm": {
     "name": "#%%\n"
    }
   }
  },
  {
   "cell_type": "code",
   "execution_count": 82,
   "outputs": [
    {
     "data": {
      "text/plain": "[<matplotlib.lines.Line2D at 0x12ce5fd30>]"
     },
     "execution_count": 82,
     "metadata": {},
     "output_type": "execute_result"
    },
    {
     "data": {
      "text/plain": "<Figure size 432x288 with 4 Axes>",
      "image/png": "[encoded data removed]"
     },
     "metadata": {
      "needs_background": "light"
     },
     "output_type": "display_data"
    }
   ],
   "source": [
    "import matplotlib.pyplot as plt\n",
    "# plt.subplots(2,2)\n",
    "plt.subplot(221)\n",
    "plt.plot(my_l['epoch'], my_l['train'])\n",
    "plt.subplot(222)\n",
    "plt.plot(my_l['epoch'], my_l['val'])\n",
    "plt.subplot(223)\n",
    "plt.plot(my_l['epoch'], my_l['solvent'])\n",
    "plt.subplot(224)\n",
    "plt.plot(my_l['epoch'], my_l['solute'])"
   ],
   "metadata": {
    "collapsed": false,
    "pycharm": {
     "name": "#%%\n"
    }
   }
  },
  {
   "cell_type": "code",
   "execution_count": 1,
   "outputs": [
    {
     "ename": "TypeError",
     "evalue": "plot_losses() takes 1 positional argument but 2 were given",
     "output_type": "error",
     "traceback": [
      "\u001B[0;31m---------------------------------------------------------------------------\u001B[0m",
      "\u001B[0;31mTypeError\u001B[0m                                 Traceback (most recent call last)",
      "\u001B[0;32m/var/folders/16/nd0f005x4vvdmqt98d96xfv00000gn/T/ipykernel_15190/4290605930.py\u001B[0m in \u001B[0;36m<module>\u001B[0;34m\u001B[0m\n\u001B[1;32m      1\u001B[0m \u001B[0;32mfrom\u001B[0m \u001B[0mmy_nets\u001B[0m\u001B[0;34m.\u001B[0m\u001B[0mnet_func\u001B[0m \u001B[0;32mimport\u001B[0m \u001B[0;34m*\u001B[0m\u001B[0;34m\u001B[0m\u001B[0;34m\u001B[0m\u001B[0m\n\u001B[0;32m----> 2\u001B[0;31m \u001B[0mplot_losses\u001B[0m\u001B[0;34m(\u001B[0m\u001B[0mproject_path\u001B[0m\u001B[0;34m(\u001B[0m\u001B[0;34m'Solvation_1/Runs/Macro_TESA_Lin6/run_log.tsv'\u001B[0m\u001B[0;34m)\u001B[0m\u001B[0;34m,\u001B[0m \u001B[0;36m3\u001B[0m\u001B[0;34m)\u001B[0m\u001B[0;34m\u001B[0m\u001B[0;34m\u001B[0m\u001B[0m\n\u001B[0m",
      "\u001B[0;31mTypeError\u001B[0m: plot_losses() takes 1 positional argument but 2 were given"
     ]
    }
   ],
   "source": [
    "from my_nets.net_func import *\n",
    "plot_losses(project_path('Solvation_1/Runs/Macro_TESA_Lin6/run_log.tsv'), 3)"
   ],
   "metadata": {
    "collapsed": false,
    "pycharm": {
     "name": "#%%\n"
    }
   }
  },
  {
   "cell_type": "code",
   "execution_count": 13,
   "outputs": [],
   "source": [
    "import numpy as np\n",
    "ar = np.array((0,1,2,3,4,5,6,7,8,9,10))\n"
   ],
   "metadata": {
    "collapsed": false,
    "pycharm": {
     "name": "#%%\n"
    }
   }
  },
  {
   "cell_type": "code",
   "execution_count": 18,
   "outputs": [
    {
     "data": {
      "text/plain": "[0, 2, 4, 6, 8, 10]"
     },
     "execution_count": 18,
     "metadata": {},
     "output_type": "execute_result"
    }
   ],
   "source": [
    "list(ar[(ar%2==0)])"
   ],
   "metadata": {
    "collapsed": false,
    "pycharm": {
     "name": "#%%\n"
    }
   }
  },
  {
   "cell_type": "code",
   "execution_count": 3,
   "outputs": [
    {
     "data": {
      "text/plain": "0"
     },
     "execution_count": 3,
     "metadata": {},
     "output_type": "execute_result"
    }
   ],
   "source": [
    "int(0.0)"
   ],
   "metadata": {
    "collapsed": false,
    "pycharm": {
     "name": "#%%\n"
    }
   }
  },
  {
   "cell_type": "code",
   "execution_count": null,
   "outputs": [],
   "source": [],
   "metadata": {
    "collapsed": false,
    "pycharm": {
     "name": "#%%\n"
    }
   }
  }
 ],
 "metadata": {
  "kernelspec": {
   "display_name": "Python 3",
   "language": "python",
   "name": "python3"
  },
  "language_info": {
   "codemirror_mode": {
    "name": "ipython",
    "version": 2
   },
   "file_extension": ".py",
   "mimetype": "text/x-python",
   "name": "python",
   "nbconvert_exporter": "python",
   "pygments_lexer": "ipython2",
   "version": "2.7.6"
  }
 },
 "nbformat": 4,
 "nbformat_minor": 0
}