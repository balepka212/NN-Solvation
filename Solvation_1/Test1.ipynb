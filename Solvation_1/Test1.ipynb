{
 "cells": [
  {
   "cell_type": "code",
   "execution_count": 5,
   "metadata": {
    "collapsed": true
   },
   "outputs": [],
   "source": [
    "import pandas as pd\n",
    "from pyarrow import feather\n",
    "from Solvation_1.config import *"
   ]
  },
  {
   "cell_type": "code",
   "execution_count": 2,
   "outputs": [
    {
     "data": {
      "text/plain": "       No. FileHandle                                         SoluteName  \\\n0        1    0400hyd                                           hydrogen   \n1        2    0400hyd                                           hydrogen   \n2        3    0400hyd                                           hydrogen   \n3        4    0216amm                                            ammonia   \n4        5    0216amm                                            ammonia   \n...    ...        ...                                                ...   \n2405  2919  test1058                          4-amino-4'-nitroazobenzene   \n2406  2920  test1059                      1-amino-4-anilinoanthraquinone   \n2407  2921  test1060                      1,4,5,8-tetraminoanthraquinone   \n2408  2922  test1061                               1-amino-anthraquinone   \n2409  2923  test1063   (2-dimethylamino-5,6-dimethyl-pyrimidin-4-yl) ...   \n\n      Charge  Level1  Level2  Level3     Solvent  DeltaGsolv type  ...    S  \\\n0          0       1       1       0       water        2.33  abs  ...  0.0   \n1          0       1       1       0  hexadecane        1.64  abs  ...  0.0   \n2          0       1       1       0     octanol        1.76  abs  ...  0.0   \n3          0       1       2       0       water       -4.29  abs  ...  0.0   \n4          0       1       2       0  hexadecane       -0.93  abs  ...  0.0   \n...      ...     ...     ...     ...         ...         ...  ...  ...  ...   \n2405       0       4       3       0       water      -11.20  abs  ...  0.0   \n2406       0       4       3       0       water       -7.40  abs  ...  0.0   \n2407       0       4       3       0       water       -8.90  abs  ...  0.0   \n2408       0       4       3       0       water       -8.00  abs  ...  0.0   \n2409       0       4       3       0       water       -9.40  abs  ...  0.0   \n\n       HS   SS    P   OP   SP   Si  OSi   OS  TotalArea  \n0     0.0  0.0  0.0  0.0  0.0  0.0  0.0  0.0     39.747  \n1     0.0  0.0  0.0  0.0  0.0  0.0  0.0  0.0     39.747  \n2     0.0  0.0  0.0  0.0  0.0  0.0  0.0  0.0     39.747  \n3     0.0  0.0  0.0  0.0  0.0  0.0  0.0  0.0     62.789  \n4     0.0  0.0  0.0  0.0  0.0  0.0  0.0  0.0     62.789  \n...   ...  ...  ...  ...  ...  ...  ...  ...        ...  \n2405  0.0  0.0  0.0  0.0  0.0  0.0  0.0  0.0    308.782  \n2406  0.0  0.0  0.0  0.0  0.0  0.0  0.0  0.0    365.448  \n2407  0.0  0.0  0.0  0.0  0.0  0.0  0.0  0.0    296.313  \n2408  0.0  0.0  0.0  0.0  0.0  0.0  0.0  0.0    265.743  \n2409  0.0  0.0  0.0  0.0  0.0  0.0  0.0  0.0    337.235  \n\n[2410 rows x 49 columns]",
      "text/html": "<div>\n<style scoped>\n    .dataframe tbody tr th:only-of-type {\n        vertical-align: middle;\n    }\n\n    .dataframe tbody tr th {\n        vertical-align: top;\n    }\n\n    .dataframe thead th {\n        text-align: right;\n    }\n</style>\n<table border=\"1\" class=\"dataframe\">\n  <thead>\n    <tr style=\"text-align: right;\">\n      <th></th>\n      <th>No.</th>\n      <th>FileHandle</th>\n      <th>SoluteName</th>\n      <th>Charge</th>\n      <th>Level1</th>\n      <th>Level2</th>\n      <th>Level3</th>\n      <th>Solvent</th>\n      <th>DeltaGsolv</th>\n      <th>type</th>\n      <th>...</th>\n      <th>S</th>\n      <th>HS</th>\n      <th>SS</th>\n      <th>P</th>\n      <th>OP</th>\n      <th>SP</th>\n      <th>Si</th>\n      <th>OSi</th>\n      <th>OS</th>\n      <th>TotalArea</th>\n    </tr>\n  </thead>\n  <tbody>\n    <tr>\n      <th>0</th>\n      <td>1</td>\n      <td>0400hyd</td>\n      <td>hydrogen</td>\n      <td>0</td>\n      <td>1</td>\n      <td>1</td>\n      <td>0</td>\n      <td>water</td>\n      <td>2.33</td>\n      <td>abs</td>\n      <td>...</td>\n      <td>0.0</td>\n      <td>0.0</td>\n      <td>0.0</td>\n      <td>0.0</td>\n      <td>0.0</td>\n      <td>0.0</td>\n      <td>0.0</td>\n      <td>0.0</td>\n      <td>0.0</td>\n      <td>39.747</td>\n    </tr>\n    <tr>\n      <th>1</th>\n      <td>2</td>\n      <td>0400hyd</td>\n      <td>hydrogen</td>\n      <td>0</td>\n      <td>1</td>\n      <td>1</td>\n      <td>0</td>\n      <td>hexadecane</td>\n      <td>1.64</td>\n      <td>abs</td>\n      <td>...</td>\n      <td>0.0</td>\n      <td>0.0</td>\n      <td>0.0</td>\n      <td>0.0</td>\n      <td>0.0</td>\n      <td>0.0</td>\n      <td>0.0</td>\n      <td>0.0</td>\n      <td>0.0</td>\n      <td>39.747</td>\n    </tr>\n    <tr>\n      <th>2</th>\n      <td>3</td>\n      <td>0400hyd</td>\n      <td>hydrogen</td>\n      <td>0</td>\n      <td>1</td>\n      <td>1</td>\n      <td>0</td>\n      <td>octanol</td>\n      <td>1.76</td>\n      <td>abs</td>\n      <td>...</td>\n      <td>0.0</td>\n      <td>0.0</td>\n      <td>0.0</td>\n      <td>0.0</td>\n      <td>0.0</td>\n      <td>0.0</td>\n      <td>0.0</td>\n      <td>0.0</td>\n      <td>0.0</td>\n      <td>39.747</td>\n    </tr>\n    <tr>\n      <th>3</th>\n      <td>4</td>\n      <td>0216amm</td>\n      <td>ammonia</td>\n      <td>0</td>\n      <td>1</td>\n      <td>2</td>\n      <td>0</td>\n      <td>water</td>\n      <td>-4.29</td>\n      <td>abs</td>\n      <td>...</td>\n      <td>0.0</td>\n      <td>0.0</td>\n      <td>0.0</td>\n      <td>0.0</td>\n      <td>0.0</td>\n      <td>0.0</td>\n      <td>0.0</td>\n      <td>0.0</td>\n      <td>0.0</td>\n      <td>62.789</td>\n    </tr>\n    <tr>\n      <th>4</th>\n      <td>5</td>\n      <td>0216amm</td>\n      <td>ammonia</td>\n      <td>0</td>\n      <td>1</td>\n      <td>2</td>\n      <td>0</td>\n      <td>hexadecane</td>\n      <td>-0.93</td>\n      <td>abs</td>\n      <td>...</td>\n      <td>0.0</td>\n      <td>0.0</td>\n      <td>0.0</td>\n      <td>0.0</td>\n      <td>0.0</td>\n      <td>0.0</td>\n      <td>0.0</td>\n      <td>0.0</td>\n      <td>0.0</td>\n      <td>62.789</td>\n    </tr>\n    <tr>\n      <th>...</th>\n      <td>...</td>\n      <td>...</td>\n      <td>...</td>\n      <td>...</td>\n      <td>...</td>\n      <td>...</td>\n      <td>...</td>\n      <td>...</td>\n      <td>...</td>\n      <td>...</td>\n      <td>...</td>\n      <td>...</td>\n      <td>...</td>\n      <td>...</td>\n      <td>...</td>\n      <td>...</td>\n      <td>...</td>\n      <td>...</td>\n      <td>...</td>\n      <td>...</td>\n      <td>...</td>\n    </tr>\n    <tr>\n      <th>2405</th>\n      <td>2919</td>\n      <td>test1058</td>\n      <td>4-amino-4'-nitroazobenzene</td>\n      <td>0</td>\n      <td>4</td>\n      <td>3</td>\n      <td>0</td>\n      <td>water</td>\n      <td>-11.20</td>\n      <td>abs</td>\n      <td>...</td>\n      <td>0.0</td>\n      <td>0.0</td>\n      <td>0.0</td>\n      <td>0.0</td>\n      <td>0.0</td>\n      <td>0.0</td>\n      <td>0.0</td>\n      <td>0.0</td>\n      <td>0.0</td>\n      <td>308.782</td>\n    </tr>\n    <tr>\n      <th>2406</th>\n      <td>2920</td>\n      <td>test1059</td>\n      <td>1-amino-4-anilinoanthraquinone</td>\n      <td>0</td>\n      <td>4</td>\n      <td>3</td>\n      <td>0</td>\n      <td>water</td>\n      <td>-7.40</td>\n      <td>abs</td>\n      <td>...</td>\n      <td>0.0</td>\n      <td>0.0</td>\n      <td>0.0</td>\n      <td>0.0</td>\n      <td>0.0</td>\n      <td>0.0</td>\n      <td>0.0</td>\n      <td>0.0</td>\n      <td>0.0</td>\n      <td>365.448</td>\n    </tr>\n    <tr>\n      <th>2407</th>\n      <td>2921</td>\n      <td>test1060</td>\n      <td>1,4,5,8-tetraminoanthraquinone</td>\n      <td>0</td>\n      <td>4</td>\n      <td>3</td>\n      <td>0</td>\n      <td>water</td>\n      <td>-8.90</td>\n      <td>abs</td>\n      <td>...</td>\n      <td>0.0</td>\n      <td>0.0</td>\n      <td>0.0</td>\n      <td>0.0</td>\n      <td>0.0</td>\n      <td>0.0</td>\n      <td>0.0</td>\n      <td>0.0</td>\n      <td>0.0</td>\n      <td>296.313</td>\n    </tr>\n    <tr>\n      <th>2408</th>\n      <td>2922</td>\n      <td>test1061</td>\n      <td>1-amino-anthraquinone</td>\n      <td>0</td>\n      <td>4</td>\n      <td>3</td>\n      <td>0</td>\n      <td>water</td>\n      <td>-8.00</td>\n      <td>abs</td>\n      <td>...</td>\n      <td>0.0</td>\n      <td>0.0</td>\n      <td>0.0</td>\n      <td>0.0</td>\n      <td>0.0</td>\n      <td>0.0</td>\n      <td>0.0</td>\n      <td>0.0</td>\n      <td>0.0</td>\n      <td>265.743</td>\n    </tr>\n    <tr>\n      <th>2409</th>\n      <td>2923</td>\n      <td>test1063</td>\n      <td>(2-dimethylamino-5,6-dimethyl-pyrimidin-4-yl) ...</td>\n      <td>0</td>\n      <td>4</td>\n      <td>3</td>\n      <td>0</td>\n      <td>water</td>\n      <td>-9.40</td>\n      <td>abs</td>\n      <td>...</td>\n      <td>0.0</td>\n      <td>0.0</td>\n      <td>0.0</td>\n      <td>0.0</td>\n      <td>0.0</td>\n      <td>0.0</td>\n      <td>0.0</td>\n      <td>0.0</td>\n      <td>0.0</td>\n      <td>337.235</td>\n    </tr>\n  </tbody>\n</table>\n<p>2410 rows × 49 columns</p>\n</div>"
     },
     "execution_count": 2,
     "metadata": {},
     "output_type": "execute_result"
    }
   ],
   "source": [
    "feather.read_feather('Tables/df3_f')"
   ],
   "metadata": {
    "collapsed": false,
    "pycharm": {
     "name": "#%%\n"
    }
   }
  },
  {
   "cell_type": "code",
   "execution_count": null,
   "outputs": [],
   "source": [],
   "metadata": {
    "collapsed": false,
    "pycharm": {
     "name": "#%%\n"
    }
   }
  },
  {
   "cell_type": "code",
   "execution_count": 2,
   "outputs": [
    {
     "name": "stdout",
     "output_type": "stream",
     "text": [
      "/Users/balepka/PycharmProjects/msuAI/Solvation_1/../Tables\n"
     ]
    }
   ],
   "source": [
    "from Solvation_1.config import project_path\n",
    "print(project_path('Tables'))"
   ],
   "metadata": {
    "collapsed": false,
    "pycharm": {
     "name": "#%%\n"
    }
   }
  },
  {
   "cell_type": "code",
   "execution_count": 3,
   "outputs": [
    {
     "ename": "FileNotFoundError",
     "evalue": "[Errno 2] Failed to open local file '/Users/balepka/PycharmProjects/msuAI/Solvation_1/../Tables/df3_f'. Detail: [errno 2] No such file or directory",
     "output_type": "error",
     "traceback": [
      "\u001B[0;31m---------------------------------------------------------------------------\u001B[0m",
      "\u001B[0;31mFileNotFoundError\u001B[0m                         Traceback (most recent call last)",
      "\u001B[0;32m/var/folders/16/nd0f005x4vvdmqt98d96xfv00000gn/T/ipykernel_26850/1599928531.py\u001B[0m in \u001B[0;36m<module>\u001B[0;34m\u001B[0m\n\u001B[1;32m      1\u001B[0m \u001B[0;32mfrom\u001B[0m \u001B[0mSolvation_1\u001B[0m\u001B[0;34m.\u001B[0m\u001B[0mconfig\u001B[0m \u001B[0;32mimport\u001B[0m \u001B[0mread_format\u001B[0m\u001B[0;34m\u001B[0m\u001B[0;34m\u001B[0m\u001B[0m\n\u001B[0;32m----> 2\u001B[0;31m \u001B[0mdf3\u001B[0m \u001B[0;34m=\u001B[0m \u001B[0mread_format\u001B[0m\u001B[0;34m(\u001B[0m\u001B[0;34m'feather'\u001B[0m\u001B[0;34m)\u001B[0m\u001B[0;34m(\u001B[0m\u001B[0mproject_path\u001B[0m\u001B[0;34m(\u001B[0m\u001B[0;34m'Tables/df3_f'\u001B[0m\u001B[0;34m)\u001B[0m\u001B[0;34m)\u001B[0m\u001B[0;34m\u001B[0m\u001B[0;34m\u001B[0m\u001B[0m\n\u001B[0m",
      "\u001B[0;32m~/PycharmProjects/msuAI/venv/lib/python3.8/site-packages/pyarrow/feather.py\u001B[0m in \u001B[0;36mread_feather\u001B[0;34m(source, columns, use_threads, memory_map)\u001B[0m\n\u001B[1;32m    218\u001B[0m     \"\"\"\n\u001B[1;32m    219\u001B[0m     \u001B[0m_check_pandas_version\u001B[0m\u001B[0;34m(\u001B[0m\u001B[0;34m)\u001B[0m\u001B[0;34m\u001B[0m\u001B[0;34m\u001B[0m\u001B[0m\n\u001B[0;32m--> 220\u001B[0;31m     return (read_table(\n\u001B[0m\u001B[1;32m    221\u001B[0m         \u001B[0msource\u001B[0m\u001B[0;34m,\u001B[0m \u001B[0mcolumns\u001B[0m\u001B[0;34m=\u001B[0m\u001B[0mcolumns\u001B[0m\u001B[0;34m,\u001B[0m \u001B[0mmemory_map\u001B[0m\u001B[0;34m=\u001B[0m\u001B[0mmemory_map\u001B[0m\u001B[0;34m,\u001B[0m\u001B[0;34m\u001B[0m\u001B[0;34m\u001B[0m\u001B[0m\n\u001B[1;32m    222\u001B[0m         use_threads=use_threads).to_pandas(use_threads=use_threads))\n",
      "\u001B[0;32m~/PycharmProjects/msuAI/venv/lib/python3.8/site-packages/pyarrow/feather.py\u001B[0m in \u001B[0;36mread_table\u001B[0;34m(source, columns, memory_map, use_threads)\u001B[0m\n\u001B[1;32m    242\u001B[0m     \u001B[0mtable\u001B[0m \u001B[0;34m:\u001B[0m \u001B[0mpyarrow\u001B[0m\u001B[0;34m.\u001B[0m\u001B[0mTable\u001B[0m\u001B[0;34m\u001B[0m\u001B[0;34m\u001B[0m\u001B[0m\n\u001B[1;32m    243\u001B[0m     \"\"\"\n\u001B[0;32m--> 244\u001B[0;31m     reader = _feather.FeatherReader(\n\u001B[0m\u001B[1;32m    245\u001B[0m         source, use_memory_map=memory_map, use_threads=use_threads)\n\u001B[1;32m    246\u001B[0m \u001B[0;34m\u001B[0m\u001B[0m\n",
      "\u001B[0;32m~/PycharmProjects/msuAI/venv/lib/python3.8/site-packages/pyarrow/_feather.pyx\u001B[0m in \u001B[0;36mpyarrow._feather.FeatherReader.__cinit__\u001B[0;34m()\u001B[0m\n",
      "\u001B[0;32m~/PycharmProjects/msuAI/venv/lib/python3.8/site-packages/pyarrow/io.pxi\u001B[0m in \u001B[0;36mpyarrow.lib.get_reader\u001B[0;34m()\u001B[0m\n",
      "\u001B[0;32m~/PycharmProjects/msuAI/venv/lib/python3.8/site-packages/pyarrow/io.pxi\u001B[0m in \u001B[0;36mpyarrow.lib.get_native_file\u001B[0;34m()\u001B[0m\n",
      "\u001B[0;32m~/PycharmProjects/msuAI/venv/lib/python3.8/site-packages/pyarrow/io.pxi\u001B[0m in \u001B[0;36mpyarrow.lib.memory_map\u001B[0;34m()\u001B[0m\n",
      "\u001B[0;32m~/PycharmProjects/msuAI/venv/lib/python3.8/site-packages/pyarrow/io.pxi\u001B[0m in \u001B[0;36mpyarrow.lib.MemoryMappedFile._open\u001B[0;34m()\u001B[0m\n",
      "\u001B[0;32m~/PycharmProjects/msuAI/venv/lib/python3.8/site-packages/pyarrow/error.pxi\u001B[0m in \u001B[0;36mpyarrow.lib.pyarrow_internal_check_status\u001B[0;34m()\u001B[0m\n",
      "\u001B[0;32m~/PycharmProjects/msuAI/venv/lib/python3.8/site-packages/pyarrow/error.pxi\u001B[0m in \u001B[0;36mpyarrow.lib.check_status\u001B[0;34m()\u001B[0m\n",
      "\u001B[0;31mFileNotFoundError\u001B[0m: [Errno 2] Failed to open local file '/Users/balepka/PycharmProjects/msuAI/Solvation_1/../Tables/df3_f'. Detail: [errno 2] No such file or directory"
     ]
    }
   ],
   "source": [
    "from Solvation_1.config import read_format\n",
    "df3 = read_format('feather')(project_path('Tables/df3_f'))"
   ],
   "metadata": {
    "collapsed": false,
    "pycharm": {
     "name": "#%%\n"
    }
   }
  },
  {
   "cell_type": "code",
   "execution_count": 3,
   "outputs": [
    {
     "data": {
      "text/plain": "       No. FileHandle                                         SoluteName  \\\n0        1    0400hyd                                           hydrogen   \n1        2    0400hyd                                           hydrogen   \n2        3    0400hyd                                           hydrogen   \n3        4    0216amm                                            ammonia   \n4        5    0216amm                                            ammonia   \n...    ...        ...                                                ...   \n2405  2919  test1058                          4-amino-4'-nitroazobenzene   \n2406  2920  test1059                      1-amino-4-anilinoanthraquinone   \n2407  2921  test1060                      1,4,5,8-tetraminoanthraquinone   \n2408  2922  test1061                               1-amino-anthraquinone   \n2409  2923  test1063   (2-dimethylamino-5,6-dimethyl-pyrimidin-4-yl) ...   \n\n      Charge  Level1  Level2  Level3     Solvent  DeltaGsolv type  ...    S  \\\n0          0       1       1       0       water        2.33  abs  ...  0.0   \n1          0       1       1       0  hexadecane        1.64  abs  ...  0.0   \n2          0       1       1       0     octanol        1.76  abs  ...  0.0   \n3          0       1       2       0       water       -4.29  abs  ...  0.0   \n4          0       1       2       0  hexadecane       -0.93  abs  ...  0.0   \n...      ...     ...     ...     ...         ...         ...  ...  ...  ...   \n2405       0       4       3       0       water      -11.20  abs  ...  0.0   \n2406       0       4       3       0       water       -7.40  abs  ...  0.0   \n2407       0       4       3       0       water       -8.90  abs  ...  0.0   \n2408       0       4       3       0       water       -8.00  abs  ...  0.0   \n2409       0       4       3       0       water       -9.40  abs  ...  0.0   \n\n       HS   SS    P   OP   SP   Si  OSi   OS  TotalArea  \n0     0.0  0.0  0.0  0.0  0.0  0.0  0.0  0.0     39.747  \n1     0.0  0.0  0.0  0.0  0.0  0.0  0.0  0.0     39.747  \n2     0.0  0.0  0.0  0.0  0.0  0.0  0.0  0.0     39.747  \n3     0.0  0.0  0.0  0.0  0.0  0.0  0.0  0.0     62.789  \n4     0.0  0.0  0.0  0.0  0.0  0.0  0.0  0.0     62.789  \n...   ...  ...  ...  ...  ...  ...  ...  ...        ...  \n2405  0.0  0.0  0.0  0.0  0.0  0.0  0.0  0.0    308.782  \n2406  0.0  0.0  0.0  0.0  0.0  0.0  0.0  0.0    365.448  \n2407  0.0  0.0  0.0  0.0  0.0  0.0  0.0  0.0    296.313  \n2408  0.0  0.0  0.0  0.0  0.0  0.0  0.0  0.0    265.743  \n2409  0.0  0.0  0.0  0.0  0.0  0.0  0.0  0.0    337.235  \n\n[2410 rows x 49 columns]",
      "text/html": "<div>\n<style scoped>\n    .dataframe tbody tr th:only-of-type {\n        vertical-align: middle;\n    }\n\n    .dataframe tbody tr th {\n        vertical-align: top;\n    }\n\n    .dataframe thead th {\n        text-align: right;\n    }\n</style>\n<table border=\"1\" class=\"dataframe\">\n  <thead>\n    <tr style=\"text-align: right;\">\n      <th></th>\n      <th>No.</th>\n      <th>FileHandle</th>\n      <th>SoluteName</th>\n      <th>Charge</th>\n      <th>Level1</th>\n      <th>Level2</th>\n      <th>Level3</th>\n      <th>Solvent</th>\n      <th>DeltaGsolv</th>\n      <th>type</th>\n      <th>...</th>\n      <th>S</th>\n      <th>HS</th>\n      <th>SS</th>\n      <th>P</th>\n      <th>OP</th>\n      <th>SP</th>\n      <th>Si</th>\n      <th>OSi</th>\n      <th>OS</th>\n      <th>TotalArea</th>\n    </tr>\n  </thead>\n  <tbody>\n    <tr>\n      <th>0</th>\n      <td>1</td>\n      <td>0400hyd</td>\n      <td>hydrogen</td>\n      <td>0</td>\n      <td>1</td>\n      <td>1</td>\n      <td>0</td>\n      <td>water</td>\n      <td>2.33</td>\n      <td>abs</td>\n      <td>...</td>\n      <td>0.0</td>\n      <td>0.0</td>\n      <td>0.0</td>\n      <td>0.0</td>\n      <td>0.0</td>\n      <td>0.0</td>\n      <td>0.0</td>\n      <td>0.0</td>\n      <td>0.0</td>\n      <td>39.747</td>\n    </tr>\n    <tr>\n      <th>1</th>\n      <td>2</td>\n      <td>0400hyd</td>\n      <td>hydrogen</td>\n      <td>0</td>\n      <td>1</td>\n      <td>1</td>\n      <td>0</td>\n      <td>hexadecane</td>\n      <td>1.64</td>\n      <td>abs</td>\n      <td>...</td>\n      <td>0.0</td>\n      <td>0.0</td>\n      <td>0.0</td>\n      <td>0.0</td>\n      <td>0.0</td>\n      <td>0.0</td>\n      <td>0.0</td>\n      <td>0.0</td>\n      <td>0.0</td>\n      <td>39.747</td>\n    </tr>\n    <tr>\n      <th>2</th>\n      <td>3</td>\n      <td>0400hyd</td>\n      <td>hydrogen</td>\n      <td>0</td>\n      <td>1</td>\n      <td>1</td>\n      <td>0</td>\n      <td>octanol</td>\n      <td>1.76</td>\n      <td>abs</td>\n      <td>...</td>\n      <td>0.0</td>\n      <td>0.0</td>\n      <td>0.0</td>\n      <td>0.0</td>\n      <td>0.0</td>\n      <td>0.0</td>\n      <td>0.0</td>\n      <td>0.0</td>\n      <td>0.0</td>\n      <td>39.747</td>\n    </tr>\n    <tr>\n      <th>3</th>\n      <td>4</td>\n      <td>0216amm</td>\n      <td>ammonia</td>\n      <td>0</td>\n      <td>1</td>\n      <td>2</td>\n      <td>0</td>\n      <td>water</td>\n      <td>-4.29</td>\n      <td>abs</td>\n      <td>...</td>\n      <td>0.0</td>\n      <td>0.0</td>\n      <td>0.0</td>\n      <td>0.0</td>\n      <td>0.0</td>\n      <td>0.0</td>\n      <td>0.0</td>\n      <td>0.0</td>\n      <td>0.0</td>\n      <td>62.789</td>\n    </tr>\n    <tr>\n      <th>4</th>\n      <td>5</td>\n      <td>0216amm</td>\n      <td>ammonia</td>\n      <td>0</td>\n      <td>1</td>\n      <td>2</td>\n      <td>0</td>\n      <td>hexadecane</td>\n      <td>-0.93</td>\n      <td>abs</td>\n      <td>...</td>\n      <td>0.0</td>\n      <td>0.0</td>\n      <td>0.0</td>\n      <td>0.0</td>\n      <td>0.0</td>\n      <td>0.0</td>\n      <td>0.0</td>\n      <td>0.0</td>\n      <td>0.0</td>\n      <td>62.789</td>\n    </tr>\n    <tr>\n      <th>...</th>\n      <td>...</td>\n      <td>...</td>\n      <td>...</td>\n      <td>...</td>\n      <td>...</td>\n      <td>...</td>\n      <td>...</td>\n      <td>...</td>\n      <td>...</td>\n      <td>...</td>\n      <td>...</td>\n      <td>...</td>\n      <td>...</td>\n      <td>...</td>\n      <td>...</td>\n      <td>...</td>\n      <td>...</td>\n      <td>...</td>\n      <td>...</td>\n      <td>...</td>\n      <td>...</td>\n    </tr>\n    <tr>\n      <th>2405</th>\n      <td>2919</td>\n      <td>test1058</td>\n      <td>4-amino-4'-nitroazobenzene</td>\n      <td>0</td>\n      <td>4</td>\n      <td>3</td>\n      <td>0</td>\n      <td>water</td>\n      <td>-11.20</td>\n      <td>abs</td>\n      <td>...</td>\n      <td>0.0</td>\n      <td>0.0</td>\n      <td>0.0</td>\n      <td>0.0</td>\n      <td>0.0</td>\n      <td>0.0</td>\n      <td>0.0</td>\n      <td>0.0</td>\n      <td>0.0</td>\n      <td>308.782</td>\n    </tr>\n    <tr>\n      <th>2406</th>\n      <td>2920</td>\n      <td>test1059</td>\n      <td>1-amino-4-anilinoanthraquinone</td>\n      <td>0</td>\n      <td>4</td>\n      <td>3</td>\n      <td>0</td>\n      <td>water</td>\n      <td>-7.40</td>\n      <td>abs</td>\n      <td>...</td>\n      <td>0.0</td>\n      <td>0.0</td>\n      <td>0.0</td>\n      <td>0.0</td>\n      <td>0.0</td>\n      <td>0.0</td>\n      <td>0.0</td>\n      <td>0.0</td>\n      <td>0.0</td>\n      <td>365.448</td>\n    </tr>\n    <tr>\n      <th>2407</th>\n      <td>2921</td>\n      <td>test1060</td>\n      <td>1,4,5,8-tetraminoanthraquinone</td>\n      <td>0</td>\n      <td>4</td>\n      <td>3</td>\n      <td>0</td>\n      <td>water</td>\n      <td>-8.90</td>\n      <td>abs</td>\n      <td>...</td>\n      <td>0.0</td>\n      <td>0.0</td>\n      <td>0.0</td>\n      <td>0.0</td>\n      <td>0.0</td>\n      <td>0.0</td>\n      <td>0.0</td>\n      <td>0.0</td>\n      <td>0.0</td>\n      <td>296.313</td>\n    </tr>\n    <tr>\n      <th>2408</th>\n      <td>2922</td>\n      <td>test1061</td>\n      <td>1-amino-anthraquinone</td>\n      <td>0</td>\n      <td>4</td>\n      <td>3</td>\n      <td>0</td>\n      <td>water</td>\n      <td>-8.00</td>\n      <td>abs</td>\n      <td>...</td>\n      <td>0.0</td>\n      <td>0.0</td>\n      <td>0.0</td>\n      <td>0.0</td>\n      <td>0.0</td>\n      <td>0.0</td>\n      <td>0.0</td>\n      <td>0.0</td>\n      <td>0.0</td>\n      <td>265.743</td>\n    </tr>\n    <tr>\n      <th>2409</th>\n      <td>2923</td>\n      <td>test1063</td>\n      <td>(2-dimethylamino-5,6-dimethyl-pyrimidin-4-yl) ...</td>\n      <td>0</td>\n      <td>4</td>\n      <td>3</td>\n      <td>0</td>\n      <td>water</td>\n      <td>-9.40</td>\n      <td>abs</td>\n      <td>...</td>\n      <td>0.0</td>\n      <td>0.0</td>\n      <td>0.0</td>\n      <td>0.0</td>\n      <td>0.0</td>\n      <td>0.0</td>\n      <td>0.0</td>\n      <td>0.0</td>\n      <td>0.0</td>\n      <td>337.235</td>\n    </tr>\n  </tbody>\n</table>\n<p>2410 rows × 49 columns</p>\n</div>"
     },
     "execution_count": 3,
     "metadata": {},
     "output_type": "execute_result"
    }
   ],
   "source": [
    "df3"
   ],
   "metadata": {
    "collapsed": false,
    "pycharm": {
     "name": "#%%\n"
    }
   }
  },
  {
   "cell_type": "code",
   "execution_count": 4,
   "outputs": [],
   "source": [
    "test_d = {'a':[1,2,3], 'b':[4,5,6], 'c':[7,8,9]}"
   ],
   "metadata": {
    "collapsed": false,
    "pycharm": {
     "name": "#%%\n"
    }
   }
  },
  {
   "cell_type": "code",
   "execution_count": 5,
   "outputs": [
    {
     "data": {
      "text/plain": "{'a': [1, 2, 3], 'b': [4, 5, 6], 'c': [7, 8, 9]}"
     },
     "execution_count": 5,
     "metadata": {},
     "output_type": "execute_result"
    }
   ],
   "source": [
    "test_d"
   ],
   "metadata": {
    "collapsed": false,
    "pycharm": {
     "name": "#%%\n"
    }
   }
  },
  {
   "cell_type": "code",
   "execution_count": 11,
   "outputs": [
    {
     "ename": "SyntaxError",
     "evalue": "invalid syntax (473611847.py, line 1)",
     "output_type": "error",
     "traceback": [
      "\u001B[0;36m  File \u001B[0;32m\"/var/folders/16/nd0f005x4vvdmqt98d96xfv00000gn/T/ipykernel_26088/473611847.py\"\u001B[0;36m, line \u001B[0;32m1\u001B[0m\n\u001B[0;31m    test_d['a' not 'b']\u001B[0m\n\u001B[0m                   ^\u001B[0m\n\u001B[0;31mSyntaxError\u001B[0m\u001B[0;31m:\u001B[0m invalid syntax\n"
     ]
    }
   ],
   "source": [
    "test_d['a' 'b']"
   ],
   "metadata": {
    "collapsed": false,
    "pycharm": {
     "name": "#%%\n"
    }
   }
  },
  {
   "cell_type": "code",
   "execution_count": 4,
   "outputs": [
    {
     "data": {
      "text/plain": "'/Users/balepka/PycharmProjects/msuAI/Solvation_1/../Solvation_1/Tables/Solvent_properties1.tsv'"
     },
     "execution_count": 4,
     "metadata": {},
     "output_type": "execute_result"
    }
   ],
   "source": [
    "project_path('Solvation_1/Tables/Solvent_properties1.tsv')"
   ],
   "metadata": {
    "collapsed": false,
    "pycharm": {
     "name": "#%%\n"
    }
   }
  },
  {
   "cell_type": "code",
   "execution_count": 6,
   "outputs": [],
   "source": [
    "test_df = pd.read_table(project_path('Solvation_1/Tables/Solvent_properties1.tsv'))"
   ],
   "metadata": {
    "collapsed": false,
    "pycharm": {
     "name": "#%%\n"
    }
   }
  },
  {
   "cell_type": "code",
   "execution_count": 7,
   "outputs": [
    {
     "data": {
      "text/plain": "                   Solvent               Name      nD  alpha  beta   gamma  \\\n0         2-methylpyridine    2methylpyridine  1.4957   0.00  0.58   47.50   \n1     4-methyl-2-pentanone  4methyl2pentanone  1.3962   0.00  0.51   33.83   \n2              acetic acid         aceticacid  1.3720   0.61  0.44   39.01   \n3             acetonitrile       acetonitrile  1.3442   0.07  0.32   41.25   \n4             acetophenone       acetophenone  1.5372   0.00  0.48   56.19   \n..                     ...                ...     ...    ...   ...     ...   \n85           triethylamine      triethylamine  1.4010   0.00  0.79   29.10   \n86  1,2,4-trimethylbenzene   trimethylbenzene  1.5048   0.00  0.19   42.03   \n87              n-undecane           undecane  1.4398   0.00  0.00   34.85   \n88                   water              water  1.3328   0.82  0.35  103.62   \n89        xylene (mixture)             xylene  1.4995   0.00  0.16   41.38   \n\n    epsilon    phi  psi  \n0    9.9533  0.714  0.0  \n1   12.8870  0.000  0.0  \n2    6.2528  0.000  0.0  \n3   35.6880  0.000  0.0  \n4   17.4400  0.667  0.0  \n..      ...    ...  ...  \n85   2.3832  0.000  0.0  \n86   2.3653  0.667  0.0  \n87   1.9910  0.000  0.0  \n88  78.3600  0.000  0.0  \n89   2.3879  0.750  0.0  \n\n[90 rows x 9 columns]",
      "text/html": "<div>\n<style scoped>\n    .dataframe tbody tr th:only-of-type {\n        vertical-align: middle;\n    }\n\n    .dataframe tbody tr th {\n        vertical-align: top;\n    }\n\n    .dataframe thead th {\n        text-align: right;\n    }\n</style>\n<table border=\"1\" class=\"dataframe\">\n  <thead>\n    <tr style=\"text-align: right;\">\n      <th></th>\n      <th>Solvent</th>\n      <th>Name</th>\n      <th>nD</th>\n      <th>alpha</th>\n      <th>beta</th>\n      <th>gamma</th>\n      <th>epsilon</th>\n      <th>phi</th>\n      <th>psi</th>\n    </tr>\n  </thead>\n  <tbody>\n    <tr>\n      <th>0</th>\n      <td>2-methylpyridine</td>\n      <td>2methylpyridine</td>\n      <td>1.4957</td>\n      <td>0.00</td>\n      <td>0.58</td>\n      <td>47.50</td>\n      <td>9.9533</td>\n      <td>0.714</td>\n      <td>0.0</td>\n    </tr>\n    <tr>\n      <th>1</th>\n      <td>4-methyl-2-pentanone</td>\n      <td>4methyl2pentanone</td>\n      <td>1.3962</td>\n      <td>0.00</td>\n      <td>0.51</td>\n      <td>33.83</td>\n      <td>12.8870</td>\n      <td>0.000</td>\n      <td>0.0</td>\n    </tr>\n    <tr>\n      <th>2</th>\n      <td>acetic acid</td>\n      <td>aceticacid</td>\n      <td>1.3720</td>\n      <td>0.61</td>\n      <td>0.44</td>\n      <td>39.01</td>\n      <td>6.2528</td>\n      <td>0.000</td>\n      <td>0.0</td>\n    </tr>\n    <tr>\n      <th>3</th>\n      <td>acetonitrile</td>\n      <td>acetonitrile</td>\n      <td>1.3442</td>\n      <td>0.07</td>\n      <td>0.32</td>\n      <td>41.25</td>\n      <td>35.6880</td>\n      <td>0.000</td>\n      <td>0.0</td>\n    </tr>\n    <tr>\n      <th>4</th>\n      <td>acetophenone</td>\n      <td>acetophenone</td>\n      <td>1.5372</td>\n      <td>0.00</td>\n      <td>0.48</td>\n      <td>56.19</td>\n      <td>17.4400</td>\n      <td>0.667</td>\n      <td>0.0</td>\n    </tr>\n    <tr>\n      <th>...</th>\n      <td>...</td>\n      <td>...</td>\n      <td>...</td>\n      <td>...</td>\n      <td>...</td>\n      <td>...</td>\n      <td>...</td>\n      <td>...</td>\n      <td>...</td>\n    </tr>\n    <tr>\n      <th>85</th>\n      <td>triethylamine</td>\n      <td>triethylamine</td>\n      <td>1.4010</td>\n      <td>0.00</td>\n      <td>0.79</td>\n      <td>29.10</td>\n      <td>2.3832</td>\n      <td>0.000</td>\n      <td>0.0</td>\n    </tr>\n    <tr>\n      <th>86</th>\n      <td>1,2,4-trimethylbenzene</td>\n      <td>trimethylbenzene</td>\n      <td>1.5048</td>\n      <td>0.00</td>\n      <td>0.19</td>\n      <td>42.03</td>\n      <td>2.3653</td>\n      <td>0.667</td>\n      <td>0.0</td>\n    </tr>\n    <tr>\n      <th>87</th>\n      <td>n-undecane</td>\n      <td>undecane</td>\n      <td>1.4398</td>\n      <td>0.00</td>\n      <td>0.00</td>\n      <td>34.85</td>\n      <td>1.9910</td>\n      <td>0.000</td>\n      <td>0.0</td>\n    </tr>\n    <tr>\n      <th>88</th>\n      <td>water</td>\n      <td>water</td>\n      <td>1.3328</td>\n      <td>0.82</td>\n      <td>0.35</td>\n      <td>103.62</td>\n      <td>78.3600</td>\n      <td>0.000</td>\n      <td>0.0</td>\n    </tr>\n    <tr>\n      <th>89</th>\n      <td>xylene (mixture)</td>\n      <td>xylene</td>\n      <td>1.4995</td>\n      <td>0.00</td>\n      <td>0.16</td>\n      <td>41.38</td>\n      <td>2.3879</td>\n      <td>0.750</td>\n      <td>0.0</td>\n    </tr>\n  </tbody>\n</table>\n<p>90 rows × 9 columns</p>\n</div>"
     },
     "execution_count": 7,
     "metadata": {},
     "output_type": "execute_result"
    }
   ],
   "source": [
    "test_df"
   ],
   "metadata": {
    "collapsed": false,
    "pycharm": {
     "name": "#%%\n"
    }
   }
  },
  {
   "cell_type": "code",
   "execution_count": null,
   "outputs": [],
   "source": [],
   "metadata": {
    "collapsed": false,
    "pycharm": {
     "name": "#%%\n"
    }
   }
  }
 ],
 "metadata": {
  "kernelspec": {
   "display_name": "Python 3",
   "language": "python",
   "name": "python3"
  },
  "language_info": {
   "codemirror_mode": {
    "name": "ipython",
    "version": 2
   },
   "file_extension": ".py",
   "mimetype": "text/x-python",
   "name": "python",
   "nbconvert_exporter": "python",
   "pygments_lexer": "ipython2",
   "version": "2.7.6"
  }
 },
 "nbformat": 4,
 "nbformat_minor": 0
}